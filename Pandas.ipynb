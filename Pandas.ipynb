{
  "nbformat": 4,
  "nbformat_minor": 0,
  "metadata": {
    "colab": {
      "name": "Pandas.ipynb",
      "provenance": [],
      "collapsed_sections": [],
      "authorship_tag": "ABX9TyP9i2ba0NNIsg07MXWSQktq",
      "include_colab_link": true
    },
    "kernelspec": {
      "name": "python3",
      "display_name": "Python 3"
    },
    "language_info": {
      "name": "python"
    }
  },
  "cells": [
    {
      "cell_type": "markdown",
      "metadata": {
        "id": "view-in-github",
        "colab_type": "text"
      },
      "source": [
        "<a href=\"https://colab.research.google.com/github/Yashthon/Pandas/blob/main/Pandas.ipynb\" target=\"_parent\"><img src=\"https://colab.research.google.com/assets/colab-badge.svg\" alt=\"Open In Colab\"/></a>"
      ]
    },
    {
      "cell_type": "markdown",
      "source": [
        "# II. Consider the following URL:\n",
        "#https://www.datacamp.com/community/tutorials/pandas-tutorial-dataframe-python\n",
        "#Understand and implement the concepts and examples. Write your\n",
        "#observations."
      ],
      "metadata": {
        "id": "bhjvkFmd9yji"
      }
    },
    {
      "cell_type": "markdown",
      "source": [
        "Pandas is a popular Python package for data science, and with good reason: it offers powerful, expressive and flexible data structures that make data manipulation and analysis easy, among many other things. The DataFrame is one of these structures."
      ],
      "metadata": {
        "id": "1C4K1gWI-Wob"
      }
    },
    {
      "cell_type": "markdown",
      "source": [
        "**1 How to create pandas dataframe**"
      ],
      "metadata": {
        "id": "BwpfOoka-dB3"
      }
    },
    {
      "cell_type": "code",
      "source": [
        "import pandas as pd\n",
        "import numpy as np\n",
        "import re as re\n",
        "import datetime\n",
        "from datetime import datetime, date\n",
        "from pandas.tseries.holiday import *\n",
        "import seaborn as sns\n",
        "import matplotlib.pyplot as plt"
      ],
      "metadata": {
        "id": "gbNJlmQO_Xx2"
      },
      "execution_count": null,
      "outputs": []
    },
    {
      "cell_type": "code",
      "execution_count": null,
      "metadata": {
        "colab": {
          "base_uri": "https://localhost:8080/"
        },
        "id": "DPcAG0Vx9jMA",
        "outputId": "281e024a-9590-4626-a1c2-ec5ffaad725c"
      },
      "outputs": [
        {
          "output_type": "stream",
          "name": "stdout",
          "text": [
            "     Col1 Col2\n",
            "Row1    1    2\n",
            "Row2    3    4\n"
          ]
        }
      ],
      "source": [
        "data = np.array([['','Col1','Col2'],\n",
        "                ['Row1',1,2],\n",
        "                ['Row2',3,4]])\n",
        "                \n",
        "print(pd.DataFrame(data=data[1:,1:],\n",
        "                  index=data[1:,0],\n",
        "                  columns=data[0,1:]))"
      ]
    },
    {
      "cell_type": "code",
      "source": [
        "# Take a 2D array as input to your DataFrame \n",
        "my_2darray = np.array([[1, 2, 3], [4, 5, 6]])\n",
        "print(pd.DataFrame(my_2darray))\n",
        "\n",
        "# Take a dictionary as input to your DataFrame \n",
        "my_dict = {1: ['1', '3'], 2: ['1', '2'], 3: ['2', '4']}\n",
        "print(pd.DataFrame(my_dict))\n",
        "\n",
        "# Take a DataFrame as input to your DataFrame \n",
        "my_df = pd.DataFrame(data=[4,5,6,7], index=range(0,4), columns=['A'])\n",
        "print(pd.DataFrame(my_df))\n",
        "\n",
        "# Take a Series as input to your DataFrame\n",
        "my_series = pd.Series({\"United Kingdom\":\"London\", \"India\":\"New Delhi\", \"United States\":\"Washington\", \"Belgium\":\"Brussels\"})\n",
        "print(pd.DataFrame(my_series))"
      ],
      "metadata": {
        "colab": {
          "base_uri": "https://localhost:8080/"
        },
        "id": "ebHcc-OY-8Kq",
        "outputId": "d5e70ec6-5487-4cc9-916d-a2c0f6ef6e8c"
      },
      "execution_count": null,
      "outputs": [
        {
          "output_type": "stream",
          "name": "stdout",
          "text": [
            "   0  1  2\n",
            "0  1  2  3\n",
            "1  4  5  6\n",
            "   1  2  3\n",
            "0  1  1  2\n",
            "1  3  2  4\n",
            "   A\n",
            "0  4\n",
            "1  5\n",
            "2  6\n",
            "3  7\n",
            "                         0\n",
            "United Kingdom      London\n",
            "India            New Delhi\n",
            "United States   Washington\n",
            "Belgium           Brussels\n"
          ]
        }
      ]
    },
    {
      "cell_type": "code",
      "source": [
        "df = pd.DataFrame(np.array([[1, 2, 3], [4, 5, 6]]))\n",
        "\n",
        "# Use the `shape` property\n",
        "print(df.shape)\n",
        "\n",
        "# Or use the `len()` function with the `index` property\n",
        "print(len(df.index))\n",
        "print(df)"
      ],
      "metadata": {
        "colab": {
          "base_uri": "https://localhost:8080/"
        },
        "id": "_amz1hqv_ZKX",
        "outputId": "ef565be6-8091-4652-a759-9378920e6929"
      },
      "execution_count": null,
      "outputs": [
        {
          "output_type": "stream",
          "name": "stdout",
          "text": [
            "(2, 3)\n",
            "2\n",
            "   0  1  2\n",
            "0  1  2  3\n",
            "1  4  5  6\n"
          ]
        }
      ]
    },
    {
      "cell_type": "markdown",
      "source": [
        "**2. How To Select an Index or Column From a Pandas DataFrame**"
      ],
      "metadata": {
        "id": "pk45sJCf_0Mc"
      }
    },
    {
      "cell_type": "code",
      "source": [
        "array = np.array([[1, 2, 3],\n",
        "                  [4, 5, 6],\n",
        "                  [7, 8, 9]])\n",
        "index_values = [0, 1, 2]\n",
        "column_values = ['A', 'B', 'C']\n",
        "df = pd.DataFrame(data = array, index = index_values, columns = column_values)\n",
        "print(df)"
      ],
      "metadata": {
        "colab": {
          "base_uri": "https://localhost:8080/"
        },
        "id": "A-p6ZSpAAgai",
        "outputId": "6da29ebf-e07d-4681-8ad7-2f544e4d3943"
      },
      "execution_count": null,
      "outputs": [
        {
          "output_type": "stream",
          "name": "stdout",
          "text": [
            "   A  B  C\n",
            "0  1  2  3\n",
            "1  4  5  6\n",
            "2  7  8  9\n"
          ]
        }
      ]
    },
    {
      "cell_type": "markdown",
      "source": [
        "selecting columns from dataframe"
      ],
      "metadata": {
        "id": "CgJcL4jQC7eX"
      }
    },
    {
      "cell_type": "code",
      "source": [
        "# Using `iloc[]`\n",
        "print(df.iloc[0][0])\n",
        "\n",
        "# Using `loc[]`\n",
        "print(df.loc[0]['A'])\n",
        "\n",
        "# Using `at[]`\n",
        "print(df.at[0,'A'])\n",
        "\n",
        "# Using `iat[]`\n",
        "print(df.iat[0,0])"
      ],
      "metadata": {
        "colab": {
          "base_uri": "https://localhost:8080/"
        },
        "id": "K1zcRFVUChck",
        "outputId": "cfde6755-1fa9-49a1-d829-515010f8a8bc"
      },
      "execution_count": null,
      "outputs": [
        {
          "output_type": "stream",
          "name": "stdout",
          "text": [
            "1\n",
            "1\n",
            "1\n",
            "1\n"
          ]
        }
      ]
    },
    {
      "cell_type": "markdown",
      "source": [
        "selecting rows from the dataframe"
      ],
      "metadata": {
        "id": "x6fCAvGsC_5I"
      }
    },
    {
      "cell_type": "code",
      "source": [
        "# Use `iloc[]` to select row `0`\n",
        "print(df.iloc[0])\n",
        "\n",
        "# Use `loc[]` to select column `'A'`\n",
        "print(df.loc[:,'A'])"
      ],
      "metadata": {
        "colab": {
          "base_uri": "https://localhost:8080/"
        },
        "id": "47EJkV6oCogk",
        "outputId": "4b69baf0-ee55-4825-a05f-f2ce10df2e1e"
      },
      "execution_count": null,
      "outputs": [
        {
          "output_type": "stream",
          "name": "stdout",
          "text": [
            "A    1\n",
            "B    2\n",
            "C    3\n",
            "Name: 0, dtype: int64\n",
            "0    1\n",
            "1    4\n",
            "2    7\n",
            "Name: A, dtype: int64\n"
          ]
        }
      ]
    },
    {
      "cell_type": "markdown",
      "source": [
        "**3. How To Add an Index, Row or Column to a Pandas DataFrame**"
      ],
      "metadata": {
        "id": "szcP8Yq8DbEY"
      }
    },
    {
      "cell_type": "markdown",
      "source": [
        "Adding an Index to a DataFrame"
      ],
      "metadata": {
        "id": "OwlZLJCYDjFX"
      }
    },
    {
      "cell_type": "code",
      "source": [
        "# Print out your DataFrame `df` to check it out\n",
        "print(df)\n",
        "\n",
        "# Set 'C' as the index of your DataFrame\n",
        "df.set_index('C')"
      ],
      "metadata": {
        "colab": {
          "base_uri": "https://localhost:8080/",
          "height": 244
        },
        "id": "pyGby7MDDMrI",
        "outputId": "94cac5fe-ebb7-45d8-d2c2-76e63be2833c"
      },
      "execution_count": null,
      "outputs": [
        {
          "output_type": "stream",
          "name": "stdout",
          "text": [
            "   A  B  C\n",
            "0  1  2  3\n",
            "1  4  5  6\n",
            "2  7  8  9\n"
          ]
        },
        {
          "output_type": "execute_result",
          "data": {
            "text/html": [
              "\n",
              "  <div id=\"df-d06ba40c-419f-4aad-bc54-3826344f54d1\">\n",
              "    <div class=\"colab-df-container\">\n",
              "      <div>\n",
              "<style scoped>\n",
              "    .dataframe tbody tr th:only-of-type {\n",
              "        vertical-align: middle;\n",
              "    }\n",
              "\n",
              "    .dataframe tbody tr th {\n",
              "        vertical-align: top;\n",
              "    }\n",
              "\n",
              "    .dataframe thead th {\n",
              "        text-align: right;\n",
              "    }\n",
              "</style>\n",
              "<table border=\"1\" class=\"dataframe\">\n",
              "  <thead>\n",
              "    <tr style=\"text-align: right;\">\n",
              "      <th></th>\n",
              "      <th>A</th>\n",
              "      <th>B</th>\n",
              "    </tr>\n",
              "    <tr>\n",
              "      <th>C</th>\n",
              "      <th></th>\n",
              "      <th></th>\n",
              "    </tr>\n",
              "  </thead>\n",
              "  <tbody>\n",
              "    <tr>\n",
              "      <th>3</th>\n",
              "      <td>1</td>\n",
              "      <td>2</td>\n",
              "    </tr>\n",
              "    <tr>\n",
              "      <th>6</th>\n",
              "      <td>4</td>\n",
              "      <td>5</td>\n",
              "    </tr>\n",
              "    <tr>\n",
              "      <th>9</th>\n",
              "      <td>7</td>\n",
              "      <td>8</td>\n",
              "    </tr>\n",
              "  </tbody>\n",
              "</table>\n",
              "</div>\n",
              "      <button class=\"colab-df-convert\" onclick=\"convertToInteractive('df-d06ba40c-419f-4aad-bc54-3826344f54d1')\"\n",
              "              title=\"Convert this dataframe to an interactive table.\"\n",
              "              style=\"display:none;\">\n",
              "        \n",
              "  <svg xmlns=\"http://www.w3.org/2000/svg\" height=\"24px\"viewBox=\"0 0 24 24\"\n",
              "       width=\"24px\">\n",
              "    <path d=\"M0 0h24v24H0V0z\" fill=\"none\"/>\n",
              "    <path d=\"M18.56 5.44l.94 2.06.94-2.06 2.06-.94-2.06-.94-.94-2.06-.94 2.06-2.06.94zm-11 1L8.5 8.5l.94-2.06 2.06-.94-2.06-.94L8.5 2.5l-.94 2.06-2.06.94zm10 10l.94 2.06.94-2.06 2.06-.94-2.06-.94-.94-2.06-.94 2.06-2.06.94z\"/><path d=\"M17.41 7.96l-1.37-1.37c-.4-.4-.92-.59-1.43-.59-.52 0-1.04.2-1.43.59L10.3 9.45l-7.72 7.72c-.78.78-.78 2.05 0 2.83L4 21.41c.39.39.9.59 1.41.59.51 0 1.02-.2 1.41-.59l7.78-7.78 2.81-2.81c.8-.78.8-2.07 0-2.86zM5.41 20L4 18.59l7.72-7.72 1.47 1.35L5.41 20z\"/>\n",
              "  </svg>\n",
              "      </button>\n",
              "      \n",
              "  <style>\n",
              "    .colab-df-container {\n",
              "      display:flex;\n",
              "      flex-wrap:wrap;\n",
              "      gap: 12px;\n",
              "    }\n",
              "\n",
              "    .colab-df-convert {\n",
              "      background-color: #E8F0FE;\n",
              "      border: none;\n",
              "      border-radius: 50%;\n",
              "      cursor: pointer;\n",
              "      display: none;\n",
              "      fill: #1967D2;\n",
              "      height: 32px;\n",
              "      padding: 0 0 0 0;\n",
              "      width: 32px;\n",
              "    }\n",
              "\n",
              "    .colab-df-convert:hover {\n",
              "      background-color: #E2EBFA;\n",
              "      box-shadow: 0px 1px 2px rgba(60, 64, 67, 0.3), 0px 1px 3px 1px rgba(60, 64, 67, 0.15);\n",
              "      fill: #174EA6;\n",
              "    }\n",
              "\n",
              "    [theme=dark] .colab-df-convert {\n",
              "      background-color: #3B4455;\n",
              "      fill: #D2E3FC;\n",
              "    }\n",
              "\n",
              "    [theme=dark] .colab-df-convert:hover {\n",
              "      background-color: #434B5C;\n",
              "      box-shadow: 0px 1px 3px 1px rgba(0, 0, 0, 0.15);\n",
              "      filter: drop-shadow(0px 1px 2px rgba(0, 0, 0, 0.3));\n",
              "      fill: #FFFFFF;\n",
              "    }\n",
              "  </style>\n",
              "\n",
              "      <script>\n",
              "        const buttonEl =\n",
              "          document.querySelector('#df-d06ba40c-419f-4aad-bc54-3826344f54d1 button.colab-df-convert');\n",
              "        buttonEl.style.display =\n",
              "          google.colab.kernel.accessAllowed ? 'block' : 'none';\n",
              "\n",
              "        async function convertToInteractive(key) {\n",
              "          const element = document.querySelector('#df-d06ba40c-419f-4aad-bc54-3826344f54d1');\n",
              "          const dataTable =\n",
              "            await google.colab.kernel.invokeFunction('convertToInteractive',\n",
              "                                                     [key], {});\n",
              "          if (!dataTable) return;\n",
              "\n",
              "          const docLinkHtml = 'Like what you see? Visit the ' +\n",
              "            '<a target=\"_blank\" href=https://colab.research.google.com/notebooks/data_table.ipynb>data table notebook</a>'\n",
              "            + ' to learn more about interactive tables.';\n",
              "          element.innerHTML = '';\n",
              "          dataTable['output_type'] = 'display_data';\n",
              "          await google.colab.output.renderOutput(dataTable, element);\n",
              "          const docLink = document.createElement('div');\n",
              "          docLink.innerHTML = docLinkHtml;\n",
              "          element.appendChild(docLink);\n",
              "        }\n",
              "      </script>\n",
              "    </div>\n",
              "  </div>\n",
              "  "
            ],
            "text/plain": [
              "   A  B\n",
              "C      \n",
              "3  1  2\n",
              "6  4  5\n",
              "9  7  8"
            ]
          },
          "metadata": {},
          "execution_count": 56
        }
      ]
    },
    {
      "cell_type": "markdown",
      "source": [
        "Adding Rows to a DataFrame"
      ],
      "metadata": {
        "id": "eo9pmooCD7KJ"
      }
    },
    {
      "cell_type": "code",
      "source": [
        "df = pd.DataFrame(data=np.array([[1, 2, 3], [4, 5, 6], [7, 8, 9]]), index= [2, 'A', 4], columns=[48, 49, 50])"
      ],
      "metadata": {
        "id": "yTefOVq7Dx8e"
      },
      "execution_count": null,
      "outputs": []
    },
    {
      "cell_type": "code",
      "source": [
        "# Pass `2` to `loc`\n",
        "print(df.loc[2])\n",
        "\n",
        "# Pass `2` to `iloc`\n",
        "print(df.iloc[2])\n",
        "\n",
        "# Pass `2` to `ix`\n",
        "# print(df.ix[2]) # this will not work as .ix is deprecated in python3"
      ],
      "metadata": {
        "colab": {
          "base_uri": "https://localhost:8080/"
        },
        "id": "roGv0L85EbvI",
        "outputId": "ce0906a0-89b0-4e1c-a01b-de93ab3d41b3"
      },
      "execution_count": null,
      "outputs": [
        {
          "output_type": "stream",
          "name": "stdout",
          "text": [
            "48    1\n",
            "49    2\n",
            "50    3\n",
            "Name: 2, dtype: int64\n",
            "48    7\n",
            "49    8\n",
            "50    9\n",
            "Name: 4, dtype: int64\n"
          ]
        }
      ]
    },
    {
      "cell_type": "code",
      "source": [
        "df = pd.DataFrame(data=np.array([[1, 2, 3], [4, 5, 6], [7, 8, 9]]), index= [2.5, 12.6, 4.8], columns=[48, 49, 50])\n",
        "\n",
        "# There's no index labeled `2`, so you will change the index at position `2`\n",
        "# df.ix[2] = [60, 50, 40] # it is depricated in python3\n",
        "print(df)\n",
        "\n",
        "# This will make an index labeled `2` and add the new values\n",
        "df.loc[2] = [11, 12, 13]\n",
        "print(df)"
      ],
      "metadata": {
        "id": "caYa-cUTEv0-"
      },
      "execution_count": null,
      "outputs": []
    },
    {
      "cell_type": "markdown",
      "source": [
        "Adding a Column to Your DataFrame"
      ],
      "metadata": {
        "id": "-ViBeBr4Gf_e"
      }
    },
    {
      "cell_type": "code",
      "source": [
        "df = pd.DataFrame(data=np.array([[1, 2, 3], [4, 5, 6], [7, 8, 9]]), columns=['A', 'B', 'C'])\n",
        "\n",
        "# Use `.index`\n",
        "df['D'] = df.index\n",
        "\n",
        "# Print `df`\n",
        "print(df)"
      ],
      "metadata": {
        "colab": {
          "base_uri": "https://localhost:8080/"
        },
        "id": "tWOdwX02GUJC",
        "outputId": "44832f6f-785f-4a73-ffe9-6ebca76d07b1"
      },
      "execution_count": null,
      "outputs": [
        {
          "output_type": "stream",
          "name": "stdout",
          "text": [
            "   A  B  C  D\n",
            "0  1  2  3  0\n",
            "1  4  5  6  1\n",
            "2  7  8  9  2\n"
          ]
        }
      ]
    },
    {
      "cell_type": "code",
      "source": [
        "array = np.array([[1, 1, 2],\n",
        "                  [3, 2, 4]])\n",
        "index_values = [0, 1]\n",
        "column_values = [1, 2, 3]\n",
        "df = pd.DataFrame(data = array, index = index_values, columns = column_values)\n",
        "print(df)"
      ],
      "metadata": {
        "colab": {
          "base_uri": "https://localhost:8080/"
        },
        "id": "UjWrjVErJen5",
        "outputId": "e7f864d2-9f0f-4630-8ae3-f584c4cb6e2e"
      },
      "execution_count": null,
      "outputs": [
        {
          "output_type": "stream",
          "name": "stdout",
          "text": [
            "   1  2  3\n",
            "0  1  1  2\n",
            "1  3  2  4\n"
          ]
        }
      ]
    },
    {
      "cell_type": "code",
      "source": [
        "# Study the DataFrame `df`\n",
        "print(df)\n",
        "\n",
        "# Append a column to `df`\n",
        "df.loc[:, 4] = pd.Series(['5', '6'], index=df.index)\n",
        "\n",
        "# Print out `df` again to see the changes\n",
        "print(df)"
      ],
      "metadata": {
        "colab": {
          "base_uri": "https://localhost:8080/"
        },
        "id": "osObCgwSIDVJ",
        "outputId": "ef46ae91-da37-44fa-c9ac-1f3c90258a9e"
      },
      "execution_count": null,
      "outputs": [
        {
          "output_type": "stream",
          "name": "stdout",
          "text": [
            "   1  2  3\n",
            "0  1  1  2\n",
            "1  3  2  4\n",
            "   1  2  3  4\n",
            "0  1  1  2  5\n",
            "1  3  2  4  6\n"
          ]
        }
      ]
    },
    {
      "cell_type": "markdown",
      "source": [
        "Resetting the Index of Your DataFrame"
      ],
      "metadata": {
        "id": "6aFlk14FKKEb"
      }
    },
    {
      "cell_type": "code",
      "source": [
        "array = np.array([[1, 2, 3],\n",
        "                  [4, 5, 6],\n",
        "                  [7, 8, 9]])\n",
        "index_values = [2.5, 12.6, 4.8]\n",
        "column_values = [48, 49, 50]\n",
        "df = pd.DataFrame(data = array, index = index_values, columns = column_values)\n",
        "print(df)"
      ],
      "metadata": {
        "colab": {
          "base_uri": "https://localhost:8080/"
        },
        "id": "3Rmo-1w5KbmD",
        "outputId": "4b69eaed-7a4b-4b02-947c-0dba2a88f82f"
      },
      "execution_count": null,
      "outputs": [
        {
          "output_type": "stream",
          "name": "stdout",
          "text": [
            "      48  49  50\n",
            "2.5    1   2   3\n",
            "12.6   4   5   6\n",
            "4.8    7   8   9\n"
          ]
        }
      ]
    },
    {
      "cell_type": "code",
      "source": [
        "# Check out the weird index of your dataframe\n",
        "print(df)\n",
        "\n",
        "# Use `reset_index()` to reset the values. \n",
        "df_reset = df.reset_index(level=0, drop=True)\n",
        "\n",
        "# Print `df_reset`\n",
        "print(df_reset)"
      ],
      "metadata": {
        "colab": {
          "base_uri": "https://localhost:8080/"
        },
        "id": "M7oJ_WdLI8EP",
        "outputId": "c5492ee5-ecbe-4660-95c9-4ae7dbff9467"
      },
      "execution_count": null,
      "outputs": [
        {
          "output_type": "stream",
          "name": "stdout",
          "text": [
            "      48  49  50\n",
            "2.5    1   2   3\n",
            "12.6   4   5   6\n",
            "4.8    7   8   9\n",
            "   48  49  50\n",
            "0   1   2   3\n",
            "1   4   5   6\n",
            "2   7   8   9\n"
          ]
        }
      ]
    },
    {
      "cell_type": "markdown",
      "source": [
        "**4. How to Delete Indices, Rows or Columns From a Pandas Data Frame**"
      ],
      "metadata": {
        "id": "UhPSrgxjK_id"
      }
    },
    {
      "cell_type": "markdown",
      "source": [
        "Deleting an Index from Your DataFrame"
      ],
      "metadata": {
        "id": "wWdGCHeSLOrt"
      }
    },
    {
      "cell_type": "code",
      "source": [
        "df = pd.DataFrame(data=np.array([[1, 2, 3], [4, 5, 6], [7, 8, 9], [40, 50, 60], [23, 35, 37]]), \n",
        "                  index= [2.5, 12.6, 4.8, 4.8, 2.5], \n",
        "                  columns=[48, 49, 50])\n",
        "df"
      ],
      "metadata": {
        "colab": {
          "base_uri": "https://localhost:8080/",
          "height": 206
        },
        "id": "OD-2wwgQKRNp",
        "outputId": "edc8c537-571a-4d1e-a65c-c77581363aef"
      },
      "execution_count": null,
      "outputs": [
        {
          "output_type": "execute_result",
          "data": {
            "text/html": [
              "\n",
              "  <div id=\"df-48c3d53e-de32-4688-8248-5a9b4a1b8f17\">\n",
              "    <div class=\"colab-df-container\">\n",
              "      <div>\n",
              "<style scoped>\n",
              "    .dataframe tbody tr th:only-of-type {\n",
              "        vertical-align: middle;\n",
              "    }\n",
              "\n",
              "    .dataframe tbody tr th {\n",
              "        vertical-align: top;\n",
              "    }\n",
              "\n",
              "    .dataframe thead th {\n",
              "        text-align: right;\n",
              "    }\n",
              "</style>\n",
              "<table border=\"1\" class=\"dataframe\">\n",
              "  <thead>\n",
              "    <tr style=\"text-align: right;\">\n",
              "      <th></th>\n",
              "      <th>48</th>\n",
              "      <th>49</th>\n",
              "      <th>50</th>\n",
              "    </tr>\n",
              "  </thead>\n",
              "  <tbody>\n",
              "    <tr>\n",
              "      <th>2.5</th>\n",
              "      <td>1</td>\n",
              "      <td>2</td>\n",
              "      <td>3</td>\n",
              "    </tr>\n",
              "    <tr>\n",
              "      <th>12.6</th>\n",
              "      <td>4</td>\n",
              "      <td>5</td>\n",
              "      <td>6</td>\n",
              "    </tr>\n",
              "    <tr>\n",
              "      <th>4.8</th>\n",
              "      <td>7</td>\n",
              "      <td>8</td>\n",
              "      <td>9</td>\n",
              "    </tr>\n",
              "    <tr>\n",
              "      <th>4.8</th>\n",
              "      <td>40</td>\n",
              "      <td>50</td>\n",
              "      <td>60</td>\n",
              "    </tr>\n",
              "    <tr>\n",
              "      <th>2.5</th>\n",
              "      <td>23</td>\n",
              "      <td>35</td>\n",
              "      <td>37</td>\n",
              "    </tr>\n",
              "  </tbody>\n",
              "</table>\n",
              "</div>\n",
              "      <button class=\"colab-df-convert\" onclick=\"convertToInteractive('df-48c3d53e-de32-4688-8248-5a9b4a1b8f17')\"\n",
              "              title=\"Convert this dataframe to an interactive table.\"\n",
              "              style=\"display:none;\">\n",
              "        \n",
              "  <svg xmlns=\"http://www.w3.org/2000/svg\" height=\"24px\"viewBox=\"0 0 24 24\"\n",
              "       width=\"24px\">\n",
              "    <path d=\"M0 0h24v24H0V0z\" fill=\"none\"/>\n",
              "    <path d=\"M18.56 5.44l.94 2.06.94-2.06 2.06-.94-2.06-.94-.94-2.06-.94 2.06-2.06.94zm-11 1L8.5 8.5l.94-2.06 2.06-.94-2.06-.94L8.5 2.5l-.94 2.06-2.06.94zm10 10l.94 2.06.94-2.06 2.06-.94-2.06-.94-.94-2.06-.94 2.06-2.06.94z\"/><path d=\"M17.41 7.96l-1.37-1.37c-.4-.4-.92-.59-1.43-.59-.52 0-1.04.2-1.43.59L10.3 9.45l-7.72 7.72c-.78.78-.78 2.05 0 2.83L4 21.41c.39.39.9.59 1.41.59.51 0 1.02-.2 1.41-.59l7.78-7.78 2.81-2.81c.8-.78.8-2.07 0-2.86zM5.41 20L4 18.59l7.72-7.72 1.47 1.35L5.41 20z\"/>\n",
              "  </svg>\n",
              "      </button>\n",
              "      \n",
              "  <style>\n",
              "    .colab-df-container {\n",
              "      display:flex;\n",
              "      flex-wrap:wrap;\n",
              "      gap: 12px;\n",
              "    }\n",
              "\n",
              "    .colab-df-convert {\n",
              "      background-color: #E8F0FE;\n",
              "      border: none;\n",
              "      border-radius: 50%;\n",
              "      cursor: pointer;\n",
              "      display: none;\n",
              "      fill: #1967D2;\n",
              "      height: 32px;\n",
              "      padding: 0 0 0 0;\n",
              "      width: 32px;\n",
              "    }\n",
              "\n",
              "    .colab-df-convert:hover {\n",
              "      background-color: #E2EBFA;\n",
              "      box-shadow: 0px 1px 2px rgba(60, 64, 67, 0.3), 0px 1px 3px 1px rgba(60, 64, 67, 0.15);\n",
              "      fill: #174EA6;\n",
              "    }\n",
              "\n",
              "    [theme=dark] .colab-df-convert {\n",
              "      background-color: #3B4455;\n",
              "      fill: #D2E3FC;\n",
              "    }\n",
              "\n",
              "    [theme=dark] .colab-df-convert:hover {\n",
              "      background-color: #434B5C;\n",
              "      box-shadow: 0px 1px 3px 1px rgba(0, 0, 0, 0.15);\n",
              "      filter: drop-shadow(0px 1px 2px rgba(0, 0, 0, 0.3));\n",
              "      fill: #FFFFFF;\n",
              "    }\n",
              "  </style>\n",
              "\n",
              "      <script>\n",
              "        const buttonEl =\n",
              "          document.querySelector('#df-48c3d53e-de32-4688-8248-5a9b4a1b8f17 button.colab-df-convert');\n",
              "        buttonEl.style.display =\n",
              "          google.colab.kernel.accessAllowed ? 'block' : 'none';\n",
              "\n",
              "        async function convertToInteractive(key) {\n",
              "          const element = document.querySelector('#df-48c3d53e-de32-4688-8248-5a9b4a1b8f17');\n",
              "          const dataTable =\n",
              "            await google.colab.kernel.invokeFunction('convertToInteractive',\n",
              "                                                     [key], {});\n",
              "          if (!dataTable) return;\n",
              "\n",
              "          const docLinkHtml = 'Like what you see? Visit the ' +\n",
              "            '<a target=\"_blank\" href=https://colab.research.google.com/notebooks/data_table.ipynb>data table notebook</a>'\n",
              "            + ' to learn more about interactive tables.';\n",
              "          element.innerHTML = '';\n",
              "          dataTable['output_type'] = 'display_data';\n",
              "          await google.colab.output.renderOutput(dataTable, element);\n",
              "          const docLink = document.createElement('div');\n",
              "          docLink.innerHTML = docLinkHtml;\n",
              "          element.appendChild(docLink);\n",
              "        }\n",
              "      </script>\n",
              "    </div>\n",
              "  </div>\n",
              "  "
            ],
            "text/plain": [
              "      48  49  50\n",
              "2.5    1   2   3\n",
              "12.6   4   5   6\n",
              "4.8    7   8   9\n",
              "4.8   40  50  60\n",
              "2.5   23  35  37"
            ]
          },
          "metadata": {},
          "execution_count": 34
        }
      ]
    },
    {
      "cell_type": "code",
      "source": [
        "df.reset_index().drop_duplicates(subset='index', keep='last').set_index('index')"
      ],
      "metadata": {
        "colab": {
          "base_uri": "https://localhost:8080/",
          "height": 175
        },
        "id": "sMENxdIsMHMV",
        "outputId": "77dab51e-7b9b-4db2-c3ee-d0398d70cb0b"
      },
      "execution_count": null,
      "outputs": [
        {
          "output_type": "execute_result",
          "data": {
            "text/html": [
              "\n",
              "  <div id=\"df-1a8618d0-2df3-4f0c-af37-83e19c0b26fb\">\n",
              "    <div class=\"colab-df-container\">\n",
              "      <div>\n",
              "<style scoped>\n",
              "    .dataframe tbody tr th:only-of-type {\n",
              "        vertical-align: middle;\n",
              "    }\n",
              "\n",
              "    .dataframe tbody tr th {\n",
              "        vertical-align: top;\n",
              "    }\n",
              "\n",
              "    .dataframe thead th {\n",
              "        text-align: right;\n",
              "    }\n",
              "</style>\n",
              "<table border=\"1\" class=\"dataframe\">\n",
              "  <thead>\n",
              "    <tr style=\"text-align: right;\">\n",
              "      <th></th>\n",
              "      <th>48</th>\n",
              "      <th>49</th>\n",
              "      <th>50</th>\n",
              "    </tr>\n",
              "    <tr>\n",
              "      <th>index</th>\n",
              "      <th></th>\n",
              "      <th></th>\n",
              "      <th></th>\n",
              "    </tr>\n",
              "  </thead>\n",
              "  <tbody>\n",
              "    <tr>\n",
              "      <th>12.6</th>\n",
              "      <td>4</td>\n",
              "      <td>5</td>\n",
              "      <td>6</td>\n",
              "    </tr>\n",
              "    <tr>\n",
              "      <th>4.8</th>\n",
              "      <td>40</td>\n",
              "      <td>50</td>\n",
              "      <td>60</td>\n",
              "    </tr>\n",
              "    <tr>\n",
              "      <th>2.5</th>\n",
              "      <td>23</td>\n",
              "      <td>35</td>\n",
              "      <td>37</td>\n",
              "    </tr>\n",
              "  </tbody>\n",
              "</table>\n",
              "</div>\n",
              "      <button class=\"colab-df-convert\" onclick=\"convertToInteractive('df-1a8618d0-2df3-4f0c-af37-83e19c0b26fb')\"\n",
              "              title=\"Convert this dataframe to an interactive table.\"\n",
              "              style=\"display:none;\">\n",
              "        \n",
              "  <svg xmlns=\"http://www.w3.org/2000/svg\" height=\"24px\"viewBox=\"0 0 24 24\"\n",
              "       width=\"24px\">\n",
              "    <path d=\"M0 0h24v24H0V0z\" fill=\"none\"/>\n",
              "    <path d=\"M18.56 5.44l.94 2.06.94-2.06 2.06-.94-2.06-.94-.94-2.06-.94 2.06-2.06.94zm-11 1L8.5 8.5l.94-2.06 2.06-.94-2.06-.94L8.5 2.5l-.94 2.06-2.06.94zm10 10l.94 2.06.94-2.06 2.06-.94-2.06-.94-.94-2.06-.94 2.06-2.06.94z\"/><path d=\"M17.41 7.96l-1.37-1.37c-.4-.4-.92-.59-1.43-.59-.52 0-1.04.2-1.43.59L10.3 9.45l-7.72 7.72c-.78.78-.78 2.05 0 2.83L4 21.41c.39.39.9.59 1.41.59.51 0 1.02-.2 1.41-.59l7.78-7.78 2.81-2.81c.8-.78.8-2.07 0-2.86zM5.41 20L4 18.59l7.72-7.72 1.47 1.35L5.41 20z\"/>\n",
              "  </svg>\n",
              "      </button>\n",
              "      \n",
              "  <style>\n",
              "    .colab-df-container {\n",
              "      display:flex;\n",
              "      flex-wrap:wrap;\n",
              "      gap: 12px;\n",
              "    }\n",
              "\n",
              "    .colab-df-convert {\n",
              "      background-color: #E8F0FE;\n",
              "      border: none;\n",
              "      border-radius: 50%;\n",
              "      cursor: pointer;\n",
              "      display: none;\n",
              "      fill: #1967D2;\n",
              "      height: 32px;\n",
              "      padding: 0 0 0 0;\n",
              "      width: 32px;\n",
              "    }\n",
              "\n",
              "    .colab-df-convert:hover {\n",
              "      background-color: #E2EBFA;\n",
              "      box-shadow: 0px 1px 2px rgba(60, 64, 67, 0.3), 0px 1px 3px 1px rgba(60, 64, 67, 0.15);\n",
              "      fill: #174EA6;\n",
              "    }\n",
              "\n",
              "    [theme=dark] .colab-df-convert {\n",
              "      background-color: #3B4455;\n",
              "      fill: #D2E3FC;\n",
              "    }\n",
              "\n",
              "    [theme=dark] .colab-df-convert:hover {\n",
              "      background-color: #434B5C;\n",
              "      box-shadow: 0px 1px 3px 1px rgba(0, 0, 0, 0.15);\n",
              "      filter: drop-shadow(0px 1px 2px rgba(0, 0, 0, 0.3));\n",
              "      fill: #FFFFFF;\n",
              "    }\n",
              "  </style>\n",
              "\n",
              "      <script>\n",
              "        const buttonEl =\n",
              "          document.querySelector('#df-1a8618d0-2df3-4f0c-af37-83e19c0b26fb button.colab-df-convert');\n",
              "        buttonEl.style.display =\n",
              "          google.colab.kernel.accessAllowed ? 'block' : 'none';\n",
              "\n",
              "        async function convertToInteractive(key) {\n",
              "          const element = document.querySelector('#df-1a8618d0-2df3-4f0c-af37-83e19c0b26fb');\n",
              "          const dataTable =\n",
              "            await google.colab.kernel.invokeFunction('convertToInteractive',\n",
              "                                                     [key], {});\n",
              "          if (!dataTable) return;\n",
              "\n",
              "          const docLinkHtml = 'Like what you see? Visit the ' +\n",
              "            '<a target=\"_blank\" href=https://colab.research.google.com/notebooks/data_table.ipynb>data table notebook</a>'\n",
              "            + ' to learn more about interactive tables.';\n",
              "          element.innerHTML = '';\n",
              "          dataTable['output_type'] = 'display_data';\n",
              "          await google.colab.output.renderOutput(dataTable, element);\n",
              "          const docLink = document.createElement('div');\n",
              "          docLink.innerHTML = docLinkHtml;\n",
              "          element.appendChild(docLink);\n",
              "        }\n",
              "      </script>\n",
              "    </div>\n",
              "  </div>\n",
              "  "
            ],
            "text/plain": [
              "       48  49  50\n",
              "index            \n",
              "12.6    4   5   6\n",
              "4.8    40  50  60\n",
              "2.5    23  35  37"
            ]
          },
          "metadata": {},
          "execution_count": 35
        }
      ]
    },
    {
      "cell_type": "markdown",
      "source": [
        "Deleting a Column from Your DataFrame"
      ],
      "metadata": {
        "id": "sUs1xakNMUFF"
      }
    },
    {
      "cell_type": "code",
      "source": [
        "array = np.array([[1, 2, 3],\n",
        "                  [4, 5, 6],\n",
        "                  [7, 8, 9]])\n",
        "index_values = [0, 1, 2]\n",
        "column_values = ['A', 'B', 'C']\n",
        "df = pd.DataFrame(data = array, index = index_values, columns = column_values)\n",
        "print(df)"
      ],
      "metadata": {
        "colab": {
          "base_uri": "https://localhost:8080/"
        },
        "id": "SAPg_uO7MjaV",
        "outputId": "5b4be059-2977-4b5d-ddbc-f37748551e51"
      },
      "execution_count": null,
      "outputs": [
        {
          "output_type": "stream",
          "name": "stdout",
          "text": [
            "   A  B  C\n",
            "0  1  2  3\n",
            "1  4  5  6\n",
            "2  7  8  9\n"
          ]
        }
      ]
    },
    {
      "cell_type": "code",
      "source": [
        "# Check out the DataFrame `df`\n",
        "print(df)\n",
        "\n",
        "# Drop the column with label 'A'                  \n",
        "df.drop('A', axis=1, inplace=True)\n",
        "\n",
        "# Drop the column at position 1\n",
        "df.drop(df.columns[[1]], axis=1)"
      ],
      "metadata": {
        "colab": {
          "base_uri": "https://localhost:8080/",
          "height": 213
        },
        "id": "ddJjHBYiMM9J",
        "outputId": "1b635d4d-71fc-4a00-cd42-32ab0f9d2e88"
      },
      "execution_count": null,
      "outputs": [
        {
          "output_type": "stream",
          "name": "stdout",
          "text": [
            "   A  B  C\n",
            "0  1  2  3\n",
            "1  4  5  6\n",
            "2  7  8  9\n"
          ]
        },
        {
          "output_type": "execute_result",
          "data": {
            "text/html": [
              "\n",
              "  <div id=\"df-190e66eb-b983-49e0-9591-35d0d4a16449\">\n",
              "    <div class=\"colab-df-container\">\n",
              "      <div>\n",
              "<style scoped>\n",
              "    .dataframe tbody tr th:only-of-type {\n",
              "        vertical-align: middle;\n",
              "    }\n",
              "\n",
              "    .dataframe tbody tr th {\n",
              "        vertical-align: top;\n",
              "    }\n",
              "\n",
              "    .dataframe thead th {\n",
              "        text-align: right;\n",
              "    }\n",
              "</style>\n",
              "<table border=\"1\" class=\"dataframe\">\n",
              "  <thead>\n",
              "    <tr style=\"text-align: right;\">\n",
              "      <th></th>\n",
              "      <th>B</th>\n",
              "    </tr>\n",
              "  </thead>\n",
              "  <tbody>\n",
              "    <tr>\n",
              "      <th>0</th>\n",
              "      <td>2</td>\n",
              "    </tr>\n",
              "    <tr>\n",
              "      <th>1</th>\n",
              "      <td>5</td>\n",
              "    </tr>\n",
              "    <tr>\n",
              "      <th>2</th>\n",
              "      <td>8</td>\n",
              "    </tr>\n",
              "  </tbody>\n",
              "</table>\n",
              "</div>\n",
              "      <button class=\"colab-df-convert\" onclick=\"convertToInteractive('df-190e66eb-b983-49e0-9591-35d0d4a16449')\"\n",
              "              title=\"Convert this dataframe to an interactive table.\"\n",
              "              style=\"display:none;\">\n",
              "        \n",
              "  <svg xmlns=\"http://www.w3.org/2000/svg\" height=\"24px\"viewBox=\"0 0 24 24\"\n",
              "       width=\"24px\">\n",
              "    <path d=\"M0 0h24v24H0V0z\" fill=\"none\"/>\n",
              "    <path d=\"M18.56 5.44l.94 2.06.94-2.06 2.06-.94-2.06-.94-.94-2.06-.94 2.06-2.06.94zm-11 1L8.5 8.5l.94-2.06 2.06-.94-2.06-.94L8.5 2.5l-.94 2.06-2.06.94zm10 10l.94 2.06.94-2.06 2.06-.94-2.06-.94-.94-2.06-.94 2.06-2.06.94z\"/><path d=\"M17.41 7.96l-1.37-1.37c-.4-.4-.92-.59-1.43-.59-.52 0-1.04.2-1.43.59L10.3 9.45l-7.72 7.72c-.78.78-.78 2.05 0 2.83L4 21.41c.39.39.9.59 1.41.59.51 0 1.02-.2 1.41-.59l7.78-7.78 2.81-2.81c.8-.78.8-2.07 0-2.86zM5.41 20L4 18.59l7.72-7.72 1.47 1.35L5.41 20z\"/>\n",
              "  </svg>\n",
              "      </button>\n",
              "      \n",
              "  <style>\n",
              "    .colab-df-container {\n",
              "      display:flex;\n",
              "      flex-wrap:wrap;\n",
              "      gap: 12px;\n",
              "    }\n",
              "\n",
              "    .colab-df-convert {\n",
              "      background-color: #E8F0FE;\n",
              "      border: none;\n",
              "      border-radius: 50%;\n",
              "      cursor: pointer;\n",
              "      display: none;\n",
              "      fill: #1967D2;\n",
              "      height: 32px;\n",
              "      padding: 0 0 0 0;\n",
              "      width: 32px;\n",
              "    }\n",
              "\n",
              "    .colab-df-convert:hover {\n",
              "      background-color: #E2EBFA;\n",
              "      box-shadow: 0px 1px 2px rgba(60, 64, 67, 0.3), 0px 1px 3px 1px rgba(60, 64, 67, 0.15);\n",
              "      fill: #174EA6;\n",
              "    }\n",
              "\n",
              "    [theme=dark] .colab-df-convert {\n",
              "      background-color: #3B4455;\n",
              "      fill: #D2E3FC;\n",
              "    }\n",
              "\n",
              "    [theme=dark] .colab-df-convert:hover {\n",
              "      background-color: #434B5C;\n",
              "      box-shadow: 0px 1px 3px 1px rgba(0, 0, 0, 0.15);\n",
              "      filter: drop-shadow(0px 1px 2px rgba(0, 0, 0, 0.3));\n",
              "      fill: #FFFFFF;\n",
              "    }\n",
              "  </style>\n",
              "\n",
              "      <script>\n",
              "        const buttonEl =\n",
              "          document.querySelector('#df-190e66eb-b983-49e0-9591-35d0d4a16449 button.colab-df-convert');\n",
              "        buttonEl.style.display =\n",
              "          google.colab.kernel.accessAllowed ? 'block' : 'none';\n",
              "\n",
              "        async function convertToInteractive(key) {\n",
              "          const element = document.querySelector('#df-190e66eb-b983-49e0-9591-35d0d4a16449');\n",
              "          const dataTable =\n",
              "            await google.colab.kernel.invokeFunction('convertToInteractive',\n",
              "                                                     [key], {});\n",
              "          if (!dataTable) return;\n",
              "\n",
              "          const docLinkHtml = 'Like what you see? Visit the ' +\n",
              "            '<a target=\"_blank\" href=https://colab.research.google.com/notebooks/data_table.ipynb>data table notebook</a>'\n",
              "            + ' to learn more about interactive tables.';\n",
              "          element.innerHTML = '';\n",
              "          dataTable['output_type'] = 'display_data';\n",
              "          await google.colab.output.renderOutput(dataTable, element);\n",
              "          const docLink = document.createElement('div');\n",
              "          docLink.innerHTML = docLinkHtml;\n",
              "          element.appendChild(docLink);\n",
              "        }\n",
              "      </script>\n",
              "    </div>\n",
              "  </div>\n",
              "  "
            ],
            "text/plain": [
              "   B\n",
              "0  2\n",
              "1  5\n",
              "2  8"
            ]
          },
          "metadata": {},
          "execution_count": 8
        }
      ]
    },
    {
      "cell_type": "markdown",
      "source": [
        "Removing a Row from Your DataFrame"
      ],
      "metadata": {
        "id": "IWt5DC_iMtdf"
      }
    },
    {
      "cell_type": "code",
      "source": [
        "df = pd.DataFrame(data=np.array([[1, 2, 3], [4, 5, 6], [7, 8, 9], [40, 50, 60], [40, 35, 37]]), \n",
        "                  index= [2.5, 12.6, 4.8, 4.8, 2.5], \n",
        "                  columns=[48, 49, 50])\n",
        "df"
      ],
      "metadata": {
        "colab": {
          "base_uri": "https://localhost:8080/",
          "height": 206
        },
        "id": "F6A8JJF-NKAe",
        "outputId": "8d34941a-f85e-4e20-9910-4690c22bb0ec"
      },
      "execution_count": null,
      "outputs": [
        {
          "output_type": "execute_result",
          "data": {
            "text/html": [
              "\n",
              "  <div id=\"df-9666b195-6844-4201-8934-915d991bfb32\">\n",
              "    <div class=\"colab-df-container\">\n",
              "      <div>\n",
              "<style scoped>\n",
              "    .dataframe tbody tr th:only-of-type {\n",
              "        vertical-align: middle;\n",
              "    }\n",
              "\n",
              "    .dataframe tbody tr th {\n",
              "        vertical-align: top;\n",
              "    }\n",
              "\n",
              "    .dataframe thead th {\n",
              "        text-align: right;\n",
              "    }\n",
              "</style>\n",
              "<table border=\"1\" class=\"dataframe\">\n",
              "  <thead>\n",
              "    <tr style=\"text-align: right;\">\n",
              "      <th></th>\n",
              "      <th>48</th>\n",
              "      <th>49</th>\n",
              "      <th>50</th>\n",
              "    </tr>\n",
              "  </thead>\n",
              "  <tbody>\n",
              "    <tr>\n",
              "      <th>2.5</th>\n",
              "      <td>1</td>\n",
              "      <td>2</td>\n",
              "      <td>3</td>\n",
              "    </tr>\n",
              "    <tr>\n",
              "      <th>12.6</th>\n",
              "      <td>4</td>\n",
              "      <td>5</td>\n",
              "      <td>6</td>\n",
              "    </tr>\n",
              "    <tr>\n",
              "      <th>4.8</th>\n",
              "      <td>7</td>\n",
              "      <td>8</td>\n",
              "      <td>9</td>\n",
              "    </tr>\n",
              "    <tr>\n",
              "      <th>4.8</th>\n",
              "      <td>40</td>\n",
              "      <td>50</td>\n",
              "      <td>60</td>\n",
              "    </tr>\n",
              "    <tr>\n",
              "      <th>2.5</th>\n",
              "      <td>40</td>\n",
              "      <td>35</td>\n",
              "      <td>37</td>\n",
              "    </tr>\n",
              "  </tbody>\n",
              "</table>\n",
              "</div>\n",
              "      <button class=\"colab-df-convert\" onclick=\"convertToInteractive('df-9666b195-6844-4201-8934-915d991bfb32')\"\n",
              "              title=\"Convert this dataframe to an interactive table.\"\n",
              "              style=\"display:none;\">\n",
              "        \n",
              "  <svg xmlns=\"http://www.w3.org/2000/svg\" height=\"24px\"viewBox=\"0 0 24 24\"\n",
              "       width=\"24px\">\n",
              "    <path d=\"M0 0h24v24H0V0z\" fill=\"none\"/>\n",
              "    <path d=\"M18.56 5.44l.94 2.06.94-2.06 2.06-.94-2.06-.94-.94-2.06-.94 2.06-2.06.94zm-11 1L8.5 8.5l.94-2.06 2.06-.94-2.06-.94L8.5 2.5l-.94 2.06-2.06.94zm10 10l.94 2.06.94-2.06 2.06-.94-2.06-.94-.94-2.06-.94 2.06-2.06.94z\"/><path d=\"M17.41 7.96l-1.37-1.37c-.4-.4-.92-.59-1.43-.59-.52 0-1.04.2-1.43.59L10.3 9.45l-7.72 7.72c-.78.78-.78 2.05 0 2.83L4 21.41c.39.39.9.59 1.41.59.51 0 1.02-.2 1.41-.59l7.78-7.78 2.81-2.81c.8-.78.8-2.07 0-2.86zM5.41 20L4 18.59l7.72-7.72 1.47 1.35L5.41 20z\"/>\n",
              "  </svg>\n",
              "      </button>\n",
              "      \n",
              "  <style>\n",
              "    .colab-df-container {\n",
              "      display:flex;\n",
              "      flex-wrap:wrap;\n",
              "      gap: 12px;\n",
              "    }\n",
              "\n",
              "    .colab-df-convert {\n",
              "      background-color: #E8F0FE;\n",
              "      border: none;\n",
              "      border-radius: 50%;\n",
              "      cursor: pointer;\n",
              "      display: none;\n",
              "      fill: #1967D2;\n",
              "      height: 32px;\n",
              "      padding: 0 0 0 0;\n",
              "      width: 32px;\n",
              "    }\n",
              "\n",
              "    .colab-df-convert:hover {\n",
              "      background-color: #E2EBFA;\n",
              "      box-shadow: 0px 1px 2px rgba(60, 64, 67, 0.3), 0px 1px 3px 1px rgba(60, 64, 67, 0.15);\n",
              "      fill: #174EA6;\n",
              "    }\n",
              "\n",
              "    [theme=dark] .colab-df-convert {\n",
              "      background-color: #3B4455;\n",
              "      fill: #D2E3FC;\n",
              "    }\n",
              "\n",
              "    [theme=dark] .colab-df-convert:hover {\n",
              "      background-color: #434B5C;\n",
              "      box-shadow: 0px 1px 3px 1px rgba(0, 0, 0, 0.15);\n",
              "      filter: drop-shadow(0px 1px 2px rgba(0, 0, 0, 0.3));\n",
              "      fill: #FFFFFF;\n",
              "    }\n",
              "  </style>\n",
              "\n",
              "      <script>\n",
              "        const buttonEl =\n",
              "          document.querySelector('#df-9666b195-6844-4201-8934-915d991bfb32 button.colab-df-convert');\n",
              "        buttonEl.style.display =\n",
              "          google.colab.kernel.accessAllowed ? 'block' : 'none';\n",
              "\n",
              "        async function convertToInteractive(key) {\n",
              "          const element = document.querySelector('#df-9666b195-6844-4201-8934-915d991bfb32');\n",
              "          const dataTable =\n",
              "            await google.colab.kernel.invokeFunction('convertToInteractive',\n",
              "                                                     [key], {});\n",
              "          if (!dataTable) return;\n",
              "\n",
              "          const docLinkHtml = 'Like what you see? Visit the ' +\n",
              "            '<a target=\"_blank\" href=https://colab.research.google.com/notebooks/data_table.ipynb>data table notebook</a>'\n",
              "            + ' to learn more about interactive tables.';\n",
              "          element.innerHTML = '';\n",
              "          dataTable['output_type'] = 'display_data';\n",
              "          await google.colab.output.renderOutput(dataTable, element);\n",
              "          const docLink = document.createElement('div');\n",
              "          docLink.innerHTML = docLinkHtml;\n",
              "          element.appendChild(docLink);\n",
              "        }\n",
              "      </script>\n",
              "    </div>\n",
              "  </div>\n",
              "  "
            ],
            "text/plain": [
              "      48  49  50\n",
              "2.5    1   2   3\n",
              "12.6   4   5   6\n",
              "4.8    7   8   9\n",
              "4.8   40  50  60\n",
              "2.5   40  35  37"
            ]
          },
          "metadata": {},
          "execution_count": 13
        }
      ]
    },
    {
      "cell_type": "code",
      "source": [
        "# Check out your DataFrame `df`\n",
        "print(df)\n",
        "\n",
        "# Drop the duplicates in `df`\n",
        "df.drop_duplicates([48], keep='last')"
      ],
      "metadata": {
        "colab": {
          "base_uri": "https://localhost:8080/",
          "height": 279
        },
        "id": "uZU6rGffMcCG",
        "outputId": "5336af77-e179-4a03-b8b9-293f3fb5764b"
      },
      "execution_count": null,
      "outputs": [
        {
          "output_type": "stream",
          "name": "stdout",
          "text": [
            "      48  49  50\n",
            "2.5    1   2   3\n",
            "12.6   4   5   6\n",
            "4.8    7   8   9\n",
            "4.8   40  50  60\n",
            "2.5   40  35  37\n"
          ]
        },
        {
          "output_type": "execute_result",
          "data": {
            "text/html": [
              "\n",
              "  <div id=\"df-3a90f827-81b8-4c3f-98b4-1d7616847eb8\">\n",
              "    <div class=\"colab-df-container\">\n",
              "      <div>\n",
              "<style scoped>\n",
              "    .dataframe tbody tr th:only-of-type {\n",
              "        vertical-align: middle;\n",
              "    }\n",
              "\n",
              "    .dataframe tbody tr th {\n",
              "        vertical-align: top;\n",
              "    }\n",
              "\n",
              "    .dataframe thead th {\n",
              "        text-align: right;\n",
              "    }\n",
              "</style>\n",
              "<table border=\"1\" class=\"dataframe\">\n",
              "  <thead>\n",
              "    <tr style=\"text-align: right;\">\n",
              "      <th></th>\n",
              "      <th>48</th>\n",
              "      <th>49</th>\n",
              "      <th>50</th>\n",
              "    </tr>\n",
              "  </thead>\n",
              "  <tbody>\n",
              "    <tr>\n",
              "      <th>2.5</th>\n",
              "      <td>1</td>\n",
              "      <td>2</td>\n",
              "      <td>3</td>\n",
              "    </tr>\n",
              "    <tr>\n",
              "      <th>12.6</th>\n",
              "      <td>4</td>\n",
              "      <td>5</td>\n",
              "      <td>6</td>\n",
              "    </tr>\n",
              "    <tr>\n",
              "      <th>4.8</th>\n",
              "      <td>7</td>\n",
              "      <td>8</td>\n",
              "      <td>9</td>\n",
              "    </tr>\n",
              "    <tr>\n",
              "      <th>2.5</th>\n",
              "      <td>40</td>\n",
              "      <td>35</td>\n",
              "      <td>37</td>\n",
              "    </tr>\n",
              "  </tbody>\n",
              "</table>\n",
              "</div>\n",
              "      <button class=\"colab-df-convert\" onclick=\"convertToInteractive('df-3a90f827-81b8-4c3f-98b4-1d7616847eb8')\"\n",
              "              title=\"Convert this dataframe to an interactive table.\"\n",
              "              style=\"display:none;\">\n",
              "        \n",
              "  <svg xmlns=\"http://www.w3.org/2000/svg\" height=\"24px\"viewBox=\"0 0 24 24\"\n",
              "       width=\"24px\">\n",
              "    <path d=\"M0 0h24v24H0V0z\" fill=\"none\"/>\n",
              "    <path d=\"M18.56 5.44l.94 2.06.94-2.06 2.06-.94-2.06-.94-.94-2.06-.94 2.06-2.06.94zm-11 1L8.5 8.5l.94-2.06 2.06-.94-2.06-.94L8.5 2.5l-.94 2.06-2.06.94zm10 10l.94 2.06.94-2.06 2.06-.94-2.06-.94-.94-2.06-.94 2.06-2.06.94z\"/><path d=\"M17.41 7.96l-1.37-1.37c-.4-.4-.92-.59-1.43-.59-.52 0-1.04.2-1.43.59L10.3 9.45l-7.72 7.72c-.78.78-.78 2.05 0 2.83L4 21.41c.39.39.9.59 1.41.59.51 0 1.02-.2 1.41-.59l7.78-7.78 2.81-2.81c.8-.78.8-2.07 0-2.86zM5.41 20L4 18.59l7.72-7.72 1.47 1.35L5.41 20z\"/>\n",
              "  </svg>\n",
              "      </button>\n",
              "      \n",
              "  <style>\n",
              "    .colab-df-container {\n",
              "      display:flex;\n",
              "      flex-wrap:wrap;\n",
              "      gap: 12px;\n",
              "    }\n",
              "\n",
              "    .colab-df-convert {\n",
              "      background-color: #E8F0FE;\n",
              "      border: none;\n",
              "      border-radius: 50%;\n",
              "      cursor: pointer;\n",
              "      display: none;\n",
              "      fill: #1967D2;\n",
              "      height: 32px;\n",
              "      padding: 0 0 0 0;\n",
              "      width: 32px;\n",
              "    }\n",
              "\n",
              "    .colab-df-convert:hover {\n",
              "      background-color: #E2EBFA;\n",
              "      box-shadow: 0px 1px 2px rgba(60, 64, 67, 0.3), 0px 1px 3px 1px rgba(60, 64, 67, 0.15);\n",
              "      fill: #174EA6;\n",
              "    }\n",
              "\n",
              "    [theme=dark] .colab-df-convert {\n",
              "      background-color: #3B4455;\n",
              "      fill: #D2E3FC;\n",
              "    }\n",
              "\n",
              "    [theme=dark] .colab-df-convert:hover {\n",
              "      background-color: #434B5C;\n",
              "      box-shadow: 0px 1px 3px 1px rgba(0, 0, 0, 0.15);\n",
              "      filter: drop-shadow(0px 1px 2px rgba(0, 0, 0, 0.3));\n",
              "      fill: #FFFFFF;\n",
              "    }\n",
              "  </style>\n",
              "\n",
              "      <script>\n",
              "        const buttonEl =\n",
              "          document.querySelector('#df-3a90f827-81b8-4c3f-98b4-1d7616847eb8 button.colab-df-convert');\n",
              "        buttonEl.style.display =\n",
              "          google.colab.kernel.accessAllowed ? 'block' : 'none';\n",
              "\n",
              "        async function convertToInteractive(key) {\n",
              "          const element = document.querySelector('#df-3a90f827-81b8-4c3f-98b4-1d7616847eb8');\n",
              "          const dataTable =\n",
              "            await google.colab.kernel.invokeFunction('convertToInteractive',\n",
              "                                                     [key], {});\n",
              "          if (!dataTable) return;\n",
              "\n",
              "          const docLinkHtml = 'Like what you see? Visit the ' +\n",
              "            '<a target=\"_blank\" href=https://colab.research.google.com/notebooks/data_table.ipynb>data table notebook</a>'\n",
              "            + ' to learn more about interactive tables.';\n",
              "          element.innerHTML = '';\n",
              "          dataTable['output_type'] = 'display_data';\n",
              "          await google.colab.output.renderOutput(dataTable, element);\n",
              "          const docLink = document.createElement('div');\n",
              "          docLink.innerHTML = docLinkHtml;\n",
              "          element.appendChild(docLink);\n",
              "        }\n",
              "      </script>\n",
              "    </div>\n",
              "  </div>\n",
              "  "
            ],
            "text/plain": [
              "      48  49  50\n",
              "2.5    1   2   3\n",
              "12.6   4   5   6\n",
              "4.8    7   8   9\n",
              "2.5   40  35  37"
            ]
          },
          "metadata": {},
          "execution_count": 14
        }
      ]
    },
    {
      "cell_type": "code",
      "source": [
        "array = np.array([[1, 2, 3],\n",
        "                  [4, 5, 6],\n",
        "                  [7, 8, 9]])\n",
        "column_values = ['A', 'B', 'C']\n",
        "df = pd.DataFrame(data = array, index = index_values, columns = column_values)\n",
        "print(df)"
      ],
      "metadata": {
        "colab": {
          "base_uri": "https://localhost:8080/"
        },
        "id": "xOctEs-cPbuX",
        "outputId": "4c9d8137-7a55-4492-8ca6-5fb9a50fb3cb"
      },
      "execution_count": null,
      "outputs": [
        {
          "output_type": "stream",
          "name": "stdout",
          "text": [
            "   A  B  C\n",
            "0  1  2  3\n",
            "1  4  5  6\n",
            "2  7  8  9\n"
          ]
        }
      ]
    },
    {
      "cell_type": "code",
      "source": [
        "# Check out the DataFrame `df`\n",
        "print(df)\n",
        "\n",
        "# Drop the index at position 1\n",
        "df.drop(df.index[1])"
      ],
      "metadata": {
        "colab": {
          "base_uri": "https://localhost:8080/",
          "height": 182
        },
        "id": "EdK3Dr_7M-O0",
        "outputId": "498ea80a-4abc-417c-833d-5fe798324ad3"
      },
      "execution_count": null,
      "outputs": [
        {
          "output_type": "stream",
          "name": "stdout",
          "text": [
            "   A  B  C\n",
            "0  1  2  3\n",
            "1  4  5  6\n",
            "2  7  8  9\n"
          ]
        },
        {
          "output_type": "execute_result",
          "data": {
            "text/html": [
              "\n",
              "  <div id=\"df-0cba9692-6b7c-4789-9c6e-20be0f0ed1f9\">\n",
              "    <div class=\"colab-df-container\">\n",
              "      <div>\n",
              "<style scoped>\n",
              "    .dataframe tbody tr th:only-of-type {\n",
              "        vertical-align: middle;\n",
              "    }\n",
              "\n",
              "    .dataframe tbody tr th {\n",
              "        vertical-align: top;\n",
              "    }\n",
              "\n",
              "    .dataframe thead th {\n",
              "        text-align: right;\n",
              "    }\n",
              "</style>\n",
              "<table border=\"1\" class=\"dataframe\">\n",
              "  <thead>\n",
              "    <tr style=\"text-align: right;\">\n",
              "      <th></th>\n",
              "      <th>A</th>\n",
              "      <th>B</th>\n",
              "      <th>C</th>\n",
              "    </tr>\n",
              "  </thead>\n",
              "  <tbody>\n",
              "    <tr>\n",
              "      <th>0</th>\n",
              "      <td>1</td>\n",
              "      <td>2</td>\n",
              "      <td>3</td>\n",
              "    </tr>\n",
              "    <tr>\n",
              "      <th>2</th>\n",
              "      <td>7</td>\n",
              "      <td>8</td>\n",
              "      <td>9</td>\n",
              "    </tr>\n",
              "  </tbody>\n",
              "</table>\n",
              "</div>\n",
              "      <button class=\"colab-df-convert\" onclick=\"convertToInteractive('df-0cba9692-6b7c-4789-9c6e-20be0f0ed1f9')\"\n",
              "              title=\"Convert this dataframe to an interactive table.\"\n",
              "              style=\"display:none;\">\n",
              "        \n",
              "  <svg xmlns=\"http://www.w3.org/2000/svg\" height=\"24px\"viewBox=\"0 0 24 24\"\n",
              "       width=\"24px\">\n",
              "    <path d=\"M0 0h24v24H0V0z\" fill=\"none\"/>\n",
              "    <path d=\"M18.56 5.44l.94 2.06.94-2.06 2.06-.94-2.06-.94-.94-2.06-.94 2.06-2.06.94zm-11 1L8.5 8.5l.94-2.06 2.06-.94-2.06-.94L8.5 2.5l-.94 2.06-2.06.94zm10 10l.94 2.06.94-2.06 2.06-.94-2.06-.94-.94-2.06-.94 2.06-2.06.94z\"/><path d=\"M17.41 7.96l-1.37-1.37c-.4-.4-.92-.59-1.43-.59-.52 0-1.04.2-1.43.59L10.3 9.45l-7.72 7.72c-.78.78-.78 2.05 0 2.83L4 21.41c.39.39.9.59 1.41.59.51 0 1.02-.2 1.41-.59l7.78-7.78 2.81-2.81c.8-.78.8-2.07 0-2.86zM5.41 20L4 18.59l7.72-7.72 1.47 1.35L5.41 20z\"/>\n",
              "  </svg>\n",
              "      </button>\n",
              "      \n",
              "  <style>\n",
              "    .colab-df-container {\n",
              "      display:flex;\n",
              "      flex-wrap:wrap;\n",
              "      gap: 12px;\n",
              "    }\n",
              "\n",
              "    .colab-df-convert {\n",
              "      background-color: #E8F0FE;\n",
              "      border: none;\n",
              "      border-radius: 50%;\n",
              "      cursor: pointer;\n",
              "      display: none;\n",
              "      fill: #1967D2;\n",
              "      height: 32px;\n",
              "      padding: 0 0 0 0;\n",
              "      width: 32px;\n",
              "    }\n",
              "\n",
              "    .colab-df-convert:hover {\n",
              "      background-color: #E2EBFA;\n",
              "      box-shadow: 0px 1px 2px rgba(60, 64, 67, 0.3), 0px 1px 3px 1px rgba(60, 64, 67, 0.15);\n",
              "      fill: #174EA6;\n",
              "    }\n",
              "\n",
              "    [theme=dark] .colab-df-convert {\n",
              "      background-color: #3B4455;\n",
              "      fill: #D2E3FC;\n",
              "    }\n",
              "\n",
              "    [theme=dark] .colab-df-convert:hover {\n",
              "      background-color: #434B5C;\n",
              "      box-shadow: 0px 1px 3px 1px rgba(0, 0, 0, 0.15);\n",
              "      filter: drop-shadow(0px 1px 2px rgba(0, 0, 0, 0.3));\n",
              "      fill: #FFFFFF;\n",
              "    }\n",
              "  </style>\n",
              "\n",
              "      <script>\n",
              "        const buttonEl =\n",
              "          document.querySelector('#df-0cba9692-6b7c-4789-9c6e-20be0f0ed1f9 button.colab-df-convert');\n",
              "        buttonEl.style.display =\n",
              "          google.colab.kernel.accessAllowed ? 'block' : 'none';\n",
              "\n",
              "        async function convertToInteractive(key) {\n",
              "          const element = document.querySelector('#df-0cba9692-6b7c-4789-9c6e-20be0f0ed1f9');\n",
              "          const dataTable =\n",
              "            await google.colab.kernel.invokeFunction('convertToInteractive',\n",
              "                                                     [key], {});\n",
              "          if (!dataTable) return;\n",
              "\n",
              "          const docLinkHtml = 'Like what you see? Visit the ' +\n",
              "            '<a target=\"_blank\" href=https://colab.research.google.com/notebooks/data_table.ipynb>data table notebook</a>'\n",
              "            + ' to learn more about interactive tables.';\n",
              "          element.innerHTML = '';\n",
              "          dataTable['output_type'] = 'display_data';\n",
              "          await google.colab.output.renderOutput(dataTable, element);\n",
              "          const docLink = document.createElement('div');\n",
              "          docLink.innerHTML = docLinkHtml;\n",
              "          element.appendChild(docLink);\n",
              "        }\n",
              "      </script>\n",
              "    </div>\n",
              "  </div>\n",
              "  "
            ],
            "text/plain": [
              "   A  B  C\n",
              "0  1  2  3\n",
              "2  7  8  9"
            ]
          },
          "metadata": {},
          "execution_count": 16
        }
      ]
    },
    {
      "cell_type": "markdown",
      "source": [
        "**5. How to Rename the Index or Columns of a Pandas DataFrame**"
      ],
      "metadata": {
        "id": "R0ulzbqBPzO0"
      }
    },
    {
      "cell_type": "code",
      "source": [
        "# Check out your DataFrame `df`\n",
        "print(df)\n",
        "\n",
        "# Define the new names of your columns\n",
        "newcols = {\n",
        "    'A': 'new_column_1', \n",
        "    'B': 'new_column_2', \n",
        "    'C': 'new_column_3'\n",
        "}\n",
        "\n",
        "# Use `rename()` to rename your columns\n",
        "df.rename(columns=newcols, inplace=True)\n",
        "\n",
        "# Use `rename()` to your index\n",
        "df.rename(index={1: 'a'})"
      ],
      "metadata": {
        "colab": {
          "base_uri": "https://localhost:8080/",
          "height": 213
        },
        "id": "HAM4Bk9vNmEO",
        "outputId": "e59e8d0c-65a9-4c30-8dd1-4695e2377f63"
      },
      "execution_count": null,
      "outputs": [
        {
          "output_type": "stream",
          "name": "stdout",
          "text": [
            "   A  B  C\n",
            "0  1  2  3\n",
            "1  4  5  6\n",
            "2  7  8  9\n"
          ]
        },
        {
          "output_type": "execute_result",
          "data": {
            "text/html": [
              "\n",
              "  <div id=\"df-94d77de6-1271-404e-bc00-4f01b60fe1cc\">\n",
              "    <div class=\"colab-df-container\">\n",
              "      <div>\n",
              "<style scoped>\n",
              "    .dataframe tbody tr th:only-of-type {\n",
              "        vertical-align: middle;\n",
              "    }\n",
              "\n",
              "    .dataframe tbody tr th {\n",
              "        vertical-align: top;\n",
              "    }\n",
              "\n",
              "    .dataframe thead th {\n",
              "        text-align: right;\n",
              "    }\n",
              "</style>\n",
              "<table border=\"1\" class=\"dataframe\">\n",
              "  <thead>\n",
              "    <tr style=\"text-align: right;\">\n",
              "      <th></th>\n",
              "      <th>new_column_1</th>\n",
              "      <th>new_column_2</th>\n",
              "      <th>new_column_3</th>\n",
              "    </tr>\n",
              "  </thead>\n",
              "  <tbody>\n",
              "    <tr>\n",
              "      <th>0</th>\n",
              "      <td>1</td>\n",
              "      <td>2</td>\n",
              "      <td>3</td>\n",
              "    </tr>\n",
              "    <tr>\n",
              "      <th>a</th>\n",
              "      <td>4</td>\n",
              "      <td>5</td>\n",
              "      <td>6</td>\n",
              "    </tr>\n",
              "    <tr>\n",
              "      <th>2</th>\n",
              "      <td>7</td>\n",
              "      <td>8</td>\n",
              "      <td>9</td>\n",
              "    </tr>\n",
              "  </tbody>\n",
              "</table>\n",
              "</div>\n",
              "      <button class=\"colab-df-convert\" onclick=\"convertToInteractive('df-94d77de6-1271-404e-bc00-4f01b60fe1cc')\"\n",
              "              title=\"Convert this dataframe to an interactive table.\"\n",
              "              style=\"display:none;\">\n",
              "        \n",
              "  <svg xmlns=\"http://www.w3.org/2000/svg\" height=\"24px\"viewBox=\"0 0 24 24\"\n",
              "       width=\"24px\">\n",
              "    <path d=\"M0 0h24v24H0V0z\" fill=\"none\"/>\n",
              "    <path d=\"M18.56 5.44l.94 2.06.94-2.06 2.06-.94-2.06-.94-.94-2.06-.94 2.06-2.06.94zm-11 1L8.5 8.5l.94-2.06 2.06-.94-2.06-.94L8.5 2.5l-.94 2.06-2.06.94zm10 10l.94 2.06.94-2.06 2.06-.94-2.06-.94-.94-2.06-.94 2.06-2.06.94z\"/><path d=\"M17.41 7.96l-1.37-1.37c-.4-.4-.92-.59-1.43-.59-.52 0-1.04.2-1.43.59L10.3 9.45l-7.72 7.72c-.78.78-.78 2.05 0 2.83L4 21.41c.39.39.9.59 1.41.59.51 0 1.02-.2 1.41-.59l7.78-7.78 2.81-2.81c.8-.78.8-2.07 0-2.86zM5.41 20L4 18.59l7.72-7.72 1.47 1.35L5.41 20z\"/>\n",
              "  </svg>\n",
              "      </button>\n",
              "      \n",
              "  <style>\n",
              "    .colab-df-container {\n",
              "      display:flex;\n",
              "      flex-wrap:wrap;\n",
              "      gap: 12px;\n",
              "    }\n",
              "\n",
              "    .colab-df-convert {\n",
              "      background-color: #E8F0FE;\n",
              "      border: none;\n",
              "      border-radius: 50%;\n",
              "      cursor: pointer;\n",
              "      display: none;\n",
              "      fill: #1967D2;\n",
              "      height: 32px;\n",
              "      padding: 0 0 0 0;\n",
              "      width: 32px;\n",
              "    }\n",
              "\n",
              "    .colab-df-convert:hover {\n",
              "      background-color: #E2EBFA;\n",
              "      box-shadow: 0px 1px 2px rgba(60, 64, 67, 0.3), 0px 1px 3px 1px rgba(60, 64, 67, 0.15);\n",
              "      fill: #174EA6;\n",
              "    }\n",
              "\n",
              "    [theme=dark] .colab-df-convert {\n",
              "      background-color: #3B4455;\n",
              "      fill: #D2E3FC;\n",
              "    }\n",
              "\n",
              "    [theme=dark] .colab-df-convert:hover {\n",
              "      background-color: #434B5C;\n",
              "      box-shadow: 0px 1px 3px 1px rgba(0, 0, 0, 0.15);\n",
              "      filter: drop-shadow(0px 1px 2px rgba(0, 0, 0, 0.3));\n",
              "      fill: #FFFFFF;\n",
              "    }\n",
              "  </style>\n",
              "\n",
              "      <script>\n",
              "        const buttonEl =\n",
              "          document.querySelector('#df-94d77de6-1271-404e-bc00-4f01b60fe1cc button.colab-df-convert');\n",
              "        buttonEl.style.display =\n",
              "          google.colab.kernel.accessAllowed ? 'block' : 'none';\n",
              "\n",
              "        async function convertToInteractive(key) {\n",
              "          const element = document.querySelector('#df-94d77de6-1271-404e-bc00-4f01b60fe1cc');\n",
              "          const dataTable =\n",
              "            await google.colab.kernel.invokeFunction('convertToInteractive',\n",
              "                                                     [key], {});\n",
              "          if (!dataTable) return;\n",
              "\n",
              "          const docLinkHtml = 'Like what you see? Visit the ' +\n",
              "            '<a target=\"_blank\" href=https://colab.research.google.com/notebooks/data_table.ipynb>data table notebook</a>'\n",
              "            + ' to learn more about interactive tables.';\n",
              "          element.innerHTML = '';\n",
              "          dataTable['output_type'] = 'display_data';\n",
              "          await google.colab.output.renderOutput(dataTable, element);\n",
              "          const docLink = document.createElement('div');\n",
              "          docLink.innerHTML = docLinkHtml;\n",
              "          element.appendChild(docLink);\n",
              "        }\n",
              "      </script>\n",
              "    </div>\n",
              "  </div>\n",
              "  "
            ],
            "text/plain": [
              "   new_column_1  new_column_2  new_column_3\n",
              "0             1             2             3\n",
              "a             4             5             6\n",
              "2             7             8             9"
            ]
          },
          "metadata": {},
          "execution_count": 68
        }
      ]
    },
    {
      "cell_type": "code",
      "source": [
        "# Check out your DataFrame `df`\n",
        "print(df)\n",
        "\n",
        "# Define the new names of your columns\n",
        "newcols = {\n",
        "    'A': 'new_column_1', \n",
        "    'B': 'new_column_2', \n",
        "    'C': 'new_column_3'\n",
        "}\n",
        "\n",
        "# Use `rename()` to rename your columns\n",
        "df.rename(columns=newcols, inplace=False)\n",
        "\n",
        "# Use `rename()` to your index\n",
        "df.rename(index={1: 'a'})"
      ],
      "metadata": {
        "colab": {
          "base_uri": "https://localhost:8080/",
          "height": 213
        },
        "id": "jNwvGT_PP84V",
        "outputId": "b8fcca31-aed2-4deb-895c-4a04322fcdd2"
      },
      "execution_count": null,
      "outputs": [
        {
          "output_type": "stream",
          "name": "stdout",
          "text": [
            "   new_column_1  new_column_2  new_column_3\n",
            "0             1             2             3\n",
            "1             4             5             6\n",
            "2             7             8             9\n"
          ]
        },
        {
          "output_type": "execute_result",
          "data": {
            "text/html": [
              "\n",
              "  <div id=\"df-44b0da93-b33d-4d41-9a62-6e823b3c1e40\">\n",
              "    <div class=\"colab-df-container\">\n",
              "      <div>\n",
              "<style scoped>\n",
              "    .dataframe tbody tr th:only-of-type {\n",
              "        vertical-align: middle;\n",
              "    }\n",
              "\n",
              "    .dataframe tbody tr th {\n",
              "        vertical-align: top;\n",
              "    }\n",
              "\n",
              "    .dataframe thead th {\n",
              "        text-align: right;\n",
              "    }\n",
              "</style>\n",
              "<table border=\"1\" class=\"dataframe\">\n",
              "  <thead>\n",
              "    <tr style=\"text-align: right;\">\n",
              "      <th></th>\n",
              "      <th>new_column_1</th>\n",
              "      <th>new_column_2</th>\n",
              "      <th>new_column_3</th>\n",
              "    </tr>\n",
              "  </thead>\n",
              "  <tbody>\n",
              "    <tr>\n",
              "      <th>0</th>\n",
              "      <td>1</td>\n",
              "      <td>2</td>\n",
              "      <td>3</td>\n",
              "    </tr>\n",
              "    <tr>\n",
              "      <th>a</th>\n",
              "      <td>4</td>\n",
              "      <td>5</td>\n",
              "      <td>6</td>\n",
              "    </tr>\n",
              "    <tr>\n",
              "      <th>2</th>\n",
              "      <td>7</td>\n",
              "      <td>8</td>\n",
              "      <td>9</td>\n",
              "    </tr>\n",
              "  </tbody>\n",
              "</table>\n",
              "</div>\n",
              "      <button class=\"colab-df-convert\" onclick=\"convertToInteractive('df-44b0da93-b33d-4d41-9a62-6e823b3c1e40')\"\n",
              "              title=\"Convert this dataframe to an interactive table.\"\n",
              "              style=\"display:none;\">\n",
              "        \n",
              "  <svg xmlns=\"http://www.w3.org/2000/svg\" height=\"24px\"viewBox=\"0 0 24 24\"\n",
              "       width=\"24px\">\n",
              "    <path d=\"M0 0h24v24H0V0z\" fill=\"none\"/>\n",
              "    <path d=\"M18.56 5.44l.94 2.06.94-2.06 2.06-.94-2.06-.94-.94-2.06-.94 2.06-2.06.94zm-11 1L8.5 8.5l.94-2.06 2.06-.94-2.06-.94L8.5 2.5l-.94 2.06-2.06.94zm10 10l.94 2.06.94-2.06 2.06-.94-2.06-.94-.94-2.06-.94 2.06-2.06.94z\"/><path d=\"M17.41 7.96l-1.37-1.37c-.4-.4-.92-.59-1.43-.59-.52 0-1.04.2-1.43.59L10.3 9.45l-7.72 7.72c-.78.78-.78 2.05 0 2.83L4 21.41c.39.39.9.59 1.41.59.51 0 1.02-.2 1.41-.59l7.78-7.78 2.81-2.81c.8-.78.8-2.07 0-2.86zM5.41 20L4 18.59l7.72-7.72 1.47 1.35L5.41 20z\"/>\n",
              "  </svg>\n",
              "      </button>\n",
              "      \n",
              "  <style>\n",
              "    .colab-df-container {\n",
              "      display:flex;\n",
              "      flex-wrap:wrap;\n",
              "      gap: 12px;\n",
              "    }\n",
              "\n",
              "    .colab-df-convert {\n",
              "      background-color: #E8F0FE;\n",
              "      border: none;\n",
              "      border-radius: 50%;\n",
              "      cursor: pointer;\n",
              "      display: none;\n",
              "      fill: #1967D2;\n",
              "      height: 32px;\n",
              "      padding: 0 0 0 0;\n",
              "      width: 32px;\n",
              "    }\n",
              "\n",
              "    .colab-df-convert:hover {\n",
              "      background-color: #E2EBFA;\n",
              "      box-shadow: 0px 1px 2px rgba(60, 64, 67, 0.3), 0px 1px 3px 1px rgba(60, 64, 67, 0.15);\n",
              "      fill: #174EA6;\n",
              "    }\n",
              "\n",
              "    [theme=dark] .colab-df-convert {\n",
              "      background-color: #3B4455;\n",
              "      fill: #D2E3FC;\n",
              "    }\n",
              "\n",
              "    [theme=dark] .colab-df-convert:hover {\n",
              "      background-color: #434B5C;\n",
              "      box-shadow: 0px 1px 3px 1px rgba(0, 0, 0, 0.15);\n",
              "      filter: drop-shadow(0px 1px 2px rgba(0, 0, 0, 0.3));\n",
              "      fill: #FFFFFF;\n",
              "    }\n",
              "  </style>\n",
              "\n",
              "      <script>\n",
              "        const buttonEl =\n",
              "          document.querySelector('#df-44b0da93-b33d-4d41-9a62-6e823b3c1e40 button.colab-df-convert');\n",
              "        buttonEl.style.display =\n",
              "          google.colab.kernel.accessAllowed ? 'block' : 'none';\n",
              "\n",
              "        async function convertToInteractive(key) {\n",
              "          const element = document.querySelector('#df-44b0da93-b33d-4d41-9a62-6e823b3c1e40');\n",
              "          const dataTable =\n",
              "            await google.colab.kernel.invokeFunction('convertToInteractive',\n",
              "                                                     [key], {});\n",
              "          if (!dataTable) return;\n",
              "\n",
              "          const docLinkHtml = 'Like what you see? Visit the ' +\n",
              "            '<a target=\"_blank\" href=https://colab.research.google.com/notebooks/data_table.ipynb>data table notebook</a>'\n",
              "            + ' to learn more about interactive tables.';\n",
              "          element.innerHTML = '';\n",
              "          dataTable['output_type'] = 'display_data';\n",
              "          await google.colab.output.renderOutput(dataTable, element);\n",
              "          const docLink = document.createElement('div');\n",
              "          docLink.innerHTML = docLinkHtml;\n",
              "          element.appendChild(docLink);\n",
              "        }\n",
              "      </script>\n",
              "    </div>\n",
              "  </div>\n",
              "  "
            ],
            "text/plain": [
              "   new_column_1  new_column_2  new_column_3\n",
              "0             1             2             3\n",
              "a             4             5             6\n",
              "2             7             8             9"
            ]
          },
          "metadata": {},
          "execution_count": 69
        }
      ]
    },
    {
      "cell_type": "markdown",
      "source": [
        "**6. How To Format The Data in Your Pandas DataFrame**"
      ],
      "metadata": {
        "id": "VYIQ7ukHRAFf"
      }
    },
    {
      "cell_type": "markdown",
      "source": [
        "Replacing All Occurrences of a String in a DataFrame"
      ],
      "metadata": {
        "id": "ZflO_tzdRICM"
      }
    },
    {
      "cell_type": "code",
      "source": [
        "array = np.array([['OK', 'Perfect', 'Acceptable'],\n",
        "                  ['Awful', 'Awful', 'Perfect'],\n",
        "                  ['Acceptable', 'OK', 'Poor']])\n",
        "index_values = [0, 1, 2]\n",
        "column_values = ['Student 1', 'Student 2', 'Student 3']\n",
        "df = pd.DataFrame(data = array, index = index_values, columns = column_values)\n",
        "print(df)"
      ],
      "metadata": {
        "colab": {
          "base_uri": "https://localhost:8080/"
        },
        "id": "B2TujROEQvFz",
        "outputId": "0eb06f03-d9ca-4875-9c9c-2a72a0599510"
      },
      "execution_count": null,
      "outputs": [
        {
          "output_type": "stream",
          "name": "stdout",
          "text": [
            "    Student 1 Student 2   Student 3\n",
            "0          OK   Perfect  Acceptable\n",
            "1       Awful     Awful     Perfect\n",
            "2  Acceptable        OK        Poor\n"
          ]
        }
      ]
    },
    {
      "cell_type": "code",
      "source": [
        "# Study the DataFrame `df` first\n",
        "print(df)\n",
        "\n",
        "# Replace the strings by numerical values (0-4)\n",
        "df.replace(['Awful', 'Poor', 'OK', 'Acceptable', 'Perfect'], [0, 1, 2, 3, 4]) "
      ],
      "metadata": {
        "colab": {
          "base_uri": "https://localhost:8080/",
          "height": 213
        },
        "id": "Gy1LUQOoRtS_",
        "outputId": "ef84464a-e325-4163-f572-38f59341d22d"
      },
      "execution_count": null,
      "outputs": [
        {
          "output_type": "stream",
          "name": "stdout",
          "text": [
            "    Student 1 Student 2   Student 3\n",
            "0          OK   Perfect  Acceptable\n",
            "1       Awful     Awful     Perfect\n",
            "2  Acceptable        OK        Poor\n"
          ]
        },
        {
          "output_type": "execute_result",
          "data": {
            "text/html": [
              "\n",
              "  <div id=\"df-eecb3497-f00b-43b0-a32b-d345522ce758\">\n",
              "    <div class=\"colab-df-container\">\n",
              "      <div>\n",
              "<style scoped>\n",
              "    .dataframe tbody tr th:only-of-type {\n",
              "        vertical-align: middle;\n",
              "    }\n",
              "\n",
              "    .dataframe tbody tr th {\n",
              "        vertical-align: top;\n",
              "    }\n",
              "\n",
              "    .dataframe thead th {\n",
              "        text-align: right;\n",
              "    }\n",
              "</style>\n",
              "<table border=\"1\" class=\"dataframe\">\n",
              "  <thead>\n",
              "    <tr style=\"text-align: right;\">\n",
              "      <th></th>\n",
              "      <th>Student 1</th>\n",
              "      <th>Student 2</th>\n",
              "      <th>Student 3</th>\n",
              "    </tr>\n",
              "  </thead>\n",
              "  <tbody>\n",
              "    <tr>\n",
              "      <th>0</th>\n",
              "      <td>2</td>\n",
              "      <td>4</td>\n",
              "      <td>3</td>\n",
              "    </tr>\n",
              "    <tr>\n",
              "      <th>1</th>\n",
              "      <td>0</td>\n",
              "      <td>0</td>\n",
              "      <td>4</td>\n",
              "    </tr>\n",
              "    <tr>\n",
              "      <th>2</th>\n",
              "      <td>3</td>\n",
              "      <td>2</td>\n",
              "      <td>1</td>\n",
              "    </tr>\n",
              "  </tbody>\n",
              "</table>\n",
              "</div>\n",
              "      <button class=\"colab-df-convert\" onclick=\"convertToInteractive('df-eecb3497-f00b-43b0-a32b-d345522ce758')\"\n",
              "              title=\"Convert this dataframe to an interactive table.\"\n",
              "              style=\"display:none;\">\n",
              "        \n",
              "  <svg xmlns=\"http://www.w3.org/2000/svg\" height=\"24px\"viewBox=\"0 0 24 24\"\n",
              "       width=\"24px\">\n",
              "    <path d=\"M0 0h24v24H0V0z\" fill=\"none\"/>\n",
              "    <path d=\"M18.56 5.44l.94 2.06.94-2.06 2.06-.94-2.06-.94-.94-2.06-.94 2.06-2.06.94zm-11 1L8.5 8.5l.94-2.06 2.06-.94-2.06-.94L8.5 2.5l-.94 2.06-2.06.94zm10 10l.94 2.06.94-2.06 2.06-.94-2.06-.94-.94-2.06-.94 2.06-2.06.94z\"/><path d=\"M17.41 7.96l-1.37-1.37c-.4-.4-.92-.59-1.43-.59-.52 0-1.04.2-1.43.59L10.3 9.45l-7.72 7.72c-.78.78-.78 2.05 0 2.83L4 21.41c.39.39.9.59 1.41.59.51 0 1.02-.2 1.41-.59l7.78-7.78 2.81-2.81c.8-.78.8-2.07 0-2.86zM5.41 20L4 18.59l7.72-7.72 1.47 1.35L5.41 20z\"/>\n",
              "  </svg>\n",
              "      </button>\n",
              "      \n",
              "  <style>\n",
              "    .colab-df-container {\n",
              "      display:flex;\n",
              "      flex-wrap:wrap;\n",
              "      gap: 12px;\n",
              "    }\n",
              "\n",
              "    .colab-df-convert {\n",
              "      background-color: #E8F0FE;\n",
              "      border: none;\n",
              "      border-radius: 50%;\n",
              "      cursor: pointer;\n",
              "      display: none;\n",
              "      fill: #1967D2;\n",
              "      height: 32px;\n",
              "      padding: 0 0 0 0;\n",
              "      width: 32px;\n",
              "    }\n",
              "\n",
              "    .colab-df-convert:hover {\n",
              "      background-color: #E2EBFA;\n",
              "      box-shadow: 0px 1px 2px rgba(60, 64, 67, 0.3), 0px 1px 3px 1px rgba(60, 64, 67, 0.15);\n",
              "      fill: #174EA6;\n",
              "    }\n",
              "\n",
              "    [theme=dark] .colab-df-convert {\n",
              "      background-color: #3B4455;\n",
              "      fill: #D2E3FC;\n",
              "    }\n",
              "\n",
              "    [theme=dark] .colab-df-convert:hover {\n",
              "      background-color: #434B5C;\n",
              "      box-shadow: 0px 1px 3px 1px rgba(0, 0, 0, 0.15);\n",
              "      filter: drop-shadow(0px 1px 2px rgba(0, 0, 0, 0.3));\n",
              "      fill: #FFFFFF;\n",
              "    }\n",
              "  </style>\n",
              "\n",
              "      <script>\n",
              "        const buttonEl =\n",
              "          document.querySelector('#df-eecb3497-f00b-43b0-a32b-d345522ce758 button.colab-df-convert');\n",
              "        buttonEl.style.display =\n",
              "          google.colab.kernel.accessAllowed ? 'block' : 'none';\n",
              "\n",
              "        async function convertToInteractive(key) {\n",
              "          const element = document.querySelector('#df-eecb3497-f00b-43b0-a32b-d345522ce758');\n",
              "          const dataTable =\n",
              "            await google.colab.kernel.invokeFunction('convertToInteractive',\n",
              "                                                     [key], {});\n",
              "          if (!dataTable) return;\n",
              "\n",
              "          const docLinkHtml = 'Like what you see? Visit the ' +\n",
              "            '<a target=\"_blank\" href=https://colab.research.google.com/notebooks/data_table.ipynb>data table notebook</a>'\n",
              "            + ' to learn more about interactive tables.';\n",
              "          element.innerHTML = '';\n",
              "          dataTable['output_type'] = 'display_data';\n",
              "          await google.colab.output.renderOutput(dataTable, element);\n",
              "          const docLink = document.createElement('div');\n",
              "          docLink.innerHTML = docLinkHtml;\n",
              "          element.appendChild(docLink);\n",
              "        }\n",
              "      </script>\n",
              "    </div>\n",
              "  </div>\n",
              "  "
            ],
            "text/plain": [
              "   Student 1  Student 2  Student 3\n",
              "0          2          4          3\n",
              "1          0          0          4\n",
              "2          3          2          1"
            ]
          },
          "metadata": {},
          "execution_count": 71
        }
      ]
    },
    {
      "cell_type": "code",
      "source": [
        "array = np.array([['1\\n', 2, '3\\n'],\n",
        "                  [4, 5, '6\\n'],\n",
        "                  [7, '8\\n', 9]])\n",
        "index_values = [0, 1, 2]\n",
        "column_values = [0, 1, 2]\n",
        "df = pd.DataFrame(data = array, index = index_values, columns = column_values)\n",
        "print(df)"
      ],
      "metadata": {
        "colab": {
          "base_uri": "https://localhost:8080/"
        },
        "id": "7NIwjykDTneW",
        "outputId": "21c69165-806a-409c-f2bb-29dad10385a3"
      },
      "execution_count": null,
      "outputs": [
        {
          "output_type": "stream",
          "name": "stdout",
          "text": [
            "     0    1    2\n",
            "0  1\\n    2  3\\n\n",
            "1    4    5  6\\n\n",
            "2    7  8\\n    9\n"
          ]
        }
      ]
    },
    {
      "cell_type": "code",
      "source": [
        "# Check out your DataFrame `df`\n",
        "print(df)\n",
        "# Replace strings by others with `regex`\n",
        "# df.replace({'\\n': '<br>'}, regex=True)\n",
        "df.replace({'\\n':'<br>'}, regex=True)"
      ],
      "metadata": {
        "colab": {
          "base_uri": "https://localhost:8080/",
          "height": 213
        },
        "id": "xi9SIhSDR4bL",
        "outputId": "0bfa6dc0-0f19-48a4-a008-78d304abac6a"
      },
      "execution_count": null,
      "outputs": [
        {
          "output_type": "stream",
          "name": "stdout",
          "text": [
            "     0    1    2\n",
            "0  1\\n    2  3\\n\n",
            "1    4    5  6\\n\n",
            "2    7  8\\n    9\n"
          ]
        },
        {
          "output_type": "execute_result",
          "data": {
            "text/html": [
              "\n",
              "  <div id=\"df-9172b13a-e1ed-49bc-a000-6390dea7cab2\">\n",
              "    <div class=\"colab-df-container\">\n",
              "      <div>\n",
              "<style scoped>\n",
              "    .dataframe tbody tr th:only-of-type {\n",
              "        vertical-align: middle;\n",
              "    }\n",
              "\n",
              "    .dataframe tbody tr th {\n",
              "        vertical-align: top;\n",
              "    }\n",
              "\n",
              "    .dataframe thead th {\n",
              "        text-align: right;\n",
              "    }\n",
              "</style>\n",
              "<table border=\"1\" class=\"dataframe\">\n",
              "  <thead>\n",
              "    <tr style=\"text-align: right;\">\n",
              "      <th></th>\n",
              "      <th>0</th>\n",
              "      <th>1</th>\n",
              "      <th>2</th>\n",
              "    </tr>\n",
              "  </thead>\n",
              "  <tbody>\n",
              "    <tr>\n",
              "      <th>0</th>\n",
              "      <td>1&lt;br&gt;</td>\n",
              "      <td>2</td>\n",
              "      <td>3&lt;br&gt;</td>\n",
              "    </tr>\n",
              "    <tr>\n",
              "      <th>1</th>\n",
              "      <td>4</td>\n",
              "      <td>5</td>\n",
              "      <td>6&lt;br&gt;</td>\n",
              "    </tr>\n",
              "    <tr>\n",
              "      <th>2</th>\n",
              "      <td>7</td>\n",
              "      <td>8&lt;br&gt;</td>\n",
              "      <td>9</td>\n",
              "    </tr>\n",
              "  </tbody>\n",
              "</table>\n",
              "</div>\n",
              "      <button class=\"colab-df-convert\" onclick=\"convertToInteractive('df-9172b13a-e1ed-49bc-a000-6390dea7cab2')\"\n",
              "              title=\"Convert this dataframe to an interactive table.\"\n",
              "              style=\"display:none;\">\n",
              "        \n",
              "  <svg xmlns=\"http://www.w3.org/2000/svg\" height=\"24px\"viewBox=\"0 0 24 24\"\n",
              "       width=\"24px\">\n",
              "    <path d=\"M0 0h24v24H0V0z\" fill=\"none\"/>\n",
              "    <path d=\"M18.56 5.44l.94 2.06.94-2.06 2.06-.94-2.06-.94-.94-2.06-.94 2.06-2.06.94zm-11 1L8.5 8.5l.94-2.06 2.06-.94-2.06-.94L8.5 2.5l-.94 2.06-2.06.94zm10 10l.94 2.06.94-2.06 2.06-.94-2.06-.94-.94-2.06-.94 2.06-2.06.94z\"/><path d=\"M17.41 7.96l-1.37-1.37c-.4-.4-.92-.59-1.43-.59-.52 0-1.04.2-1.43.59L10.3 9.45l-7.72 7.72c-.78.78-.78 2.05 0 2.83L4 21.41c.39.39.9.59 1.41.59.51 0 1.02-.2 1.41-.59l7.78-7.78 2.81-2.81c.8-.78.8-2.07 0-2.86zM5.41 20L4 18.59l7.72-7.72 1.47 1.35L5.41 20z\"/>\n",
              "  </svg>\n",
              "      </button>\n",
              "      \n",
              "  <style>\n",
              "    .colab-df-container {\n",
              "      display:flex;\n",
              "      flex-wrap:wrap;\n",
              "      gap: 12px;\n",
              "    }\n",
              "\n",
              "    .colab-df-convert {\n",
              "      background-color: #E8F0FE;\n",
              "      border: none;\n",
              "      border-radius: 50%;\n",
              "      cursor: pointer;\n",
              "      display: none;\n",
              "      fill: #1967D2;\n",
              "      height: 32px;\n",
              "      padding: 0 0 0 0;\n",
              "      width: 32px;\n",
              "    }\n",
              "\n",
              "    .colab-df-convert:hover {\n",
              "      background-color: #E2EBFA;\n",
              "      box-shadow: 0px 1px 2px rgba(60, 64, 67, 0.3), 0px 1px 3px 1px rgba(60, 64, 67, 0.15);\n",
              "      fill: #174EA6;\n",
              "    }\n",
              "\n",
              "    [theme=dark] .colab-df-convert {\n",
              "      background-color: #3B4455;\n",
              "      fill: #D2E3FC;\n",
              "    }\n",
              "\n",
              "    [theme=dark] .colab-df-convert:hover {\n",
              "      background-color: #434B5C;\n",
              "      box-shadow: 0px 1px 3px 1px rgba(0, 0, 0, 0.15);\n",
              "      filter: drop-shadow(0px 1px 2px rgba(0, 0, 0, 0.3));\n",
              "      fill: #FFFFFF;\n",
              "    }\n",
              "  </style>\n",
              "\n",
              "      <script>\n",
              "        const buttonEl =\n",
              "          document.querySelector('#df-9172b13a-e1ed-49bc-a000-6390dea7cab2 button.colab-df-convert');\n",
              "        buttonEl.style.display =\n",
              "          google.colab.kernel.accessAllowed ? 'block' : 'none';\n",
              "\n",
              "        async function convertToInteractive(key) {\n",
              "          const element = document.querySelector('#df-9172b13a-e1ed-49bc-a000-6390dea7cab2');\n",
              "          const dataTable =\n",
              "            await google.colab.kernel.invokeFunction('convertToInteractive',\n",
              "                                                     [key], {});\n",
              "          if (!dataTable) return;\n",
              "\n",
              "          const docLinkHtml = 'Like what you see? Visit the ' +\n",
              "            '<a target=\"_blank\" href=https://colab.research.google.com/notebooks/data_table.ipynb>data table notebook</a>'\n",
              "            + ' to learn more about interactive tables.';\n",
              "          element.innerHTML = '';\n",
              "          dataTable['output_type'] = 'display_data';\n",
              "          await google.colab.output.renderOutput(dataTable, element);\n",
              "          const docLink = document.createElement('div');\n",
              "          docLink.innerHTML = docLinkHtml;\n",
              "          element.appendChild(docLink);\n",
              "        }\n",
              "      </script>\n",
              "    </div>\n",
              "  </div>\n",
              "  "
            ],
            "text/plain": [
              "       0      1      2\n",
              "0  1<br>      2  3<br>\n",
              "1      4      5  6<br>\n",
              "2      7  8<br>      9"
            ]
          },
          "metadata": {},
          "execution_count": 20
        }
      ]
    },
    {
      "cell_type": "markdown",
      "source": [
        "Removing Parts From Strings in the Cells of Your DataFrame"
      ],
      "metadata": {
        "id": "m4jvR2qagXfW"
      }
    },
    {
      "cell_type": "code",
      "source": [
        "array = np.array([[1, 2, '+3b'],\n",
        "                  [4, 5, '-6B'],\n",
        "                  [7, 8, '+9A']])\n",
        "index_values = [0, 1, 2]\n",
        "column_values = ['Class', 'Test', 'Result']\n",
        "df = pd.DataFrame(data = array, index = index_values, columns = column_values)\n",
        "print(df)"
      ],
      "metadata": {
        "colab": {
          "base_uri": "https://localhost:8080/"
        },
        "id": "wTGgil0bgmKZ",
        "outputId": "7c88c6f2-94b2-41f1-8a6f-ff0d194949e8"
      },
      "execution_count": null,
      "outputs": [
        {
          "output_type": "stream",
          "name": "stdout",
          "text": [
            "  Class Test Result\n",
            "0     1    2    +3b\n",
            "1     4    5    -6B\n",
            "2     7    8    +9A\n"
          ]
        }
      ]
    },
    {
      "cell_type": "code",
      "source": [
        "# Check out your DataFrame\n",
        "print(df)\n",
        "\n",
        "# Delete unwanted parts from the strings in the `result` column\n",
        "df['Result'] = df['Result'].map(lambda x: x.lstrip('+-').rstrip('aAbBcC'))\n",
        "\n",
        "# Check out the result again\n",
        "df"
      ],
      "metadata": {
        "colab": {
          "base_uri": "https://localhost:8080/",
          "height": 213
        },
        "id": "LPqbbHApTOgk",
        "outputId": "6455558e-ec7c-42ea-c87a-f1d4b478c401"
      },
      "execution_count": null,
      "outputs": [
        {
          "output_type": "stream",
          "name": "stdout",
          "text": [
            "  Class Test Result\n",
            "0     1    2    +3b\n",
            "1     4    5    -6B\n",
            "2     7    8    +9A\n"
          ]
        },
        {
          "output_type": "execute_result",
          "data": {
            "text/html": [
              "\n",
              "  <div id=\"df-df709b7e-0584-4d51-b1ed-616b89550602\">\n",
              "    <div class=\"colab-df-container\">\n",
              "      <div>\n",
              "<style scoped>\n",
              "    .dataframe tbody tr th:only-of-type {\n",
              "        vertical-align: middle;\n",
              "    }\n",
              "\n",
              "    .dataframe tbody tr th {\n",
              "        vertical-align: top;\n",
              "    }\n",
              "\n",
              "    .dataframe thead th {\n",
              "        text-align: right;\n",
              "    }\n",
              "</style>\n",
              "<table border=\"1\" class=\"dataframe\">\n",
              "  <thead>\n",
              "    <tr style=\"text-align: right;\">\n",
              "      <th></th>\n",
              "      <th>Class</th>\n",
              "      <th>Test</th>\n",
              "      <th>Result</th>\n",
              "    </tr>\n",
              "  </thead>\n",
              "  <tbody>\n",
              "    <tr>\n",
              "      <th>0</th>\n",
              "      <td>1</td>\n",
              "      <td>2</td>\n",
              "      <td>3</td>\n",
              "    </tr>\n",
              "    <tr>\n",
              "      <th>1</th>\n",
              "      <td>4</td>\n",
              "      <td>5</td>\n",
              "      <td>6</td>\n",
              "    </tr>\n",
              "    <tr>\n",
              "      <th>2</th>\n",
              "      <td>7</td>\n",
              "      <td>8</td>\n",
              "      <td>9</td>\n",
              "    </tr>\n",
              "  </tbody>\n",
              "</table>\n",
              "</div>\n",
              "      <button class=\"colab-df-convert\" onclick=\"convertToInteractive('df-df709b7e-0584-4d51-b1ed-616b89550602')\"\n",
              "              title=\"Convert this dataframe to an interactive table.\"\n",
              "              style=\"display:none;\">\n",
              "        \n",
              "  <svg xmlns=\"http://www.w3.org/2000/svg\" height=\"24px\"viewBox=\"0 0 24 24\"\n",
              "       width=\"24px\">\n",
              "    <path d=\"M0 0h24v24H0V0z\" fill=\"none\"/>\n",
              "    <path d=\"M18.56 5.44l.94 2.06.94-2.06 2.06-.94-2.06-.94-.94-2.06-.94 2.06-2.06.94zm-11 1L8.5 8.5l.94-2.06 2.06-.94-2.06-.94L8.5 2.5l-.94 2.06-2.06.94zm10 10l.94 2.06.94-2.06 2.06-.94-2.06-.94-.94-2.06-.94 2.06-2.06.94z\"/><path d=\"M17.41 7.96l-1.37-1.37c-.4-.4-.92-.59-1.43-.59-.52 0-1.04.2-1.43.59L10.3 9.45l-7.72 7.72c-.78.78-.78 2.05 0 2.83L4 21.41c.39.39.9.59 1.41.59.51 0 1.02-.2 1.41-.59l7.78-7.78 2.81-2.81c.8-.78.8-2.07 0-2.86zM5.41 20L4 18.59l7.72-7.72 1.47 1.35L5.41 20z\"/>\n",
              "  </svg>\n",
              "      </button>\n",
              "      \n",
              "  <style>\n",
              "    .colab-df-container {\n",
              "      display:flex;\n",
              "      flex-wrap:wrap;\n",
              "      gap: 12px;\n",
              "    }\n",
              "\n",
              "    .colab-df-convert {\n",
              "      background-color: #E8F0FE;\n",
              "      border: none;\n",
              "      border-radius: 50%;\n",
              "      cursor: pointer;\n",
              "      display: none;\n",
              "      fill: #1967D2;\n",
              "      height: 32px;\n",
              "      padding: 0 0 0 0;\n",
              "      width: 32px;\n",
              "    }\n",
              "\n",
              "    .colab-df-convert:hover {\n",
              "      background-color: #E2EBFA;\n",
              "      box-shadow: 0px 1px 2px rgba(60, 64, 67, 0.3), 0px 1px 3px 1px rgba(60, 64, 67, 0.15);\n",
              "      fill: #174EA6;\n",
              "    }\n",
              "\n",
              "    [theme=dark] .colab-df-convert {\n",
              "      background-color: #3B4455;\n",
              "      fill: #D2E3FC;\n",
              "    }\n",
              "\n",
              "    [theme=dark] .colab-df-convert:hover {\n",
              "      background-color: #434B5C;\n",
              "      box-shadow: 0px 1px 3px 1px rgba(0, 0, 0, 0.15);\n",
              "      filter: drop-shadow(0px 1px 2px rgba(0, 0, 0, 0.3));\n",
              "      fill: #FFFFFF;\n",
              "    }\n",
              "  </style>\n",
              "\n",
              "      <script>\n",
              "        const buttonEl =\n",
              "          document.querySelector('#df-df709b7e-0584-4d51-b1ed-616b89550602 button.colab-df-convert');\n",
              "        buttonEl.style.display =\n",
              "          google.colab.kernel.accessAllowed ? 'block' : 'none';\n",
              "\n",
              "        async function convertToInteractive(key) {\n",
              "          const element = document.querySelector('#df-df709b7e-0584-4d51-b1ed-616b89550602');\n",
              "          const dataTable =\n",
              "            await google.colab.kernel.invokeFunction('convertToInteractive',\n",
              "                                                     [key], {});\n",
              "          if (!dataTable) return;\n",
              "\n",
              "          const docLinkHtml = 'Like what you see? Visit the ' +\n",
              "            '<a target=\"_blank\" href=https://colab.research.google.com/notebooks/data_table.ipynb>data table notebook</a>'\n",
              "            + ' to learn more about interactive tables.';\n",
              "          element.innerHTML = '';\n",
              "          dataTable['output_type'] = 'display_data';\n",
              "          await google.colab.output.renderOutput(dataTable, element);\n",
              "          const docLink = document.createElement('div');\n",
              "          docLink.innerHTML = docLinkHtml;\n",
              "          element.appendChild(docLink);\n",
              "        }\n",
              "      </script>\n",
              "    </div>\n",
              "  </div>\n",
              "  "
            ],
            "text/plain": [
              "  Class Test Result\n",
              "0     1    2      3\n",
              "1     4    5      6\n",
              "2     7    8      9"
            ]
          },
          "metadata": {},
          "execution_count": 83
        }
      ]
    },
    {
      "cell_type": "markdown",
      "source": [
        "Splitting Text in a Column into Multiple Rows in a DataFrame"
      ],
      "metadata": {
        "id": "DVSiUYPshi-5"
      }
    },
    {
      "cell_type": "code",
      "source": [
        "array = np.array([[34, 0, '23:44:55'],\n",
        "                  [22, 0, '66:77:88'],\n",
        "                  [19, 1, '43:68:05 56:34:12']])\n",
        "column_values = ['Age', 'PlusOne', 'Ticket']\n",
        "df = pd.DataFrame(data = array, columns = column_values)\n",
        "print(df)"
      ],
      "metadata": {
        "colab": {
          "base_uri": "https://localhost:8080/"
        },
        "id": "DEoaVr1MiCr2",
        "outputId": "9609cd30-8775-44de-b63b-e191f69f9528"
      },
      "execution_count": null,
      "outputs": [
        {
          "output_type": "stream",
          "name": "stdout",
          "text": [
            "  Age PlusOne             Ticket\n",
            "0  34       0           23:44:55\n",
            "1  22       0           66:77:88\n",
            "2  19       1  43:68:05 56:34:12\n"
          ]
        }
      ]
    },
    {
      "cell_type": "code",
      "source": [
        "# Inspect your DataFrame `df`\n",
        "print(df)\n",
        "\n",
        "# Split out the two values in the third row\n",
        "# Make it a Series\n",
        "# Stack the values\n",
        "ticket_series = df['Ticket'].str.split(' ').apply(pd.Series, 1).stack()\n",
        "\n",
        "# Get rid of the stack:\n",
        "# Drop the level to line up with the DataFrame\n",
        "ticket_series.index = ticket_series.index.droplevel(-1)\n",
        "\n",
        "# Make your `ticket_series` a dataframe \n",
        "ticketdf = pd.DataFrame(ticket_series)\n",
        "\n",
        "# Delete the `Ticket` column from your DataFrame\n",
        "del df['Ticket']\n",
        "\n",
        "# Join the `ticketdf` DataFrame to `df`\n",
        "df.join(ticketdf)\n",
        "\n",
        "# Check out the new `df`\n",
        "df"
      ],
      "metadata": {
        "colab": {
          "base_uri": "https://localhost:8080/",
          "height": 213
        },
        "id": "DcAP1CfGgeiS",
        "outputId": "578a954c-d244-4fbd-c75b-e74508b31eba"
      },
      "execution_count": null,
      "outputs": [
        {
          "output_type": "stream",
          "name": "stdout",
          "text": [
            "  Age PlusOne             Ticket\n",
            "0  34       0           23:44:55\n",
            "1  22       0           66:77:88\n",
            "2  19       1  43:68:05 56:34:12\n"
          ]
        },
        {
          "output_type": "execute_result",
          "data": {
            "text/html": [
              "\n",
              "  <div id=\"df-99a402f9-d149-474e-abae-0e3d15392c8e\">\n",
              "    <div class=\"colab-df-container\">\n",
              "      <div>\n",
              "<style scoped>\n",
              "    .dataframe tbody tr th:only-of-type {\n",
              "        vertical-align: middle;\n",
              "    }\n",
              "\n",
              "    .dataframe tbody tr th {\n",
              "        vertical-align: top;\n",
              "    }\n",
              "\n",
              "    .dataframe thead th {\n",
              "        text-align: right;\n",
              "    }\n",
              "</style>\n",
              "<table border=\"1\" class=\"dataframe\">\n",
              "  <thead>\n",
              "    <tr style=\"text-align: right;\">\n",
              "      <th></th>\n",
              "      <th>Age</th>\n",
              "      <th>PlusOne</th>\n",
              "    </tr>\n",
              "  </thead>\n",
              "  <tbody>\n",
              "    <tr>\n",
              "      <th>0</th>\n",
              "      <td>34</td>\n",
              "      <td>0</td>\n",
              "    </tr>\n",
              "    <tr>\n",
              "      <th>1</th>\n",
              "      <td>22</td>\n",
              "      <td>0</td>\n",
              "    </tr>\n",
              "    <tr>\n",
              "      <th>2</th>\n",
              "      <td>19</td>\n",
              "      <td>1</td>\n",
              "    </tr>\n",
              "  </tbody>\n",
              "</table>\n",
              "</div>\n",
              "      <button class=\"colab-df-convert\" onclick=\"convertToInteractive('df-99a402f9-d149-474e-abae-0e3d15392c8e')\"\n",
              "              title=\"Convert this dataframe to an interactive table.\"\n",
              "              style=\"display:none;\">\n",
              "        \n",
              "  <svg xmlns=\"http://www.w3.org/2000/svg\" height=\"24px\"viewBox=\"0 0 24 24\"\n",
              "       width=\"24px\">\n",
              "    <path d=\"M0 0h24v24H0V0z\" fill=\"none\"/>\n",
              "    <path d=\"M18.56 5.44l.94 2.06.94-2.06 2.06-.94-2.06-.94-.94-2.06-.94 2.06-2.06.94zm-11 1L8.5 8.5l.94-2.06 2.06-.94-2.06-.94L8.5 2.5l-.94 2.06-2.06.94zm10 10l.94 2.06.94-2.06 2.06-.94-2.06-.94-.94-2.06-.94 2.06-2.06.94z\"/><path d=\"M17.41 7.96l-1.37-1.37c-.4-.4-.92-.59-1.43-.59-.52 0-1.04.2-1.43.59L10.3 9.45l-7.72 7.72c-.78.78-.78 2.05 0 2.83L4 21.41c.39.39.9.59 1.41.59.51 0 1.02-.2 1.41-.59l7.78-7.78 2.81-2.81c.8-.78.8-2.07 0-2.86zM5.41 20L4 18.59l7.72-7.72 1.47 1.35L5.41 20z\"/>\n",
              "  </svg>\n",
              "      </button>\n",
              "      \n",
              "  <style>\n",
              "    .colab-df-container {\n",
              "      display:flex;\n",
              "      flex-wrap:wrap;\n",
              "      gap: 12px;\n",
              "    }\n",
              "\n",
              "    .colab-df-convert {\n",
              "      background-color: #E8F0FE;\n",
              "      border: none;\n",
              "      border-radius: 50%;\n",
              "      cursor: pointer;\n",
              "      display: none;\n",
              "      fill: #1967D2;\n",
              "      height: 32px;\n",
              "      padding: 0 0 0 0;\n",
              "      width: 32px;\n",
              "    }\n",
              "\n",
              "    .colab-df-convert:hover {\n",
              "      background-color: #E2EBFA;\n",
              "      box-shadow: 0px 1px 2px rgba(60, 64, 67, 0.3), 0px 1px 3px 1px rgba(60, 64, 67, 0.15);\n",
              "      fill: #174EA6;\n",
              "    }\n",
              "\n",
              "    [theme=dark] .colab-df-convert {\n",
              "      background-color: #3B4455;\n",
              "      fill: #D2E3FC;\n",
              "    }\n",
              "\n",
              "    [theme=dark] .colab-df-convert:hover {\n",
              "      background-color: #434B5C;\n",
              "      box-shadow: 0px 1px 3px 1px rgba(0, 0, 0, 0.15);\n",
              "      filter: drop-shadow(0px 1px 2px rgba(0, 0, 0, 0.3));\n",
              "      fill: #FFFFFF;\n",
              "    }\n",
              "  </style>\n",
              "\n",
              "      <script>\n",
              "        const buttonEl =\n",
              "          document.querySelector('#df-99a402f9-d149-474e-abae-0e3d15392c8e button.colab-df-convert');\n",
              "        buttonEl.style.display =\n",
              "          google.colab.kernel.accessAllowed ? 'block' : 'none';\n",
              "\n",
              "        async function convertToInteractive(key) {\n",
              "          const element = document.querySelector('#df-99a402f9-d149-474e-abae-0e3d15392c8e');\n",
              "          const dataTable =\n",
              "            await google.colab.kernel.invokeFunction('convertToInteractive',\n",
              "                                                     [key], {});\n",
              "          if (!dataTable) return;\n",
              "\n",
              "          const docLinkHtml = 'Like what you see? Visit the ' +\n",
              "            '<a target=\"_blank\" href=https://colab.research.google.com/notebooks/data_table.ipynb>data table notebook</a>'\n",
              "            + ' to learn more about interactive tables.';\n",
              "          element.innerHTML = '';\n",
              "          dataTable['output_type'] = 'display_data';\n",
              "          await google.colab.output.renderOutput(dataTable, element);\n",
              "          const docLink = document.createElement('div');\n",
              "          docLink.innerHTML = docLinkHtml;\n",
              "          element.appendChild(docLink);\n",
              "        }\n",
              "      </script>\n",
              "    </div>\n",
              "  </div>\n",
              "  "
            ],
            "text/plain": [
              "  Age PlusOne\n",
              "0  34       0\n",
              "1  22       0\n",
              "2  19       1"
            ]
          },
          "metadata": {},
          "execution_count": 28
        }
      ]
    },
    {
      "cell_type": "markdown",
      "source": [
        "Applying A Function to Your Pandas DataFrame’s Columns or Rows"
      ],
      "metadata": {
        "id": "fT4cJ4wrjRp7"
      }
    },
    {
      "cell_type": "code",
      "source": [
        "doubler = lambda x: x*2"
      ],
      "metadata": {
        "id": "i5D2AakUiiv3"
      },
      "execution_count": null,
      "outputs": []
    },
    {
      "cell_type": "code",
      "source": [
        "array = np.array([[1, 2, 3],\n",
        "                  [4, 5, 6],\n",
        "                  [7, 8, 9]])\n",
        "index_values = [0, 1, 2]\n",
        "column_values = ['A', 'B', 'C']\n",
        "df = pd.DataFrame(data = array, index = index_values, columns = column_values)\n",
        "print(df)"
      ],
      "metadata": {
        "colab": {
          "base_uri": "https://localhost:8080/"
        },
        "id": "geG9nkS4jlfl",
        "outputId": "36789ff6-147c-4e2c-fd66-6a77e30b4488"
      },
      "execution_count": null,
      "outputs": [
        {
          "output_type": "stream",
          "name": "stdout",
          "text": [
            "   A  B  C\n",
            "0  1  2  3\n",
            "1  4  5  6\n",
            "2  7  8  9\n"
          ]
        }
      ]
    },
    {
      "cell_type": "code",
      "source": [
        "# Study the `df` DataFrame\n",
        "\n",
        "# Apply the `doubler` function to the `A` DataFrame column\n",
        "df['A'].apply(doubler)\n",
        "print(df)"
      ],
      "metadata": {
        "colab": {
          "base_uri": "https://localhost:8080/"
        },
        "id": "rPMJlXzTjyK_",
        "outputId": "e7ead411-ebe1-4e3d-fdf3-b6f14787a678"
      },
      "execution_count": null,
      "outputs": [
        {
          "output_type": "stream",
          "name": "stdout",
          "text": [
            "   A  B  C\n",
            "0  1  2  3\n",
            "1  4  5  6\n",
            "2  7  8  9\n"
          ]
        }
      ]
    },
    {
      "cell_type": "code",
      "source": [
        "doubled_df = df.applymap(doubler)\n",
        "print(doubled_df)\n",
        "# It doubles each element in the dataframe"
      ],
      "metadata": {
        "colab": {
          "base_uri": "https://localhost:8080/"
        },
        "id": "SLZJy8-ej0OM",
        "outputId": "1ae20fa1-5d34-481e-f51e-b957d7860c3f"
      },
      "execution_count": null,
      "outputs": [
        {
          "output_type": "stream",
          "name": "stdout",
          "text": [
            "    A   B   C\n",
            "0   2   4   6\n",
            "1   8  10  12\n",
            "2  14  16  18\n"
          ]
        }
      ]
    },
    {
      "cell_type": "code",
      "source": [
        "# Creating our own function for doubling\n",
        "def doubler(x):\n",
        "    if x % 2 == 0:\n",
        "        return x\n",
        "    else:\n",
        "        return x * 2\n",
        "\n",
        "# Use `applymap()` to apply `doubler()` to your DataFrame\n",
        "doubled_df = df.applymap(doubler)\n",
        "\n",
        "# Check the DataFrame\n",
        "print(doubled_df)"
      ],
      "metadata": {
        "colab": {
          "base_uri": "https://localhost:8080/"
        },
        "id": "agncN6DzlUNd",
        "outputId": "15d222f4-9e02-4140-853b-6ec30f77de8a"
      },
      "execution_count": null,
      "outputs": [
        {
          "output_type": "stream",
          "name": "stdout",
          "text": [
            "    A   B   C\n",
            "0   2   2   6\n",
            "1   4  10   6\n",
            "2  14   8  18\n"
          ]
        }
      ]
    },
    {
      "cell_type": "markdown",
      "source": [
        "7. How To Create an Empty DataFrame"
      ],
      "metadata": {
        "id": "FEXTUdDmlrSn"
      }
    },
    {
      "cell_type": "code",
      "source": [
        "df = pd.DataFrame(np.nan, index=[0,1,2,3], columns=['A'])\n",
        "print(df)\n",
        "# converts all elements of column A to NaN : Not a Number"
      ],
      "metadata": {
        "colab": {
          "base_uri": "https://localhost:8080/"
        },
        "id": "5jGXaVlMlmUc",
        "outputId": "f5da1c99-8bc7-4f1f-910b-7a805bccd16e"
      },
      "execution_count": null,
      "outputs": [
        {
          "output_type": "stream",
          "name": "stdout",
          "text": [
            "    A\n",
            "0 NaN\n",
            "1 NaN\n",
            "2 NaN\n",
            "3 NaN\n"
          ]
        }
      ]
    },
    {
      "cell_type": "code",
      "source": [
        "df = pd.DataFrame(index=range(0,4),columns=['A'], dtype='float')\n",
        "print(df)\n",
        "# Converting data to a specified datatype\n",
        "print(df.shape)\n",
        "type(df)"
      ],
      "metadata": {
        "colab": {
          "base_uri": "https://localhost:8080/"
        },
        "id": "PHzacpAJlzL-",
        "outputId": "59b85dc5-5ac2-4d92-95ab-2b0451f25e55"
      },
      "execution_count": null,
      "outputs": [
        {
          "output_type": "stream",
          "name": "stdout",
          "text": [
            "    A\n",
            "0 NaN\n",
            "1 NaN\n",
            "2 NaN\n",
            "3 NaN\n",
            "(4, 1)\n"
          ]
        },
        {
          "output_type": "execute_result",
          "data": {
            "text/plain": [
              "pandas.core.frame.DataFrame"
            ]
          },
          "metadata": {},
          "execution_count": 101
        }
      ]
    },
    {
      "cell_type": "markdown",
      "source": [
        "**8. Does Pandas Recognize Dates When Importing Data?**"
      ],
      "metadata": {
        "id": "mb1YKxr5m0h1"
      }
    },
    {
      "cell_type": "code",
      "source": [
        "pd.read_csv('/content/news_decline.csv', parse_dates=True)"
      ],
      "metadata": {
        "colab": {
          "base_uri": "https://localhost:8080/",
          "height": 238
        },
        "id": "hlklQzfVmKQT",
        "outputId": "5d90fb4a-d3e7-4e23-cf49-cbd8666e8bde"
      },
      "execution_count": null,
      "outputs": [
        {
          "output_type": "execute_result",
          "data": {
            "text/html": [
              "\n",
              "  <div id=\"df-14e98c3e-d860-44d3-9756-ca652cd9723a\">\n",
              "    <div class=\"colab-df-container\">\n",
              "      <div>\n",
              "<style scoped>\n",
              "    .dataframe tbody tr th:only-of-type {\n",
              "        vertical-align: middle;\n",
              "    }\n",
              "\n",
              "    .dataframe tbody tr th {\n",
              "        vertical-align: top;\n",
              "    }\n",
              "\n",
              "    .dataframe thead th {\n",
              "        text-align: right;\n",
              "    }\n",
              "</style>\n",
              "<table border=\"1\" class=\"dataframe\">\n",
              "  <thead>\n",
              "    <tr style=\"text-align: right;\">\n",
              "      <th></th>\n",
              "      <th>Show</th>\n",
              "      <th>\"2009\"</th>\n",
              "      <th>\"2010\"</th>\n",
              "      <th>\"2011\"</th>\n",
              "      <th>Date</th>\n",
              "    </tr>\n",
              "  </thead>\n",
              "  <tbody>\n",
              "    <tr>\n",
              "      <th>0</th>\n",
              "      <td>60 Minutes</td>\n",
              "      <td>7.6</td>\n",
              "      <td>7.4</td>\n",
              "      <td>7.3</td>\n",
              "      <td>01-12-2020</td>\n",
              "    </tr>\n",
              "    <tr>\n",
              "      <th>1</th>\n",
              "      <td>48 Hours Mystery</td>\n",
              "      <td>4.1</td>\n",
              "      <td>3.9</td>\n",
              "      <td>3.6</td>\n",
              "      <td>02-12-2020</td>\n",
              "    </tr>\n",
              "    <tr>\n",
              "      <th>2</th>\n",
              "      <td>20/20</td>\n",
              "      <td>4.1</td>\n",
              "      <td>3.7</td>\n",
              "      <td>3.3</td>\n",
              "      <td>03-12-2020</td>\n",
              "    </tr>\n",
              "    <tr>\n",
              "      <th>3</th>\n",
              "      <td>Nightline</td>\n",
              "      <td>2.7</td>\n",
              "      <td>2.6</td>\n",
              "      <td>2.7</td>\n",
              "      <td>04-12-2020</td>\n",
              "    </tr>\n",
              "    <tr>\n",
              "      <th>4</th>\n",
              "      <td>Dateline Friday</td>\n",
              "      <td>4.1</td>\n",
              "      <td>4.1</td>\n",
              "      <td>3.9</td>\n",
              "      <td>05-12-2020</td>\n",
              "    </tr>\n",
              "    <tr>\n",
              "      <th>5</th>\n",
              "      <td>Dateline Sunday</td>\n",
              "      <td>3.5</td>\n",
              "      <td>3.2</td>\n",
              "      <td>3.1</td>\n",
              "      <td>06-12-2020</td>\n",
              "    </tr>\n",
              "  </tbody>\n",
              "</table>\n",
              "</div>\n",
              "      <button class=\"colab-df-convert\" onclick=\"convertToInteractive('df-14e98c3e-d860-44d3-9756-ca652cd9723a')\"\n",
              "              title=\"Convert this dataframe to an interactive table.\"\n",
              "              style=\"display:none;\">\n",
              "        \n",
              "  <svg xmlns=\"http://www.w3.org/2000/svg\" height=\"24px\"viewBox=\"0 0 24 24\"\n",
              "       width=\"24px\">\n",
              "    <path d=\"M0 0h24v24H0V0z\" fill=\"none\"/>\n",
              "    <path d=\"M18.56 5.44l.94 2.06.94-2.06 2.06-.94-2.06-.94-.94-2.06-.94 2.06-2.06.94zm-11 1L8.5 8.5l.94-2.06 2.06-.94-2.06-.94L8.5 2.5l-.94 2.06-2.06.94zm10 10l.94 2.06.94-2.06 2.06-.94-2.06-.94-.94-2.06-.94 2.06-2.06.94z\"/><path d=\"M17.41 7.96l-1.37-1.37c-.4-.4-.92-.59-1.43-.59-.52 0-1.04.2-1.43.59L10.3 9.45l-7.72 7.72c-.78.78-.78 2.05 0 2.83L4 21.41c.39.39.9.59 1.41.59.51 0 1.02-.2 1.41-.59l7.78-7.78 2.81-2.81c.8-.78.8-2.07 0-2.86zM5.41 20L4 18.59l7.72-7.72 1.47 1.35L5.41 20z\"/>\n",
              "  </svg>\n",
              "      </button>\n",
              "      \n",
              "  <style>\n",
              "    .colab-df-container {\n",
              "      display:flex;\n",
              "      flex-wrap:wrap;\n",
              "      gap: 12px;\n",
              "    }\n",
              "\n",
              "    .colab-df-convert {\n",
              "      background-color: #E8F0FE;\n",
              "      border: none;\n",
              "      border-radius: 50%;\n",
              "      cursor: pointer;\n",
              "      display: none;\n",
              "      fill: #1967D2;\n",
              "      height: 32px;\n",
              "      padding: 0 0 0 0;\n",
              "      width: 32px;\n",
              "    }\n",
              "\n",
              "    .colab-df-convert:hover {\n",
              "      background-color: #E2EBFA;\n",
              "      box-shadow: 0px 1px 2px rgba(60, 64, 67, 0.3), 0px 1px 3px 1px rgba(60, 64, 67, 0.15);\n",
              "      fill: #174EA6;\n",
              "    }\n",
              "\n",
              "    [theme=dark] .colab-df-convert {\n",
              "      background-color: #3B4455;\n",
              "      fill: #D2E3FC;\n",
              "    }\n",
              "\n",
              "    [theme=dark] .colab-df-convert:hover {\n",
              "      background-color: #434B5C;\n",
              "      box-shadow: 0px 1px 3px 1px rgba(0, 0, 0, 0.15);\n",
              "      filter: drop-shadow(0px 1px 2px rgba(0, 0, 0, 0.3));\n",
              "      fill: #FFFFFF;\n",
              "    }\n",
              "  </style>\n",
              "\n",
              "      <script>\n",
              "        const buttonEl =\n",
              "          document.querySelector('#df-14e98c3e-d860-44d3-9756-ca652cd9723a button.colab-df-convert');\n",
              "        buttonEl.style.display =\n",
              "          google.colab.kernel.accessAllowed ? 'block' : 'none';\n",
              "\n",
              "        async function convertToInteractive(key) {\n",
              "          const element = document.querySelector('#df-14e98c3e-d860-44d3-9756-ca652cd9723a');\n",
              "          const dataTable =\n",
              "            await google.colab.kernel.invokeFunction('convertToInteractive',\n",
              "                                                     [key], {});\n",
              "          if (!dataTable) return;\n",
              "\n",
              "          const docLinkHtml = 'Like what you see? Visit the ' +\n",
              "            '<a target=\"_blank\" href=https://colab.research.google.com/notebooks/data_table.ipynb>data table notebook</a>'\n",
              "            + ' to learn more about interactive tables.';\n",
              "          element.innerHTML = '';\n",
              "          dataTable['output_type'] = 'display_data';\n",
              "          await google.colab.output.renderOutput(dataTable, element);\n",
              "          const docLink = document.createElement('div');\n",
              "          docLink.innerHTML = docLinkHtml;\n",
              "          element.appendChild(docLink);\n",
              "        }\n",
              "      </script>\n",
              "    </div>\n",
              "  </div>\n",
              "  "
            ],
            "text/plain": [
              "               Show   \"2009\"   \"2010\"   \"2011\"        Date\n",
              "0        60 Minutes      7.6      7.4      7.3  01-12-2020\n",
              "1  48 Hours Mystery      4.1      3.9      3.6  02-12-2020\n",
              "2             20/20      4.1      3.7      3.3  03-12-2020\n",
              "3         Nightline      2.7      2.6      2.7  04-12-2020\n",
              "4   Dateline Friday      4.1      4.1      3.9  05-12-2020\n",
              "5   Dateline Sunday      3.5      3.2      3.1  06-12-2020"
            ]
          },
          "metadata": {},
          "execution_count": 48
        }
      ]
    },
    {
      "cell_type": "code",
      "source": [
        "pd.read_csv('/content/news_decline.csv', parse_dates=['Show'])"
      ],
      "metadata": {
        "colab": {
          "base_uri": "https://localhost:8080/",
          "height": 238
        },
        "id": "_CatR0yMnmlT",
        "outputId": "96bf8139-96b2-4a96-dd2e-0b7eb9eb750e"
      },
      "execution_count": null,
      "outputs": [
        {
          "output_type": "execute_result",
          "data": {
            "text/html": [
              "\n",
              "  <div id=\"df-81c36028-6578-4c3c-b923-45ad6755b053\">\n",
              "    <div class=\"colab-df-container\">\n",
              "      <div>\n",
              "<style scoped>\n",
              "    .dataframe tbody tr th:only-of-type {\n",
              "        vertical-align: middle;\n",
              "    }\n",
              "\n",
              "    .dataframe tbody tr th {\n",
              "        vertical-align: top;\n",
              "    }\n",
              "\n",
              "    .dataframe thead th {\n",
              "        text-align: right;\n",
              "    }\n",
              "</style>\n",
              "<table border=\"1\" class=\"dataframe\">\n",
              "  <thead>\n",
              "    <tr style=\"text-align: right;\">\n",
              "      <th></th>\n",
              "      <th>Show</th>\n",
              "      <th>\"2009\"</th>\n",
              "      <th>\"2010\"</th>\n",
              "      <th>\"2011\"</th>\n",
              "      <th>Date</th>\n",
              "    </tr>\n",
              "  </thead>\n",
              "  <tbody>\n",
              "    <tr>\n",
              "      <th>0</th>\n",
              "      <td>60 Minutes</td>\n",
              "      <td>7.6</td>\n",
              "      <td>7.4</td>\n",
              "      <td>7.3</td>\n",
              "      <td>01-12-2020</td>\n",
              "    </tr>\n",
              "    <tr>\n",
              "      <th>1</th>\n",
              "      <td>48 Hours Mystery</td>\n",
              "      <td>4.1</td>\n",
              "      <td>3.9</td>\n",
              "      <td>3.6</td>\n",
              "      <td>02-12-2020</td>\n",
              "    </tr>\n",
              "    <tr>\n",
              "      <th>2</th>\n",
              "      <td>20/20</td>\n",
              "      <td>4.1</td>\n",
              "      <td>3.7</td>\n",
              "      <td>3.3</td>\n",
              "      <td>03-12-2020</td>\n",
              "    </tr>\n",
              "    <tr>\n",
              "      <th>3</th>\n",
              "      <td>Nightline</td>\n",
              "      <td>2.7</td>\n",
              "      <td>2.6</td>\n",
              "      <td>2.7</td>\n",
              "      <td>04-12-2020</td>\n",
              "    </tr>\n",
              "    <tr>\n",
              "      <th>4</th>\n",
              "      <td>Dateline Friday</td>\n",
              "      <td>4.1</td>\n",
              "      <td>4.1</td>\n",
              "      <td>3.9</td>\n",
              "      <td>05-12-2020</td>\n",
              "    </tr>\n",
              "    <tr>\n",
              "      <th>5</th>\n",
              "      <td>Dateline Sunday</td>\n",
              "      <td>3.5</td>\n",
              "      <td>3.2</td>\n",
              "      <td>3.1</td>\n",
              "      <td>06-12-2020</td>\n",
              "    </tr>\n",
              "  </tbody>\n",
              "</table>\n",
              "</div>\n",
              "      <button class=\"colab-df-convert\" onclick=\"convertToInteractive('df-81c36028-6578-4c3c-b923-45ad6755b053')\"\n",
              "              title=\"Convert this dataframe to an interactive table.\"\n",
              "              style=\"display:none;\">\n",
              "        \n",
              "  <svg xmlns=\"http://www.w3.org/2000/svg\" height=\"24px\"viewBox=\"0 0 24 24\"\n",
              "       width=\"24px\">\n",
              "    <path d=\"M0 0h24v24H0V0z\" fill=\"none\"/>\n",
              "    <path d=\"M18.56 5.44l.94 2.06.94-2.06 2.06-.94-2.06-.94-.94-2.06-.94 2.06-2.06.94zm-11 1L8.5 8.5l.94-2.06 2.06-.94-2.06-.94L8.5 2.5l-.94 2.06-2.06.94zm10 10l.94 2.06.94-2.06 2.06-.94-2.06-.94-.94-2.06-.94 2.06-2.06.94z\"/><path d=\"M17.41 7.96l-1.37-1.37c-.4-.4-.92-.59-1.43-.59-.52 0-1.04.2-1.43.59L10.3 9.45l-7.72 7.72c-.78.78-.78 2.05 0 2.83L4 21.41c.39.39.9.59 1.41.59.51 0 1.02-.2 1.41-.59l7.78-7.78 2.81-2.81c.8-.78.8-2.07 0-2.86zM5.41 20L4 18.59l7.72-7.72 1.47 1.35L5.41 20z\"/>\n",
              "  </svg>\n",
              "      </button>\n",
              "      \n",
              "  <style>\n",
              "    .colab-df-container {\n",
              "      display:flex;\n",
              "      flex-wrap:wrap;\n",
              "      gap: 12px;\n",
              "    }\n",
              "\n",
              "    .colab-df-convert {\n",
              "      background-color: #E8F0FE;\n",
              "      border: none;\n",
              "      border-radius: 50%;\n",
              "      cursor: pointer;\n",
              "      display: none;\n",
              "      fill: #1967D2;\n",
              "      height: 32px;\n",
              "      padding: 0 0 0 0;\n",
              "      width: 32px;\n",
              "    }\n",
              "\n",
              "    .colab-df-convert:hover {\n",
              "      background-color: #E2EBFA;\n",
              "      box-shadow: 0px 1px 2px rgba(60, 64, 67, 0.3), 0px 1px 3px 1px rgba(60, 64, 67, 0.15);\n",
              "      fill: #174EA6;\n",
              "    }\n",
              "\n",
              "    [theme=dark] .colab-df-convert {\n",
              "      background-color: #3B4455;\n",
              "      fill: #D2E3FC;\n",
              "    }\n",
              "\n",
              "    [theme=dark] .colab-df-convert:hover {\n",
              "      background-color: #434B5C;\n",
              "      box-shadow: 0px 1px 3px 1px rgba(0, 0, 0, 0.15);\n",
              "      filter: drop-shadow(0px 1px 2px rgba(0, 0, 0, 0.3));\n",
              "      fill: #FFFFFF;\n",
              "    }\n",
              "  </style>\n",
              "\n",
              "      <script>\n",
              "        const buttonEl =\n",
              "          document.querySelector('#df-81c36028-6578-4c3c-b923-45ad6755b053 button.colab-df-convert');\n",
              "        buttonEl.style.display =\n",
              "          google.colab.kernel.accessAllowed ? 'block' : 'none';\n",
              "\n",
              "        async function convertToInteractive(key) {\n",
              "          const element = document.querySelector('#df-81c36028-6578-4c3c-b923-45ad6755b053');\n",
              "          const dataTable =\n",
              "            await google.colab.kernel.invokeFunction('convertToInteractive',\n",
              "                                                     [key], {});\n",
              "          if (!dataTable) return;\n",
              "\n",
              "          const docLinkHtml = 'Like what you see? Visit the ' +\n",
              "            '<a target=\"_blank\" href=https://colab.research.google.com/notebooks/data_table.ipynb>data table notebook</a>'\n",
              "            + ' to learn more about interactive tables.';\n",
              "          element.innerHTML = '';\n",
              "          dataTable['output_type'] = 'display_data';\n",
              "          await google.colab.output.renderOutput(dataTable, element);\n",
              "          const docLink = document.createElement('div');\n",
              "          docLink.innerHTML = docLinkHtml;\n",
              "          element.appendChild(docLink);\n",
              "        }\n",
              "      </script>\n",
              "    </div>\n",
              "  </div>\n",
              "  "
            ],
            "text/plain": [
              "               Show   \"2009\"   \"2010\"   \"2011\"        Date\n",
              "0        60 Minutes      7.6      7.4      7.3  01-12-2020\n",
              "1  48 Hours Mystery      4.1      3.9      3.6  02-12-2020\n",
              "2             20/20      4.1      3.7      3.3  03-12-2020\n",
              "3         Nightline      2.7      2.6      2.7  04-12-2020\n",
              "4   Dateline Friday      4.1      4.1      3.9  05-12-2020\n",
              "5   Dateline Sunday      3.5      3.2      3.1  06-12-2020"
            ]
          },
          "metadata": {},
          "execution_count": 52
        }
      ]
    },
    {
      "cell_type": "markdown",
      "source": [
        "Does pandas recognize time?"
      ],
      "metadata": {
        "id": "35Bhm1pKSVLU"
      }
    },
    {
      "cell_type": "markdown",
      "source": [
        "9. When, Why And How You Should Reshape Your Pandas DataFrame"
      ],
      "metadata": {
        "id": "AoeTaQ_jo482"
      }
    },
    {
      "cell_type": "code",
      "source": [
        "dateparser = lambda x: pd.datetime.strptime(x, '%Y-%m-%d %H:%M:%S')\n",
        "pd.read_csv('/content/news.csv', parse_dates={'datetime':['Date', 'Time']}, date_parser=dateparser)"
      ],
      "metadata": {
        "colab": {
          "base_uri": "https://localhost:8080/",
          "height": 292
        },
        "id": "dwl25YEDSZAC",
        "outputId": "999760f0-ce4c-4337-f3b1-a464cbd6c531"
      },
      "execution_count": null,
      "outputs": [
        {
          "output_type": "stream",
          "name": "stderr",
          "text": [
            "/usr/local/lib/python3.7/dist-packages/ipykernel_launcher.py:1: FutureWarning: The pandas.datetime class is deprecated and will be removed from pandas in a future version. Import from datetime module instead.\n",
            "  \"\"\"Entry point for launching an IPython kernel.\n"
          ]
        },
        {
          "output_type": "execute_result",
          "data": {
            "text/html": [
              "\n",
              "  <div id=\"df-fb8c8ddc-1adb-46af-99e6-8191c6a33336\">\n",
              "    <div class=\"colab-df-container\">\n",
              "      <div>\n",
              "<style scoped>\n",
              "    .dataframe tbody tr th:only-of-type {\n",
              "        vertical-align: middle;\n",
              "    }\n",
              "\n",
              "    .dataframe tbody tr th {\n",
              "        vertical-align: top;\n",
              "    }\n",
              "\n",
              "    .dataframe thead th {\n",
              "        text-align: right;\n",
              "    }\n",
              "</style>\n",
              "<table border=\"1\" class=\"dataframe\">\n",
              "  <thead>\n",
              "    <tr style=\"text-align: right;\">\n",
              "      <th></th>\n",
              "      <th>datetime</th>\n",
              "      <th>Show</th>\n",
              "      <th>\"2009\"</th>\n",
              "      <th>\"2010\"</th>\n",
              "      <th>\"2011\"</th>\n",
              "    </tr>\n",
              "  </thead>\n",
              "  <tbody>\n",
              "    <tr>\n",
              "      <th>0</th>\n",
              "      <td>2020-12-01 03:12:35</td>\n",
              "      <td>60 Minutes</td>\n",
              "      <td>7.6</td>\n",
              "      <td>7.4</td>\n",
              "      <td>7.3</td>\n",
              "    </tr>\n",
              "    <tr>\n",
              "      <th>1</th>\n",
              "      <td>2020-12-02 04:12:35</td>\n",
              "      <td>48 Hours Mystery</td>\n",
              "      <td>4.1</td>\n",
              "      <td>3.9</td>\n",
              "      <td>3.6</td>\n",
              "    </tr>\n",
              "    <tr>\n",
              "      <th>2</th>\n",
              "      <td>2020-12-03 05:12:35</td>\n",
              "      <td>20/20</td>\n",
              "      <td>4.1</td>\n",
              "      <td>3.7</td>\n",
              "      <td>3.3</td>\n",
              "    </tr>\n",
              "    <tr>\n",
              "      <th>3</th>\n",
              "      <td>2020-12-04 06:12:35</td>\n",
              "      <td>Nightline</td>\n",
              "      <td>2.7</td>\n",
              "      <td>2.6</td>\n",
              "      <td>2.7</td>\n",
              "    </tr>\n",
              "    <tr>\n",
              "      <th>4</th>\n",
              "      <td>2020-12-05 07:12:35</td>\n",
              "      <td>Dateline Friday</td>\n",
              "      <td>4.1</td>\n",
              "      <td>4.1</td>\n",
              "      <td>3.9</td>\n",
              "    </tr>\n",
              "    <tr>\n",
              "      <th>5</th>\n",
              "      <td>2020-12-06 08:12:35</td>\n",
              "      <td>Dateline Sunday</td>\n",
              "      <td>3.5</td>\n",
              "      <td>3.2</td>\n",
              "      <td>3.1</td>\n",
              "    </tr>\n",
              "  </tbody>\n",
              "</table>\n",
              "</div>\n",
              "      <button class=\"colab-df-convert\" onclick=\"convertToInteractive('df-fb8c8ddc-1adb-46af-99e6-8191c6a33336')\"\n",
              "              title=\"Convert this dataframe to an interactive table.\"\n",
              "              style=\"display:none;\">\n",
              "        \n",
              "  <svg xmlns=\"http://www.w3.org/2000/svg\" height=\"24px\"viewBox=\"0 0 24 24\"\n",
              "       width=\"24px\">\n",
              "    <path d=\"M0 0h24v24H0V0z\" fill=\"none\"/>\n",
              "    <path d=\"M18.56 5.44l.94 2.06.94-2.06 2.06-.94-2.06-.94-.94-2.06-.94 2.06-2.06.94zm-11 1L8.5 8.5l.94-2.06 2.06-.94-2.06-.94L8.5 2.5l-.94 2.06-2.06.94zm10 10l.94 2.06.94-2.06 2.06-.94-2.06-.94-.94-2.06-.94 2.06-2.06.94z\"/><path d=\"M17.41 7.96l-1.37-1.37c-.4-.4-.92-.59-1.43-.59-.52 0-1.04.2-1.43.59L10.3 9.45l-7.72 7.72c-.78.78-.78 2.05 0 2.83L4 21.41c.39.39.9.59 1.41.59.51 0 1.02-.2 1.41-.59l7.78-7.78 2.81-2.81c.8-.78.8-2.07 0-2.86zM5.41 20L4 18.59l7.72-7.72 1.47 1.35L5.41 20z\"/>\n",
              "  </svg>\n",
              "      </button>\n",
              "      \n",
              "  <style>\n",
              "    .colab-df-container {\n",
              "      display:flex;\n",
              "      flex-wrap:wrap;\n",
              "      gap: 12px;\n",
              "    }\n",
              "\n",
              "    .colab-df-convert {\n",
              "      background-color: #E8F0FE;\n",
              "      border: none;\n",
              "      border-radius: 50%;\n",
              "      cursor: pointer;\n",
              "      display: none;\n",
              "      fill: #1967D2;\n",
              "      height: 32px;\n",
              "      padding: 0 0 0 0;\n",
              "      width: 32px;\n",
              "    }\n",
              "\n",
              "    .colab-df-convert:hover {\n",
              "      background-color: #E2EBFA;\n",
              "      box-shadow: 0px 1px 2px rgba(60, 64, 67, 0.3), 0px 1px 3px 1px rgba(60, 64, 67, 0.15);\n",
              "      fill: #174EA6;\n",
              "    }\n",
              "\n",
              "    [theme=dark] .colab-df-convert {\n",
              "      background-color: #3B4455;\n",
              "      fill: #D2E3FC;\n",
              "    }\n",
              "\n",
              "    [theme=dark] .colab-df-convert:hover {\n",
              "      background-color: #434B5C;\n",
              "      box-shadow: 0px 1px 3px 1px rgba(0, 0, 0, 0.15);\n",
              "      filter: drop-shadow(0px 1px 2px rgba(0, 0, 0, 0.3));\n",
              "      fill: #FFFFFF;\n",
              "    }\n",
              "  </style>\n",
              "\n",
              "      <script>\n",
              "        const buttonEl =\n",
              "          document.querySelector('#df-fb8c8ddc-1adb-46af-99e6-8191c6a33336 button.colab-df-convert');\n",
              "        buttonEl.style.display =\n",
              "          google.colab.kernel.accessAllowed ? 'block' : 'none';\n",
              "\n",
              "        async function convertToInteractive(key) {\n",
              "          const element = document.querySelector('#df-fb8c8ddc-1adb-46af-99e6-8191c6a33336');\n",
              "          const dataTable =\n",
              "            await google.colab.kernel.invokeFunction('convertToInteractive',\n",
              "                                                     [key], {});\n",
              "          if (!dataTable) return;\n",
              "\n",
              "          const docLinkHtml = 'Like what you see? Visit the ' +\n",
              "            '<a target=\"_blank\" href=https://colab.research.google.com/notebooks/data_table.ipynb>data table notebook</a>'\n",
              "            + ' to learn more about interactive tables.';\n",
              "          element.innerHTML = '';\n",
              "          dataTable['output_type'] = 'display_data';\n",
              "          await google.colab.output.renderOutput(dataTable, element);\n",
              "          const docLink = document.createElement('div');\n",
              "          docLink.innerHTML = docLinkHtml;\n",
              "          element.appendChild(docLink);\n",
              "        }\n",
              "      </script>\n",
              "    </div>\n",
              "  </div>\n",
              "  "
            ],
            "text/plain": [
              "             datetime              Show   \"2009\"   \"2010\"   \"2011\"\n",
              "0 2020-12-01 03:12:35        60 Minutes      7.6      7.4      7.3\n",
              "1 2020-12-02 04:12:35  48 Hours Mystery      4.1      3.9      3.6\n",
              "2 2020-12-03 05:12:35             20/20      4.1      3.7      3.3\n",
              "3 2020-12-04 06:12:35         Nightline      2.7      2.6      2.7\n",
              "4 2020-12-05 07:12:35   Dateline Friday      4.1      4.1      3.9\n",
              "5 2020-12-06 08:12:35   Dateline Sunday      3.5      3.2      3.1"
            ]
          },
          "metadata": {},
          "execution_count": 59
        }
      ]
    },
    {
      "cell_type": "markdown",
      "source": [
        "Pivotting Your DataFrame"
      ],
      "metadata": {
        "id": "yyr9eNRCo8l4"
      }
    },
    {
      "cell_type": "code",
      "source": [
        "# Import pandas\n",
        "import pandas as pd\n",
        "\n",
        "products = pd.DataFrame({'category': ['Cleaning', 'Cleaning', 'Entertainment', 'Entertainment', 'Tech', 'Tech'],\n",
        "        'store': ['Walmart', 'Dia', 'Walmart', 'Fnac', 'Dia','Walmart'],\n",
        "        'price':[11.42, 23.50, 19.99, 15.95, 55.75, 111.55],\n",
        "        'testscore': [4, 3, 5, 7, 5, 8]})\n",
        "\n",
        "# Use `pivot()` to pivot the DataFrame\n",
        "pivot_products = products.pivot(index='category', columns='store', values='price')\n",
        "\n",
        "# Check out the result\n",
        "print(pivot_products)"
      ],
      "metadata": {
        "colab": {
          "base_uri": "https://localhost:8080/"
        },
        "id": "xqlz9IIFoLs-",
        "outputId": "c42eab3c-262e-4457-c659-003569fcd0ca"
      },
      "execution_count": null,
      "outputs": [
        {
          "output_type": "stream",
          "name": "stdout",
          "text": [
            "store            Dia   Fnac  Walmart\n",
            "category                            \n",
            "Cleaning       23.50    NaN    11.42\n",
            "Entertainment    NaN  15.95    19.99\n",
            "Tech           55.75    NaN   111.55\n"
          ]
        }
      ]
    },
    {
      "cell_type": "code",
      "source": [
        "# Import the Pandas library\n",
        "import pandas as pd\n",
        "\n",
        "# Your DataFrame\n",
        "products = pd.DataFrame({'category': ['Cleaning', 'Cleaning', 'Entertainment', 'Entertainment', 'Tech', 'Tech'],\n",
        "                        'store': ['Walmart', 'Dia', 'Walmart', 'Fnac', 'Dia','Walmart'],\n",
        "                        'price':[11.42, 23.50, 19.99, 15.95, 19.99, 111.55],\n",
        "                        'testscore': [4, 3, 5, 7, 5, 8]})\n",
        "\n",
        "# Pivot your `products` DataFrame with `pivot_table()`\n",
        "pivot_products = products.pivot_table(index='category', columns='store', values='price', aggfunc='mean')\n",
        "\n",
        "# Check out the results\n",
        "print(pivot_products)"
      ],
      "metadata": {
        "colab": {
          "base_uri": "https://localhost:8080/"
        },
        "id": "H-AyKo9Xpq5b",
        "outputId": "42383596-1924-4541-e865-8da732dc0705"
      },
      "execution_count": null,
      "outputs": [
        {
          "output_type": "stream",
          "name": "stdout",
          "text": [
            "store            Dia   Fnac  Walmart\n",
            "category                            \n",
            "Cleaning       23.50    NaN    11.42\n",
            "Entertainment    NaN  15.95    19.99\n",
            "Tech           19.99    NaN   111.55\n"
          ]
        }
      ]
    },
    {
      "cell_type": "markdown",
      "source": [
        "Reshape Your DataFrame With melt()"
      ],
      "metadata": {
        "id": "o7-Z4CAlwIqn"
      }
    },
    {
      "cell_type": "code",
      "source": [
        "# The `people` DataFrame\n",
        "people = pd.DataFrame({'FirstName' : ['John', 'Jane'],\n",
        "                       'LastName' : ['Doe', 'Austen'],\n",
        "                       'BloodType' : ['A-', 'B+'],\n",
        "                       'Weight' : [90, 64]})\n",
        "\n",
        "people"
      ],
      "metadata": {
        "colab": {
          "base_uri": "https://localhost:8080/",
          "height": 112
        },
        "id": "pU7h2UAjwB6T",
        "outputId": "c9ff312b-730a-4094-f785-11f2c5177815"
      },
      "execution_count": null,
      "outputs": [
        {
          "output_type": "execute_result",
          "data": {
            "text/html": [
              "\n",
              "  <div id=\"df-57413d13-83d2-4e86-8d7f-5616872b7317\">\n",
              "    <div class=\"colab-df-container\">\n",
              "      <div>\n",
              "<style scoped>\n",
              "    .dataframe tbody tr th:only-of-type {\n",
              "        vertical-align: middle;\n",
              "    }\n",
              "\n",
              "    .dataframe tbody tr th {\n",
              "        vertical-align: top;\n",
              "    }\n",
              "\n",
              "    .dataframe thead th {\n",
              "        text-align: right;\n",
              "    }\n",
              "</style>\n",
              "<table border=\"1\" class=\"dataframe\">\n",
              "  <thead>\n",
              "    <tr style=\"text-align: right;\">\n",
              "      <th></th>\n",
              "      <th>FirstName</th>\n",
              "      <th>LastName</th>\n",
              "      <th>BloodType</th>\n",
              "      <th>Weight</th>\n",
              "    </tr>\n",
              "  </thead>\n",
              "  <tbody>\n",
              "    <tr>\n",
              "      <th>0</th>\n",
              "      <td>John</td>\n",
              "      <td>Doe</td>\n",
              "      <td>A-</td>\n",
              "      <td>90</td>\n",
              "    </tr>\n",
              "    <tr>\n",
              "      <th>1</th>\n",
              "      <td>Jane</td>\n",
              "      <td>Austen</td>\n",
              "      <td>B+</td>\n",
              "      <td>64</td>\n",
              "    </tr>\n",
              "  </tbody>\n",
              "</table>\n",
              "</div>\n",
              "      <button class=\"colab-df-convert\" onclick=\"convertToInteractive('df-57413d13-83d2-4e86-8d7f-5616872b7317')\"\n",
              "              title=\"Convert this dataframe to an interactive table.\"\n",
              "              style=\"display:none;\">\n",
              "        \n",
              "  <svg xmlns=\"http://www.w3.org/2000/svg\" height=\"24px\"viewBox=\"0 0 24 24\"\n",
              "       width=\"24px\">\n",
              "    <path d=\"M0 0h24v24H0V0z\" fill=\"none\"/>\n",
              "    <path d=\"M18.56 5.44l.94 2.06.94-2.06 2.06-.94-2.06-.94-.94-2.06-.94 2.06-2.06.94zm-11 1L8.5 8.5l.94-2.06 2.06-.94-2.06-.94L8.5 2.5l-.94 2.06-2.06.94zm10 10l.94 2.06.94-2.06 2.06-.94-2.06-.94-.94-2.06-.94 2.06-2.06.94z\"/><path d=\"M17.41 7.96l-1.37-1.37c-.4-.4-.92-.59-1.43-.59-.52 0-1.04.2-1.43.59L10.3 9.45l-7.72 7.72c-.78.78-.78 2.05 0 2.83L4 21.41c.39.39.9.59 1.41.59.51 0 1.02-.2 1.41-.59l7.78-7.78 2.81-2.81c.8-.78.8-2.07 0-2.86zM5.41 20L4 18.59l7.72-7.72 1.47 1.35L5.41 20z\"/>\n",
              "  </svg>\n",
              "      </button>\n",
              "      \n",
              "  <style>\n",
              "    .colab-df-container {\n",
              "      display:flex;\n",
              "      flex-wrap:wrap;\n",
              "      gap: 12px;\n",
              "    }\n",
              "\n",
              "    .colab-df-convert {\n",
              "      background-color: #E8F0FE;\n",
              "      border: none;\n",
              "      border-radius: 50%;\n",
              "      cursor: pointer;\n",
              "      display: none;\n",
              "      fill: #1967D2;\n",
              "      height: 32px;\n",
              "      padding: 0 0 0 0;\n",
              "      width: 32px;\n",
              "    }\n",
              "\n",
              "    .colab-df-convert:hover {\n",
              "      background-color: #E2EBFA;\n",
              "      box-shadow: 0px 1px 2px rgba(60, 64, 67, 0.3), 0px 1px 3px 1px rgba(60, 64, 67, 0.15);\n",
              "      fill: #174EA6;\n",
              "    }\n",
              "\n",
              "    [theme=dark] .colab-df-convert {\n",
              "      background-color: #3B4455;\n",
              "      fill: #D2E3FC;\n",
              "    }\n",
              "\n",
              "    [theme=dark] .colab-df-convert:hover {\n",
              "      background-color: #434B5C;\n",
              "      box-shadow: 0px 1px 3px 1px rgba(0, 0, 0, 0.15);\n",
              "      filter: drop-shadow(0px 1px 2px rgba(0, 0, 0, 0.3));\n",
              "      fill: #FFFFFF;\n",
              "    }\n",
              "  </style>\n",
              "\n",
              "      <script>\n",
              "        const buttonEl =\n",
              "          document.querySelector('#df-57413d13-83d2-4e86-8d7f-5616872b7317 button.colab-df-convert');\n",
              "        buttonEl.style.display =\n",
              "          google.colab.kernel.accessAllowed ? 'block' : 'none';\n",
              "\n",
              "        async function convertToInteractive(key) {\n",
              "          const element = document.querySelector('#df-57413d13-83d2-4e86-8d7f-5616872b7317');\n",
              "          const dataTable =\n",
              "            await google.colab.kernel.invokeFunction('convertToInteractive',\n",
              "                                                     [key], {});\n",
              "          if (!dataTable) return;\n",
              "\n",
              "          const docLinkHtml = 'Like what you see? Visit the ' +\n",
              "            '<a target=\"_blank\" href=https://colab.research.google.com/notebooks/data_table.ipynb>data table notebook</a>'\n",
              "            + ' to learn more about interactive tables.';\n",
              "          element.innerHTML = '';\n",
              "          dataTable['output_type'] = 'display_data';\n",
              "          await google.colab.output.renderOutput(dataTable, element);\n",
              "          const docLink = document.createElement('div');\n",
              "          docLink.innerHTML = docLinkHtml;\n",
              "          element.appendChild(docLink);\n",
              "        }\n",
              "      </script>\n",
              "    </div>\n",
              "  </div>\n",
              "  "
            ],
            "text/plain": [
              "  FirstName LastName BloodType  Weight\n",
              "0      John      Doe        A-      90\n",
              "1      Jane   Austen        B+      64"
            ]
          },
          "metadata": {},
          "execution_count": 112
        }
      ]
    },
    {
      "cell_type": "code",
      "source": [
        "# Use `melt()` on the `people` DataFrame\n",
        "print(pd.melt(people, id_vars=['FirstName', 'LastName'], var_name='measurements'))"
      ],
      "metadata": {
        "colab": {
          "base_uri": "https://localhost:8080/"
        },
        "id": "6_cXSJtfwOIx",
        "outputId": "ac93e7ae-7f68-450b-eec0-0141057726bc"
      },
      "execution_count": null,
      "outputs": [
        {
          "output_type": "stream",
          "name": "stdout",
          "text": [
            "  FirstName LastName measurements value\n",
            "0      John      Doe    BloodType    A-\n",
            "1      Jane   Austen    BloodType    B+\n",
            "2      John      Doe       Weight    90\n",
            "3      Jane   Austen       Weight    64\n"
          ]
        }
      ]
    },
    {
      "cell_type": "markdown",
      "source": [
        "**10. How To Iterate Over a Pandas DataFrame**"
      ],
      "metadata": {
        "id": "Fv9F949DwZbX"
      }
    },
    {
      "cell_type": "code",
      "source": [
        "df = pd.DataFrame(data=np.array([[1, 2, 3], [4, 5, 6], [7, 8, 9]]), columns=['A', 'B', 'C'])\n",
        "\n",
        "for index, row in df.iterrows() :\n",
        "    print(row['A'], row['B'])"
      ],
      "metadata": {
        "colab": {
          "base_uri": "https://localhost:8080/"
        },
        "id": "hMtoYjz5wUEB",
        "outputId": "66dfd095-b740-4a4d-d2c2-ce66e42f0a72"
      },
      "execution_count": null,
      "outputs": [
        {
          "output_type": "stream",
          "name": "stdout",
          "text": [
            "1 2\n",
            "4 5\n",
            "7 8\n"
          ]
        }
      ]
    },
    {
      "cell_type": "markdown",
      "source": [
        "11. How To Write a Pandas DataFrame to a File"
      ],
      "metadata": {
        "id": "0z8X1kh0wtsc"
      }
    },
    {
      "cell_type": "code",
      "source": [
        "df.to_csv('myDataFrame.csv')"
      ],
      "metadata": {
        "id": "93dnPn6_wh22"
      },
      "execution_count": null,
      "outputs": []
    },
    {
      "cell_type": "code",
      "source": [
        "# To delimit by a tab, use the sep argument:\n",
        "df.to_csv('myDataFrame.csv', sep='\\t', encoding='utf-8')"
      ],
      "metadata": {
        "id": "a0baQHN-wzn_"
      },
      "execution_count": null,
      "outputs": []
    },
    {
      "cell_type": "code",
      "source": [
        "writer = pd.ExcelWriter('myDataFrame.xlsx')\n",
        "df.to_excel(writer, 'DataFrame')\n",
        "writer.save() "
      ],
      "metadata": {
        "id": "nyZQJ7QDw-1T"
      },
      "execution_count": null,
      "outputs": []
    },
    {
      "cell_type": "code",
      "source": [
        "pd.read_csv('/content/myDataFrame.csv')"
      ],
      "metadata": {
        "colab": {
          "base_uri": "https://localhost:8080/",
          "height": 143
        },
        "id": "4kmpFdHExKdJ",
        "outputId": "2206a21b-f3a8-4e18-a250-e5c919745488"
      },
      "execution_count": null,
      "outputs": [
        {
          "output_type": "execute_result",
          "data": {
            "text/html": [
              "\n",
              "  <div id=\"df-4ff9c3b3-8a2a-47b1-bed2-f2550fe21717\">\n",
              "    <div class=\"colab-df-container\">\n",
              "      <div>\n",
              "<style scoped>\n",
              "    .dataframe tbody tr th:only-of-type {\n",
              "        vertical-align: middle;\n",
              "    }\n",
              "\n",
              "    .dataframe tbody tr th {\n",
              "        vertical-align: top;\n",
              "    }\n",
              "\n",
              "    .dataframe thead th {\n",
              "        text-align: right;\n",
              "    }\n",
              "</style>\n",
              "<table border=\"1\" class=\"dataframe\">\n",
              "  <thead>\n",
              "    <tr style=\"text-align: right;\">\n",
              "      <th></th>\n",
              "      <th>\\tA\\tB\\tC</th>\n",
              "    </tr>\n",
              "  </thead>\n",
              "  <tbody>\n",
              "    <tr>\n",
              "      <th>0</th>\n",
              "      <td>0\\t1\\t2\\t3</td>\n",
              "    </tr>\n",
              "    <tr>\n",
              "      <th>1</th>\n",
              "      <td>1\\t4\\t5\\t6</td>\n",
              "    </tr>\n",
              "    <tr>\n",
              "      <th>2</th>\n",
              "      <td>2\\t7\\t8\\t9</td>\n",
              "    </tr>\n",
              "  </tbody>\n",
              "</table>\n",
              "</div>\n",
              "      <button class=\"colab-df-convert\" onclick=\"convertToInteractive('df-4ff9c3b3-8a2a-47b1-bed2-f2550fe21717')\"\n",
              "              title=\"Convert this dataframe to an interactive table.\"\n",
              "              style=\"display:none;\">\n",
              "        \n",
              "  <svg xmlns=\"http://www.w3.org/2000/svg\" height=\"24px\"viewBox=\"0 0 24 24\"\n",
              "       width=\"24px\">\n",
              "    <path d=\"M0 0h24v24H0V0z\" fill=\"none\"/>\n",
              "    <path d=\"M18.56 5.44l.94 2.06.94-2.06 2.06-.94-2.06-.94-.94-2.06-.94 2.06-2.06.94zm-11 1L8.5 8.5l.94-2.06 2.06-.94-2.06-.94L8.5 2.5l-.94 2.06-2.06.94zm10 10l.94 2.06.94-2.06 2.06-.94-2.06-.94-.94-2.06-.94 2.06-2.06.94z\"/><path d=\"M17.41 7.96l-1.37-1.37c-.4-.4-.92-.59-1.43-.59-.52 0-1.04.2-1.43.59L10.3 9.45l-7.72 7.72c-.78.78-.78 2.05 0 2.83L4 21.41c.39.39.9.59 1.41.59.51 0 1.02-.2 1.41-.59l7.78-7.78 2.81-2.81c.8-.78.8-2.07 0-2.86zM5.41 20L4 18.59l7.72-7.72 1.47 1.35L5.41 20z\"/>\n",
              "  </svg>\n",
              "      </button>\n",
              "      \n",
              "  <style>\n",
              "    .colab-df-container {\n",
              "      display:flex;\n",
              "      flex-wrap:wrap;\n",
              "      gap: 12px;\n",
              "    }\n",
              "\n",
              "    .colab-df-convert {\n",
              "      background-color: #E8F0FE;\n",
              "      border: none;\n",
              "      border-radius: 50%;\n",
              "      cursor: pointer;\n",
              "      display: none;\n",
              "      fill: #1967D2;\n",
              "      height: 32px;\n",
              "      padding: 0 0 0 0;\n",
              "      width: 32px;\n",
              "    }\n",
              "\n",
              "    .colab-df-convert:hover {\n",
              "      background-color: #E2EBFA;\n",
              "      box-shadow: 0px 1px 2px rgba(60, 64, 67, 0.3), 0px 1px 3px 1px rgba(60, 64, 67, 0.15);\n",
              "      fill: #174EA6;\n",
              "    }\n",
              "\n",
              "    [theme=dark] .colab-df-convert {\n",
              "      background-color: #3B4455;\n",
              "      fill: #D2E3FC;\n",
              "    }\n",
              "\n",
              "    [theme=dark] .colab-df-convert:hover {\n",
              "      background-color: #434B5C;\n",
              "      box-shadow: 0px 1px 3px 1px rgba(0, 0, 0, 0.15);\n",
              "      filter: drop-shadow(0px 1px 2px rgba(0, 0, 0, 0.3));\n",
              "      fill: #FFFFFF;\n",
              "    }\n",
              "  </style>\n",
              "\n",
              "      <script>\n",
              "        const buttonEl =\n",
              "          document.querySelector('#df-4ff9c3b3-8a2a-47b1-bed2-f2550fe21717 button.colab-df-convert');\n",
              "        buttonEl.style.display =\n",
              "          google.colab.kernel.accessAllowed ? 'block' : 'none';\n",
              "\n",
              "        async function convertToInteractive(key) {\n",
              "          const element = document.querySelector('#df-4ff9c3b3-8a2a-47b1-bed2-f2550fe21717');\n",
              "          const dataTable =\n",
              "            await google.colab.kernel.invokeFunction('convertToInteractive',\n",
              "                                                     [key], {});\n",
              "          if (!dataTable) return;\n",
              "\n",
              "          const docLinkHtml = 'Like what you see? Visit the ' +\n",
              "            '<a target=\"_blank\" href=https://colab.research.google.com/notebooks/data_table.ipynb>data table notebook</a>'\n",
              "            + ' to learn more about interactive tables.';\n",
              "          element.innerHTML = '';\n",
              "          dataTable['output_type'] = 'display_data';\n",
              "          await google.colab.output.renderOutput(dataTable, element);\n",
              "          const docLink = document.createElement('div');\n",
              "          docLink.innerHTML = docLinkHtml;\n",
              "          element.appendChild(docLink);\n",
              "        }\n",
              "      </script>\n",
              "    </div>\n",
              "  </div>\n",
              "  "
            ],
            "text/plain": [
              "    \\tA\\tB\\tC\n",
              "0  0\\t1\\t2\\t3\n",
              "1  1\\t4\\t5\\t6\n",
              "2  2\\t7\\t8\\t9"
            ]
          },
          "metadata": {},
          "execution_count": 131
        }
      ]
    },
    {
      "cell_type": "markdown",
      "source": [
        "#III. Consider the following URL:\n",
        "#https://www.w3resource.com/python-exercises/pandas/index.php\n",
        "#Understand and implement the concepts and examples. Solve the mentioned exercises. Write your observations."
      ],
      "metadata": {
        "id": "7CqvAyL-x1gW"
      }
    },
    {
      "cell_type": "markdown",
      "source": [
        "**Python Pandas Data Series: Exercises, Practice, Solution**"
      ],
      "metadata": {
        "id": "TtQZrAKC5O6-"
      }
    },
    {
      "cell_type": "markdown",
      "source": [
        "1. Write a Pandas program to create and display a one-dimensional array-like object containing an array of data using Pandas module."
      ],
      "metadata": {
        "id": "NbPzQwIn5TgT"
      }
    },
    {
      "cell_type": "code",
      "source": [
        "array = pd.Series([2,4,6,8,10])\n",
        "array"
      ],
      "metadata": {
        "colab": {
          "base_uri": "https://localhost:8080/"
        },
        "id": "1uD-Va8cxcu5",
        "outputId": "8ba50e0b-93fe-4717-8f75-53fe0a454ba8"
      },
      "execution_count": null,
      "outputs": [
        {
          "output_type": "execute_result",
          "data": {
            "text/plain": [
              "0     2\n",
              "1     4\n",
              "2     6\n",
              "3     8\n",
              "4    10\n",
              "dtype: int64"
            ]
          },
          "metadata": {},
          "execution_count": 132
        }
      ]
    },
    {
      "cell_type": "markdown",
      "source": [
        "2. Write a Pandas program to create a TimeSeries to display all the Sundays of given year."
      ],
      "metadata": {
        "id": "XenBHoSP6sDB"
      }
    },
    {
      "cell_type": "code",
      "source": [
        "result = pd.Series(pd.date_range('2022-01-01',\n",
        "                                 periods = 52, \n",
        "                                 freq = 'W-SUN'))\n",
        "print(\"All Sundays in 2022:\")\n",
        "print(result)"
      ],
      "metadata": {
        "colab": {
          "base_uri": "https://localhost:8080/"
        },
        "id": "uCVna0ep5nHl",
        "outputId": "2c9d3667-1f45-46e3-963a-618ae2fc0165"
      },
      "execution_count": null,
      "outputs": [
        {
          "output_type": "stream",
          "name": "stdout",
          "text": [
            "All Sundays in 2022:\n",
            "0    2022-01-02\n",
            "1    2022-01-09\n",
            "2    2022-01-16\n",
            "3    2022-01-23\n",
            "4    2022-01-30\n",
            "5    2022-02-06\n",
            "6    2022-02-13\n",
            "7    2022-02-20\n",
            "8    2022-02-27\n",
            "9    2022-03-06\n",
            "10   2022-03-13\n",
            "11   2022-03-20\n",
            "12   2022-03-27\n",
            "13   2022-04-03\n",
            "14   2022-04-10\n",
            "15   2022-04-17\n",
            "16   2022-04-24\n",
            "17   2022-05-01\n",
            "18   2022-05-08\n",
            "19   2022-05-15\n",
            "20   2022-05-22\n",
            "21   2022-05-29\n",
            "22   2022-06-05\n",
            "23   2022-06-12\n",
            "24   2022-06-19\n",
            "25   2022-06-26\n",
            "26   2022-07-03\n",
            "27   2022-07-10\n",
            "28   2022-07-17\n",
            "29   2022-07-24\n",
            "30   2022-07-31\n",
            "31   2022-08-07\n",
            "32   2022-08-14\n",
            "33   2022-08-21\n",
            "34   2022-08-28\n",
            "35   2022-09-04\n",
            "36   2022-09-11\n",
            "37   2022-09-18\n",
            "38   2022-09-25\n",
            "39   2022-10-02\n",
            "40   2022-10-09\n",
            "41   2022-10-16\n",
            "42   2022-10-23\n",
            "43   2022-10-30\n",
            "44   2022-11-06\n",
            "45   2022-11-13\n",
            "46   2022-11-20\n",
            "47   2022-11-27\n",
            "48   2022-12-04\n",
            "49   2022-12-11\n",
            "50   2022-12-18\n",
            "51   2022-12-25\n",
            "dtype: datetime64[ns]\n"
          ]
        }
      ]
    },
    {
      "cell_type": "markdown",
      "source": [
        "3. Write a Pandas program to convert given series into a dataframe with its index as another column on the dataframe."
      ],
      "metadata": {
        "id": "dRHXALQ4BXt4"
      }
    },
    {
      "cell_type": "code",
      "source": [
        "char = list('ABCDEFGHIJKLMNOPQRSTUVWXYZ')\n",
        "arr = np.arange(8)\n",
        "dictn = dict(zip(char, arr))\n",
        "ser = pd.Series(dictn)\n",
        "df = ser.to_frame().reset_index()\n",
        "print(df.head())"
      ],
      "metadata": {
        "colab": {
          "base_uri": "https://localhost:8080/"
        },
        "id": "oFnYhuNq70s_",
        "outputId": "2e58144e-f55f-4ca8-8e63-e5ffcf165302"
      },
      "execution_count": null,
      "outputs": [
        {
          "output_type": "stream",
          "name": "stdout",
          "text": [
            "  index  0\n",
            "0     A  0\n",
            "1     B  1\n",
            "2     C  2\n",
            "3     D  3\n",
            "4     E  4\n"
          ]
        }
      ]
    },
    {
      "cell_type": "markdown",
      "source": [
        "4. Write a Pandas program to stack two given series vertically and horizontally."
      ],
      "metadata": {
        "id": "F9o3h1inCLoa"
      }
    },
    {
      "cell_type": "code",
      "source": [
        "series1 = pd.Series(['A', 'B', 'X', 'D', 'E'])\n",
        "print(\"Series 1:\")\n",
        "print(series1)\n",
        "series2 = pd.Series([1, 2, 3, 4, 5])\n",
        "print(\"Series 2:\")\n",
        "print(series2)\n",
        "df = pd.concat([series1, series2], axis = 1)\n",
        "print(\"\\nStack two series horizontally:\")\n",
        "display(df)"
      ],
      "metadata": {
        "colab": {
          "base_uri": "https://localhost:8080/",
          "height": 484
        },
        "id": "gQmPHzdiByio",
        "outputId": "68f888d3-e237-42d4-8424-ec4e698a0adb"
      },
      "execution_count": null,
      "outputs": [
        {
          "output_type": "stream",
          "name": "stdout",
          "text": [
            "Series 1:\n",
            "0    A\n",
            "1    B\n",
            "2    X\n",
            "3    D\n",
            "4    E\n",
            "dtype: object\n",
            "Series 2:\n",
            "0    1\n",
            "1    2\n",
            "2    3\n",
            "3    4\n",
            "4    5\n",
            "dtype: int64\n",
            "\n",
            "Stack two series horizontally:\n"
          ]
        },
        {
          "output_type": "display_data",
          "data": {
            "text/html": [
              "\n",
              "  <div id=\"df-d9f00ebe-b920-467d-afdb-5cc655ef2927\">\n",
              "    <div class=\"colab-df-container\">\n",
              "      <div>\n",
              "<style scoped>\n",
              "    .dataframe tbody tr th:only-of-type {\n",
              "        vertical-align: middle;\n",
              "    }\n",
              "\n",
              "    .dataframe tbody tr th {\n",
              "        vertical-align: top;\n",
              "    }\n",
              "\n",
              "    .dataframe thead th {\n",
              "        text-align: right;\n",
              "    }\n",
              "</style>\n",
              "<table border=\"1\" class=\"dataframe\">\n",
              "  <thead>\n",
              "    <tr style=\"text-align: right;\">\n",
              "      <th></th>\n",
              "      <th>0</th>\n",
              "      <th>1</th>\n",
              "    </tr>\n",
              "  </thead>\n",
              "  <tbody>\n",
              "    <tr>\n",
              "      <th>0</th>\n",
              "      <td>A</td>\n",
              "      <td>1</td>\n",
              "    </tr>\n",
              "    <tr>\n",
              "      <th>1</th>\n",
              "      <td>B</td>\n",
              "      <td>2</td>\n",
              "    </tr>\n",
              "    <tr>\n",
              "      <th>2</th>\n",
              "      <td>X</td>\n",
              "      <td>3</td>\n",
              "    </tr>\n",
              "    <tr>\n",
              "      <th>3</th>\n",
              "      <td>D</td>\n",
              "      <td>4</td>\n",
              "    </tr>\n",
              "    <tr>\n",
              "      <th>4</th>\n",
              "      <td>E</td>\n",
              "      <td>5</td>\n",
              "    </tr>\n",
              "  </tbody>\n",
              "</table>\n",
              "</div>\n",
              "      <button class=\"colab-df-convert\" onclick=\"convertToInteractive('df-d9f00ebe-b920-467d-afdb-5cc655ef2927')\"\n",
              "              title=\"Convert this dataframe to an interactive table.\"\n",
              "              style=\"display:none;\">\n",
              "        \n",
              "  <svg xmlns=\"http://www.w3.org/2000/svg\" height=\"24px\"viewBox=\"0 0 24 24\"\n",
              "       width=\"24px\">\n",
              "    <path d=\"M0 0h24v24H0V0z\" fill=\"none\"/>\n",
              "    <path d=\"M18.56 5.44l.94 2.06.94-2.06 2.06-.94-2.06-.94-.94-2.06-.94 2.06-2.06.94zm-11 1L8.5 8.5l.94-2.06 2.06-.94-2.06-.94L8.5 2.5l-.94 2.06-2.06.94zm10 10l.94 2.06.94-2.06 2.06-.94-2.06-.94-.94-2.06-.94 2.06-2.06.94z\"/><path d=\"M17.41 7.96l-1.37-1.37c-.4-.4-.92-.59-1.43-.59-.52 0-1.04.2-1.43.59L10.3 9.45l-7.72 7.72c-.78.78-.78 2.05 0 2.83L4 21.41c.39.39.9.59 1.41.59.51 0 1.02-.2 1.41-.59l7.78-7.78 2.81-2.81c.8-.78.8-2.07 0-2.86zM5.41 20L4 18.59l7.72-7.72 1.47 1.35L5.41 20z\"/>\n",
              "  </svg>\n",
              "      </button>\n",
              "      \n",
              "  <style>\n",
              "    .colab-df-container {\n",
              "      display:flex;\n",
              "      flex-wrap:wrap;\n",
              "      gap: 12px;\n",
              "    }\n",
              "\n",
              "    .colab-df-convert {\n",
              "      background-color: #E8F0FE;\n",
              "      border: none;\n",
              "      border-radius: 50%;\n",
              "      cursor: pointer;\n",
              "      display: none;\n",
              "      fill: #1967D2;\n",
              "      height: 32px;\n",
              "      padding: 0 0 0 0;\n",
              "      width: 32px;\n",
              "    }\n",
              "\n",
              "    .colab-df-convert:hover {\n",
              "      background-color: #E2EBFA;\n",
              "      box-shadow: 0px 1px 2px rgba(60, 64, 67, 0.3), 0px 1px 3px 1px rgba(60, 64, 67, 0.15);\n",
              "      fill: #174EA6;\n",
              "    }\n",
              "\n",
              "    [theme=dark] .colab-df-convert {\n",
              "      background-color: #3B4455;\n",
              "      fill: #D2E3FC;\n",
              "    }\n",
              "\n",
              "    [theme=dark] .colab-df-convert:hover {\n",
              "      background-color: #434B5C;\n",
              "      box-shadow: 0px 1px 3px 1px rgba(0, 0, 0, 0.15);\n",
              "      filter: drop-shadow(0px 1px 2px rgba(0, 0, 0, 0.3));\n",
              "      fill: #FFFFFF;\n",
              "    }\n",
              "  </style>\n",
              "\n",
              "      <script>\n",
              "        const buttonEl =\n",
              "          document.querySelector('#df-d9f00ebe-b920-467d-afdb-5cc655ef2927 button.colab-df-convert');\n",
              "        buttonEl.style.display =\n",
              "          google.colab.kernel.accessAllowed ? 'block' : 'none';\n",
              "\n",
              "        async function convertToInteractive(key) {\n",
              "          const element = document.querySelector('#df-d9f00ebe-b920-467d-afdb-5cc655ef2927');\n",
              "          const dataTable =\n",
              "            await google.colab.kernel.invokeFunction('convertToInteractive',\n",
              "                                                     [key], {});\n",
              "          if (!dataTable) return;\n",
              "\n",
              "          const docLinkHtml = 'Like what you see? Visit the ' +\n",
              "            '<a target=\"_blank\" href=https://colab.research.google.com/notebooks/data_table.ipynb>data table notebook</a>'\n",
              "            + ' to learn more about interactive tables.';\n",
              "          element.innerHTML = '';\n",
              "          dataTable['output_type'] = 'display_data';\n",
              "          await google.colab.output.renderOutput(dataTable, element);\n",
              "          const docLink = document.createElement('div');\n",
              "          docLink.innerHTML = docLinkHtml;\n",
              "          element.appendChild(docLink);\n",
              "        }\n",
              "      </script>\n",
              "    </div>\n",
              "  </div>\n",
              "  "
            ],
            "text/plain": [
              "   0  1\n",
              "0  A  1\n",
              "1  B  2\n",
              "2  X  3\n",
              "3  D  4\n",
              "4  E  5"
            ]
          },
          "metadata": {}
        }
      ]
    },
    {
      "cell_type": "markdown",
      "source": [
        "5. Write a Pandas program to check the equality of two given series."
      ],
      "metadata": {
        "id": "PYgjhXQICwiq"
      }
    },
    {
      "cell_type": "code",
      "source": [
        "ds1 = pd.Series([2, 4, 6, 8, 10])\n",
        "ds2 = pd.Series([1, 6, 5, 8, 10])\n",
        "print(\"Series 1:\\n\", ds1)\n",
        "print(ds1 == ds2)"
      ],
      "metadata": {
        "colab": {
          "base_uri": "https://localhost:8080/"
        },
        "id": "81OiaTcTCkN0",
        "outputId": "96522e5f-3ed4-435d-b6b1-0f981e64e08a"
      },
      "execution_count": null,
      "outputs": [
        {
          "output_type": "stream",
          "name": "stdout",
          "text": [
            "Series 1:\n",
            " 0     2\n",
            "1     4\n",
            "2     6\n",
            "3     8\n",
            "4    10\n",
            "dtype: int64\n",
            "0    False\n",
            "1    False\n",
            "2    False\n",
            "3     True\n",
            "4     True\n",
            "dtype: bool\n"
          ]
        }
      ]
    },
    {
      "cell_type": "markdown",
      "source": [
        "6. Write a Pandas program to get the numeric representation of an array by identifying distinct values of a given column of a dataframe."
      ],
      "metadata": {
        "id": "hXCpw9peEX5N"
      }
    },
    {
      "cell_type": "code",
      "source": [
        "array = np.array([['Alberto Franco', '17/05/2002', '18.5'],\n",
        "                  ['Gino Mcneill', '16/02/1999', '21.2'],\n",
        "                  ['Ryan Parkes', '25/09/1998', '22.5'],\n",
        "                  ['Eesha Hinton', '11/05/2002', '22.0'],\n",
        "                  ['Gino Mcneill', '15/09/1997', '23.0']])\n",
        "index_values = [0, 1, 2, 3, 4]\n",
        "column_values = ['Name', 'Date_of_birth', 'Age']\n",
        "df = pd.DataFrame(data = array, index = index_values, columns = column_values)\n",
        "print(df)\n",
        "# OR\n",
        "# df = pd.DataFrame({\n",
        "#     'Name': ['Alberto Franco','Gino Mcneill','Ryan Parkes', 'Eesha Hinton', 'Gino Mcneill'],\n",
        "#     'Date_Of_Birth ': ['17/05/2002','16/02/1999','25/09/1998','11/05/2002','15/09/1997'],\n",
        "#     'Age': [18.5, 21.2, 22.5, 22, 23]\n",
        "# })\n",
        "# print(df)"
      ],
      "metadata": {
        "colab": {
          "base_uri": "https://localhost:8080/"
        },
        "id": "KQK301jTDTQv",
        "outputId": "453926ce-5221-4f3a-a65b-8979e71f8edd"
      },
      "execution_count": null,
      "outputs": [
        {
          "output_type": "stream",
          "name": "stdout",
          "text": [
            "             Name Date_of_birth   Age\n",
            "0  Alberto Franco    17/05/2002  18.5\n",
            "1    Gino Mcneill    16/02/1999  21.2\n",
            "2     Ryan Parkes    25/09/1998  22.5\n",
            "3    Eesha Hinton    11/05/2002  22.0\n",
            "4    Gino Mcneill    15/09/1997  23.0\n"
          ]
        }
      ]
    },
    {
      "cell_type": "code",
      "source": [
        "label1, unique1 = pd.factorize(df['Name'])\n",
        "print(\"Numeric representation of an array by identifying distinct values:\")\n",
        "print(label1)\n",
        "print(unique1)"
      ],
      "metadata": {
        "colab": {
          "base_uri": "https://localhost:8080/"
        },
        "id": "drXfjkUzF3QA",
        "outputId": "98aaaf41-7026-463e-a3b8-ba9b631efa49"
      },
      "execution_count": null,
      "outputs": [
        {
          "output_type": "stream",
          "name": "stdout",
          "text": [
            "Numeric representation of an array by identifying distinct values:\n",
            "[0 1 2 3 1]\n",
            "Index(['Alberto Franco', 'Gino Mcneill', 'Ryan Parkes', 'Eesha Hinton'], dtype='object')\n"
          ]
        }
      ]
    },
    {
      "cell_type": "markdown",
      "source": [
        "7. Write a Pandas program to replace the current value in a dataframe column based on last largest value. If the current value is less than last largest value replaces the value with 0. "
      ],
      "metadata": {
        "id": "JBRgZtekI2OK"
      }
    },
    {
      "cell_type": "code",
      "source": [
        "df1=pd.DataFrame({'rnum':[23, 21, 27, 22, 34, 33, 34, 31, 25, 22, 34, 19, 31, 32, 19]})\n",
        "print(\"Original DataFrame:\")\n",
        "print(df1)\n",
        "df1['rnum']=df1.rnum.where(df1.rnum.eq(df1.rnum.cummax()),0)\n",
        "print(\"Replace current value in a dataframe column based on last largest value:\")\n",
        "print(df1)"
      ],
      "metadata": {
        "colab": {
          "base_uri": "https://localhost:8080/"
        },
        "id": "SUSlHbFnHRir",
        "outputId": "bc7b8b30-c9c7-449f-b1de-c4ab0a370a9a"
      },
      "execution_count": null,
      "outputs": [
        {
          "output_type": "stream",
          "name": "stdout",
          "text": [
            "Original DataFrame:\n",
            "    rnum\n",
            "0     23\n",
            "1     21\n",
            "2     27\n",
            "3     22\n",
            "4     34\n",
            "5     33\n",
            "6     34\n",
            "7     31\n",
            "8     25\n",
            "9     22\n",
            "10    34\n",
            "11    19\n",
            "12    31\n",
            "13    32\n",
            "14    19\n",
            "Replace current value in a dataframe column based on last largest value:\n",
            "    rnum\n",
            "0     23\n",
            "1      0\n",
            "2     27\n",
            "3      0\n",
            "4     34\n",
            "5      0\n",
            "6     34\n",
            "7      0\n",
            "8      0\n",
            "9      0\n",
            "10    34\n",
            "11     0\n",
            "12     0\n",
            "13     0\n",
            "14     0\n"
          ]
        }
      ]
    },
    {
      "cell_type": "markdown",
      "source": [
        "8. Write a Pandas program to create a DataFrame from the clipboard (data from an Excel spreadsheet or a Google Sheet)"
      ],
      "metadata": {
        "id": "prCqIIsPEeoo"
      }
    },
    {
      "cell_type": "code",
      "source": [
        "df = pd.read_clipboard()\n",
        "df\n",
        "# This will not work in google colab as this ide doen't have permissions to access local data, \n",
        "# this code will work in Jupyter Notebook\n",
        "# Below shown screen shot is of jupyter notebook "
      ],
      "metadata": {
        "id": "Hg1cWF2XynnB"
      },
      "execution_count": null,
      "outputs": []
    },
    {
      "cell_type": "markdown",
      "source": [
        "![clipboard.png](data:image/png;base64,iVBORw0KGgoAAAANSUhEUgAABUMAAAF/CAYAAABjUthTAAAAAXNSR0IArs4c6QAAAARnQU1BAACxjwv8YQUAAAAJcEhZcwAADsMAAA7DAcdvqGQAAJ5XSURBVHhe7d0JnBT1nf//9wwMp1wiN+qMEg/wFkXAKOCdbIJCREXEK9mNUaNR1+MvEkV9KKxETWLi/na9UFFREJI1ikGEKCCKgigoiswo960iNzPzr8+3qnqqe7rnvvv1TMruOrq7ru6h3/35fitj3bp1hQKAMigsLHTD3r17VVBQoM6dOwdzANQX3t99ZWZmKisrSxkZGW4AAAAAgHSRGdwCQInCINRC0D179qhNmzbBHAD1ib137T1s7+XwfQ0AAAAA6YIwFECZhWGoVYY2bdo0mAqgPrGK0LC6myAUAAAAQLohDAVQqrB6zMITG/bt2+ea2QKofxo3buzew+H7OXx/AwAAAEA6IM0AUCZhWJKfn+8GAPVX9H1MEAoAAAAgndR6GLpw4cLgHoC6Lqwgs2oyAPUXFaEAAAAA0lWth6EfffRRcA9AXRYNQglDgfotfB8TiAIAAABIN/W+mXzG9s1q/MVMZS2Y6Aa7b9MAVA+CEwDm73//e3APAAAAAOqPjHXr1rlk44cfftCf//xnvf/++25GaU4++WRdd9112m+//YIpFfPEE0/o6quvDsbKLmPrKjWd899q9NW7UkFC/4WZjZR/6Kna3f8/VNiuezARQEVZABr2Mbhr1y599913Ovroo4O5AOqbTz75RG3atFGzZs3UqFEjN2RkZARzy2bIkCGaMmVKMAYAAAAA9UOsMvTBBx8scxBqbFkLT2uDBaAtnr9ajb6c7QehTVqqsE1XN9h9m2bz3DIWlgKoElVVFZr1+jVqNq6Vmj3YvPgwtqUa/+vuYEkA1YlKbwAAAADpJhaGLl26NLhXduUJT6tKo5UL1fQfY5SffbJ2//Ru7fj3V7X92te146oX3eDue9Nsni3T7B/3uMeUz1bNHDPEVb3EhjEzvakVtHWmxlTm8eWx7EkNeXJZMALUPRnrF6vRJ89JBfuCKQkKC5S5+fNgpLw+01/P+av336gtevPOO/XmlmC0zOy5Uj0u2euUbsubd+rO8q9IoKLbUYM++6vOSbLPbLv/Wt6dVZItb+rOO9/09khVqtgxBQAAAID64F//+pcmT56s5557zg1236bVRa+++qq2bEn9jc/m2TIVVa/6DM3Yu0uNP/0/7Rz+/7Tr3+7VvsMGqbBl+2BuEZtm82yZHcP/xz3GHls+x+m6J6a4JoA2PHHqu7p6yJOq2pjRQtcxmlllKan3fC+t0nUXHB6MA0Xy8vI0c+bMYCyeTbf5NSFz1RwXhOYfe6V23b4zbth9uV/JnZ9zljJXesvVsM/+ek4ktDtS10y/X2fv74/Fz2toqi5o7d1bGj++gkFltYSc9d9XX32lN998MxiLZ9NtPgAAAACU5LTTTtPQoUM1YsQIN9j9xo0b18lA9PTTT9fs2bOTBqI2zebZMhUVF4aGwV/0fklDjdv1nXaffYcK22cHE0pny9pj7LGV0W7QaD1x3Sq9VHXJZdXbulDvdr9Ig9oF40DEihUrXNcWiYGojdt0m1/t9u1S44+fcncbebeJTeSbPnOqlJGh/EPOVdYbv3HLoX5Z0H2EHuk+Xi9RYlllLOwcP358sUDUxm06YSgAAACAZL7++mu98MILsWrQcLBpNq9fv37asGFDsHTdsf/++ycNRKNBqC1TUfWqMrSwVSepUeNgrBy8x7jHVlK740+V3l0Ya+6+7MmiZvRjYiHpMj0Za16fpOrTmsy75fM0c8zV+vOiRfrz1d6yYdN2a+ae7PFBU/tlM8fE5ie2ht+68F11709VKJIbNGiQu+hZNBANg1CbbvOrW+bq+crY8InUvJ123fJtfGXobdtV2P5wFXY+QRk7NqqwzcHBo6qWX+FpTaLP0Tk2BOWeNv3GqdLUG71prjqxqNl08XkJrKIxfL64ptaR1/GmLwimVlpiBWV0PLj/2Zt3Bq8bVrTausRXf9p23fnmCr155yUav2CBxl/iLR+Wv7om78G6x17L3ydvuudOXUl65EU3a9WNqZuc2+sWe25b70vGa8GC8bokts7xyyZ2MbC+2DYGouueuJ4lzYsJjlvck9aes88+WzfffHNcIBoGoTbd5gMAAABAorlz5+qSSy6JVYOGg02zeWbnzp3utq5JDESrKgg19SoMrUssCJ3TP6ySfUKnvvsnF1xunfmSVl33RDB9dEKV5jI9efW7OvWJKRo9KFuDRj+h644LmuNfdbgfhN4hPRBW3z5xqt69OtI0f9Gf9ZKuD+Zdp1V3RJvtL9Orf+4uslCUJBqIPvbYYzUahJrMr1737+zcqmYPtY2vDB3bUhmblym/x0/UaPlr3u1P/WWrwdQbZ2nA9OmaPv0RnT/1OReIHXnNdD1yvnT+I970+89W9KO1pHkuxBsv3eyezxsekW50IZo1Pb9Rq25+wZ8+fYC+Gl9lcWjJFozXc7rZf90XwmDySF10szR7QZj+faZZU8/XiLMP0dn3v6Cbe/fWzS94y19zpB8YzhoQrPd0vXD6bI2PpYZTNds9d1EXAsXsb+HdqmA/xHPBsh6Je+5LbDnvMfd769q79816wZvur8Y5mjXAX2769Bd0+uzxReFl0m302LrfKD0SPP/0F7w/npeUYV6Mf9y8hfx9UUdEA9GHH364xoLQv//975Ef6OIHk2y6DfY4AAAAALVr374U1+rwlDSvrogGolUVhBrC0PLq3k3ttFWrV0n/d0f4xc+v8MzbILXr1l2L/nx1sapN6V39achLyn4iMSAtstV70n974CrF8sx2g3TRv/2f5oTPddx1uj58cOK8ZXO06roLih4LpGDB5xlnnKG33nrL3dZUEKrCQjX+6PFgJDULQRt99Y9qDUPPf+Qa+THXkRpw/gJ9td6NVMz6r2LVjK7a0EpIV63UFq3XV7pZN8cSQwsjewf345VU/VghvSOvu//ZGnH+VM2yvLH36ZaG+pWYn83S1PMHBPsh3paV3gfc1Btj63TJ+AVaENtJFqCW/sdn/7O9dVjlB81FtmjlqvP1SCRk3P/sETp/6qyEQNLYskE1rlsPv3o1thopttHWvej4eso4z7dKz915ib4a4YexdY0Fn+eee67eeOMNd1sTFaE/+9nPgh/3ig8m2XQb7HEAAABAQ5HYzDzVUB81b948uJc+CEPLYdmrf5ayOwZj8RdYssGKO3X4Ve5+/zkWko4paua+yBuO8wPTqudfOOnU4+ksFKWzpvFhEGq3iX2IVpfMle9K+3YHY8kVtu6uwubtXXAq7375ddKhvVdpZRXkieVyflGloxusenTLSq0KZpfGKk/Dx95fYtDYXQeWnkOmZuFf99my4tDPZq3SzRelTvx6xypag6Hc6eD+OntEd9nFlCqeNQfVqpH1qImQclWNn0BlY03jwyDUbhP7EAUAAABQPRKbmaca6qOOHcOcq+6JNo2PNpmvrHoVhmZs875S51egjNd7jHtsJViz+DtWhZWZ7dSt+yL9+dVi5Z8xh181RU9cZ12MBmnocafq+tEPSHcU7+szZFWl/xdt+r51pl76v38ravq+6F2FTxc3jwsnoYyifYRee+21xfoQrU6N3703uJdagVWFLreq0J8EU8prfx3YfYHGR67es+XN8Rqv09W7MiFiSTodqt5BU/s4+/f2XjV6IaHP9FJlmslvWaDZOlSu9+P9D1T3BX6oabbYff+uLzLPmvE/N/V8DQhCxCMHdNfsBW9q1qrU+2T/A7trwfiXklRrltOR17iLKT03Oxh3x2dqXPP5LW8+l6JCtfixjJNiG23dp0b7Ky3jPF93jbjfmuNfUjUVulUo2kfo7373u1iTeQJRAAAAAJVhV5mvixL7CE3sQ7Qy6ldlaLM2avrmA8rYnBdMKJ0ta4+xx5ZPcGGjoP+zO/SApowepDBvPPyqJ3Tdqjti84cM8UPMrZELHF397qlFzdqdw3XVFD8Q9S+Y1E52TabYBZQOv8pdsf6O8Dld/6KRZvPHdVfen4rP48JJKItkF0uK9iFa3YFo5qalwb0UWhygfcf9stL9hR55zQu6eVW0iXd3PZLYz2cKRw4432+WHb04USDlvP3P1v2PdPcvPhS8ph+k7a+zb7a+LMPps3RoimbyJQsu5nOJ90fg5nA7/P4/w9cc/1V3xT1z7+76anzwuva4FyJNw48coO7jx0sjovtkf1kL+tgFlI68Ri9Yn59uvf0hSfefZWIXU9KCoqi22PGZfbpeCMs9gwA5vIBS4rJxF6dKtY2J617WeTHecQsC0aQXy6oFyS6WFO1DlEAUAAAAQDKNG6e+CHlJ82pbqoslVVUgmrFu3bpCu2MBmzXvTrxfkrIuV5InnnhCV199dTBWukYrF6rZ1FuVn3OK9h02UPndjlVhy/bBXF/G9s1qtPpjNf7ibWXmztfu88cq/8Djg7n1lF1N/k/S9ZFA1rdMT45ZrQuKTQfi5eXlacWKFUn7CLUg9JBDDlF2dnYwJV5hYaHy8/NdB8u7d+/Wd999p6OPPjqYWzZN/+c47b7o/0pu/v79ajV94Rzt/o9Pgwkoty3BBZ1SBsAWrtoFpBJDQNRVX331lRuS9RFqQeihhx7qhvL45JNP1KZNGzVt2tT9I6hRo0bKyMgI5pZNVfwbAAAAAED1+frrr91V4+37fJT9+79fv346+OCDgyl1y6uvvlosCI0Kw9ILLrggmFI+sTB01KhRLty46KKLyvQF56WXXlJubq5uv/32YErFlDcMNY2+elfNXr9X2htc/r9JSxU29ys/M3Z+J+3Z7u4rq7l2nXeX8g891R+vz1KGoUD1q4owNPObfynrtX9XxndfB1OSaNZGe8/5k/KPvDCYgHIrJQzd8uaduuSrEXXqSumoeYShAAAAANJVLAz94YcfXFPZ999/380ozcknn+ya1+63337BlIqpSBhqMrauUtM5/+2CURXEJ9zKbOQC0N39/0OF7SpyEZY6iDAUtagqwlDUkJRhqFWE3qipvW/WC2XsNgANV1WEoX//+9+5ajwAAACAeicWhtaWioahobBJfMb369x4YevOSZvOA6g4wlCgYamKMBQAAAAA6qP6dQGlJCz03HfYIO3tPdwNdp8gFAAAAAAAAECieh+GAgAAAAAAAEBZ1HoYesIJJwT3AAAAAAAAAKD61HoYevzxxwf3ANQX1ocogPqL9zAAAACAdFWrYSgXawDqh2hwYvftYisA6i97Dye+rwEAAAAgHdRqGMqXL6DuC9+ndmuDXVE+M5PuhoH6zN7D9l4O39cmvAUAAACAhixjzZo1tfbtx754UR0K1F1hOFJQUKD8/Hzt3r1b27ZtU5cuXbT//vu7eQDqn82bN2vdunVq1aqVmjZt6ipFwx85+LsMAAAAoCHL+OKLL2o0DA2/ZFm4whcuoO4LK8fCoW3btmrXrl0wF0B9tXXrVjfY32ILQu2Wv8sAAAAAGrqMnTt30i4OTlgFCAAAAACo//ihEwCKIwxFLASNhqEEowAAAABQ/0QD0PA+oSgAFCEMTWPREDTZfQAAAABA/WPhZzQIJRQFgCKEoWksDD5tsD5co0FoeAsAAAAAqD8SQ9Bo3+DhPABIZ4ShaSoMPm2wINT+QIZXFOYPJAAAAADUX/Y9Lz8/X7t374593yMQBQAfYWiaCkNQGxo3bqzmzZsHcwAAAAAADYX3nV/79u1zgWgYigJAOssMbpFGworQ8H6TJk3cfQAAAABAw2Lf96Lf/8L7AJCuqAxNQ+EfQKsKtaYTbdq0CeYAAAAAABqa7777znWJFm0uD6Bh2b1rl7Zs2qxvv/1W3rtcmfLe840y1KJFSzVukqUmzZpqv1be/caNg0ekL8LQNBSGoRaEWiBKGAoAAAAADZeFoRaEhteIIAwFGo6dO3bom+VfavPGTcr03uP77ddKjbOytGXrNjVt1lSNGlt1eIa6dOmofQUFat6yudq2be19HqRvY3HC0DQUVoWGlaFt27YN5gAAAAAAGhqrFAsrQ+k3FGg4NqxZrc8+/kgqzFSTrCZq07at1qzfqpdf+ZuWLPlUmY0ytX3XXu3ZvVdXXnmZzvvpOdp//3YqLJTatNtPzZs3DZ4pvRCGpiHCUAAAAABIH4ShQMOzOi9Pn3/0gTIaZapR46Zq0rSZVq3ZrCeeeUl5uXnK1B7t3LVD+/ILtH3XPjVv2kSnnHKyrvzVL3XssUd7nwOZard/a7VsmX6BaLnDUPsQrW/hWV1f56+//lqPPfaY/vWvf+njjz920w4++GD9/Oc/17XXXuvum86dO2vdunXufmVUVxi6cuVKt/7Lli1z982BBx6oww8/3HujHevuAwAAAABS++c//+nCyjPPPDOYUnnVHYZ+sfNbvbBpud75fq3W7NnupnVt0lI/bt1FlxzQQ4c1r1vfx+27sLH9EH4vjrI+FW0/2XfnuhYcL168WMOGDXNdH4wYMUL/9V//FcypOvZ9vjq/v993331uv955553BlLrH9q9lNH//+9/dreU2P/vZz/Q///M/daKrwVV5eVqy4H01ysyQd5aqXbt2mjt/kf7fky+pRcsW3nm9T99u2agMl/jla+++Au3Zl68WTbPUu08f3fb/3alOnTtrnzftgI6t1aJFegWiZQ5D7cMhz9vZzZo1U7du3YKp9cPq1au1a9cuZWdnuz8Adcl//ud/6m9/+5sLPu2DzEJDY282G5599lkNHjxY48aNU/PmzeUdLze/MqojDH3rrbfch0Tfvn113HHHxT447UN00aJFbrA/5meccYabDgAAAAC1wb5TzZkzR++88477nmghwiGHHOKCDvvOVZu++uorTZo0yd23wOvQQw919yurusLQvYUFunfVh5qwYZkKrN1tEpnea43seLju6n6isjLqVh+F9n145syZsT5VjX1f7t69u0488UQXita1QNSKjR566CGddtppuvDCCzVq1Ch3vypVZxhqOcevfvUrd9+Cxape98qwwPPPf/6z+2yw/MvWzQb7bLDcxNbbitWqI4Auj53bt2vOm28qf+9e79yUspo20c49+zT2v/5b337/g+sv9PutW7Rr53bt2btPBfn7lKF8ZTVrrqbevAt+MUQ33HSzO68LvLet3Xbt3t4739OnD9EyhaH1OQgN1cVAtE+fPjrmmGPcB0Aq9kfrnHPOcW88+9Coi2HoX/7yF+3YsUNXXnml2rdvH0yNt3nzZj311FNq2bKlrrnmmmAqAAAAANScNWvW6L//+7916qmnqlevXurataubtmTJEr377rv6j//4Dzettjz++OPq3bu3u79ixQoXiFaF6ghDLQgd+eVMzfl+bTClZP1bd9GEHw2qtUDUvgeHwebGjRu1e/du9334zTffdNMs78jKynLTLRzPyclxrTNr+8rbVkV5//33B2O+MBdInGeVlhaOVlZ1hqFnn322LrvsMnffMo6S8pCaZIVoVqx23XXXuWI1y2oSWVhq62+tYWvTx/Pf05rcFZL3NrZrxrfcr6VemjpDr/9zttrst59++GGbdm77Xnv37lLTJt75a6mft6xdSMlysUMOO1z/+/TTatG8qfZ57wGb17JVS3XqmD4X1y41DLUdZUFiq1at1LFjx2Bq/bRhwwZt27ZNBx10kPuQq032JrPS6rJ8UNkfrn//9393lZd1LQy1itCFCxfqlltuCaaUzH7BOv744ytZIbpOL57fRXm3F+r2U4JJ1WDdi+erS97tKrQXee9BZTyYrbVTL1bnYH5N2fD2Qxr/xsZgrKdGjr1cvYIxaYmeuW2ClgZjHc69WbcMLHqfVuaxMRve1kMTpJG3DFRNfwK49f/mPI29vGitq9YGvf3QeH1z3lhV7CXs8W7naODGZ3TbhHBvhjro3Ju9eZXccdW/H0oQO/69tCTFvlryzG16/aAU508Z2OMnaGTK7avc9tt5/roOSnIcSnvdqpN6HXz+eRh7q3Y4VzcH77daPfZRS7zz+/WDYuuFJKp9H8V/ZkfPEwBA2dh3qQcffDBl4BkGpbfffnutVIja6z/zzDO644473Pjvf/973Xjjja5ytbKqIwwdvfIDPb3+82BM6t50P13a6XCd3LqTC0rnfbdWz6z7XN/u2x0sIV3R6QiNOfCkYKz2WPXf3r17tW/fPved2O6fdNJJ+v77712hjxXxtG7d2u2ngQMH1mp+YOeidZdXWtNsq2618LYqMoPqCkOtib9Vs4Zhoq3v/PnzY10D1iYLOS2YLW1drDLXAvTaWucd27dr5t+nKtOCfftfRqYaZzXWfz3yhJZ9vUbNmjRVYxVq+7fr1LVtS3Vpu58aZ2a44LORdx6/89k3ymzWSk9OmKBu3btpz5693tL7VFCYqZyczt65XrdaU1eXEn+SsSDUKkKt2q++B6HGtsG2xZoe2LbVFvs1wZrG2y8OJbEPBvvg69KliwtC60K/FFH2AWnrZRWhiV566SVXMZrIlp0xY4Z7LHzvPZih819M0Res9+V6/BsdNHLsWI31hpvP3agJD72tDW6mH8RtPPdmN2/s2JHq8MZ4PbPEzazcYyOWvP6GdGKvqvnCbcHabc94X+kbiCWv6w2dqF7hzrFwItjfbhjZQW+Mv00Pve3v9WpRzfu0So+/Y4HOQ4rukl6Xe/sqFvYVn19d4l+3Fm3wjt554Xlzs871zqoJNbEDUCkWplfrezvRkgXyPtA5TwCgEqwvTqsITVX5adNtvi1X0yzAsu9JZ511VjBFbl2qqiCmqlkfodY0PnRWu4M08/gh6tq0pV5c/4VeWv+l+rTurH8dP1RHtigKc+0x9tiaZgVBFjbbd3EL4qwK1Aq+WrRo4cLhMOw88sgj3Xfw7du3u2VtsLC0tpUlC6hreUEiC2utkjVaEGaZiE2rCyyoLUuhmJ0/tRnerl3pnZNW2FZQqIJCv8AtM7ORCztbNG+p5i1aqiB/rw5q11x9Dumo47Lb6zjv9oiurdWjcwv9rH8vtW7Zwn8yVySXr/x93nN5z/P99zv86WkgZRgaBqEWyFW2GXVdYtti22TbVluBqL3ZrSy8tP1qv/7YH75wqIqLJ1Ul6wfU+ghN1jS+X79+bkhky1qfovZYlG7Dho1Sz96xas6OvU5Uh43fyC8g26hvNnbQibEkrpd69/SmbvC/HFfmsUWWaMHSnjqvsqWNDdSSBUvV87wSKrN6Xa6xN58rvfF6PQ2AOf41ouNADYxlsh3V68QO2vhNWCYKBLzPk6LsnvMEACrCwjBrGl8Sm2/LVTdrlj9hwgRXiXrbbbe5ilUL7KLrZ2GoTbN5towta4+xx9Y2u1hS2Edot6Yt9cfDTtfvvvyXbvCGlzcu16ubvtLwpdM1cf0y/emwAW45Y4+xx9Y0qwD94osvtGrVKtdi1Kr7fvSjH7kWi1Y0ZU3jc3Nz9f7777v7Ns2qQy0wrYoq2oqyALEsLLS1fi7rEgvyrZsH6/bPAmbb58aaoIeuv/56F0La/OhgmU1NO+2001yz/ShbN2ulm7h+0cG20ZarKWtWfuNCTBUWeP8vdKFoVqPG6t6tk7Zs2qRMb16nrN0696Rj1Kf3CfrRYYdpX2G+Pv56nT5e4f3bcc8uHdOju3b+4F9lfs+ePS4bsx8A1m/YFLxKw5c0DLUS+m+++cb1r9mQgtCQbZOVfNs2Whl8TbMPKuuAt76zX0Qs2EzGmhbYB0My9pgq72PDmrF7f6Riw4PvBTMC617U+ZH5sUrMhMelrNAM5L14ftHyia9RyjpYBWhs3vkvap1r7p+hvndI0y7p4k0/X/byVm10W1Ci6QLMpa/HquQ2LPlQG2MBpwWYG/XG6+E/hiy4Kgo4K/PYmCULtDT2GKsmvU3PeP/4esb7x5j9g+y2YhV8/jL+vIT51oR0/BvaqKWaYPNiZagJj0lSnmpNhVPOt+cN5yV9fHR9bSihitJVWRZVe7ljET4uVlUb8oPC3iX/e9oOhE7ssFQLYi9a0vbGr2vyqrPg8bY+Zd2nCcfJ7U9v2RL3q4k7/mVk6+St25Jkz+32rzXz9c698d70YJ+G65NqfnEl7af4bS+pci/2uk5YkZr8/E5WBVj0Xg0eu8Q/f/zHJjvPkj93HG8fTHhDOve8ZHs9cuyj4+FzRo9hcBzeDs5hf/f62xs9rxO3Ke6cKHfFcen7If75/fXyFX+sv27RfZa4PtF5JR/r5ILXLPcxn+v2u/WKsfGN8XGPMRuj2xg9Jqakz6uS3jvFLJEVbSc/TwAAqVjYZdWf1jdo3OdxMNh0m2/LVTe7SJK1ALSLzFrV/z333KPLL7887juU3bdpNs+WsWXtu2x4gaXaZFeND13W6QjN+W6NXtucF0wp8uA3H+oXn/4jGPNFH1uTrO9PC0VtsADICo4sbLZqXLtgkoWk1orU+mrt2bOnqxa1ZWuL9WF5xBFH6Mc//nEwJTlbzq5Hcu+995a6bE2yiw1Zv5vWj2lY3GXnbrSC1e5bM/loEVi4bE1LFoZaIZt1s5i4ftHBtvFPf/pT8Ijqt2PbDyq0ik7v3LXz1+zctUtnDPixDsvppj2bv9YR3durVevWrn/eLevXa8lX67X6+3zta9JE677fqfZN8vXZ/z2jjevXauuWTdq0aa02bVitbzfV/H63fMwyyCgbt+mJPv744+Be5SUNQ+1DwPrMsA8C+9WpPMPnnxf1GVJT7DWTrUtJg1WG2jbWxpvMfrEJrxpfXuGvKXWB/aqWqh8R+9XNhmTsMfbYKmMhZN/39MJa/8OgsHCtXnivb1GwaUFolxd1cWz+PF3sz9F7s6R5wYdI4bwHNO2Sp5UQcRaZdoke1OP+smtf0OA7+iqWd5a2Dt78vu+9oLXBa629Pdub2FkXTy2U97Ia/MJab/pUXZz4A1jHgbrl5hP1oQVD3j/QEvsOtGa+IzUh+AdcQp+ElXmss0Fvv75UPRPSvqUTFqi3a6bpPd4C1QnRYGa83ugwMmjG6Q2umXgQYARVkh1c36XePLcu/mM+PDFsrn+zzt04Ib65/tIJfr+OkfmxgMLCgwkbde7NweslzndhR7Q7gMTuAiIsiBv/hjqMHOv3fek994SNRc3ebz4vPije8PbrZQwKO6pjh7DqtuTtXfJMdF1vVsJLeiL72PoKLGGfpjwOoZL2q+M9T5LjXyYb39Dr4XPb+nmv5bbRzsmxI721tb5UvXmJ/R2WNt/xj2lRc2Hr4mFCEEYl7t+xOu+bN4r6WCyVhbBF53d0v/Xq3VMbP1zivULI/wGhKIyyHxdsteyx3v7ssFQT4k7k1M8d487BD3Vi0r5FE459sW2NP5cc7zh809t/vdhb3zsWC4JpY0d62xTbd/byD2n8hycWnfP2Xol7wrIoaT9s0JJvos/fQUtfj74XI491FdUWNIb7zH+u1xPe28nPAxMNOOOH+E2qyDHvp4G32Oef9Yxh+z9yvFKd+6bUzytPSY/3FAXZts6p+qAFAKRi4aNVfVrFpf9ZHD/YdJtvy1U3K46x8DVVAUkydmV5G+pCYc2aPduDe9KJrTvptU3Fg9BQtM9QE31sTbPvYuH1M6x5vOUCVtW3//77u/DTjocN8+bNc/PDx9QGC+Lee+891z9lSWw5CxRtudKWrUl2xXXrm7W+FNhZGGrdGUZZdWvidV4SMxmb/9xzzwVj1c8ujuQyB+8ctuby3ojr97NVq5a68/bfatDA0/VDo/00dfZ8vfHWv7zzOMs1iz+0Uzv1Oqir+hzZQ53bt9QPa77Q6mUL9d3WDdqxdZN2bf9OG9ZXf1V8VBj4n3uu92//gIWg9hls06Mhqe33U045pdgxqqikYaiVhNsHgVWGWpl+eQZb4Zpmr5lsXUoabNtsG2uj/NokJt9lEVbsIt57s+7Q4BcejwSJnXXx7Q9o2ouzZFHke09fIsXNP0UXByOn3H67NxY4ZYAe0HvKS5WPD35Bj4dP0vlieS+h94KFS1sHZ1qewn8idPbexLFFE8T1Y+i+PIfBgjf0XuB9CQ4DFAtDbisKNsaOlCZEKpkq81izYYk+1LlKLDzqObLoIky9zvO+rIdN7235jT01MhK4egu4AKOoKjJB8JiiZtgdNfC8nloafUDPkZEL8/jzw4DCmql3OHdkJBCIn+8qGzucq5GRxKDjwPPUc+OHWhLZVG9BPRMEodHVV6xbAe9x3udG0bNs0JIPK1CVVYbtLWr22tH7rCp6RbPkmSAMi1vJBGU9DiXsVyfF8S+T6D7vOFDeUyfpgqGCgmNatF695J2G+tAOaLH9a+8nC1fLykLYyEXGovvN7usNFRVT23pE+ou1x44Mw1t/f3obXbQ/S3pux3tPTrBzMHnAVezYl+W9E7efAt5xj50abh2sywwbsXN6Y1y3D+69snRB8JlRViXtB2/88sjzx3XdYSKPdRXVtgnnBfssoVl4SedBMH55+NmXMMS/fSpzzJMo4dwv9fPKlPLecX8f3Hb01oLbKlINCwDpza4QboUxJbH5qfoUrUp2xXgLNa3pe0nN8q3/0kceecT9GGa3a9eujV1tvq74du8uNc4o3pTcpmR6/7WhLrAA1DRt2tT1GWqhp/UZasGS9btozeZtni1nBTw23Vr1haFoTStrE/myLlfTrGtAC0TtwkQlNSMPr5USHWojpwmvHp+sIjGqtjOZwkI/zPcrQwvcYOfpvr35ysxorCOOP0kHZ3fT4TnZOqxnT/U67mQde8SPdFzn1jqqY3t1aN1WzbK887xJExXs3KbCfXu85/Ae6z1P7ZzptfODQ9JtteTeSoHtIjcVCe3qOtsm2zbbRrtCXE2zN1lF+pSwx4Rv0LrAmhJU5EJI9hh7bNVYp7z3pFOyEz4ss7M12IWPKeaH4prP95V/3cbyKm0dPKfcrsJ5Ul/3On5z+NJt8Cvzon1S9rpcI3sGX9TdxXuiYYD3xXqkSwO8R1bmsT5rVl+uC+dYqNHhIHUIRn3RqsgkXBASNPEOB9f2NBoiJYi9hrfMRm+0Y8Ia2vwgYHH9pnbw1sGfE+igg2IBkG/pBL8iMy4ksapLlxHbesU3g/WDwlJCkZjIepayvXHVuonVq1bJaZWq8UlOcRU5DibhMeU9/sWOQzVxx3TjGxof2Yfj39joh2RJt70y/P3m88O4MGwstb/YUkWfO2TnZnA3Ktmxr8h7p0T+e2LphMjz3eZ3WVBVObZjP9KEz++6eEjF3z+pzqsSz4NKqa5jXvrnVfn00uWuera+9kcMALXDmkNbNWaq8NGm2/yaqrwsLRC18NMuqmQBqLHbMBytbV2btAzuSYt+2KShHXsEYz6LPz/rc5nWnfpLN1zZ+Uh/hif62Jpm3/us6sy+j3br1s0F3xaMNmnSxA12xX3ToUMH10Telq+tylALEq3wy/rcLIktZ83kbbnSlq1pZQlEE6+VYkNtXS/ltCRN5esau0iSqwz1Tkvv9PT/E/m9oWvnjjrcO8fPOOlYHdr5AGXs26PGBXv19Urv823+PC1a9L52fLtRmQccqKy2HZS/z64m72tVwxfhsvPDWnpPnz49mCJ3cSr7rLPp0api62rRKqWjfc5WRsrg1z4QrHrSTsKGFIjattg22bbZNtaGir7BrETbHltXWJlyRS6EZI+puub+nZV9SlGFZpzB2couab5rPp+n290HiQ3z9EAwq3xKW4eABaL2Omsv1otdyhqI1ha/P7pifYiWpIQv9SmDMntMh4QrsNuQtHl0IPYaJQR8QSDW0V8gSTgUHzr1HOlfTb9YlZUForY+rruBSF+C5bnCejR4LsP2hpVfN5/4ocZHA9GeIzWywxvx05KpyHEwcY9JdvxT7W8/5Kkp7ph6+yJu/9lgQWGybffWt+KrF79tfj+8Vim5pGz9xZYocb911MBbUjR7TnbsK/LeKZG9J6xKMuH5qrIptgWhrx9UtM7WDDyYVV4lngdOWZvJJ6quY1765xUAoPpZxdl//Md/6NFHH3UhYxhA2q2NWyhp3xG3bt3qptcEC0StYjUxDLXQMwxBzd133x3cKwpFa9OPWxd1JfDE2iU6pHkb3dj9uFgVqIUrp3w4Sf+3qXj/q9HH1iSrprPvYxZyWpd5Vg1q42HFaMjGLRS3fkVtqC1hUFRadmDLWVBkfXPWxSDP1u+0006r0v4eq4utZ7Im79Gq1eh4bVSwtthvP++/3jvMKkTdTZBneFML8guU1bS5WrRspQ1r12jJsi808eXJWvzZV1rx3V4t27RL67/frR3bf5Ca7qeMrKbuYkwZ3qO9Z1NWVmP3GjXJws/ErhRsPNkV+yva3WQyJVbB2h8C65Nk8+bN2rix4l8n6woLQW1bbJtqKwg11113nes7ozwhs5Vq25vSHltXhFeFt31aVrasPSbZleYr6pQB1tfnryPh4jq9+OtLpIsHuKboxee/pxdtJC9P06Jh5XuzKlgZWvo6rHvxwaJ5nbOLmuYnUXRRlqAqKdqn3pJnNCH8Qt6rt3pa/3KxL/Z+M1s/pKvMYz3WHLTneeULQYILBcX1MRh9zWTsMXpDE0pq6hm5CJT3hHpmQlF1luvTL66fwITtCLYz+vwb3p7gvWJiVac1qY0PRDe8/UzR83bsGAkr/FCkLFdYdxeLsT4Co01/U26vt+7PFB0vF/YkcJWjpQWiZT0OJezXVMe/+P4O92eS5tjVxY5pQj+KMe44RfuV9Dbl9Wj1obePHyqpabH1WVn0xMW2zTVb9p7/ode1MdZ8u6xKee5S1q3YsS/Le6dc7DNDkT6Aq15ipba7qFtwv9xKOg+csjaTr85jHq/Uz6tSLHkm2ses/9iii+IBAMrKKgEtWLTwILyS+zPeZ+yWLVt0++23uwsW2XiySs3qYpVw7dq1C8Z8ic35wxAmVFpz/+p2yQE9lOnK0qRdBfkavuQN/dsBOZrfe5juy+mrcYf211vHXaACFWr65qJmx/YYe2xNc2FRMFizd7uYkoWhtu9tmlWAWnNzC0ltvlVkHn300erbt6+rGK0tyQKhZOxCRBbk1VWWfaTalrrSTN5YcGvng/VNGRWtWo2O10YFa9eDs713lV+xbDl+gQtFC5VfaPfzlemd23szMvX9tu/0+epNytq/m/qcdq7O6tNXJxyWo2MPz9a2nXukrKbeeW/vUHs2773pPUeXGugipK4otUuAsO9Qu+r66tWrg6n1j6379u3b3bbYNtUm+xCwN5n9KllWdiW2ESNGlPnDsCZYPyp2RcOnn346mFLEmnska17y1FNPuce0b98+mFIFXBP0U3RJl7C5exe9ePFaTQ078Cw2v6/yrEn7KVfoBV2iLm6aN8xSBStDPaWsQ+ds7x8MkdfXvKKLJZ1yxQs205tevFq048Bb/ArBsKrJXXwj7N/OD/Csr0+/4snvUzDsB7Iyj3XNQctdAmWVbf4FQfzntNe0Pksj/fEFwULRlc/tMX4IGXuMN8QFHD1PjKxnQnN215TdLngSzvcvKFPUF2ZRyBk+t7tATNLqOW/Z8KItD71tqxZ5XtuQoELOBYUpAojEZrt20aq4yrqSttdCosjj3UsWX89el3v72C0XVKom3aelHAdTwn5NefyL7e+S9mcqft+Oqa8WX/p8O04b45pzh1W7xY/3gt4jy9dn6EHWt67/2PFvdCh2DFygtTGxarYsSn/u0sQf+zK8d8rJPjNc4Bp5vtRXMy8/vw/SovNywjcdKlERWdJ5UB4VP+bWZ7L7vCjr65b6eVWyDgdt9N/nwWNL7T8YAJCShS3WZD68Svsdd9yhYcOGuekWltZ0IGpXr7eCnaiwKtSCW1tHY7dhhWi0arQ2HNa8rUZ2LGrtt3zndzr346m6dfkcbd63y43/6vO39EtveHHDF5r7vf9Fxx5jj61p9j3MWIBkIdauXbtcoY71/+iHSgXuAtJWCWrLWgh6wgknuBaN4WPrurrad6ixi0hHw1q7cE7YbN4CxTBcrM2QMWQXofp//+//BWN1TzfLhOycLfQDUfufhaEWiuZbsGnna5uOatGmnQafPVB9j+2prStXaPU3y7V/m2YuJP1i1QY13a+VGlkiGJzf1mNol25V1Z1h3ZfhnWhWTVsq+9XErrRmFZXWt0Z9YkGofdhZEBr2AVIX2B9c+/B94403Ul5hzSpC//3f/9390jNp0qRgauWEH/Y22HFN9dpl9Ze//MV9YF1xxRUpQ077Q2Ohqf0D4ze/+U0wFXWSu6L1NzovMTyDx6r3xuub8xKry+oXd9VwC2qTbUTaHn9rVv26Dkp6JfeIsKl3OYNM1EUccwBAahaEWiBqwWh1XlDJmuQ//vjjLpC1MO7ll1/WDTfc4KpWo4GnBaH2g1jI+r288cYbg7HSWWWefRe2qkcbqiLg21tYoJFfztSc78sWzPZv3UUTfjRIWRml1mRVOQs5LZCz7Q6bvof7wQarCLW8wC6gZN9ZO3Xq5JYxtlxtsqvF33///cGYXHP48Arntq5R0XmVYdf5sOKnqmCZhvUZak35rRm/5Rt2/ZaHHnqoTl0TJRnbv5Z1RJV1WnWaP3uW8r5YJu/drAzv/GzUuLEaZTXz3uPWzD1DTZq30dIP5mjDJ3N1/LHHaM2mb7V143q1alaoV99ZpP3attVZA/qpoGUHHXLE4cpq0kRdDj5Yvfv08V8gDZT5XW0fnPZrVcuWtdfZcUXZOtu616Ug1NivDT/+8Y9dCf6tt97q+gS1P1I22Ae1feBZebZ9QNTlXyYs3LQm8/ZhZoHtF198oR07drjB7ts0m2fLEITWfe7COZVsDtpgVeYK6/UEx78kCd0JpCULEMPqxMhQUtcN9RrHHADSVVghWlUFKalY83wL4yz8tNe68MILXbDSq1f8v8YSg5bE+bXBQk0LN6/odESsyXwyNs+Wqa0g1FigaYVdtq+tiXw0G7B5rVq1clWg1n+rBc02LRxqm4WbdvxtsAvNWKBoAaNVV1qeEM6zoSqC0Kpm62r73S7u9J//+Z8u27Dqy7oehBprnRsNoo3t5ygLq2vqomuho044UY2zmrhm8QUF1vdtpCsIZWrP9m91zGk/1bb2R+nJyW9o6Rd5+vjzFZo4/X2t316o3od10/drv9byJUu0a+duNWnWXD2POip49vRQ5spQVB/rSNj6A7UPtbBU3D4YrIzc3nxV2UmsqerK0JD9emT9gdovPqtWrXLT7Cp99kfF+git0qbxACqsxMrQtFVylaD15WsXa+9wbtmbNaOu45gDAGqfBStWFGMhnF1MKcquGp+sOXx5q0JNdVSGRn2x81u9sGm53vl+rdbs2e6m2VXj7WJJ1kdobTSNT2TffW2w78Hh9tt3Y7tv+8aGcF5dCEFTsUDRglDLDKqrurIqK0Ot+f4tt9zi8g3rLrA+sXzGwk57j6Zimc31119f4+HuytxcvfvmdEvz1bhxlhpnNVVmRpYbz88vVI8Tf6IVi9/XCw/fpm8279LGrVu1f+vm6n/UgeraJkvfb9+uT7/5Vmdd8isNueQX6ty1di5sVlsIQ9NQdYWhAAAAAICqY1eNt4slWShqIahVhFp/p+VV3WEogJr31eefa96st1wY2qhxMzVp1lo/7CpQRtZ+6nF0f+3e+YOm3jdCh+Z015ZtO5SZv1uZhXu0b89e7dm3V59/vUGj//clHXXc0cEzpg/C0DREGAoAAAAA6YMwFGiYVn79jT6c/7HUqKX2qZG2btqgjt1y1L7zQSrML9AHb07U5gV/U7eDuqugsff+LyzQ9m3fS1nNde6Vv9XRffoHz5ReCEPTkOtHwhvCJgJ2cSYAAAAAQMNkTZUtBLVA1IJQwlCg4dixc4++yt2ojz9cqGbNW2q/9l3UrEUb7bdfa61f842+W/OVVkz/q1q3a+X6zu3Ru796n3OBWu9/QPAM6YcwNA2FYWhYGUoYCgAAAAANl4WhYWUoYSjQMP3ww05t+W6P1m/4Xrv37FOLdgdq64bVOqBrV32f+5Ea71ypo/oNUKs0DkFDhKFpKAxDw+pQu9q+/WEEAAAAADQs9p1v+/btcVWhhKEA0lndvUQaqk30j5/d7tmzx90HAAAAADQs9n0v+v0vvA8A6YrK0DQVrQ615vLWXKJp06axXwsBAAAAAPVT2Apw9+7dse97YRDK9z0A6Y4wNI0lBqLh/XAeAAAAAKB+CcPOMPgkCAWAeIShaSwafCa7DwAAAACof6LBZ+J9AEh3hKGIC0JDBKIAAAAAUP9EA09CUAAojjAUMQSgAAAAANBwEIICQHEZb7/9NgkYAAAAAAAAgAYvo5ByQAAAAAAAAABpIDO4BQAAAAAAAIAGjTAUAAAAAAAAQFogDAUAAAAAAACQFghDAQAAAAAAAKQFLqCEeik/P19r1qzR9Olv6oAD2uvcc89V06ZNlZGRESwBAAAAAEhnFnbk5xdq++592rZrj3btydfe/ALlFxTIvjk2ysxQVqNMtW7RRK2bN1FW40xl1tB3yiVLlmjXrl3BWMPQrFkz9erVKxgD6i7CUNQqCzXtFGzUqFFRkFlYIBV40/P3Svv2uPveTCmzsTIaN3G33t8z/eP1N/TRRx8pKytLF100TIcccghhKAAAAADAyS8o1MrNO/TOsvX6bPW3WvftDm3bsUfbd+1WY++rY/OsTLVq1lhHdm+r03t1U6+DDlDzJo2DR1evDz/8UCeeeGIw1jA0xG1Cw0QzedSq9Rs26KsVK9wvYi6XLyxQ4fatKlj/pfZ9+k/tnf2/2vPmo9oz48/a+95E5X81TwVbvpH27lSnTh3Vtm1btW/fXm3atAmesWGwfcHvFAAAAABQMQXe96mde/P1z0/XasGKzWrXookyVagfdu7W7r373O2G77Zr+dqtev3DXD0141N9s/F79zgADRuVoahVL02apJUrV2rwz36mQw/qIm3K1b6lM7VvyQwVfrtGhVYV6ho3+BWfGU1aqFG3nso8+jwVHnSCvvl2j/Zr3VqdOnVWZmb9zvbtrVhQUKBNmzbpu+++U4cOHdSuXbtgLgAAAACgrKwqdOv2PXrgb5/ooPYt9bPju+vV93P19qertH3XHvfdq8BaKtqt972zkfe985YhJ+u83ocoy7VcDJ6omlAZCtQeKkNRq7p3765DsrPVskmm8pfP0+7XH9Led59WwYavvD9K+5SR1VwZzVoro+l+ymiUpcJd27Tvy7na+49x0rxndEjbRurcqVON9etS3axCdubMmZowYYJWrFgRTAUAAAAAlJcVnHy/Y4+Wr/tO//xklXf7rasKtQC0MBKEWii6zxs2f7/Dhah+QQ6AhoowFLXqpN4n6uxBp6vDzpXaN+85FWxdrcwDj1XW8T9Xk36XqcnpV6vJgF+5Ieu0q5R1ysVqfNTZyjzgYOUvnam97zwtfbvGe6aS/1iFVZc2hP2UmnDcBrsfFc6z23B5uw2nhfP37t2r3bt3u9vo84SvadNsCJ8jFD7Xvn37Ys+3Z88ebdiwQdu2bXPTw+eMPjZ8nC1rgy1jj01cxqbZc4Svb/dtqJRVEzU0I0NDX1gXTEhQ2vyU1mnisKGauCoY9ax7YagyMu7XvGDcPfewid6SoXm6v0KvlcR797v+Zu9/LxgHAAAAUO/YVyJr5m6Bpg12f9++fH294Xv934dfK8+7tQDUW9Jb1r5D+d/Dwu9PdmElN122jL+cPwBoSAhDUauaZDVRy33fq2DR35XRcn81OfUKNTn7BjX5t9vV5NyblXX6r5TV/3Jl2fRBv1HT825V05/cqiZnXKvGJw9T4ZavtXf+Syrctzt4xuTsj9u3336refPmuYpLCwXDP3g2bf78+S5YjAaK1lR9wYIFWrx4cewPpIWey5Ytc9MssPz6669dJefUqVP12muv6ZNPPoldEdCW/+abb/Tee++514w+t93fvn27e57333/fPWbjxo1uXdavX68ffvhBn376qd555x19/vnn7nXtMTbs3LnTPe7111/X3/72N/f61tWArWP43LYty5cvd+uzZcsWt87Tp0/XF1984Zapc957Qpe+HNwPdL5ksrctd6pvMD7vqUs1JbgPAAAAAIkszNyxO1/f7dijb73Brhw/4tRD9eszj9B/nHmkrj2nl67/yTH6xSk97ItTXDN566LNddNWsNMbfggG77udXeAXQINCGIralb9XBRtXKDP7BDUZdI0a9x6qRgceo4zmbf0ryCdqlKWMtl3U6Ef9ldV/pJqceb23bGsVrlte4h8pCwjXrVunKVOmaOHChS4sNBaKTps2Tf/3f/+nHTt2uGkhq9C0wHHWrFmustLYMhaQvvnmm3rrrbf06quvuvnWN4qFoS+++KILJy0otXDSAs5//OMf+vvf/x5X4WnzcnNz3fPbYy3stBB09uzZWrt2rQtKbT1nzJjhAk2bb4+x6fZcFr5+/PHHLih9++233esuXbo0tp62/KJFi9zjbf0mT57stpOm9wAAAAAaGnexpD35+nTVd3py9nLdM+Vj3fnSh/r9pA/17L++0AtzvtSL736hif9a5g2f65+Lct33q3DwA1H7Pul9n/rhNWnr/3jDE9K2v0t7V3pfKMNrWQBoCAhDUcsKldGumxofP1iZnQ5zF0hSZuMgCE0Shtr0DO+0tVC0eRs1yjlJjU+8QGrSzBLPYKHiLIQMqy+t4jMMJu0PnlVObt68Oa4Juc2zQNHmWUWp+wMZLG+BqFVYWsjYqlUr/du//Zsuvvhi/exnP3PL/vOf/3QBpi170EEHueDVgkkLV0P2WhZM2tC1a1dlZWW52/POO8/1o2rPe8opp+jnP/+5evfuraZNm7rne/fdd11gastccMEFGjp0qAYOHKhVq1a5oDdaQWrr+eWXX7rH2OMHDx6sI488MliDmlLUlH3evRmuKbo/FDV/d83h+47y7k3RpQd68+715xQ1k7cm9BnqN9qb+PKl6uI9PnVzdn/ZotdJvqz/3OEyQzUxN5iRkr8dVdOM3p4rvkuAeInbkNBVQHS8MqxrgLhuByrOjm2p3RWUdd2DrhbC7a9UNwiV3F/uPAnOx/rKtqFKupKoEf65X/b19Zevi91b2HuCbjcAAKg5+/ILtWzt95rw7gpNX7xGX6z9Tis3btPKTT9o1eZtWr1pm1bZ4O5/r43f7fC/E9r3PG+w71relyhv8G4Lvvee0Pvutucbafscb5gl5W/1XoUwFGgoCENRuxplKbPDoe4CScqowEWQLDDZ7wBltj/YD0mrmYUzdtV6CxoPPvhgnXnmmS6sPProo3X66afr3HPPdYGohZ/ff/+99t9/fx1++OHuj+tHH30Ua55vgWxeXp5atGihH/3oRy6stGWPPfZYHXDAAbHpdiW+nJwcF5Zatak1dberzP/kJz9xwaYt079/f/Xq1ctVmlrTePeHPGBhbufOnV1Qa6GphbO1YcrwLpp5lh/SFhbO1X0apX5BEOeaw8+7z7s3RM+v9ObfFTaMD3XW8EmFmjvGu3vh81rrPcedp/hz4lnI2EWXyl/GvZb3vKP6xocSFlJ0GS7/tWyZlUM1ebiFsXWBhTveNhw9N9hXtg1Sv6oKQKtJ37sKNfmSzsFYZXjbf9NkDY0dm+el4deWEByXovtwTY50tZB2Vk3Uta8O1WNVcmxQHn3vmuv9p26/bwEAaEi2796nD3M3K2/DNhdyljQU5Be45vH2vckfwhZ8hWqS5X3fK9ytjIK9UsFub9gp7Vom7V3tB6W1ZPEfe6v3HxcHYzVn899uqJXXBaobYShqlwWYjZtULAh1rFLUGyr1HOXXpEkTF0BaNacFmRZWtmzZUkcddZQLH1evXq1NmzapUaNGOumkk9wyc+fOdRc7sj+0ViVq/Ykeeuih6tSpk1suDFptsPs2zZ7Xbo1Vo1oFq4Wg7dq1c9OMPbcFs/YY6xs0Gobaa9ny9jrNmzd3z1crxsyNBJh9dfXEIdLLuSq1ILMc1r3wkEZZoPqH4YpFP6fc6ULUUWEosWqiHhotDZn4mIZ3d0v4gZkLYysqoZIzUm0ZVw3rKgxt2X7eeloVbJLqUNd36n2aGw2E3TaM0kORarncWGVr/HNEXy++us6vbPXnJQtogm3w1tGv8pxYtHy0MjKuarPoefzH2Ov5z3P/vf4FqYoe773+gdbn66gg2E1VHWvB9+TIsRmkoRdO0eR3ottigtfx1jNcH3v9ou0vOt5hZahbR2+9YusfHqfE6tGwYta77TJ8ijS6X9E+CC60Ffd4E50efa44qc+T6OPdvktxDpW3wtP62T3hpuD9kGo7vbsp900wL3z96LlQrLrajmXkOZ3oa6Y4d0zsNYY9UeJnQnRd4qouc4ueO7qPkq6jt3bJz1Ff0WOGestEK4Pjj1/R68dPL3p9+5z7KO59CwAAqs8Pu/Zq+frvtceKT1zfn2HQ6Q/hxZJUYD+6+9WgNriA0/vOZMFIk8aN1L1dlhoXbvWm7fGWtUDUG/Zu9ob13rRKXoy2HlqdNye4BzQshKFABVjlZuvWrWNBpbEvwvvtt5+r7LS+Pa161Kb16NHDNWu3vkCtctN+jbT+S62PUKvstGDTliuNXSTJmtxbf6X/+Z//qZtuuik2vPLKK66JvFWchuw5LaC157cQtCyvUV2G9MgJ7lWXdZr56hTpwqEaFAZpgb5nWdD5kXItCFmVqykaoqE/TqiU657jTa2YefdGKznn6r6XL9UTFpS8d7/6fRJWqa7V8588pImrLOyzylirgo2EfoF5/xwljRlUrJIxvvJylCbrMfd6c8dM0aU3+eGThTix13MVlV2CwMbCmn7ek9t6FGrtxI/ULxL++PO7KPcmb34Qwk4ZPlk5rjrTW9fR/YLn8QNNTVwbvHZRdW+iUZ/k+OthIfNo2+6+utNbpyHels91lZreeGHx7S8uV7kvSyfkJK9sHPWq9FjwOlZ9/FAPWzdvX18YHx6HpoyWbgn2z5DwOKVyyp3evvLOijHesbX9YmFe34+CimLvNXSpurj96O2X2HR//yZ77ZTniXv8KN3njs9a5XxSVKXsjulo22f+Ohcd07KYp5neYwclraIuLum+SXoO+9O7DD/BXy9vcOfhU96+OGWQt12TNTMIude9M1lT3PnsnzsnBOdg9NyJ28Y/5OijhAuphdxyCvaft44fRaou48+DoJI41ToGip+j3kTvGF8bqxq/xZtedMm2uOPnPWZUXz9cXffCtXHH9YThT8TWq/OPh0qvzkz6HgEAAFVr9758bfxup1/5GQ1A3QWRwsCzUI2tFseGRhneYLeZauJN2K95ls464WAd2SFPjQq2KsNVhVogasMuad9mPyCtczZr2m97u9aKvXvfoGlhz2wbpukGN623HvnjI+r922nekibZ8v60G/7mL6FFwfLe7VUTvPEJV+mRRf4soKEgDAUC9mW2rKIVnCG7b9OsUjP6XFZF2q9fP1cVahdfssDSrkJvoemBBx7o5pclqAyvUm/N5o8//ngdd9xxbrD71lT+nHPO0THHHBP3XI0bN3ZDbQahqQUBZVUK+hS17Y0Nrj9S37rcj4J7Cbrn6ITgbnlZUFnUtD9HORcGd+NYCFqW8K8swXFRmOsHvcYPg4dcMMivAuw+XLeM8fZw7jpp1UxNfrkoFHPdEkQqT2fe20WTL1gb3/XAmFuCdfWreEf9c54Lkj/SfbolCGX7XmmhWVHwFRVbDwvH3JSKmXdvP42KqyqOV7S9FmaH69ZZOUfbxCTCoNlVnLopZeaCvVjY7h3Pm7wt+yS3WNBl+zdZlwEpz5P3ZmrUhc/rareNwfMGcpd7x3Ti1cE6+8fUHYuysON1ofc6wWipSt03kXP4lDu9z7ii7gdyeoQ/Jdh2hZW8/jl531neUraN3vEJz0H/3PErw5NtY3GR5zIJ3R8kPd9SrqMv2WP88Db+3PdZsKyi1z/laj3vbWfxzy8L+SPdMtjnShVXwAMAgOT27CvQlh92uSbwftWnXx1qIWhWZqG6799MZxzTVUP65ujC/odq2KmH6qJTf6SLT/uRLht0pP6/i07UNYMK1LHxB8rIt6vI7/EeG1SGWjC6b5M37t3WMYv/eI7u7fGk+5654H9zdO9PHtFiCzfvu1caPd1NH6TngqVTLZ/CcTfqyZHe7cgndeNx/iSgoSAMRVqzsMyqO+2XQwsboyGm9e/p/6JYPCQN+5uJzrP7VrlpfYVak/RmzZrFnr9Pnz7u1i6stGbNGtdfqDVdtyb1UbZ8KlaJahWe1j/p8OHDddlll8UNl156qfuFz14nDAKrXGmhoau8TF3JV+2sis87DsUHP8TpnJNi7V3QV0FxzX+76NKwss0qCy+YHAtny9rEecry0qKTE5TjwprirDoyPPZ2wSn3XMExSerlS5Xb4/li1WtJA9nE5ynhXKiK429Nol1VYiS4TVTe16l0hXI0bLeQ3QVdVvU6VJPt4l82PUW1bKrzJGVA7z1L7ifB3UBioFeiko57Ekn3TcpzOL5puOtOwOmsQRcMCc67+BBerouE4DGuywT7MaT4NibnVwinkvw8SLWOvmSPsWC2JNb/sP98/vGzHxss/J6rfrHXKXvlLgAAqEr2zcfCjYLCAn8Ivsc1y8rQeSd00aMju+n2czbomlM/06/7f+bdLtNvTvOGUz/Xr05ZqEFdX1aHgqlqXLDBDz9jVaHBkL/d+8JnV5SvSzZ7/36RRpx2jD963CCNsH83LX1XM+f29/4d1t5NPua0Ee425fJF1/kF0gZhKGpZ2asxS1b+5wm/vFozcgs+rZ9P+6NpIaeFmhZa7ty5M1g6nl3MKJwfBqP2HNb03ZqzWz+g7dv7f3ysWtSaq5988snucfPnz3cXNrLm823btnXLhGx9LMy057J1iIaxtrzN+/zzz908e14bD4ewUtWG6uNXtE1J0fTTD3bK3jS36vghjEbPjDVRDfl9AAZNal0FYZI+KMsZHBVZp4k3FTUd95toB7M8rgozmD701dKbOLtKzxTbUJYw1W9qHRksSHTbnIJVJF4yXLccfamujTx/NJCNBUSJz1OZALlEfojlmkRPivT/WkNSh5OeYmF7UAXoKhX9aS48jOuGwKQ+T1IG9N6WJ1a4lhbWxSnpuHtK3M6IZOewaxoeuVCZ604gYE3Dh9g5bO+paJcPwcXP/OeywX6gKKGKN06qiuvUSlrHVEoOm4MLvEW2IawAdlW/bppdNClZX7gAAKC6NWmUqbYtsuR9gXIXR7Kq0IzCAh3WpaVG9s9Qe72mpvs+VJP8z/1h32dqsvdT73axNyxRVsFaNSrc4TePD/sLzQ9uC/Z5X9RaekPj4NUA1HeEoahdBYXSnuSBY5nZl9A9u9xteVmI2LNnT1cVahc4sn497eJGS5cu1cKFC13fn8nCRQsrbXmr9LQLJW3dutVVe77++utuebu4kl0dPmTTfvzjH7sQc86cOS6AtXDTAsyQLWPr06pVKxeaWqi6ceNGtw7GKkntyvRffvml6zfU+h2117Wr19s622BfyKtXZw3/g9+nYLHAx/XRF2nyWh5BSFlSs3kXVJTQ5LTzJbcoepV6x/UBGN8M97GJ3ivFXaHc77OxSrgLIPl3XQgbt4+GpKzojHHNb71tiD7O7VcV7+c0jh8Gj/pDuO3eNnnnkwtQvX17grdfZgZBrFuvhOpFa7asSF+HRYFspHlw8Dxhf5h2cZ6iZuNVJ9Y3YwkVoVUv3D9B37NJ+CFf0Lekx13Mx/ajq/iMvyBQqRWokfPE72cz7D90nSb+oehctHN+SnhcvNexi3/FmmqXxo5XsfdL6dsZVbZzeJ6eiFZdumb23jls/aDGmpVHtzF43mCf2Q8AidtYnB+axroIcPu8PKFjwjqmEH+Mo4/pq0HRPkfd6/tVoHYexP9QEancth8MytNVAQAAqLAmWZnav2UT/7uhBaLeYJWcA3t1VJuMT5RR+IM3vtcb9gUBp/f90Yb8YIhWg+bb/DAI9W7tK1aTLlJmc//F6oz23r8Xpef+FTR0XzRTz9mPyD1P1aB+c7x/9/l9gC7+V9hMPsXyHf3pc/JWu8lFywMNF2EoalfBPuWv/lSFW71vn/vsD433R6ssVZ4W+lln2Ht3qWDDlyr0hpIeF4aEdmuhYzhYGHn66aerS5cuWrJkiZ588km9+OKLevXVV9WhQ4e46s4oq/S0vj5fe+01vfzyy5o6daqeeuopV116yimnxJqrh+y1rK9Pu/q8Ba8HHXSQu6hS4vNaM3i7qJI99zvvvKPnnnvOhbIWolrfnxdddJF73OzZs/X0009r2rRpbl2ff/55dz8ahtpz2/MlvkaluSo4/8I60X2ZEVxEJll/iaUK+il0zVBTNDN2QYWFnd5rJa+StP76ggvbhOsUXLQluk5W6bZ2onRp2Kw5o5808XnvuUtX1EzWH+5/r7Pr4zHWPP2fg2RXr/ebzz6m5z8J95H1yxlewd6q3FJcTd7C5kl2oZrIvnX7tfT+Rl1z3aPDbff72vS327940UfBuruLyiRWXLqQuOjCSkO8bXgoeJ6PJob9ifrPYxfxsedxF70pT+VmEKaWfDV5P3x1V3B3r+8PZamKrbAgIPeP7bXSBUV9drqqzfBq8nbezzshdt7Etj/cd8G6dnl1qB4r9h5IfZ64/eouyJPk9e2Y2sWG7DHBxatS9Z9anAV4RSF4SduZSqpz2P3wEOsyYKYG2UWIYv2nBlXacRXiieegXaQoqKo95c7INuZqaIoKzr53Rd4X7n1d8nui5HVMwe2j8LNhpnIi65L4+uGx6HuXXTQp7J7CLlRW1Geo9UGqsG9SAABQrfZrlqUenVupkffVx7Wusz5Dve+Wnds1U6ZdEEkWjnqDVXm6ys9gCO+7KtBwsBDUglO79ZZvfIDUJNv7UtckeLVaMuGq4MJHwYWRFknH/Ha67loeTP9lru76x406Ru01eNRd0phz3PSZCpvJp1o+aEofPH90+W7Z/bmAEhqkjMLqLyUDUtu3R/lfzlF+3gdq1KO/MrseqYzmbaTMoiAxqfy9Kvh2rQpWLlb+1x8qq88lyuzUwzujkwd/dvEiCxX/9Kc/6YwzztCFF17oAk1jTdwXLVrkKjbt4kbW1+dhhx2mE0880U2zt8jQoUNdGGnN2ydPnqzFixfrZz/7mWsmb5WadmvPd+SRR7r+Qa0q1L4ch+wPsl1d/q9//atyc3N1ySWXuErRZKzS8+2339ayZctcBWrfvn3dBZhsvex5Vq1a5apSrXLUriAfVpNaiHrWWWe58NMCV+sU+7PPPtOAAQPc9gBlYZVudlX2CoXaqDTXV6p1EVAVlbFWwXiT9FgtdDdQ/1l3Df7FxSr2XrDAf6YGRS+oBAAAqs2effla/PVm/c+bn+izlZtdU/msRgX6r8tP0PFtJ6tR4ZYg4LQw1K4wb7cJ94tN824zvO+l7f5NOmCk1Ni6OKu6QpMPP/zQfeesbov/2FtX6Ukt+G3QV2g1qqltAiqLMBS1q7BAhds2ac+s/6eC9V+oUfejldnlCGW07aqMlvsro9l+UqMsbznvNN23S4U7v3fLF2xZqYJVnyh/9RJlnTzMDe4PVSSAjLKw8l//+pcmTpyon/70pxo8eLC76ruxt4AFohZWhmGohYsWMto8CzXtvt2GYag1j7cLFtnV260Zuz3/fvvtF3tctBozfH4LJv/7v/9b2dnZuvzyy13laTIWeFrIaRdisjDUmtTbBZns9e25bL5N/+GHH9zrhmGobU/42racLWODVYdakAuUBWFoDbPA0l1QKGB9a1ZheGlN0q/VYxzPsnjvfv/CWCHrI7aCobS9j2aeVViOSl4AAFAZBd73n1178vXJ15v07tJVWr1pm/dFbK9+fc6h6tH0OWXm29Xgg0pPCznVRMrqYl/WvCGY5lopeuzWBqsEbX641Hqgt/iB3rh9x6u66zNUX3C4WdN+e47unRuMaoSeXOBXgFY3wlDUF4ShqH35e5W/dpn2zv5/yl/2L+8PThtltj9IGa07KqNFG2U0aur+GBXu3anCH7ao4Ns1KtyyUmrUWFl9LlbWqVcoo1nrlEGoneLWn6Y1OV+xYoWGDRum/v37Vygg3Lx5cywMHTFihPugL+15LLy0atBnn33W9fNpQehJJ51EQAkAAAAAVWhvfoF27dmnfd6t90VT+2XtVONvH1XG3g3eF8N9RWFoo7ZSy37efW8xF4lYQOo9ptkRUtND/eDTFdt430UtFLX7VawhBoeEoagvqq7GG6igQu8PS0bHQ9X41CvV+ITzvb87jVzV574lM7T3/Ve0573ntWf+C9r74VTt++IdFW7KVWb7g9XktF8p65Th3t+n/bw/TsGTJbDKyFmzZumVV15xzc7tokV2EaKK9qPp9wtXNJTGKjzfffdd1w+pBbGnnXaajj766KrvxxMAAAAA0lxj73tWy2ZZat2iqdp4Q+NG3ve2sA/QWL+gu70vamukzZOkLd6wdYp3/2Vp4/PSzs+lRi28oY03tJYym3lfAvnuBjQ0vKtRq6xqc8/evVq3aat+2O9ANf7xVco64zo1OnKgMlu1V4b9ape/zw0ZjRqrUcdDlXXSMDU56wY1PukXytivfdC/aOqqULvI0ccff6yjjjpK55xzjjp27FjhMNIeZ83h27Zt6y5yVBp7fQtDrV/Rc889V2eeeabrW5QwFAAAAACqltWrZHr/aZSZ4W5dAYtVfrr+QiMXSHL3d3mPaCy1PkNqe67UqJX3BFneNKsIte+Y9p3NvmeWXgQDoH6hmTxqlVVOfrzoY3cxoNatWqlXr57q1L6NMn7YpMIfNkvbt3h/o7a5atGMFm39fkSt+XzLdt7fKO8PlavOTP3HyZqof/TRR64fULsyvA1lCTFTsQsxbdq0yfUvan1+Wl+dJVWI2uu/99577vXtavKtW7d2/XoCAAAAAKpTgZS/Tdr4uLRjoR+Ahk3lw4slZXWSOlzp3c+XtkyW2l8ktR7gfcW0Ls2qNwSlmTxQewhDUavs4kPTpk5zt3ahnxNOPEG9evZSo8ZBYFjg/VGyP1T2h6iR9wepAk0ULJCszUrMPXv2uP5BqQYFAAAAgJpS6P1/r/el831p62Rp90rvy+Fub1pYHep918xoLjXvIWW2lBrvLx0wXGrS3Xts9QahhjAUqD2kM6hV4ZXQLSi0ik2roMzIjPzhsSbwjZt4g1WBVux0re0Q0raLIBQAAAAAapL3vdIuftTieGn/4VKbc/wLJDXq4E1v7H1RbC5l7e+Nt5ZaniC1H+ZXitZAEAqgdlEZilplFzjaunWrln+5XO3atdPB2QeradOmhIcAAAAAgCpQINckPn+7d3ebN+zyK0Qt9Mxs4g0t5S6YZOGoK8CpmTCUylCg9hCGAgAAAAAA1KAlS5Zo1y67iFPDYS09e/XqFYwBdRdhKAAAAAAAAIC0QFtkAAAAAAAAAGmBMBQAAAAAAABAWiAMBQAAAAAAAJAWCEMBAAAAAAAApAXCUAAAAAAAAABpgTAUAAAAAAAAQFogDAUAAAAAAACQFjLWrl1bGNwHql27du2CewAAAAAAoKHaunVrcA+oWzIKPcF9oFqtW7eOMBQAAAAAgDRgYWjnzp2DMaDuoJk8AAAAAAAAgLRAGAoAAAAAAAAgLdBMHjWGZvIAAAAAUDesX79ee/fuDcbqj6ysLHXq1CkYQ11GM3nUVYShqDGEoQAAAABQN6xatUo5OTnBWP2Rm5ur7t27B2OoywhDUVfRTB4AAAAAAKCMRo4cGdwDUB8RhgIAAAAAAABIC4ShAAAAAAAAKFn+Xn33zVJ9vPBjffzZ1/qu/nU5CziEoagXNv5zjGuKkDhM+NSb+ekEjRwzQxu9/80YE0yrI5Y+U3ydbRjzz43BElFLNcGbF79N/nMkX746RdYlTjB9zgyNGTnBG6tHNtXQOtfU66Ri505wnqU+1xJE1rnunG/+tPB9UH1q53Oj2H52xyDZtDGa8UWqc8pf94ofL9vH3vNvCkbrAPeZ+UzClpbpPVX3Pv8BAED6Sf69tfR/b0X/bVit/x4P/s3pr1f5vrPs+OwV3XXN1bp+1IMa//B4jX/gLl1/9dW6a/JS7cgPFgLqCcJQ1B89Rmr8hAmaEBlGHuVNP8r7Ajz6THXwl6p7zrg9bp1tGH1WKWtb69vUU73PkGZ8mPDn8dMFmqEz1bv/mRo9YaS3FOoUC0LH5WnkH8Jzbbz6zbu5+v4xVW0spHtQeZeNr9vv7Uro0LWHlq+JHJd1a7S8Rw9p3sdF4a+b1k/HHsb7DQAA1IwPP/xQo0aNKjZMmjRJe/bsCZYqP3ve6dOnB2Ols4skVfY1a03i99ZbszXhL9X9A39ZbNSMv8xVv+C7wvjL8vRgGQsPdnjfM2574G9a0+U83Tz2cT3x1AQ98diDuvncrloz7UHd9txS7QiWBeoDwlDUf5EqyjjRCrlqry6rKL+aya3jMwuCaZ5gm5b9c4wefEta/mzNB1o9TzxTemtB3K+FSz+cIZ3RWz0TK7WS7Gv3q2iswiuh8i/VMaspwfpPsCq0YL1j6xb3a2n0V9zIsYou77ZljP+YMc/pv2+aoOWaoQfL+Utr5XnrN2WGelx2jc48IJikDjrzNyOlZ1+PrYurvAu2oW6GpLaf/SA07keDFL9iu1/Ovf3vb88yvzrwmcj5GK0yrEOfCR2O76cekfeXvbfOHPILZS+fq4+Dc27j2jz16HusOiS832LHcMzrWhNMcyLb5/ZBZBuLH3d/P8/wztYJNwXneXT/1Pj5Ww6lHUf3npyhGbFtrsPbAgBAHXPiiSfqvvvu0+jRo3XMMcfo6quvduPDhg1TkyZNgqXKb9OmOtQUpaZ17qoey9doY/BvlNi/XezfeN548u98H/utpGyI/nu2pH8Te//+i81L9m8k+27gHdfwu4L796itlz+a2q6leuWvM7Sj7zX60+hLdGyXFspqJGW16qpjh9+rBy/roR1v/VXTlgfLA/UAYSgaJvsjEauQG6+RmqCbE5te1gFLn7nZW7Pgl8MTpRnB9ND+Z43W7WdIPRKDoZpwVG+d6a3Rgliz06Va8FYPjfxpQn1ain3t/rh+Hfxx3bRGeVb1ttb/UxsLedxYbZmhvK7j3a+ito8tSHRdLfxlgrJv9X8tdb/ivuafN+5YHRxU+d7q7ZlxkaDU+8PvfmEdPUL/8YeR6uHtudtrupJv08eau7yH+h2fsFcPKKoqtID6wa+D881bT3n/4KpbzYotoPP3c/z5vlQTbio6LrefMSPuV+zl6ue2afRZ+7vxGV939bfRO0566xX/ONW1z4QDjlW/Hnla486hjVrzdQ917WwV2cu1Zp0/7eN5y5XdJf54umP4lp1f3nb8pqvyYv/o9PbRuBk60+2j8er6ddGnSfLjbv8Yvt07U7339B/sH8X2+KKqYqsUeKUuhuVlPY7LJ2hu7P3tnS918PMfAID6xCo0rVLTqjsfeughLVy4UI8//ri2b98em2fVnDZu08OKUptmwzvvvOOGxGXsuTZs2OBew25t3KZ/8cUXblpDsHHhXC3v0VUd7PtV9Idvb7q870SHJ/nOt/zZNeod/Nutx1sPBv9m9/9NLGs9Ff4bJ/pv4rekX4SP8f4t9Hop/86PrVcwntLyBZq9rYMG/6yvWjQKpkV0GDRcZ7b6TjPm8e8t1B+Eoag/vA/0m2O/gpVc1eZ/sPfTse5XL+9L/5AzpTCYq2neH69wnf0hDNEsAJFbN/cH6KjzNLKH3akr/KbyeUGA6ZrIx/ZpkZT7+oCuRVVu69Yoe8gvgibAFvKoeGhX44qCQ1cFm4x1V3C5xYgWBHvH6sQg3nTHKgytTLa6JuyX2lHSevjhWiyEPuBM/SJ6fOuAGeNu1oRkvyiH3TNYtxienj+1f+BF3s8Hx/8jLraNLtD31anPBKeDuh68XHMXemtgQbb8dbNz0e+ewvt8WF60zaGNa7xjeNl5ftAeHEPHvT9H6jy3fLB9TsWOewfvH+U1/gNMKPEz01Vb+8p+HL3tDNbfnS8JVe4AAKDibrnlFrVt2zYYi/f5558rJyfHVZNaVekHH3ygbt266cc//rEb7P5rr72mc845xy0zdOhQzZo1ywWkdjtw4EA3vV5L+N5687PZut11/ZT4w3cJ34msNZ7duh/Q3RS/wCTx3ziRcDXpY5LyW+3d/Ozyou+iJbBClr06Vj26BxMSNeqhnsdLe71/k30XTALqOsJQ1B8Jfa+U+kU9+kdo3AxvvJaCj2J9hoZNEyzscEvUWRbMLA8CTNcEO1U1Z9J9XfTHfumHeerauYO6yqbbdteF8DDZOnRw1XIaF2xLQvPaGbHpfmgXC5TK8otqjQgrDVOz5jf+Noz0m+NE+62sbe69crvOfOvBJD92WNcDwf534VjRtvboGr/3E6spY+rKZ0LAvb9s/69b46oC3FpbMyoL91w1deJ55f+Akoz9I7UkpR/3nhr5h36ae1Owf5I2raohiZ+Zrto6oizHsc68JwEAaFgOOKDkf8QfeOCB+uSTT1x1p0lsXr93715t2bJFTzzxhFvGbr/55hutWrVKmzdvdo83hx12mLutl4pd66KoxVjsh+/Ij+HJJP771rH+5IO7jhWfBHdN0sck5f27z62X/72ntJZiLVu09P67XTt2+ePFfaeNFvB63/fa+BOAOo8wFA1XsRCyrl2ApIO61qlK0CRc/zZz9fGn1gS76FfIYlLsa/tjn7d2qdZ8bcGjVcLlac0/F2hG+KtlnRT+48AbblWk6Yk1J45uYxkC+ZrkfgEOKg3j2C+/RaGu34w6MrjK17rBr7y1UM6acv810l+rp9g/Kov6OyqzuvaZYJWrX6/x/kE8oyjAteNoPxpEA9IYew8FdxN06BL9p3BxZTrurksFf/74vnPrZNciTlmOYzQgTfziAAAAqk3Hjh1d5ahVhVrQGTalj2rRooV++9vfugpQG2z5du3aBXMbOPv331ve96GFfhP5cn2bsO9mwV3HVYpWhv99tLQWQy0O6amumqd/vJNiufVzNfcL71/xh5X871GgLiEMRYPkX5wk6CvQ4y4eUpuVTkl10LF9ewR9VXo+fT15E+HaFARsE8ZN0PIUAWaJ+9r7g615r2iu9+fT/tD3PDFbc+flFTU3r3MsOIxeNMnjmmD7Va5h/6Fhx+V1q79Nv8nw8rgQMbhIjjt2Cedb0DymTl5E6YAzdc1lcn0iuT3u+lcq6vfIXZyrnBfFqZufCVYt7f3j8etoc3j/R4MFHyZvNuWqScMLYnnn4StvuckJ+8iv5PaV8bi7czp+n5a9uqDmlP04FvV3HLvwmz8KAACqQMuWLVVYWOiCzm+//dZVdxq7arwN1lTeAk8LPqOysrLUrFkz1+eosT5ELTBt2rSp2rdvr5UrV7rpDanP0Hj2vWKGJjxbgW7DXCWo9++/4N9xS1/zvqMl6cYstYTvOqmuOZCoy+kaeUYbLX/xj3rhs4Rrxm9ZoL8+8IKW73+mfn4ydaGoPwhD0TBZhZNd/CZo8ukuOOL6aakFxfoM9Yag4qrDWdf4FwCxaVO6en9k3OQ4Hbr2cE1caye08oMUkzLALGlfuyq35XFNgLU8u1g/iHVHT42MbMvIcdLtQQVdz8vHa+TXwbEMOi4fmWw7gn+k1PzV5D3Wx2l0/a05v130KdgG6wfy9oPDJsYWkiZeqKjucO+NHuF+9KtF84JuCm72/vFo4+UKt+rSZ0KMvb+8t0TwY0HIfjSY8ZaSdyXhHWPXWb47D9eo32VhfYCdu3ZhL9u+v3rvuaJ+cFMfd6sGCK4mLwug82JdEdw8r5+uqYvnRlmPYw9v+6cEy9jFo+pQBTQAAA2B9Rlq4eUf//hHvfHGG64i1Bx99NH66quvXBN4m2f9hFpwas3r7QJKq1ev1k9/+lMXgtoykydP1pAhQ9SmTRsNGDBAb7/9dqyJfUNlP24rIcQs23e+sAWV3/1R+f89a4+PdIvkfafJvrUsra1aqOeI0Rp5+Bq9/sCvdfX1D+qvz07QXx+4Xlff+EfNU29dc4f3b/NmweJAPZBRaD/nADVg3bp16dP8AQBqkVVMPqiiIDytfDrB/bg0vtbDbgAA6jbrp9MqOOsbC1K7d091NZ+aYWGidddTEfbvtFe6Fl05vj7ZuPBveuWN2Vq+xcY6qOfZP9fPB/VUhyRXmTdbt25V586dgzGg7iAMRY0hDAWAamLN3CNXXXd9rKZrGEgYCgBAmRCGVlzFwlDrwupmef9SSZt/pxCGoq4iDEWNIQwFAAAAgLqBMLTiKlMZmk4IQ1FX0WcoAAAAAAAAgLRAGAoAAAAAAAAgLdBMHjWGZvIAAAAAUDesX79ee/fuDcbqj6ysLHXq1CkYQ11GM3nUVYShqDGEoQAAAAAApAfCUNRVNJMHAAAAAAAAkBYIQwEAAAAAAACkBcJQ1JiMjIzgHgAAAAAAaMjIAFBX0WcoasyWLVtcB92ccgAAAAAANFwWhNrFrvbff/9gClB3EIYCAAAAAAAASAs0kwcAAAAAAACQFghDAQAAAAAAAKQFwlCgmtETRcWVtu8a0r4taVs4h9IXxx4AAAAAqhZ9hqLGrFu3TmvXrlVBQUEwpWplZmaqS5cu6ty5czClSHW+dkmv++2332rz5s3utiFp2rSpdu/eHYxVnzZt2uiAAw5Q27ZtgylFamrfNmvWTLt27QrGqk+qbW1I51CrVq20bdu2YKz+q4n3QUnvAdQP1f23L6qkv0cAAAAAfIShqDELFy5Ur1691KRJk2BK1dqzZ4+WLFmi448/PphSpDpfO9Xr2lvrq6++Uvfu3V2gVt0+/PBDnXjiicFY9aqp17IQcvXq1TrkkEPc1QhDNblva3Nba/ocqm62L01178+aOmY18TrJzouaDNeQWlmDx+r+2xdV0t9BAAAAAD7CUNSYmggOUr1Gdb92bb1uVLq9Vk2tQ21va02+fnWzbTHVvT0N7dxIfB0L1w488EAXxqH2WBi9cuXKUoPHmn4P1/TrAQAAAPUN36QAAKhHLIRr164dQx0YqM4FAAAA6h/CUCBN7fl2m7aFw7Y9wdQqkr+n6LmTDVX9ekCasapQazbPUHsDlbkAAABA/cS/5FF3bFimD+Z/kHxYlKtt+cFy1W1zsB5LNwcTGpj8NXrj9oHq97uxevbFZ73hrxp16V+0OJhdFTa/9p8aeOalGvU/9vzxw9jfDdTAgVX7enXLHq1ZZOftMm2ugXN221c18zo1In+zliW+95MOVbjN+d7xWho879I12lNVz7tnszbvCO7HbNPmBvqxAgAAAAD1BWEo6ozFL47RnG+X6eVrr9E1Nry6zE1f9uojevu953Tr/TO1pgZCn81z/uK//shnayCw26M1/5qkvzw+SW/URPhqQeido7T4+At10vHD9Jtf/8Ybrtag7GB+Q7ZjmZ78ZT9dOKaaz6MNr2vsL+0cvlTPfhJMq0a5r12qc865Rk/+qwI/GGyYpht691bvxOGPtRRVb35Xfwnf/yUOf9G7VfB2WTP9Xl06sJ9+PjJ43pE/V79zrtK46bnK/cetOufxSuyHb9/VmF/+RYvjAtFcPXvRrXpjTTAKAAAAAKhxhKGoQw5QzvHHqGswpq7H6KQ+J+mYrgfo8CF36a5+c3RvDQWiNWXNK7/WLyZY6LtJix/7hQbe/kbx7cvfpmVvT9KkfyyuXDVcGIT+/L9068Buir+uca7e+OOtunTkpf5w7TjN3BDMqrA1mvPSk3ryf+OHN1xAuEZrarJCzoLQ316pvyzao9y/3aobGth5pG8/0F9uulDnXHavpi3dFkwsq/666x8LtGBBODypEROu0iOLgtkN1Jq/3aBf3DlNud3P1Y33P6mXX31ZT95/o87t+Lkm3XmhLhw9U5sr25vDF0/q14mB6LczNWokgShCe7RsQuSzt9ThGo2bwckDAAAAVAZhKOqNrmfepbuOnqaxrzWcdqabNn2uUy+80VVo3vrYdN3XYpT+8nZRmLVt6Rt67tXPdcBp5+skLdbnldj0Na+O0qi5q/Xx47/VpTf+RZvatvJn7Fih3DUfaOrS3hr9x8f1uDeMPi1Xi6v6+/ZFj+rtGW97w/O6tfcHGnvLOM2piUMZCUJDDTIQ9ez5YpruHTlQA699Uh9UOMw+RoNGevvoGzs4mzXtt70jwehiPdL7Bk2z5170iHr/9hE94s33K0qD6fXBBu9zZMwc6bS79Mqz92nEOcco58AcHXPOCP3mwpOCharGHgLReuPll1/W9u3bg7EiNs3mVY/P9frcos/e0ocR0t8+8N6ZAAAAACqKMBR1TDcd8ZPDdXhPb1gw1lXCjF3QTQc09+d27T9Iylvtj1SZXD33i6ImwudYSOI8p6vCZsO9+2nc/Kq/6M8xP79Nu++/SrdOeEMfzJ+pD3KbaE1erjav+UCTJr6hNQeeqxE/OUAfvDJTGjBC/TsGD6yATWta6a5Xpuv5Cc/r+Yne7cgcacdi/eXaJ9V6zH9pWJOmOqBtK7XyhgOax9eNVomm/nO3anuAmjYZrHH3H6Np1R2IJglCQ1UXiO7R4j9eqN5npgi3vH38iHd+9btpWo2Fr9vm/0XX/GSgrnpwmpaVt1BUizVzgpRzUPtgvARzn5OusmrS6X7l9ov1oyfYze/N1Bx11S9/OVhdGwUTzeaZeu7VTf7njzec1Cn4waCSLBC9auQj1R6Ifvq/wzRsWDg8oU+D6WXzqZ4YNkrTNwajacbCThvuueeeuEDU7tu0cH61sM/eldP0yII92rPgEU1buUcfPDZNufkf6JG/5bppNi93wijN3NMqoaofAAAAQHkRhqKOaa9zxzzvB3ax4Vb1r5pMIoVt2pQX3E1pj1avL3eqVLqug/Xoa+M0uMXnmvbKu9LRIzSo0ed699tuOv+ic3X4tzP13Ixt6v+Lc5XTInhMVdmzWE/+cqx+uPIuXdjVtrAmeV/6W/TXbTd11RP/kRASVZW4ILSVBp3Z35+uw9X/tBx3LwxEK5XHbnvXO3a5ReHWN8F08/1iPTLyKj3nnV97/vWcZpZ6nlWlbVr8yr269KeXapQFKsHU4ubo3p8U/RjQu/dVyh09XTceF8wukXe+uuXa69TY/q37VufZDx6DdPTh/nhM+0G6NfLZ89eL/POkSuQ9p6tG3uvt7Qh3znjTKv3RskHT7xymMRqtSZMm+cMoaUy5A9H09ZOf/EQHH3yw8vLyYoFoGITaNJtny1SbnsN0Y+8manLaXRpxaBOdevsIHdHkVN116RFu2l2nNdG23cGyAAAAACqFMBR1zuYvoleNjgxfVFcJ4RE6b/RVuuqX/jDstLDX0mN0bjDtql/eqGGnlKFSriJa5eiY3oM0+BfDdN6gQ6ROx+qI9d72/muSnnt7jQ7odYRaRavXqsrSmZra+Vjtt3Sqnn3xY3X9+TGq1sw5pr1O+kVXffzis3ppzvfq3XOxnphVDcd27Qd6PQxCxzyvcReHwdYBGnT783rSKmM9uTMWaEVlkuBWg3Tb47/RMRZWW7h101h94M/Rczf5QaiUo8EPPqoRh7rJNafF4Rr829v0u5/mlFBNFukz9H9HeOMjdPXPy3iu98tRt+BufdK0lb3Hc2u231rvHBh209Xe3o5qov6/GqGTKvvG27hQ73x5jkb/8qhggueYq/Xnx/qoY1DpueH1UbGq0VGvh/0Z+CGqm/6/84NpvmiVadHyDVfLli119913xwWi0SDU5tky1WbNu97n8LN6fek2rZn/uj7fsUbvTv9c27zpNm3b0tf1cav+yglaSQAAAACoOMJQ1DGL9ex9c5JU6i3Ty39+t5r6SWuiw39uV1X3h6sHhKHZMRoWTPvNryvXRD2lPbmadvtA/fyW5/T2nEka89sntHj5x8rdvFhzdp6qESNHaJBmatLb1dO5YM6Aq2PbPeLMkgKzqtX1tBGx1/3NkGOkfcGMqnToCD3++K269fFXNO4nsctyBZromN8+r+dH36hHn79VJ1Vyw5v0vMp7rSAQ3bEnoQrTD0LvOjNxHapTK5008j49/9rzuusXx6h9WcP0427UkyOf01W/nZb8vbYhV7nB3frs8OMHeWfAHE17O/nW7KlMOJ5Ujob98XHd2i96DjRR/ztf0aMXVf59t2HBO/riR92V+BHVscNR3uDdWfyErnsqR6Nd1eho5Tx1nZ5YbAHpH/WErtafbfrJ0nT/YS44LaoyteX/mBbN5xMD0RoLQgMHnHKZztPrmrpsk959fqo+3/Sunn3tc21671lv6nk6P7GSGQAAAECFEIai7mmb464iHz9ErjLfgKz52716ouM4TX9lnG696T7deH6udvc4Q+f+4i7d+uPdmvPKc5qZ31/D+uzWGy9Vsn/LJov1lxsjVyW+b1owo+Fq33uYhvVOVeVoIfgI9T8wGK2kuEA0pqaD0CZqf9pv9Nd/vK2//vZcHV6BisNjfvukRsy9V89Grib/3L/8vkD9vjYbgOMu0+jTmmjxf92qe/+2TNvC91X+Ni175Vadc+YNmlZlvz+EQWj0PAyC0Auq5rzo2K3k5vwbVudKZ/eRXzd6lPqcLeWu/kwL3/1Ch516vB+iHtNH57j5tvwX0ptjgsrQMZquL/TOgoZfHWqigWhNBqHqeqrO69lKrXqep8suvqzYYPO69jlPR1R1dykAAABAGiIMBRI1Dm6zD6j2ZuPbtm3SAa2batu3a1z/juP+MUwjBgShSasc9f/FCJ3b9nNNmvqBduevUW4lSmOP+dV0vfKXyFWJf3teMKfqNWl1QKWr3eqj+EC0ZoPQJocN1l0Tp2v6H67SSZWqYj5Gl43ur+d++YgWq70Gj7pL/Sdc5foTHaNBsob09V97nXvf47rqsNWaNuZSDewzUBeOvNDdXvrgTO0+7Fgd0TZYtFKqPwh1unTXYV+uUmJcaU3dK9rE/bAr/1zU/6g33HdedZTG101hIFozQWgrHbDtOf32yiv1619eqkt/+Wv9+rdJBpv361/ryivv1ZxO6fn5CgAAAFSVjEJPcB+oVh9++KFOPPHEYKy43Jeu0ajXvg/GUsu59I+675zk1X6pXqO0166sCr/ujmWa9OAjmpb3vbr1vkxXX1mxaj5T7m1c9IiuWXaexp1TPJRZM/1WvX74X1NeRKfcr7Vhmm545gDd96tjggkRi/+qUd9erUdT9FNZ4X2baOU03XrnJK1udYZue/gqHVPGNKHcr+PZ89UH+iD/EPU/LPk2pZLstUp7/cVP3aAFPUfrqj7le63aYNtiUm7Ptjkad+1f9HEwmtqx+s1jqS+sVuZjlr9NuXOm6YmXXleuXcSoVY7Ou+hqDe6fU6Z+ekt8nc1zNG3ZERocF4Qu1ht/O0Dn/rx8QWji69j4CSecoIyMjGCK9f15nZ7IGa1JYb+hi5/QsPuk0ZOu1lHR++6q8WOkUZP0s9WjdN27P9af7z9HHd0yubr6sft0/AJvumtWH7/81UnevunM/vn00UcflXqulfl8rCI1/XoAAABAfUMYihpTE1/QUr1Gdb92bb1uVLlfa8NMjbvnCX2c7ErWrY7V1b+/VYNSFIOV+7X2LNNzd47R6+uD8TjddN6o+zTisOTpZG3v29o+hjX5+tXNtsVU9/Y0tHMj8XVsPD4MNUEg+mUwqnOCMNNn/YBe99QX7r5VffqVnpHHnH2OznkzV90fu0/ndPCrSse86RaPLI8owlAAAACgfiIMRY2piS9oqV6jul+7tl43Kt1eq6bWoba3tSZfv7rZtpjq3p6Gdm4kvo6NFw9DUdMIQwEAAID6iT5DAQAAAAAAAKQFwlAAAAAAAAAAaYEwFACAeiQzM1N79uwJxlBb7BjYsQAAAABQv9BnKGrMwoUL1atXLzVpUsbLeJeTfTFdsmSJjj/++GBKkep87VSva2+tFStWqFu3bmrWrFkwtfrUZD9xNfVau3bt0qpVq3TooYfG9Y9Yk/u2Nre1ps+h6mb70lT3/qypY1YTr5PsvFi3bp3Wrl2rgoICN47aYUFoly5d1Llz52BKctX9ty+qpL+DAAAAAHyEoagx1f0FvqQvptX52iW97rfffqtNmzbpu+++C6Y0DE2bNtXu3buDserTtm1btW/f3t0mqql9ayGkBVLVLdW2NqRzqFWrVtq2bVswVv/VxPugpPcA6oeaDK/LGtACAAAA6YwwFKhm9hbjqs8VU9q+a0j7tqRt4RxKXxx7AAAAAKhahKEAAAAAAAAA0gI9/wMAAAAAAABIC4ShAAAAAAAAANJCxooVK2gmDwAAAAAAAKDBCa/DELvNy8sjDAUAAAAAAADQoEQvSBsLQ7/55hvCUAAAAAAAAAANRjQINbEwdNWqVYShAAAAAAAAABqExCDUxMLQNWvWEIYCAAAAAAAAaDBSBaIZ69atIwwFAAAAAAAA0GDFKkPXr19PGIoaU1jI6QYAAAAAQEOXrCoPqCklnX8ZGzduJJ1CtSIABQAAAAAgfRGMoi7J2LRpE0kVqkVZQ1DCUgAAAAAA6q+yhp2EoqgLMoNboEqlCjhteuIAAAAAAADqr7J+1081HagJFsa7YfPmzZyJqDLJPtgSp/HhBwAAAABAw5VYAZqsIpQqUdQWwlBUmdKC0FT3kyEwBQAAAACg7iktxIzOT3U/RCCK2pCxZcsWUidUidKCz9LmAwAAAACA+qe0ALS0+UBNIgxFlSgp6AzHE29N9H4o2TQAAAAAAFA3JAsxk4Wc0dtk8030PlATCENRaYnhZTT0LO2+id4PJZsGAAAAAABqV7LwMjHcDMdLuh+VOA5UJ8JQVFqyYNNuwyFxPDotehtKHAcAAAAAAHVHqjAzehsdEqeF46HofaC6EYaiUqLBZTTcTLyfagiXCUXvAwAAAACAuilZmGm3JQ3RZcL7oeh9oDoRhqJSkgWZdps4FBQUJJ0eLh+9BQAAAAAAdV9iqGm3iUNmZmbS6eHyoeh9oDoRhqJSogFmGHAmGywM7datW7AkAAAAAABo6FavXp0yDA2HUPQ+UJ0yg1ug3CzkDEXvR0UDUQAAAAAAkD5KywSi08kNUFMIQ1FlEj/EEgcAAAAAAJA+SsoGoveBmkQYiioV/XCL3vIhBwAAAABAeiEjQF1EGIpqFX7I8UEHAAAAAEB6IRNAXUQYimrBBx0AAAAAAIgiK0BdQBiKSkv8MAvH7TY6AAAAAACA9JEsF0jMBxLHgepGGAoAAAAAAAAgLRCGokbwSw8AAAAAAOmFLAB1EWEoqh0ffgAAAAAApCcyAdQ1hKGoFuGHHR96AAAAAACkNzIC1CWEoahS0Q82PuQAAAAAAIAhL0BdQRgKAAAAAAAAIC0QhgIAAAAAAABIC4ShAAAAAAAAANICYSgAAAAAAACAtEAYCgAAAAAAACAtEIYCAAAAAAAASAuEoQAAAAAAAADSQsaWLVsKg/tAuRQW+qdO9LagoCB2mzjk5OS45VA/bdiwQevWrXPHEgAAAADQsGRmZqpz587q2LFjMKXycnNz3fMmDhkZGbFbk3gLVCfCUFQYYWh6Wbx4sTuGWVlZwRQAAAAAQEOxd+9eF14ec8wxwZTKIwxFXUQzeQBlYoE2QSgAAAAANEz2fc++9wENHWEoAAAAAAAAgLRAGAoAAAAAAAAgLRCGAgAAAAAAAEgLhKEAAAAAAAAA0gJhKAAAAAAAAIC0QBgKAAAAAAAAIC0QhgL1xhZNve1pHT/AH/7wSTC5NJ9Mjz3m+Nve0+ZgctVZr5ceb67mj7/k3UOi9ZMuVvMH5gdjDc18jW1+sV5aHYwCAAAAAFDHEYYCVe5L/SEMH2PDdC0O5lbWZX+6QgtnXaGbjg4mmGjgmfhaR5/jll/4py7BhIZqvsaOba7mLzXU4BEAAAAAAFQWYShQ5X6kmyx8nNVfl2k//f5lu3+OjgnmVr0v9YfrpWfca16hZy5eq8sf/zKYVxM66aJf79TOX1/k3QMAAAAAAKi7CEOBGmVVo9M19fVXYpWc17++JZhXURa+FoWtx/TvIuVuLnNz+M1uXV7R1I3BhHJYP+NiNbdqTBuizeQ/HuuNj9VYaz7vzRv7kjceLrPuJV0cnZbsseF0b7h4RjjHb45v40Wve7FeWhc00x87QHfbYnkDIvPcA1Nb7a3LpS9pvjVlb+49xhsunlTU2H/+A/60cBj7vj/dmr5fPOkljY3NG6toPaprGh/My758WjDVWLPyoudLfFz865Wt+XncMXBD9DmDatnYUIZ94tbRe473veMQrktcM//oNgT7HAAAAACAeoIwFKhxa3XPrO6aYZWcLx8hjf2gyprQm8Vz1urUAYepfTBenTqd+aJ23rZTs7KDCVHf3S319efdvTVbeZc/rcHf5SkvmH23d2eW99idbvoVusFCTwtK37hbg0/Mc8+789y7Ne3DbI39OHiQZ9ryG/S0HvXmz5I3V1fMzvMrU924J3uW/9jbXtRFnd1DSjblCg346nfaudN7zPKnJW99wuivzx3eNJsezFv4aFFoO+3yK6TZ/rxZo+/Ww0GIakFo9rQLlBc8Lu+ZwW66r49uC5/PzVsYe5wFsw9/+nTscTt3euvfzZ9VkvAY+IPtg7s1IOgqYP5LFlbe7e/n8uwTe45HvWPm1sN7zjEPB8GsBaEDYtvt5rnlAQAAAACoHwhDgRq3n35/yyl+WNmhvXK0TSsqUJWZjFV5Xp57hO4+b/9gSunan/cLLZz1C53fIZhQZe7WgGODu+2ygyb0C5UXlKwOPvEK9bE7nbN1vHczbXOe1n/6qqZpsC44Kmhwf6xfeXj355HKxO+O14AzbX4f3WYB30XuWSrhbs26I3iObgN0wRBvHYOKzGiFZ/MeV2jalKIwV6Nn6baT/bvZhw7WtK9sznrNmjZNd9+QqsuA9Xrp0rCq0q8a9R/n6ebthylXKLvcFySKVn/GV2pmt7cg1jsONq9cfakO1tPjwm3oowGjp/n75P1ZunvI07oi2G4AAAAAAOobwlCggbAg9EyrOB0bBK0NVZtsJStErXKrX9INl0tPLw+qIJc/rWiNZ0Wsn3SDrlBR9WfyqtFHpVv9sDRslp+adREwQHe38Z4zVhlaJKwazTvRe52g+4CibgcAAAAAAEg/hKFAA7D48acrHIRWps/QqrB+xsN+9ecRfdSpg6sR1aufBoHdx364Z/NqxPtP6wpdoAHWPH11nrcmxys7aKo+f8IV3nhpOin7KG993wqqMN8fG9dnaN5X3v2jwirZ+Xo6rj/RUCdd9LwflC7MKy24zFPed95NUHkb7stELhS17giC8XKx5vtj7tYAqwbtlq3BU17VLFe5alWu9BkKAAAAAKhfCEOBKmcXSbKLI83Rs/pB91xo96dXab+gcTa+p/950bud/7nODC7KZMMfPvFnV6f5L/nNswdYS+/vrlB2OZpjW1+g9tjsD6fp7nN36jZrUn/sba6KMZzX/I27i+aVqo+uiFRAlu1iQeZuDQibwp8uzXo+aB5+8hV6ekjRvIcPfbpMwV+fO6yPTW8d7HHW7+bsokf1Gfm0Bofzmj+s7Gcizxi9YJE3WL+jjw5L3ti+SPw2Z2++QE+3CWZ5wuPjhmeu0LQ2T+tR18VAaabpih7BuvR4VRcsv817JU+3i/ToMwrmedt2Q563j9wDAAAAAACoFzK2bNlSGNwHyqWw0D91orcFBQWx28QhJyfHLYeK2qKpt/1NK0ZcoZuODiaVxyfTdfxzbSrcjH7RokU64ogjgrFKsIskPXOFdGKeXixTMFeN7GryPfL0u51B2AePXSTpYWUvL9sFnAAAAAA0HJ9//rmOO+64YKzycnNzlZmZWWzIyMiI3ZrEW6A6URkKAAAAAAAAIC0QhgL1zLPXl7MZvFWEWtP569cGEwAAAAAAANITzeRRYTSTTy9V1kweAAAAAFAn0Uwe6YDKUAAAAAAAAABpgTAUAAAAAAAAQFogDAUAAAAAAACQFghDAVSZ+Q8018WT1gdjgffHqnnz5sEwVvODybVm9Uu6uC6sh2f9pIvV/IFKrkl0/yZ9rvV66VJv3qUveffKYr7GNr9YL60ORmtayuPjb8fY94NRY9te2f0HAAAAAEgrhKEAqtF8jT19oZ5evlM7d9pwm/oEc1BFTr7N7du8ZwYHExqm+Q9k64qjZum2k4MJxtv2WRpQPIAHAAAAACAFwlAA1Wd1nhbqeGV3C8ZRCzrpoud3aufzF3n36qn3x2rAp08r747iUXqfO2bp+MtvqL1KVgAAAABAvUIYCqBSrGl82Ex7wJhgomvq7E3rcYWm6W4NCOZXXwWfNe0eq/mpmoyH62ODW6eysGbZF+ul9yOPjTY1jz6nNxQ137Z1KZqe2DWAaxofzMu+vGxr4sR1N5DQXDyVlE3oS9lfFmCvLsO+9IboMY1uW/y8cuzLYsfHe+yjd+vuG1KFuX10xTPSFROi6w8AAAAAQHKEoQAqzILQAZoVNIHfqVmjgxndLtKLNm350xqsuzUrmP/isFJqE9c30Zu9munvCcO7HwXzS3S3BjyarTz3WrN095iH/WpBC9p6vKoLwqb6bp3KapqueFR61D1nnp7WFXrahZDzNbZHnn4XbJe9nk4PQ88+ui023ZqvL9TDQShoYWH2tAuCdSxH03YLLeO6G9gZ31w8lRKb0KfYX04Z96U37/jLs2PBbKdhLwbTw3lPR4LgFPuy1OOTp7wp3vqUsL2d+l+gwWNmxYXOAAAAAAAkQxgKoILma9aYwXp6ZBX2Atppj85esks/SxhOPSGYXyJvXcaF1YN9NGD0NOWtltbPeVXTRv9OF1WwqX5RRaLf3NyFkO/P0t0WGIbVjM0HeGML3ev5VZDhdL/6c9pXeW76rGnTSqhwTG3+W3dr8DOPVngbkku+v3wp5q3OS9iXNk9amBfUeMZVr0b3iS/Zviz1+FhXC0OylR2MJtUtW8cHdwEAAAAAKAlhKIC6o1KVoTVsdFFFrD+86AK99ZNusJrH8ld/1nt2say7dffscH9YYAwAAAAAQN1CGAqggrKVPWSaXp1T1AQ81mdoRVWqMjRi9Ut6eIzftLpT9vFSrAm1NW8v3mdo2NdlmfrhNN2yNXjMgKTL533lPftR2UEF5Hw9HesXtJOyj5LufitozP3+2DL3GdrnjLs1La7JeRWL7K9iovPcdkea07t5g3VBf29r3cWyBsculrV+0sNlCkNLPT5W9TklT1Zbm1JZqkcBAAAAAPAQhgKooE66aNzT0uXZfnPwr35Xy1WQ03RFj6CJtuuD8ja5Bvwn36ZZo8Mm7Q8re3kVVCxan6iz79bdp4dNwr0huCBQn5FPu6DUn+693jNFr2ZXPr87nGd9cnrPUSbeNljfo0XN8ouC2zDIdcFq+NzBBY9Kmpdyfzkp5rntPj4y7wodP9uviLV5vxtd9Ljsry7Q00PsQaUo9fhY6H63ZpUQVLum9rEAGgAAAACA1DK2bNlSGNwHyqWw0D91orcFBQWx28QhJyfHLYf6adGiRTriiCOCsbrGro5uQVoQzKEU9Wx/WV+kFh4/n6y/VY49AAAAUFU+//xzHXfcccFY5eXm5iozM7PYkJGREbs1ibdAdaIyFABQt1n16FFXKDtW1Vpk/gMDtLDKLy4FAAAAAGioCEMBoJaFzdmTDkkCwHTU5448Pf1ppL9S8/5YDdAsvTiMBvIAAAAAgLKhmTwqjGby6aVuN5MHAAAAAFQWzeSRDqgMBQAAAAAAAJAWCEMBAAAAAAAApAXCUABVZv4DzXXxpPXBWMCuBB7rA3Os6AETAAAAAADUFsJQANVovsaevlBPL9+pnTttuE19gjkAAAAAAAA1jTAUQPVZnaeFOl7Z3YJxAAAAAACAWkQYCqBSrGl82Ax+wJhg4uqXdLFN63GFpuluDQjmF2tCDwAAAAAAUIMIQwFUmAWhAzQraAK/U7NGBzO6XaQXbdrypzVYd2tWMP/FYZ2CBQAAAAAAAGoeYSiACpqvWWMG6+mR9AIKAAAAAADqB8JQAAAAAAAAAGmBMBRABWUre8g0vTrH7wd0/aSLi/oMBQAAAAAAqIMIQwFUUCddNO5p6fJsd3Gk7K9+p7xnBgfzAAAAAAAA6p6MLVu2FAb3gXIpLPRPnehtQUFB7DZxyMnJccuhflq0aJGOOOKIYAwAAAAA0NB8/vnnOu6444KxysvNzVVmZmaxISMjI3ZrEm+B6kRlKAAAAAAAAIC0QBgKAAAAAAAAIC0QhgIAAAAAAABIC4ShAAAAAAAAANICYSgAAAAAAACAtEAYCgAAAAAAACAtEIYCKJPMzEzt3bs3GAMAAAAANCT2fc++9wENXcaWLVsKg/tAuRQW+qdO9LagoCB2mzjk5OS45VA/bdiwQevWrXPHEgAAAADQsFgQ2rlzZ3Xs2DGYUnm5ubnueROHjIyM2K1JvAWqE2EoKowwFAAAAAAApEIYirqI+mcAAAAAAAAAaYEwFAAAAAAAAEBaIAwFAAAAAAAAkBYIQwEAAAAAAACkBcJQAAAAAAAAAGmBMBQAAAAAAABAWiAMBQAAAAAAAJAWCEOBemODVl3fUcvO9Ie8D4PJpfnw4dhjll0/Wd8HkwEAAAAAANINYShQHdZN1pdhAOkNX07dEMwojR94lhR0Nh27QYfP2KDsE4MJJhp4nvmwNgaTnRN/55Y/fOwdwQQAAAAAAID0RBgKVLkFyhtxjbKC0PLwGf9Q1p+PKnslZ7l5r3ebtL97rQ3a/2cPaMujC4J5AAAAAAAACBGGAlXs+6mPaffP/hGp3Oyt/a/7qXa/awHlAuWdeaVWrfPnRMe/n3qllp15lLZ/Ju2+LazyjC6bSm9lz/idOgRjHU69Q1r+dZmbw/uvW5bXAQAAAAAAqN8IQ4Eqtvvr15R58EHBmK/1gceUGlC2Pv8pHT7jU7U8sqgp/OEznlL3zsECZbTx3QeUecaP1ToYBwAAAAAAgI8wFGhArMpzy/K/qtP5HYMppfND2PKHrgAAAAAAAPUNYShQxZoe/FMVfP1NMOb7fuViqcfB1VqtaUHo2rf+TV3+NJSqUAAAAAAAgCQIQ4Eq1vqUf1Pm3x8r6oNz3WSt/7PU8qLewYTXtG+1f2/joz/Rbv9uoKOa9pD2rizr1ed9Gx/tWOEglD5DAQAAAABAuiAMBapa56H60dhjtH1EcBEkd2X5sBl6cDGl4AJJ3x78D9dHaFSHi/4q/fko/7FlCSnXTda3f/duP7tGa91j/KH6rl4PAAAAAABQP2Vs2bKlMLgPlEthoX/qRG8LCgpit4lDTk6OWw4VtUGrrj9K+67YELlSfTl8+LCWPX0QzegBAAAAADUiNzdXmZmZxYaMjIzYrUm8BaoTlaEAAAAAAAAA0gJhKFDPhE3sy9wM3ipCren8bQ8EEwAAAAAAANITzeRRYTSTBwAAAAAAqdBMHnURlaEAAAAAAAAA0gJhKAAAAAAAAIC0QBgKoO56735lZAzVxFXBeLms08RhGa6ZhQ1DX1gXTC+HVRM1NHh8Rsb9mhdMroh1Lwyt8LbMu7doOzLuLVqLVNMTRZe7/71gYsL+KZqewB2DcLnIPojum2ETvWcLpFreCV6zhHUFAAAAAKA6EYYCqJssVOs7Khgpv3UvXKtLXx6i51cWqnDefZoyvEvqwC+pdZp406WacuHzWlu4Vs9fOEr9KhrirZqoa4dPCUbKydsP/UZL983ztmPl8xoyup8f7Kaansgt5++HtROHaFRfP6D09899mlvo759werx5ut+OwZi5Kgz3gQs+g33jps/VfS9fqmvda6da3lgQ2sV7TTcCAAAAAECtIAwFUPcEQeiQC4cEE8qv8yWTVVg4WcO7eyPdc1T+Z+qs4ZMKVThpuHcvV7kVDvH84FAV3ZZT7nQXJbvzFO++tx0n+FNTT08w75+jvNceqkHefuj846Hefhilme9JucuneNNz5C5r5vaPPz1eX91pYeldfb37nZVztD9Vq2Zqsrc/7jvLpvfVoDHSlFdneluaYvlYEDrEO6bBJAAAAAAAagFhKIA6acjEtZp8U6qIrzyCKkYNUY4Fo+VmQV4/jbJqRxfylY+rwNTzeqwKtmXevd56eLcn5HT2JwRSTS9JTo8h0su5yrWRVbne/pE+yk1SWRoKKlF1dI7K9CrFlrcq1Mc01N0HAAAAAKB2EIYCqHtOuVOTLyl7sFeSefcGTbPH3OJXiZabXyE6V/2S9IFZCtc8Xnr+D1ZdWjnW56gLFy98XldbNWgg1fTSdL7kMb8Zu/Xt+YePSq6ctf5BXZcFQ/T8lWUIhIstb/vwTpU/SgYAAAAAoGoRhgJosOzCQWFQuLYCVZ1RrpJSHym3HBdAWvfOZE3x/nfpgRlB/6d2v/wXUbLAs4vrc/Q+zXXN9n3JpvsXavIvYFTyRaOCbgCsWfsf/HpNqywtdrElCzYPtMpa65806HagJOVdHgAAAACAGkQYCqBhCptpWxAaCRDLbp7ut1AwuGiS38em3/dmWfn9lgaB47z7vCl2IaNyBoSuujQIPAsj1ZUppkdf06pr+57lve7LkzVzVRjO3qdBp4ShqR/MRqf3vStYX2+485SwiwELNoP+SU33QRp6oTTqn7Zv5mmmt5+HXDDI28cplgcAAAAAoI4gDAXQILkLB5mXL1WXaKVjmfXVncFV2u2x/UbHV2XWFD+oNEGTdm+wis9U04s55U7NHeNXp1oV6X3z/ODUbyYfTpeeX5mkGXtwoSQzqq//Ghnu6vCdNfwP4b7pp1EXPq/HrFuDlMsDAAAAAFA3ZGzZsqUwuA+Ui1WOJd4WFBTEbhOHnBx33WoAAAAAAJAGcnNzlZmZWWywwonw1iTeAtWJylAAAAAAAAAAaYEwFAAAAAAAAEBaIAwFAAAAAAAAkBYIQwEAAAAAAACkBcJQAAAAAAAAAGmBMBQAAAAAAABAWiAMBQAAAAAAAJAWMrZs2VIY3AfKpbDQP3WitwUFBbHbxCEnJ8cth4YjIyMjuAdUnfAzBQAAAED9lpubq8zMzGKDfZcMb03iLVCdCENRYYSh2LFjR3APqDotWrQI7gEAAACozwhDURfRTB4AAAAAAABAWiAMBQAAAAAAAJAWCEMBAAAAAAAApAXCUAAAAAAAAABpgTAUAAAAAAAAQFogDAUAAAAAAACQFghDAVS59ZOGq2XLlm4YPml9MLU85mtc8PiKP8d6Tbqs6DnGvR9MrhB/fSr0HO+Pi61DxbYlfjtaPji/lOnFRY9H3DZE1y3F46OPbdlynLcnQpFjdNkkb2185V0eAAAAAICaRBgKoGqtnqTfXTlNv397u7a//XtNu/J3mrQ6mFdG8x8cpEVPrdD27d5zfPGUdOUh5Q4i10/6na7sNdN/Dm897hkYDebKx9bnnuB+ea3PWyTdFayHN0wc1imYUzZx27F9pn5/7yAXqKaaXow7HsdpZrgf/hQEkd704QPlT9++Qk8tebT4cYo+1htm3nWPBgVBZtEx8h6rK/WMHZ/yLg8AAAAAQA0jDAVQpdbPmapp+r1OP9kbOfl07940TZ1TvjrAPrdHQsNup+v8If7d8ug0bKK2394nGPMMyVZ2cLdc3h+nQXpKT1VgHUzeimkafEiFXtmJ344+Ov0u/16q6Ync8Qi33Y7HlKmavdqfrqcu9x5pOmnYsxM1rJsbKdJtmCZuvzVYxnuVQb8P7s3X7Hul47LtGHXS6T8brHtmzi//8gAAAAAA1DDCUAB12+rZmjolCFfLLWhKPvAe/f76YSpfTaaZr3FWPXn76cF4efkh4LQrD0nSbLwi7PkG6/z+iVuSanqg18GRbZ+mvLACdMUzGh42XS+hmX1o/sx7NPhnpwfPNVjZ0fB0ydfFmr6Xd3kAAAAAAKobYSiAOmy+xh02Ved/UVRtWD5W8eg3I9fA8vf5aU279XZFX9v00a1Bk3EbVjy1KNZsvPws2LX1SazgTDW9ZFaxOm1Jth526+Y3sy9p/1hfoIM0s8zN/Mu7PAAAAAAANYEwFEDdZH1atpyt07eXL+RLLlvZQ6RFeeWJIf2qznsGWuXkIbpyin+/QhdRCnTKPk6akqe8YLzs7OJDv5Me3K5b4ypki0+f/2BQ6ekNsXWNq8L0KzSzDxkcqRgN98+nkYsyDY/1IWrP+Ts9HN/tQLTC1ESqT8u7PAAAAAAANYUwFECV6tT/fA3WPZptQdz7s717JTTfTsWC0NulhyP9T5aXVSbGLijkmtqXdz2iVZ0rXJ+hdlGo+DCyNBZWFjWNt2bjuuv0cm6TPUeyUDj5dOtvNaxEtXV1xyMMYO14DDlfp3vLu+n3zg7WzZs/xfr0PCqopLXBf14LNmcPSrzwk99HqR8ur9fsv0/T7wf5W1Xe5QEAAAAAqEkZW7ZsKQzuA+VSWOifOtHbgoKC2G3ikJOT45ZDw7Fjx47gXjwLIg+5cpq7P/ipFeVsKm3Nvv1KzKjyB5Hxz1P+x0f5z5V3fQWe4/1xrs9S3+81s5wBr4WLg+4NRgK2T29YcUjS6cn2ddHxGKynvigKT0s9TnHrHhjylFY8a/2vWhgbXGXfrpZvVaDlXT6FFi1aBPcAAAAA1Ge5ubnKzMwsNmRkZMRuTeItUJ0IQ1FhhKFIFYYClUEYCgAAADQMhKGoi2gmDwAAAAAAACAtEIYCAAAAAAAASAuEoQAAAAAAAADSAmEoAAAAAAAAgLRAGAoAAAAAAAAgLRCGAgAAAAAAAEgLhKEAAAAAAAAA0kLGli1bCoP7QLkUFvqnTvS2oKAgdps45OTkuOUAAAAAAEDDl5ubq8zMzGJDRkZG7NYk3gLVicpQAAAAAAAAAGmBMBQAAAAAAABAWiAMBQAAAAAAAJAWCEMBAAAAAAAApAXCUAAAAAAAAABpgTAUAAAAAAAAQFogDAVQPVZN1NCMDN3/XjBeQfPuzVDGvfOCsfJYp4nDvMd66+AP96siz+K8d78yhk30nrEi5un+cB0q/BzG3564/WnrFTz30BdSP/O6F4bGlit6fPz+Ke04ueeIHofIa8dtV3mnAwAAAABQgwhDAVQ9C0IPvFRTgtEKe+9+9Rsd3C+3XOW+PETPryxUYaENd6pvMKc8XAjYd1QwVn7z7u2njyau9V5/rZ7XpXqiQuGwBapddOnLwajjTev7kb99K5+Xhj+RPOz1jsW1w0/QXNsH8+7TqD/4QeS6F6711uZ5rXX7Zq7Ud6gmrvIfksgC6S7Do0fTXnuU7pvn79u1F0xWFxeUlnc6AAAAAAA1izAUQNUKg9ALh2hIMKliLECTnp9YwWdZlauPdIJyugfjFfHe/bpWj2ltRdfB24aZo6UTcjp79ztr0AVDNOqf5Q0BrYJzpgYVztV9wRTnvZkaFW5f90EaeuEozUwStK57Z7J3LHKUYyOnDNJ9L0/WzFVS7vIpGnLBIG+tjDf/winKTRKGWhg886xCzR0TTDBu396nQaf4o51zTpA+ydW68k73RwEAAAAAqDGEoQCq3pi5KvzD0GCkYqyiUvPu1KBgvLxcCKhR6hc0zS6pGXlKp9ypyZf4cWHFDYkPZMsdAnbW8EkpqlrDkDPwUW6KZz46Jwg9jR965vQYoimvzgzWxapokz++8yWTdWcQYsZ0z9EJ3r4Nw9d1uR9JL3vPUd7p/igAAAAAADWGMBRA1eo+XJPvqkiD9AhrHq+5xUO4crAQz28e7zcDP2F4l0r3X9qQdL7kMddsv4sLi2dK0crPUvXVndbkvq8fNF+7/ISgCri80wEAAAAAqFmEoQDqnHn/HCWN7ueCM9dXpd2vVB+T1gy8hMrJapXQ/DyuSrOSEqorrTm+u+CUCzgjF0WKq0YNK1Wt4jQMi69Wzif2eEUuqpS6D1HnlDtjYfPks7ytjDXFL+d0AAAAAABqEGEogDqn711hSFfo99dpze7LWW1qfV3GmsavmqnJLw/R0B9XWQxZRn01aEwYwq7TzFen6L6zKlk1G7L+P/WRH7S67fP75IzuO6us7fzjoRoShqbWz+iFQzWou79/YgHze0/oUvf4aEA6WcOjzfvjzNP9sbB0nSb+YVTQ/2h5pwMAAAAAULMIQwE0SNYMfOirXfwqxwMvlSY+VkK4V3363uU30c+wq8EfXbmm//Gs6fkJuvRAf/tOmJeiX9Huw/XYxI/8vlPt6vN/GO5CSNdM/hO/+tZNX1meq+1HXjvYLr9v1fJOBwAAAACgZmVs2bKlMLgPlItVjyXeFhQUxG4Th5wcGsUCAAAAAJAucnNzlZmZWWywoozw1iTeAtWJylAAAAAAAAAAaYEwFAAAAAAAAEBaIAwFAAAAAAAAkBYIQwEAAAAAAACkBcJQAAAAAAAAAGmBMBQAAAAAAABAWsjYsmVLYXAfKJfCQv/Uid4WFBTEbhOHnJwctxwajh07dgT3gKrTokWL4B4AAACA+iw3N1eZmZnFhoyMjNitSbwFqhOVoQAAAAAAAADSAmEoAAAAAAAAgLRAGAoAAAAAAAAgLRCGAgAAAAAAAEgLhKEAAAAAAAAA0gJhKAAAAAAAAIC0QBgKAAAAAAAAIC0QhgKocvMfbKmWLYPhwfnB1PKYr3Hh471h+KT1wfTyWK9JlxU9x7j3g8llFr8O/jBck1YHs8tq9SQNjz1+nPesFfD+uNg6FN8X/naWtH3rJw2PPb74cradqbcr+tj49Y/sn8smeWsRSjXd556vQucEAAAAAACVRxgKoGq9P06D7pV+//Z2bf/iKQ2+d1C5w8z5Dw7SoqdWaPt2/zl05SHlDjPXT/qdruw103+Ot3+vewaWN4jso1vtscGw4qnBGvzUwxrWLZhdJus16fYrpWBbZt51jwaVOwicr3EDF+mpL8J98UxCIHmIrpwSjCazepJ+d+Vxmhnuhz9FAkoX1A7SPcFoMdHHhusfBJxFx2iFntKVeiY4PqmmGwvJD7lyWjAGAAAAAEDNIwwFULVOvtUFZ7ee7N3vdrCO86eWS5/bt2visE7+SLfTdf4Q/255dBo2Udtv7xOMeYZkKzu4W25BKHhDuE5l1kkH9wruBgYfUs61eH+27vH24sEWwrp9cY9mu4DRKkJn6/TtM/V7G01h/ZypmhZu+8mn6/dTpmq2qwKdr3G3Sw9bYG2jyXQbponbb1W4F/sMCl9pvmbfKx2Xbfujk07/2WDdM9Mi2lTT/YrQ2YMsUHWjAAAAAADUCsJQANXGqgSt6tAPxypo9WxNnfJ7nW7harkFTeUH3qPfXz9MFV2L+c9eqePeLgoFy8OC3RtWHOKajVsYGAt5yyMhyF2UZ7WZnTTs2TKuU6+DI9s+TXkuDO2jW58t3z6ZP/MeDf7Z6cFjBis7WiW75Oug4jT5dAunXUAOAAAAAEAtIgwFUC2sEtCay2vIU7q8wiHYfI07bKrO/6JiQaQfGFoT75nSwIr0G2qs2rGiYazff6aFoFYte/rMlvW2v0x3PDWzYmEuAAAAAAB1BGEogCpnwZnfN+TvNbOc1Ycxrj9LawY+sZz9dCaTrewhYUVlOVkz9btOr1gYu/prLfL2QRikumbm985WuePQKXnKC+6akiptoxevioW/sapNk1C5GSd60amiiyrZc/5OD8d3OxCrMA3Eqk9TTQcAAAAAoPYRhgKoWq5/zSAIjfQ3WS4WhFp/lhV9vMcC2diFm1xT+8E6v3/5YzlrGv77QRVcC9dnatjHp7dOeYvK33ep9fOpRfraAsYydBlgzfKtCjXst7VT//M1OAxTLdgdcr5OTxmGhpW0NvghtAWhxZv399Hpd4Xh8nrN/vu0YB+lmg4AAAAAQN1AGAqgSrkL9rh792hQUKFYvqvJ+1dgnzblSh0SPD6uyrGMOg17WOf/3e+rs+Vh1udnRSpM1+vrJSVVUpamj2794iktGuhvwyF2ZfZyV8p6z/H2cbrysHA7yhkQdxumh59a5B8Luyr9g+V4/ffHua4O7gnW3w3B1eT73D5Tx11p+/cQd9X+sD/QVNMBAAAAAKgLMrZs2VIY3AfKpbDQP3WitwUFBbHbxCEnJ8cth4Zjx44dwT2g6rRo0SK4BwAAAKA+y83NVWZmZrEhIyMjdmsSb4HqRGUoAAAAAAAAgLRAGAoAAAAAAAAgLRCGAgAAAAAAAEgLhKEAAAAAAAAA0gJhKAAAAAAAAIC0QBgKAAAAAAAAIC1kbNmypTC4D5RLYaF/6kRvCwoKYreJQ05OjlsOAAAAAAA0fLm5ucrMzCw2ZGRkxG5N4i1QnagMBQAAAAAAAJAWCEMBAAAAAAAApAXCUAAAAAAAAABpgTAUAAAAAAAAQFogDAUAAAAAAACQFghDAQAAAAAAAKQFwlAAAAAAAAAAaYEwFAAAAAAAAEBaIAwFAAAAAAAAkAak/x8pHLsoPtHbKgAAAABJRU5ErkJggg==)"
      ],
      "metadata": {
        "id": "xRaM1mw_MLSp"
      }
    },
    {
      "cell_type": "markdown",
      "source": [
        "9. Write a Pandas program to check for inequality of two given DataFrames."
      ],
      "metadata": {
        "id": "RiBEmfDNMmM6"
      }
    },
    {
      "cell_type": "code",
      "source": [
        "df1 = pd.DataFrame({'W':[68,75,86,80,None],'X':[78,85,None,80,86], 'Y':[84,94,89,83,86],'Z':[86,97,96,72,83]});\n",
        "df2 = pd.DataFrame({'W':[78,75,86,80,None],'X':[78,85,96,80,76], 'Y':[84,84,89,83,86],'Z':[86,97,96,72,83]});\n",
        "print(\"Original DataFrames:\")\n",
        "print(df1)\n",
        "print(df2)\n",
        "print(\"Check for inequality of the said dataframes:\")\n",
        "print(df1.ne(df2))"
      ],
      "metadata": {
        "colab": {
          "base_uri": "https://localhost:8080/"
        },
        "id": "W3LDhWWjG6wD",
        "outputId": "f3d882f9-b2a6-4241-fdfd-59d2870146db"
      },
      "execution_count": null,
      "outputs": [
        {
          "output_type": "stream",
          "name": "stdout",
          "text": [
            "Original DataFrames:\n",
            "      W     X   Y   Z\n",
            "0  68.0  78.0  84  86\n",
            "1  75.0  85.0  94  97\n",
            "2  86.0   NaN  89  96\n",
            "3  80.0  80.0  83  72\n",
            "4   NaN  86.0  86  83\n",
            "      W   X   Y   Z\n",
            "0  78.0  78  84  86\n",
            "1  75.0  85  84  97\n",
            "2  86.0  96  89  96\n",
            "3  80.0  80  83  72\n",
            "4   NaN  76  86  83\n",
            "Check for inequality of the said dataframes:\n",
            "       W      X      Y      Z\n",
            "0   True  False  False  False\n",
            "1  False  False   True  False\n",
            "2  False   True  False  False\n",
            "3  False  False  False  False\n",
            "4   True   True  False  False\n"
          ]
        }
      ]
    },
    {
      "cell_type": "markdown",
      "source": [
        "10 Write a Pandas program to get lowest n records within each group of a given DataFrame."
      ],
      "metadata": {
        "id": "uZRaFaDuBeoo"
      }
    },
    {
      "cell_type": "code",
      "source": [
        "d = {'col1': [1, 2, 3, 4, 7, 11], 'col2': [4, 5, 6, 9, 5, 0], 'col3': [7, 5, 8, 12, 1,11]}\n",
        "df = pd.DataFrame(data=d)\n",
        "print(\"Original DataFrame\")\n",
        "print(df)\n",
        "print(\"\\nLowest n records within each group of a DataFrame:\")\n",
        "df1 = df.nsmallest(3, 'col1')\n",
        "print(df1)\n",
        "df2 = df.nsmallest(3, 'col2')\n",
        "print(df2)\n",
        "df3 = df.nsmallest(3, 'col3')\n",
        "print(df3)"
      ],
      "metadata": {
        "id": "aYpzejRCRF12",
        "colab": {
          "base_uri": "https://localhost:8080/"
        },
        "outputId": "d9dc34d8-1fcf-47bd-ce96-653c5c93caed"
      },
      "execution_count": null,
      "outputs": [
        {
          "output_type": "stream",
          "name": "stdout",
          "text": [
            "Original DataFrame\n",
            "   col1  col2  col3\n",
            "0     1     4     7\n",
            "1     2     5     5\n",
            "2     3     6     8\n",
            "3     4     9    12\n",
            "4     7     5     1\n",
            "5    11     0    11\n",
            "\n",
            "Lowest n records within each group of a DataFrame:\n",
            "   col1  col2  col3\n",
            "0     1     4     7\n",
            "1     2     5     5\n",
            "2     3     6     8\n",
            "   col1  col2  col3\n",
            "5    11     0    11\n",
            "0     1     4     7\n",
            "1     2     5     5\n",
            "   col1  col2  col3\n",
            "4     7     5     1\n",
            "1     2     5     5\n",
            "0     1     4     7\n"
          ]
        }
      ]
    },
    {
      "cell_type": "markdown",
      "source": [
        "11 Write a Pandas program to insert a column at a specific index in a given DataFrame."
      ],
      "metadata": {
        "id": "s80NpZFeCiE8"
      }
    },
    {
      "cell_type": "code",
      "source": [
        "df = pd.DataFrame({\n",
        "    'Code':['s001','s002','s003','s001','s002','s004'],\n",
        "    'Name':['Yash','Akanksha','Janvi','Vijay','Karan','Malvika'],\n",
        "    'Class':['PG','PG','X','XII','IX','V'],\n",
        "    'Weight':[60,65,50,70,68,55]},\n",
        "    index = [1,2,3,4,5,6])\n",
        "print(\"\\nOriginal data\")\n",
        "print(df)\n",
        "DOB = ['16/09/1999','02/01/1998','05/03/1997','16/02/1999','25/09/1998','11/05/2002']\n",
        "idx = 3\n",
        "print(\"\\nInsert 'DOB' column in 3rd position\\n\")\n",
        "df.insert(loc=idx, column='DOB', value = DOB)\n",
        "print(df)\n"
      ],
      "metadata": {
        "colab": {
          "base_uri": "https://localhost:8080/"
        },
        "id": "qLU7Xw2sB74c",
        "outputId": "107c73fa-72ed-4f5d-bdca-0e5cf43a59ef"
      },
      "execution_count": null,
      "outputs": [
        {
          "output_type": "stream",
          "name": "stdout",
          "text": [
            "\n",
            "Original data\n",
            "   Code      Name Class  Weight\n",
            "1  s001      Yash    PG      60\n",
            "2  s002  Akanksha    PG      65\n",
            "3  s003     Janvi     X      50\n",
            "4  s001     Vijay   XII      70\n",
            "5  s002     Karan    IX      68\n",
            "6  s004   Malvika     V      55\n",
            "\n",
            "Insert 'DOB' column in 3rd position\n",
            "\n",
            "   Code      Name Class         DOB  Weight\n",
            "1  s001      Yash    PG  16/09/1999      60\n",
            "2  s002  Akanksha    PG  02/01/1998      65\n",
            "3  s003     Janvi     X  05/03/1997      50\n",
            "4  s001     Vijay   XII  16/02/1999      70\n",
            "5  s002     Karan    IX  25/09/1998      68\n",
            "6  s004   Malvika     V  11/05/2002      55\n"
          ]
        }
      ]
    },
    {
      "cell_type": "markdown",
      "source": [
        "12 Write a Pandas program to print a DataFrame without index."
      ],
      "metadata": {
        "id": "Ng7LhlV5Fr-o"
      }
    },
    {
      "cell_type": "code",
      "source": [
        "# Let us consider previous dataframe\n",
        "print(\"Original data\\n\")\n",
        "print(df)\n",
        "print(\"\\n Dataframe without index\\n\")\n",
        "print(df.to_string(index=False))"
      ],
      "metadata": {
        "colab": {
          "base_uri": "https://localhost:8080/"
        },
        "id": "H9jszLgoFai8",
        "outputId": "5b00007e-b3c9-4bd9-cab3-7cab97283368"
      },
      "execution_count": null,
      "outputs": [
        {
          "output_type": "stream",
          "name": "stdout",
          "text": [
            "Original data\n",
            "\n",
            "   Code      Name Class         DOB  Weight\n",
            "1  s001      Yash    PG  16/09/1999      60\n",
            "2  s002  Akanksha    PG  02/01/1998      65\n",
            "3  s003     Janvi     X  05/03/1997      50\n",
            "4  s001     Vijay   XII  16/02/1999      70\n",
            "5  s002     Karan    IX  25/09/1998      68\n",
            "6  s004   Malvika     V  11/05/2002      55\n",
            "\n",
            " Dataframe without index\n",
            "\n",
            " Code      Name Class         DOB  Weight\n",
            " s001      Yash    PG  16/09/1999      60\n",
            " s002  Akanksha    PG  02/01/1998      65\n",
            " s003     Janvi     X  05/03/1997      50\n",
            " s001     Vijay   XII  16/02/1999      70\n",
            " s002     Karan    IX  25/09/1998      68\n",
            " s004   Malvika     V  11/05/2002      55\n"
          ]
        }
      ]
    },
    {
      "cell_type": "markdown",
      "source": [
        "13 Write a Pandas program to find integer index of rows with missing data in a given dataframe."
      ],
      "metadata": {
        "id": "gzeNXxqXGVJC"
      }
    },
    {
      "cell_type": "code",
      "source": [
        "df = pd.DataFrame({\n",
        "    'Code':['s001','s002','s003','s001','s002','s004'],\n",
        "    'Name':['Yash','Akanksha','Janvi','Vijay','Karan','Malvika'],\n",
        "    'Class':['PG','PG','X','XII','IX','V'],\n",
        "    'Weight':[60,None,50,70,None,55]},\n",
        "    index = [1,2,3,4,5,6])\n",
        "print(\"\\nOriginal data\")\n",
        "print(df)\n",
        "index = df['Weight'].index[df['Weight'].apply(np.isnan)]\n",
        "df_index = df.index.values.tolist()\n",
        "print(\"\\nInteger index of rows with missing values are\")\n",
        "print([df_index.index(i) for i in index])\n"
      ],
      "metadata": {
        "colab": {
          "base_uri": "https://localhost:8080/"
        },
        "id": "HVsSamseGRJQ",
        "outputId": "a4b3f66a-b5b3-4fac-9b54-75419661f5c7"
      },
      "execution_count": null,
      "outputs": [
        {
          "output_type": "stream",
          "name": "stdout",
          "text": [
            "\n",
            "Original data\n",
            "   Code      Name Class  Weight\n",
            "1  s001      Yash    PG    60.0\n",
            "2  s002  Akanksha    PG     NaN\n",
            "3  s003     Janvi     X    50.0\n",
            "4  s001     Vijay   XII    70.0\n",
            "5  s002     Karan    IX     NaN\n",
            "6  s004   Malvika     V    55.0\n",
            "\n",
            "Integer index of rows with missing values are\n",
            "[1, 4]\n"
          ]
        }
      ]
    },
    {
      "cell_type": "markdown",
      "source": [
        "14 Write a Pandas program to start index with different value rather than 0 in a given DataFrame."
      ],
      "metadata": {
        "id": "TTQHWC9jHilm"
      }
    },
    {
      "cell_type": "code",
      "source": [
        "df = pd.DataFrame({\n",
        "    'Code':['s001','s002','s003','s001','s002','s004'],\n",
        "    'Name':['Yash','Akanksha','Janvi','Vijay','Karan','Malvika'],\n",
        "    'Class':['PG','PG','X','XII','IX','V'],\n",
        "    'Weight':[60,66,50,70,65,55]})\n",
        "print(\"\\nOriginal data\")\n",
        "print(df)\n",
        "print(\"\\nDefault index\")\n",
        "print(df.index)\n",
        "df.index += 10\n",
        "print(\"\\nNew index range\")\n",
        "print(df.index)\n",
        "print(\"\\nDataframe with new index\")\n",
        "print(df)"
      ],
      "metadata": {
        "colab": {
          "base_uri": "https://localhost:8080/"
        },
        "id": "SHuwLqGWHWM0",
        "outputId": "708f04c1-f5ed-4330-c685-71e34c06216c"
      },
      "execution_count": null,
      "outputs": [
        {
          "output_type": "stream",
          "name": "stdout",
          "text": [
            "\n",
            "Original data\n",
            "   Code      Name Class  Weight\n",
            "0  s001      Yash    PG      60\n",
            "1  s002  Akanksha    PG      66\n",
            "2  s003     Janvi     X      50\n",
            "3  s001     Vijay   XII      70\n",
            "4  s002     Karan    IX      65\n",
            "5  s004   Malvika     V      55\n",
            "\n",
            "Default index\n",
            "RangeIndex(start=0, stop=6, step=1)\n",
            "\n",
            "New index range\n",
            "RangeIndex(start=10, stop=16, step=1)\n",
            "\n",
            "Dataframe with new index\n",
            "    Code      Name Class  Weight\n",
            "10  s001      Yash    PG      60\n",
            "11  s002  Akanksha    PG      66\n",
            "12  s003     Janvi     X      50\n",
            "13  s001     Vijay   XII      70\n",
            "14  s002     Karan    IX      65\n",
            "15  s004   Malvika     V      55\n"
          ]
        }
      ]
    },
    {
      "cell_type": "markdown",
      "source": [
        "15 Write a Pandas program to select rows by filtering on one or more column(s) in a multi-index dataframe. "
      ],
      "metadata": {
        "id": "bZKObXKjI6OU"
      }
    },
    {
      "cell_type": "code",
      "source": [
        "df = pd.DataFrame({\n",
        "    'Code':['s001','s002','s003','s001','s002','s004'],\n",
        "    'Name':['Yash','Akanksha','Janvi','Vijay','Karan','Malvika'],\n",
        "    'Class':['PG','PG','X','XII','IX','V'],\n",
        "    'Weight':[60,66,50,70,65,55],\n",
        "    'DOB':['16/09/1999','02/01/1998','05/03/1997','16/02/1999','25/09/1998','11/05/2002'],\n",
        "    'tcode':['t1', 't2', 't3', 't4', 't5', 't6']})\n",
        "print(\"\\nOriginal data\")\n",
        "print(df)\n",
        "print(\"\\nCreating MultiIndex on 'tcode' and 'Code' \")\n",
        "df = df.set_index(['tcode', 'Code'])\n",
        "print(df)\n",
        "print(\"\\nSelect rows from 'tcode' column \")\n",
        "print(df.query(\"tcode == 't2' \"))\n",
        "print(\"\\nSelect rows from 'Code' column\")\n",
        "print(df.query(\"Code == 's001' \"))\n",
        "print(\"\\nSelect rows from 'tcode' and 'scode' columns \")\n",
        "print(df.query((\"tcode == 't1' \") and (\"Code == 's001' \")))\n"
      ],
      "metadata": {
        "colab": {
          "base_uri": "https://localhost:8080/"
        },
        "id": "2l7YW05EICte",
        "outputId": "f75bb88f-294a-441e-8daa-c2573dfe277b"
      },
      "execution_count": null,
      "outputs": [
        {
          "output_type": "stream",
          "name": "stdout",
          "text": [
            "\n",
            "Original data\n",
            "   Code      Name Class  Weight         DOB tcode\n",
            "0  s001      Yash    PG      60  16/09/1999    t1\n",
            "1  s002  Akanksha    PG      66  02/01/1998    t2\n",
            "2  s003     Janvi     X      50  05/03/1997    t3\n",
            "3  s001     Vijay   XII      70  16/02/1999    t4\n",
            "4  s002     Karan    IX      65  25/09/1998    t5\n",
            "5  s004   Malvika     V      55  11/05/2002    t6\n",
            "\n",
            "Creating MultiIndex on 'tcode' and 'Code' \n",
            "                Name Class  Weight         DOB\n",
            "tcode Code                                    \n",
            "t1    s001      Yash    PG      60  16/09/1999\n",
            "t2    s002  Akanksha    PG      66  02/01/1998\n",
            "t3    s003     Janvi     X      50  05/03/1997\n",
            "t4    s001     Vijay   XII      70  16/02/1999\n",
            "t5    s002     Karan    IX      65  25/09/1998\n",
            "t6    s004   Malvika     V      55  11/05/2002\n",
            "\n",
            "Select rows from 'tcode' column \n",
            "                Name Class  Weight         DOB\n",
            "tcode Code                                    \n",
            "t2    s002  Akanksha    PG      66  02/01/1998\n",
            "\n",
            "Select rows from 'Code' column\n",
            "             Name Class  Weight         DOB\n",
            "tcode Code                                 \n",
            "t1    s001   Yash    PG      60  16/09/1999\n",
            "t4    s001  Vijay   XII      70  16/02/1999\n",
            "\n",
            "Select rows from 'tcode' and 'scode' columns \n",
            "             Name Class  Weight         DOB\n",
            "tcode Code                                 \n",
            "t1    s001   Yash    PG      60  16/09/1999\n",
            "t4    s001  Vijay   XII      70  16/02/1999\n"
          ]
        }
      ]
    },
    {
      "cell_type": "markdown",
      "source": [
        "16 Write a Pandas program to extract only words from a given column of a given DataFrame."
      ],
      "metadata": {
        "id": "OA_qvicaK6de"
      }
    },
    {
      "cell_type": "code",
      "source": [
        "df = pd.DataFrame({\n",
        "    'company_code': ['Abcd','EFGF', 'zefsalf', 'sdfslew', 'zekfsdf'],\n",
        "    'date_of_sale': ['12/05/2002','16/02/1999','05/09/1998','12/02/2022','15/09/1997'],\n",
        "    'address': ['9910 Surrey Ave.','92 N. Bishop Ave.','9910 Golden Star Ave.', '102 Dunbar St.', '17 West Livingston Court']\n",
        "})\n",
        "print(\"Original DataFrame:\")\n",
        "print(df)\n",
        "\n",
        "def search_words(text):\n",
        "    result = re.findall(r'\\b[^\\d\\W]+\\b', text)\n",
        "    return \" \".join(result)\n",
        "\n",
        "df['only_words']=df['address'].apply(lambda x : search_words(x))\n",
        "print(\"\\nOnly words:\")\n",
        "print(df)"
      ],
      "metadata": {
        "colab": {
          "base_uri": "https://localhost:8080/"
        },
        "id": "H7ksAgY9LO0E",
        "outputId": "789d52f2-fd12-46b4-c514-4b4ef18ffff9"
      },
      "execution_count": null,
      "outputs": [
        {
          "output_type": "stream",
          "name": "stdout",
          "text": [
            "Original DataFrame:\n",
            "  company_code date_of_sale                   address\n",
            "0         Abcd   12/05/2002          9910 Surrey Ave.\n",
            "1         EFGF   16/02/1999         92 N. Bishop Ave.\n",
            "2      zefsalf   05/09/1998     9910 Golden Star Ave.\n",
            "3      sdfslew   12/02/2022            102 Dunbar St.\n",
            "4      zekfsdf   15/09/1997  17 West Livingston Court\n",
            "\n",
            "Only words:\n",
            "  company_code date_of_sale                   address             only_words\n",
            "0         Abcd   12/05/2002          9910 Surrey Ave.             Surrey Ave\n",
            "1         EFGF   16/02/1999         92 N. Bishop Ave.           N Bishop Ave\n",
            "2      zefsalf   05/09/1998     9910 Golden Star Ave.        Golden Star Ave\n",
            "3      sdfslew   12/02/2022            102 Dunbar St.              Dunbar St\n",
            "4      zekfsdf   15/09/1997  17 West Livingston Court  West Livingston Court\n"
          ]
        }
      ]
    },
    {
      "cell_type": "markdown",
      "source": [
        "17 Write a Pandas program to extract the sentences where a specific word is present in a given column of a given DataFrame."
      ],
      "metadata": {
        "id": "cwOH2AgdK-wp"
      }
    },
    {
      "cell_type": "code",
      "source": [
        "print(\"Original DataFrame:\")\n",
        "print(df)\n",
        "def pick_only_key_sentence(str1, word):\n",
        "    result = re.findall(r'([^.]*'+word+'[^.]*)', str1)\n",
        "    return result\n",
        "df['filter_sentence']=df['address'].apply(lambda x : pick_only_key_sentence(x,'Avenue'))\n",
        "print(\"\\nText with the word 'Avenue':\")\n",
        "print(df)"
      ],
      "metadata": {
        "colab": {
          "base_uri": "https://localhost:8080/"
        },
        "id": "pySuZpL0LlpU",
        "outputId": "1ce8818e-7f35-436d-c360-b50a73c8078b"
      },
      "execution_count": null,
      "outputs": [
        {
          "output_type": "stream",
          "name": "stdout",
          "text": [
            "Original DataFrame:\n",
            "  company_code date_of_sale                   address             only_words\n",
            "0         Abcd   12/05/2002          9910 Surrey Ave.             Surrey Ave\n",
            "1         EFGF   16/02/1999         92 N. Bishop Ave.           N Bishop Ave\n",
            "2      zefsalf   05/09/1998     9910 Golden Star Ave.        Golden Star Ave\n",
            "3      sdfslew   12/02/2022            102 Dunbar St.              Dunbar St\n",
            "4      zekfsdf   15/09/1997  17 West Livingston Court  West Livingston Court\n",
            "\n",
            "Text with the word 'Avenue':\n",
            "  company_code date_of_sale  ...             only_words filter_sentence\n",
            "0         Abcd   12/05/2002  ...             Surrey Ave              []\n",
            "1         EFGF   16/02/1999  ...           N Bishop Ave              []\n",
            "2      zefsalf   05/09/1998  ...        Golden Star Ave              []\n",
            "3      sdfslew   12/02/2022  ...              Dunbar St              []\n",
            "4      zekfsdf   15/09/1997  ...  West Livingston Court              []\n",
            "\n",
            "[5 rows x 5 columns]\n"
          ]
        }
      ]
    },
    {
      "cell_type": "markdown",
      "source": [
        "18 Write a Pandas program to extract the unique sentences from a given column of a given DataFrame."
      ],
      "metadata": {
        "id": "zocQBLyPLAyX"
      }
    },
    {
      "cell_type": "code",
      "source": [
        "print(\"Original DataFrame:\")\n",
        "print(df)\n",
        "\n",
        "def find_unique_sentence(str1):\n",
        "    result = re.findall(r'(?sm)(^[^\\r\\n]+$)(?!.*^\\1$)', str1)\n",
        "    return result\n",
        "\n",
        "df['unique_sentence']=df['address'].apply(lambda st : find_unique_sentence(st))\n",
        "print(\"\\nExtract unique sentences :\")\n",
        "print(df)"
      ],
      "metadata": {
        "colab": {
          "base_uri": "https://localhost:8080/"
        },
        "id": "dsAvxNYALmfP",
        "outputId": "c77406e5-6c15-4637-9c80-3cceb4de2e4e"
      },
      "execution_count": null,
      "outputs": [
        {
          "output_type": "stream",
          "name": "stdout",
          "text": [
            "Original DataFrame:\n",
            "  company_code date_of_sale  ...             only_words filter_sentence\n",
            "0         Abcd   12/05/2002  ...             Surrey Ave              []\n",
            "1         EFGF   16/02/1999  ...           N Bishop Ave              []\n",
            "2      zefsalf   05/09/1998  ...        Golden Star Ave              []\n",
            "3      sdfslew   12/02/2022  ...              Dunbar St              []\n",
            "4      zekfsdf   15/09/1997  ...  West Livingston Court              []\n",
            "\n",
            "[5 rows x 5 columns]\n",
            "\n",
            "Extract unique sentences :\n",
            "  company_code date_of_sale  ... filter_sentence             unique_sentence\n",
            "0         Abcd   12/05/2002  ...              []          [9910 Surrey Ave.]\n",
            "1         EFGF   16/02/1999  ...              []         [92 N. Bishop Ave.]\n",
            "2      zefsalf   05/09/1998  ...              []     [9910 Golden Star Ave.]\n",
            "3      sdfslew   12/02/2022  ...              []            [102 Dunbar St.]\n",
            "4      zekfsdf   15/09/1997  ...              []  [17 West Livingston Court]\n",
            "\n",
            "[5 rows x 6 columns]\n"
          ]
        }
      ]
    },
    {
      "cell_type": "markdown",
      "source": [
        "19 Write a Pandas program to extract words starting with capital words from a given column of a given DataFrame."
      ],
      "metadata": {
        "id": "eQLeBvfyLD3i"
      }
    },
    {
      "cell_type": "code",
      "source": [
        "print(\"Original DataFrame:\")\n",
        "print(df)\n",
        "\n",
        "def find_unique_sentence(str1):\n",
        "    result = re.findall(r'(?sm)(^[^\\r\\n]+$)(?!.*^\\1$)', str1)\n",
        "    return result\n",
        "\n",
        "df['unique_sentence']=df['address'].apply(lambda st : find_unique_sentence(st))\n",
        "print(\"\\nExtract unique sentences :\")\n",
        "print(df)"
      ],
      "metadata": {
        "colab": {
          "base_uri": "https://localhost:8080/"
        },
        "id": "UqaG5StULm3m",
        "outputId": "f90911b4-1652-4070-849f-7e426198e710"
      },
      "execution_count": null,
      "outputs": [
        {
          "output_type": "stream",
          "name": "stdout",
          "text": [
            "Original DataFrame:\n",
            "  company_code date_of_sale  ... filter_sentence             unique_sentence\n",
            "0         Abcd   12/05/2002  ...              []          [9910 Surrey Ave.]\n",
            "1         EFGF   16/02/1999  ...              []         [92 N. Bishop Ave.]\n",
            "2      zefsalf   05/09/1998  ...              []     [9910 Golden Star Ave.]\n",
            "3      sdfslew   12/02/2022  ...              []            [102 Dunbar St.]\n",
            "4      zekfsdf   15/09/1997  ...              []  [17 West Livingston Court]\n",
            "\n",
            "[5 rows x 6 columns]\n",
            "\n",
            "Extract unique sentences :\n",
            "  company_code date_of_sale  ... filter_sentence             unique_sentence\n",
            "0         Abcd   12/05/2002  ...              []          [9910 Surrey Ave.]\n",
            "1         EFGF   16/02/1999  ...              []         [92 N. Bishop Ave.]\n",
            "2      zefsalf   05/09/1998  ...              []     [9910 Golden Star Ave.]\n",
            "3      sdfslew   12/02/2022  ...              []            [102 Dunbar St.]\n",
            "4      zekfsdf   15/09/1997  ...              []  [17 West Livingston Court]\n",
            "\n",
            "[5 rows x 6 columns]\n"
          ]
        }
      ]
    },
    {
      "cell_type": "markdown",
      "source": [
        "20 Write a Pandas program to remove the html tags within the specified column of a given DataFrame."
      ],
      "metadata": {
        "id": "Up-rsIlJLHxH"
      }
    },
    {
      "cell_type": "code",
      "source": [
        "print(\"Original DataFrame:\")\n",
        "print(df)\n",
        "def remove_tags(string):\n",
        "    result = re.sub('<.*?>','',string)\n",
        "    return result\n",
        "df['with_out_tags']=df['address'].apply(lambda cw : remove_tags(cw))\n",
        "print(\"\\nSentences without tags':\")\n",
        "print(df)"
      ],
      "metadata": {
        "colab": {
          "base_uri": "https://localhost:8080/"
        },
        "id": "XEnonvauLnSK",
        "outputId": "49eae8de-1cfa-4d8e-db21-cd3f2d1ec3e6"
      },
      "execution_count": null,
      "outputs": [
        {
          "output_type": "stream",
          "name": "stdout",
          "text": [
            "Original DataFrame:\n",
            "  company_code date_of_sale  ... filter_sentence             unique_sentence\n",
            "0         Abcd   12/05/2002  ...              []          [9910 Surrey Ave.]\n",
            "1         EFGF   16/02/1999  ...              []         [92 N. Bishop Ave.]\n",
            "2      zefsalf   05/09/1998  ...              []     [9910 Golden Star Ave.]\n",
            "3      sdfslew   12/02/2022  ...              []            [102 Dunbar St.]\n",
            "4      zekfsdf   15/09/1997  ...              []  [17 West Livingston Court]\n",
            "\n",
            "[5 rows x 6 columns]\n",
            "\n",
            "Sentences without tags':\n",
            "  company_code  ...             with_out_tags\n",
            "0         Abcd  ...          9910 Surrey Ave.\n",
            "1         EFGF  ...         92 N. Bishop Ave.\n",
            "2      zefsalf  ...     9910 Golden Star Ave.\n",
            "3      sdfslew  ...            102 Dunbar St.\n",
            "4      zekfsdf  ...  17 West Livingston Court\n",
            "\n",
            "[5 rows x 7 columns]\n"
          ]
        }
      ]
    },
    {
      "cell_type": "markdown",
      "source": [
        "21 Write a Pandas program to create a new DataFrame based on existing series, using specified argument and override the existing columns names."
      ],
      "metadata": {
        "id": "PLV1CxMKM5IX"
      }
    },
    {
      "cell_type": "code",
      "source": [
        "s1 = pd.Series([0, 1, 2, 3], name='col1')\n",
        "s2 = pd.Series([0, 1, 2, 3])\n",
        "s3 = pd.Series([0, 1, 4, 5], name='col3')\n",
        "df = pd.concat([s1, s2, s3], axis=1, keys=['column1', 'column2', 'column3'])\n",
        "print(df)"
      ],
      "metadata": {
        "colab": {
          "base_uri": "https://localhost:8080/"
        },
        "id": "iWbw1M5TNVmB",
        "outputId": "96d88222-ae21-429e-a27c-dea97a8df896"
      },
      "execution_count": null,
      "outputs": [
        {
          "output_type": "stream",
          "name": "stdout",
          "text": [
            "   column1  column2  column3\n",
            "0        0        0        0\n",
            "1        1        1        1\n",
            "2        2        2        4\n",
            "3        3        3        5\n"
          ]
        }
      ]
    },
    {
      "cell_type": "markdown",
      "source": [
        "22 Write a Pandas program to create a combination from two dataframes where a column id combination appears more than once in both dataframes."
      ],
      "metadata": {
        "id": "A791zv_9M9Qh"
      }
    },
    {
      "cell_type": "code",
      "source": [
        "data1 = pd.DataFrame({'key1': ['K0', 'K0', 'K1', 'K2'],\n",
        "                     'key2': ['K0', 'K1', 'K0', 'K1'],\n",
        "                     'P': ['P0', 'P1', 'P2', 'P3'],\n",
        "                     'Q': ['Q0', 'Q1', 'Q2', 'Q3']}) \n",
        "data2 = pd.DataFrame({'key1': ['K0', 'K1', 'K1', 'K2'],\n",
        "                      'key2': ['K0', 'K0', 'K0', 'K0'],\n",
        "                      'R': ['R0', 'R1', 'R2', 'R3'],\n",
        "                      'S': ['S0', 'S1', 'S2', 'S3']})\n",
        "print(\"Original DataFrames:\")\n",
        "print(data1)\n",
        "print(\"--------------------\")\n",
        "print(data2)\n",
        "print(\"\\nMerged Data (many-to-many join case):\")\n",
        "result = pd.merge(data1, data2, on='key1')\n",
        "print(result)"
      ],
      "metadata": {
        "colab": {
          "base_uri": "https://localhost:8080/"
        },
        "id": "TraZr1K0NWB4",
        "outputId": "58c53be1-b219-46b8-b48d-57d095c871f1"
      },
      "execution_count": null,
      "outputs": [
        {
          "output_type": "stream",
          "name": "stdout",
          "text": [
            "Original DataFrames:\n",
            "  key1 key2   P   Q\n",
            "0   K0   K0  P0  Q0\n",
            "1   K0   K1  P1  Q1\n",
            "2   K1   K0  P2  Q2\n",
            "3   K2   K1  P3  Q3\n",
            "--------------------\n",
            "  key1 key2   R   S\n",
            "0   K0   K0  R0  S0\n",
            "1   K1   K0  R1  S1\n",
            "2   K1   K0  R2  S2\n",
            "3   K2   K0  R3  S3\n",
            "\n",
            "Merged Data (many-to-many join case):\n",
            "  key1 key2_x   P   Q key2_y   R   S\n",
            "0   K0     K0  P0  Q0     K0  R0  S0\n",
            "1   K0     K1  P1  Q1     K0  R0  S0\n",
            "2   K1     K0  P2  Q2     K0  R1  S1\n",
            "3   K1     K0  P2  Q2     K0  R2  S2\n",
            "4   K2     K1  P3  Q3     K0  R3  S3\n"
          ]
        }
      ]
    },
    {
      "cell_type": "markdown",
      "source": [
        "23 Write a Pandas program to combine the columns of two potentially differently-indexed DataFrames into a single result DataFrame."
      ],
      "metadata": {
        "id": "_t_ZBtWiNDZj"
      }
    },
    {
      "cell_type": "code",
      "source": [
        "data1 = pd.DataFrame({'A': ['A0', 'A1', 'A2'],\n",
        "                      'B': ['B0', 'B1', 'B2']},\n",
        "                     index=['K0', 'K1', 'K2'])\n",
        "\n",
        "data2 = pd.DataFrame({'C': ['C0', 'C2', 'C3'],\n",
        "                      'D': ['D0', 'D2', 'D3']},\n",
        "                     index=['K0', 'K2', 'K3'])\n",
        " \n",
        "print(\"Original DataFrames:\")\n",
        "print(data1)\n",
        "print(\"--------------------\")\n",
        "print(data2)\n",
        "print(\"\\nMerged Data (Joining on index):\")\n",
        "result = data1.join(data2)\n",
        "print(result)"
      ],
      "metadata": {
        "colab": {
          "base_uri": "https://localhost:8080/"
        },
        "id": "1WC3T67SNWuJ",
        "outputId": "902fb947-45b7-4b6f-f7c7-3d02e3b11338"
      },
      "execution_count": null,
      "outputs": [
        {
          "output_type": "stream",
          "name": "stdout",
          "text": [
            "Original DataFrames:\n",
            "     A   B\n",
            "K0  A0  B0\n",
            "K1  A1  B1\n",
            "K2  A2  B2\n",
            "--------------------\n",
            "     C   D\n",
            "K0  C0  D0\n",
            "K2  C2  D2\n",
            "K3  C3  D3\n",
            "\n",
            "Merged Data (Joining on index):\n",
            "     A   B    C    D\n",
            "K0  A0  B0   C0   D0\n",
            "K1  A1  B1  NaN  NaN\n",
            "K2  A2  B2   C2   D2\n"
          ]
        }
      ]
    },
    {
      "cell_type": "markdown",
      "source": [
        "24 Write a Pandas program to merge two given dataframes with different columns."
      ],
      "metadata": {
        "id": "qQ1aTPGjNFsW"
      }
    },
    {
      "cell_type": "code",
      "source": [
        "data1 = pd.DataFrame({'key1': ['K0', 'K0', 'K1', 'K2'],\n",
        "                     'key2': ['K0', 'K1', 'K0', 'K1'],\n",
        "                     'P': ['P0', 'P1', 'P2', 'P3'],\n",
        "                     'Q': ['Q0', 'Q1', 'Q2', 'Q3']}) \n",
        "data2 = pd.DataFrame({'key1': ['K0', 'K1', 'K1', 'K2'],\n",
        "                      'key2': ['K0', 'K0', 'K0', 'K0'],\n",
        "                      'R': ['R0', 'R1', 'R2', 'R3'],\n",
        "                      'S': ['S0', 'S1', 'S2', 'S3']})\n",
        "print(\"Original DataFrames:\")\n",
        "print(data1)\n",
        "print(\"--------------------\")\n",
        "print(data2)\n",
        "print(\"\\nMerge two dataframes with different columns:\")\n",
        "result = pd.concat([data1,data2], axis=0, ignore_index=True)\n",
        "print(result)"
      ],
      "metadata": {
        "colab": {
          "base_uri": "https://localhost:8080/"
        },
        "id": "MU4g82EgNXko",
        "outputId": "6fcf7785-3161-4b73-98cb-c6b9556684ab"
      },
      "execution_count": null,
      "outputs": [
        {
          "output_type": "stream",
          "name": "stdout",
          "text": [
            "Original DataFrames:\n",
            "  key1 key2   P   Q\n",
            "0   K0   K0  P0  Q0\n",
            "1   K0   K1  P1  Q1\n",
            "2   K1   K0  P2  Q2\n",
            "3   K2   K1  P3  Q3\n",
            "--------------------\n",
            "  key1 key2   R   S\n",
            "0   K0   K0  R0  S0\n",
            "1   K1   K0  R1  S1\n",
            "2   K1   K0  R2  S2\n",
            "3   K2   K0  R3  S3\n",
            "\n",
            "Merge two dataframes with different columns:\n",
            "  key1 key2    P    Q    R    S\n",
            "0   K0   K0   P0   Q0  NaN  NaN\n",
            "1   K0   K1   P1   Q1  NaN  NaN\n",
            "2   K1   K0   P2   Q2  NaN  NaN\n",
            "3   K2   K1   P3   Q3  NaN  NaN\n",
            "4   K0   K0  NaN  NaN   R0   S0\n",
            "5   K1   K0  NaN  NaN   R1   S1\n",
            "6   K1   K0  NaN  NaN   R2   S2\n",
            "7   K2   K0  NaN  NaN   R3   S3\n"
          ]
        }
      ]
    },
    {
      "cell_type": "markdown",
      "source": [
        "25 Write a Pandas program to Combine two DataFrame objects by filling null values in one DataFrame with non-null values from other DataFrame."
      ],
      "metadata": {
        "id": "Dh-LiJnzNR54"
      }
    },
    {
      "cell_type": "code",
      "source": [
        "df1 = pd.DataFrame({'A': [None, 0, None], 'B': [3, 4, 5]})\n",
        "df2 = pd.DataFrame({'A': [1, 1, 3], 'B': [3, None, 3]})\n",
        "df1.combine_first(df2)\n",
        "print(\"Original DataFrames:\")\n",
        "print(df1)\n",
        "print(\"--------------------\")\n",
        "print(df2)\n",
        "print(\"\\nMerge two dataframes with different columns:\")\n",
        "result = df1.combine_first(df2)\n",
        "print(result)"
      ],
      "metadata": {
        "colab": {
          "base_uri": "https://localhost:8080/"
        },
        "id": "8KyXu7NsNYJF",
        "outputId": "bc07b360-dde7-4285-c359-c0642bd27f3a"
      },
      "execution_count": null,
      "outputs": [
        {
          "output_type": "stream",
          "name": "stdout",
          "text": [
            "Original DataFrames:\n",
            "     A  B\n",
            "0  NaN  3\n",
            "1  0.0  4\n",
            "2  NaN  5\n",
            "--------------------\n",
            "   A    B\n",
            "0  1  3.0\n",
            "1  1  NaN\n",
            "2  3  3.0\n",
            "\n",
            "Merge two dataframes with different columns:\n",
            "     A  B\n",
            "0  1.0  3\n",
            "1  0.0  4\n",
            "2  3.0  5\n"
          ]
        }
      ]
    },
    {
      "cell_type": "markdown",
      "source": [
        "26 Write a Pandas program to create a period index represent all monthly boundaries of a given year. Also print start and end time for each period object in the said index."
      ],
      "metadata": {
        "id": "hkr-s3FxP6gq"
      }
    },
    {
      "cell_type": "code",
      "source": [
        "sdt = datetime(2020, 1, 1)\n",
        "edt = datetime(2020, 12, 31)\n",
        "dateset = pd.period_range(sdt, edt, freq='M')\n",
        "print(\"All monthly boundaries of a given year:\")\n",
        "print(dateset) \n",
        "print(\"\\nStart and end time for each period object in the said index:\")\n",
        "for d in dateset: \n",
        "    print (\"{0} {1}\".format(d.start_time, d.end_time)) "
      ],
      "metadata": {
        "colab": {
          "base_uri": "https://localhost:8080/"
        },
        "id": "XEv3jn9jQgXl",
        "outputId": "f669789e-5eea-4a8a-9332-a83505acffdb"
      },
      "execution_count": null,
      "outputs": [
        {
          "output_type": "stream",
          "name": "stdout",
          "text": [
            "All monthly boundaries of a given year:\n",
            "PeriodIndex(['2020-01', '2020-02', '2020-03', '2020-04', '2020-05', '2020-06',\n",
            "             '2020-07', '2020-08', '2020-09', '2020-10', '2020-11', '2020-12'],\n",
            "            dtype='period[M]', freq='M')\n",
            "\n",
            "Start and end time for each period object in the said index:\n",
            "2020-01-01 00:00:00 2020-01-31 23:59:59.999999999\n",
            "2020-02-01 00:00:00 2020-02-29 23:59:59.999999999\n",
            "2020-03-01 00:00:00 2020-03-31 23:59:59.999999999\n",
            "2020-04-01 00:00:00 2020-04-30 23:59:59.999999999\n",
            "2020-05-01 00:00:00 2020-05-31 23:59:59.999999999\n",
            "2020-06-01 00:00:00 2020-06-30 23:59:59.999999999\n",
            "2020-07-01 00:00:00 2020-07-31 23:59:59.999999999\n",
            "2020-08-01 00:00:00 2020-08-31 23:59:59.999999999\n",
            "2020-09-01 00:00:00 2020-09-30 23:59:59.999999999\n",
            "2020-10-01 00:00:00 2020-10-31 23:59:59.999999999\n",
            "2020-11-01 00:00:00 2020-11-30 23:59:59.999999999\n",
            "2020-12-01 00:00:00 2020-12-31 23:59:59.999999999\n"
          ]
        }
      ]
    },
    {
      "cell_type": "markdown",
      "source": [
        "27 Write a Pandas program create a series with a PeriodIndex which represents all the calendar month periods in 2029 and 2031. Also print the values for all periods in 2030. Go to the editor\n",
        "Note: PeriodIndex is an immutable ndarray holding ordinal values indicating regular periods in time such as particular years, quarters, months, etc."
      ],
      "metadata": {
        "id": "mLV1J-LwQGV5"
      }
    },
    {
      "cell_type": "code",
      "source": [
        "pi = pd.Series(np.random.randn(36), \n",
        "               pd.period_range('1/1/2029', \n",
        "                               '12/31/2031', freq='M'))\n",
        "print(\"PeriodIndex which represents all the calendar month periods in 2029 and 2030:\")\n",
        "print(pi)\n",
        "print(\"\\nValues for all periods in 2030:\")\n",
        "print(pi['2030'])"
      ],
      "metadata": {
        "colab": {
          "base_uri": "https://localhost:8080/"
        },
        "id": "ipyCjOoOQg1X",
        "outputId": "8c498334-710e-460f-9af4-d8c6f9372f93"
      },
      "execution_count": null,
      "outputs": [
        {
          "output_type": "stream",
          "name": "stdout",
          "text": [
            "PeriodIndex which represents all the calendar month periods in 2029 and 2030:\n",
            "2029-01    0.077548\n",
            "2029-02    0.672124\n",
            "2029-03    0.953343\n",
            "2029-04    1.072998\n",
            "2029-05    1.248167\n",
            "2029-06    0.339021\n",
            "2029-07   -1.008638\n",
            "2029-08   -0.252589\n",
            "2029-09    0.182859\n",
            "2029-10   -0.401333\n",
            "2029-11   -0.194447\n",
            "2029-12    0.904104\n",
            "2030-01   -0.561375\n",
            "2030-02    0.486797\n",
            "2030-03    1.322374\n",
            "2030-04   -0.039410\n",
            "2030-05    1.577161\n",
            "2030-06   -1.360977\n",
            "2030-07   -0.070799\n",
            "2030-08    0.459597\n",
            "2030-09   -0.383153\n",
            "2030-10   -0.035987\n",
            "2030-11    0.633163\n",
            "2030-12    0.864105\n",
            "2031-01    1.287997\n",
            "2031-02   -0.769083\n",
            "2031-03    1.084010\n",
            "2031-04   -1.712547\n",
            "2031-05    0.411350\n",
            "2031-06   -0.425181\n",
            "2031-07   -0.217704\n",
            "2031-08    0.989020\n",
            "2031-09   -1.050803\n",
            "2031-10   -0.381354\n",
            "2031-11    1.468795\n",
            "2031-12   -0.620677\n",
            "Freq: M, dtype: float64\n",
            "\n",
            "Values for all periods in 2030:\n",
            "2030-01   -0.561375\n",
            "2030-02    0.486797\n",
            "2030-03    1.322374\n",
            "2030-04   -0.039410\n",
            "2030-05    1.577161\n",
            "2030-06   -1.360977\n",
            "2030-07   -0.070799\n",
            "2030-08    0.459597\n",
            "2030-09   -0.383153\n",
            "2030-10   -0.035987\n",
            "2030-11    0.633163\n",
            "2030-12    0.864105\n",
            "Freq: M, dtype: float64\n"
          ]
        }
      ]
    },
    {
      "cell_type": "markdown",
      "source": [
        "28 Write a Pandas program to generate holidays between two dates using the US federal holiday calendar."
      ],
      "metadata": {
        "id": "R5UHQ4cVQVLx"
      }
    },
    {
      "cell_type": "code",
      "source": [
        "sdt = datetime(2021, 1, 1)\n",
        "edt = datetime(2030, 12, 31)\n",
        "print(\"Holidays between 2021-01-01 and 2030-12-31 using the US federal holiday calendar.\")\n",
        "cal = USFederalHolidayCalendar()\n",
        "for dt in cal.holidays(start=sdt, end=edt): \n",
        "    print (dt)"
      ],
      "metadata": {
        "colab": {
          "base_uri": "https://localhost:8080/"
        },
        "id": "fGniSF62QhRE",
        "outputId": "a3413741-8262-417e-c46e-18147f7d1e76"
      },
      "execution_count": null,
      "outputs": [
        {
          "output_type": "stream",
          "name": "stdout",
          "text": [
            "Holidays between 2021-01-01 and 2030-12-31 using the US federal holiday calendar.\n",
            "2021-01-01 00:00:00\n",
            "2021-01-18 00:00:00\n",
            "2021-02-15 00:00:00\n",
            "2021-05-31 00:00:00\n",
            "2021-07-05 00:00:00\n",
            "2021-09-06 00:00:00\n",
            "2021-10-11 00:00:00\n",
            "2021-11-11 00:00:00\n",
            "2021-11-25 00:00:00\n",
            "2021-12-24 00:00:00\n",
            "2021-12-31 00:00:00\n",
            "2022-01-17 00:00:00\n",
            "2022-02-21 00:00:00\n",
            "2022-05-30 00:00:00\n",
            "2022-07-04 00:00:00\n",
            "2022-09-05 00:00:00\n",
            "2022-10-10 00:00:00\n",
            "2022-11-11 00:00:00\n",
            "2022-11-24 00:00:00\n",
            "2022-12-26 00:00:00\n",
            "2023-01-02 00:00:00\n",
            "2023-01-16 00:00:00\n",
            "2023-02-20 00:00:00\n",
            "2023-05-29 00:00:00\n",
            "2023-07-04 00:00:00\n",
            "2023-09-04 00:00:00\n",
            "2023-10-09 00:00:00\n",
            "2023-11-10 00:00:00\n",
            "2023-11-23 00:00:00\n",
            "2023-12-25 00:00:00\n",
            "2024-01-01 00:00:00\n",
            "2024-01-15 00:00:00\n",
            "2024-02-19 00:00:00\n",
            "2024-05-27 00:00:00\n",
            "2024-07-04 00:00:00\n",
            "2024-09-02 00:00:00\n",
            "2024-10-14 00:00:00\n",
            "2024-11-11 00:00:00\n",
            "2024-11-28 00:00:00\n",
            "2024-12-25 00:00:00\n",
            "2025-01-01 00:00:00\n",
            "2025-01-20 00:00:00\n",
            "2025-02-17 00:00:00\n",
            "2025-05-26 00:00:00\n",
            "2025-07-04 00:00:00\n",
            "2025-09-01 00:00:00\n",
            "2025-10-13 00:00:00\n",
            "2025-11-11 00:00:00\n",
            "2025-11-27 00:00:00\n",
            "2025-12-25 00:00:00\n",
            "2026-01-01 00:00:00\n",
            "2026-01-19 00:00:00\n",
            "2026-02-16 00:00:00\n",
            "2026-05-25 00:00:00\n",
            "2026-07-03 00:00:00\n",
            "2026-09-07 00:00:00\n",
            "2026-10-12 00:00:00\n",
            "2026-11-11 00:00:00\n",
            "2026-11-26 00:00:00\n",
            "2026-12-25 00:00:00\n",
            "2027-01-01 00:00:00\n",
            "2027-01-18 00:00:00\n",
            "2027-02-15 00:00:00\n",
            "2027-05-31 00:00:00\n",
            "2027-07-05 00:00:00\n",
            "2027-09-06 00:00:00\n",
            "2027-10-11 00:00:00\n",
            "2027-11-11 00:00:00\n",
            "2027-11-25 00:00:00\n",
            "2027-12-24 00:00:00\n",
            "2027-12-31 00:00:00\n",
            "2028-01-17 00:00:00\n",
            "2028-02-21 00:00:00\n",
            "2028-05-29 00:00:00\n",
            "2028-07-04 00:00:00\n",
            "2028-09-04 00:00:00\n",
            "2028-10-09 00:00:00\n",
            "2028-11-10 00:00:00\n",
            "2028-11-23 00:00:00\n",
            "2028-12-25 00:00:00\n",
            "2029-01-01 00:00:00\n",
            "2029-01-15 00:00:00\n",
            "2029-02-19 00:00:00\n",
            "2029-05-28 00:00:00\n",
            "2029-07-04 00:00:00\n",
            "2029-09-03 00:00:00\n",
            "2029-10-08 00:00:00\n",
            "2029-11-12 00:00:00\n",
            "2029-11-22 00:00:00\n",
            "2029-12-25 00:00:00\n",
            "2030-01-01 00:00:00\n",
            "2030-01-21 00:00:00\n",
            "2030-02-18 00:00:00\n",
            "2030-05-27 00:00:00\n",
            "2030-07-04 00:00:00\n",
            "2030-09-02 00:00:00\n",
            "2030-10-14 00:00:00\n",
            "2030-11-11 00:00:00\n",
            "2030-11-28 00:00:00\n",
            "2030-12-25 00:00:00\n"
          ]
        }
      ]
    },
    {
      "cell_type": "markdown",
      "source": [
        "29 Write a Pandas program to create a monthly time period and display the list of names in the current local scope."
      ],
      "metadata": {
        "id": "1bEBomVyQYLP"
      }
    },
    {
      "cell_type": "code",
      "source": [
        "mtp = pd.Period('2021-11','M')\n",
        "print(\"Monthly time perid: \",mtp)\n",
        "print(\"\\nList of names in the current local scope:\")\n",
        "print(dir(mtp)) "
      ],
      "metadata": {
        "colab": {
          "base_uri": "https://localhost:8080/"
        },
        "id": "UZFJYyRXQiNC",
        "outputId": "fb8c6ce1-6ab7-4149-95ee-9364a79f0142"
      },
      "execution_count": null,
      "outputs": [
        {
          "output_type": "stream",
          "name": "stdout",
          "text": [
            "Monthly time perid:  2021-11\n",
            "\n",
            "List of names in the current local scope:\n",
            "['__add__', '__class__', '__delattr__', '__dict__', '__dir__', '__doc__', '__eq__', '__format__', '__ge__', '__getattribute__', '__gt__', '__hash__', '__init__', '__init_subclass__', '__le__', '__lt__', '__module__', '__ne__', '__new__', '__pyx_vtable__', '__radd__', '__reduce__', '__reduce_ex__', '__repr__', '__rsub__', '__setattr__', '__setstate__', '__sizeof__', '__str__', '__sub__', '__subclasshook__', '__weakref__', '_add_delta', '_add_offset', '_dtype', '_from_ordinal', '_get_to_timestamp_base', '_maybe_convert_freq', 'asfreq', 'day', 'dayofweek', 'dayofyear', 'days_in_month', 'daysinmonth', 'end_time', 'freq', 'freqstr', 'hour', 'is_leap_year', 'minute', 'month', 'now', 'ordinal', 'quarter', 'qyear', 'second', 'start_time', 'strftime', 'to_timestamp', 'week', 'weekday', 'weekofyear', 'year']\n"
          ]
        }
      ]
    },
    {
      "cell_type": "markdown",
      "source": [
        "30 Write a Pandas program to create a yearly time period from a specified year and display the properties of this period."
      ],
      "metadata": {
        "id": "IndgiA81QbXc"
      }
    },
    {
      "cell_type": "code",
      "source": [
        "ytp = pd.Period('2020','A-DEC')\n",
        "print(\"Yearly time perid:\",ytp)\n",
        "print(\"\\nAll the properties of the said period:\")\n",
        "print(dir(ytp))"
      ],
      "metadata": {
        "colab": {
          "base_uri": "https://localhost:8080/"
        },
        "id": "TZzOdf2DMGho",
        "outputId": "2b5b2733-cb84-40ec-bb12-7601a839c17a"
      },
      "execution_count": null,
      "outputs": [
        {
          "output_type": "stream",
          "name": "stdout",
          "text": [
            "Yearly time perid: 2020\n",
            "\n",
            "All the properties of the said period:\n",
            "['__add__', '__class__', '__delattr__', '__dict__', '__dir__', '__doc__', '__eq__', '__format__', '__ge__', '__getattribute__', '__gt__', '__hash__', '__init__', '__init_subclass__', '__le__', '__lt__', '__module__', '__ne__', '__new__', '__pyx_vtable__', '__radd__', '__reduce__', '__reduce_ex__', '__repr__', '__rsub__', '__setattr__', '__setstate__', '__sizeof__', '__str__', '__sub__', '__subclasshook__', '__weakref__', '_add_delta', '_add_offset', '_dtype', '_from_ordinal', '_get_to_timestamp_base', '_maybe_convert_freq', 'asfreq', 'day', 'dayofweek', 'dayofyear', 'days_in_month', 'daysinmonth', 'end_time', 'freq', 'freqstr', 'hour', 'is_leap_year', 'minute', 'month', 'now', 'ordinal', 'quarter', 'qyear', 'second', 'start_time', 'strftime', 'to_timestamp', 'week', 'weekday', 'weekofyear', 'year']\n"
          ]
        }
      ]
    },
    {
      "cell_type": "markdown",
      "source": [
        "31 Write a Pandas program to rename all and only some of the column names from world alcohol consumption dataset."
      ],
      "metadata": {
        "id": "xtJh9ZEKR04w"
      }
    },
    {
      "cell_type": "code",
      "source": [
        "w_a_con = pd.read_csv('/content/world_alcohol.csv')\n",
        "new_w_a_con = pd.read_csv('/content/world_alcohol.csv')\n",
        "print(\"World alcohol consumption sample data:\")\n",
        "print(w_a_con.head())\n",
        "print(\"\\nRename all the column names:\")\n",
        "w_a_con.columns = ['year','who_region','country','beverage_types','display_values']\n",
        "print(w_a_con.head())\n",
        "print(\"\\nRenaming only some of the column names:\")\n",
        "new_w_a_con.rename(columns = {\"WHO region\":\"WHO_region\",\"Display Value\":\"Display_Value\" },inplace = True)\n",
        "print(new_w_a_con.head()) "
      ],
      "metadata": {
        "colab": {
          "base_uri": "https://localhost:8080/"
        },
        "id": "6p89kyJQSIRM",
        "outputId": "d7592f41-a825-4712-a875-73d1e4c02817"
      },
      "execution_count": null,
      "outputs": [
        {
          "output_type": "stream",
          "name": "stdout",
          "text": [
            "World alcohol consumption sample data:\n",
            "   Year       WHO region                Country Beverage Types  Display Value\n",
            "0  1986  Western Pacific               Viet Nam           Wine           0.00\n",
            "1  1986         Americas                Uruguay          Other           0.50\n",
            "2  1985           Africa           Cte d'Ivoire           Wine           1.62\n",
            "3  1986         Americas               Colombia           Beer           4.27\n",
            "4  1987         Americas  Saint Kitts and Nevis           Beer           1.98\n",
            "\n",
            "Rename all the column names:\n",
            "   year       who_region                country beverage_types  display_values\n",
            "0  1986  Western Pacific               Viet Nam           Wine            0.00\n",
            "1  1986         Americas                Uruguay          Other            0.50\n",
            "2  1985           Africa           Cte d'Ivoire           Wine            1.62\n",
            "3  1986         Americas               Colombia           Beer            4.27\n",
            "4  1987         Americas  Saint Kitts and Nevis           Beer            1.98\n",
            "\n",
            "Renaming only some of the column names:\n",
            "   Year       WHO_region                Country Beverage Types  Display_Value\n",
            "0  1986  Western Pacific               Viet Nam           Wine           0.00\n",
            "1  1986         Americas                Uruguay          Other           0.50\n",
            "2  1985           Africa           Cte d'Ivoire           Wine           1.62\n",
            "3  1986         Americas               Colombia           Beer           4.27\n",
            "4  1987         Americas  Saint Kitts and Nevis           Beer           1.98\n"
          ]
        }
      ]
    },
    {
      "cell_type": "markdown",
      "source": [
        "32 Write a Pandas program to find which years have all non-zero values and which years have any non-zero values from world alcohol consumption dataset. "
      ],
      "metadata": {
        "id": "anIcaVi2R3AP"
      }
    },
    {
      "cell_type": "code",
      "source": [
        "w_a_con = pd.read_csv('/content/world_alcohol.csv')\n",
        "print(\"World alcohol consumption sample data:\")\n",
        "print(w_a_con.head())\n",
        "print(\"\\nFind which years have all non-zero values:\")\n",
        "print(w_a_con.loc[:,w_a_con.all()])\n",
        "print(\"\\nFind which years have any non-zero values:\")\n",
        "print(w_a_con.loc[:,w_a_con.any()])"
      ],
      "metadata": {
        "colab": {
          "base_uri": "https://localhost:8080/"
        },
        "id": "0LYkKArASJVD",
        "outputId": "aac8b86a-afb1-4c6e-8d88-762eb71788ec"
      },
      "execution_count": null,
      "outputs": [
        {
          "output_type": "stream",
          "name": "stdout",
          "text": [
            "World alcohol consumption sample data:\n",
            "   Year       WHO region                Country Beverage Types  Display Value\n",
            "0  1986  Western Pacific               Viet Nam           Wine           0.00\n",
            "1  1986         Americas                Uruguay          Other           0.50\n",
            "2  1985           Africa           Cte d'Ivoire           Wine           1.62\n",
            "3  1986         Americas               Colombia           Beer           4.27\n",
            "4  1987         Americas  Saint Kitts and Nevis           Beer           1.98\n",
            "\n",
            "Find which years have all non-zero values:\n",
            "    Year       WHO region                                Country Beverage Types\n",
            "0   1986  Western Pacific                               Viet Nam           Wine\n",
            "1   1986         Americas                                Uruguay          Other\n",
            "2   1985           Africa                           Cte d'Ivoire           Wine\n",
            "3   1986         Americas                               Colombia           Beer\n",
            "4   1987         Americas                  Saint Kitts and Nevis           Beer\n",
            "..   ...              ...                                    ...            ...\n",
            "95  1984           Africa                                  Niger          Other\n",
            "96  1985           Europe                             Luxembourg           Wine\n",
            "97  1984  South-East Asia                              Indonesia           Wine\n",
            "98  1984           Africa                      Equatorial Guinea           Wine\n",
            "99  1985  South-East Asia  Democratic People's Republic of Korea           Wine\n",
            "\n",
            "[100 rows x 4 columns]\n",
            "\n",
            "Find which years have any non-zero values:\n",
            "    Year       WHO region  ... Beverage Types Display Value\n",
            "0   1986  Western Pacific  ...           Wine          0.00\n",
            "1   1986         Americas  ...          Other          0.50\n",
            "2   1985           Africa  ...           Wine          1.62\n",
            "3   1986         Americas  ...           Beer          4.27\n",
            "4   1987         Americas  ...           Beer          1.98\n",
            "..   ...              ...  ...            ...           ...\n",
            "95  1984           Africa  ...          Other          0.00\n",
            "96  1985           Europe  ...           Wine          7.38\n",
            "97  1984  South-East Asia  ...           Wine          0.00\n",
            "98  1984           Africa  ...           Wine          0.00\n",
            "99  1985  South-East Asia  ...           Wine          0.00\n",
            "\n",
            "[100 rows x 5 columns]\n"
          ]
        }
      ]
    },
    {
      "cell_type": "markdown",
      "source": [
        "33 Write a Pandas program to filter all columns where all entries present, check which rows and columns has a NaN and finally drop rows with any NaNs from world alcohol consumption dataset."
      ],
      "metadata": {
        "id": "ryXdQdaJR66c"
      }
    },
    {
      "cell_type": "code",
      "source": [
        "w_a_con = pd.read_csv('/content/world_alcohol.csv')\n",
        "print(\"World alcohol consumption sample data:\")\n",
        "print(w_a_con.head())\n",
        "print(\"\\nFind  all columns which all entries present:\")\n",
        "print(w_a_con.loc[:, w_a_con.notnull().all()])\n",
        "print(\"\\nRows and columns has a NaN:\")\n",
        "print(w_a_con.loc[:,w_a_con.isnull().any()])\n",
        "print(\"\\nDrop rows with any NaNs:\")\n",
        "print(w_a_con.dropna(how='any'))  "
      ],
      "metadata": {
        "colab": {
          "base_uri": "https://localhost:8080/"
        },
        "id": "OebrIBp4SKEL",
        "outputId": "f8c11ff7-fc9f-47d9-bf22-af7126df5323"
      },
      "execution_count": null,
      "outputs": [
        {
          "output_type": "stream",
          "name": "stdout",
          "text": [
            "World alcohol consumption sample data:\n",
            "   Year       WHO region                Country Beverage Types  Display Value\n",
            "0  1986  Western Pacific               Viet Nam           Wine           0.00\n",
            "1  1986         Americas                Uruguay          Other           0.50\n",
            "2  1985           Africa           Cte d'Ivoire           Wine           1.62\n",
            "3  1986         Americas               Colombia           Beer           4.27\n",
            "4  1987         Americas  Saint Kitts and Nevis           Beer           1.98\n",
            "\n",
            "Find  all columns which all entries present:\n",
            "    Year       WHO region                                Country Beverage Types\n",
            "0   1986  Western Pacific                               Viet Nam           Wine\n",
            "1   1986         Americas                                Uruguay          Other\n",
            "2   1985           Africa                           Cte d'Ivoire           Wine\n",
            "3   1986         Americas                               Colombia           Beer\n",
            "4   1987         Americas                  Saint Kitts and Nevis           Beer\n",
            "..   ...              ...                                    ...            ...\n",
            "95  1984           Africa                                  Niger          Other\n",
            "96  1985           Europe                             Luxembourg           Wine\n",
            "97  1984  South-East Asia                              Indonesia           Wine\n",
            "98  1984           Africa                      Equatorial Guinea           Wine\n",
            "99  1985  South-East Asia  Democratic People's Republic of Korea           Wine\n",
            "\n",
            "[100 rows x 4 columns]\n",
            "\n",
            "Rows and columns has a NaN:\n",
            "    Display Value\n",
            "0            0.00\n",
            "1            0.50\n",
            "2            1.62\n",
            "3            4.27\n",
            "4            1.98\n",
            "..            ...\n",
            "95           0.00\n",
            "96           7.38\n",
            "97           0.00\n",
            "98           0.00\n",
            "99           0.00\n",
            "\n",
            "[100 rows x 1 columns]\n",
            "\n",
            "Drop rows with any NaNs:\n",
            "    Year       WHO region  ... Beverage Types Display Value\n",
            "0   1986  Western Pacific  ...           Wine          0.00\n",
            "1   1986         Americas  ...          Other          0.50\n",
            "2   1985           Africa  ...           Wine          1.62\n",
            "3   1986         Americas  ...           Beer          4.27\n",
            "4   1987         Americas  ...           Beer          1.98\n",
            "..   ...              ...  ...            ...           ...\n",
            "95  1984           Africa  ...          Other          0.00\n",
            "96  1985           Europe  ...           Wine          7.38\n",
            "97  1984  South-East Asia  ...           Wine          0.00\n",
            "98  1984           Africa  ...           Wine          0.00\n",
            "99  1985  South-East Asia  ...           Wine          0.00\n",
            "\n",
            "[95 rows x 5 columns]\n"
          ]
        }
      ]
    },
    {
      "cell_type": "markdown",
      "source": [
        "34 Write a Pandas program to filter all records starting from the 'Year' column, access every other column from world alcohol consumption dataset."
      ],
      "metadata": {
        "id": "wQjLGPDCR__o"
      }
    },
    {
      "cell_type": "code",
      "source": [
        "w_a_con = pd.read_csv('/content/world_alcohol.csv')\n",
        "print(\"World alcohol consumption sample data:\")\n",
        "print(w_a_con.head())\n",
        "print(\"\\nFrom the 'Year' column, access every other column:\")\n",
        "print(w_a_con.loc[:,'Year'::2].head(10))\n",
        "print(\"\\nAlternate solution:\")\n",
        "print(w_a_con.iloc[:,0::2].head(10))"
      ],
      "metadata": {
        "colab": {
          "base_uri": "https://localhost:8080/"
        },
        "id": "dT2cB-8HSK-h",
        "outputId": "992491d2-e31b-4138-d3dd-4aea2ee6c9a9"
      },
      "execution_count": null,
      "outputs": [
        {
          "output_type": "stream",
          "name": "stdout",
          "text": [
            "World alcohol consumption sample data:\n",
            "   Year       WHO region                Country Beverage Types  Display Value\n",
            "0  1986  Western Pacific               Viet Nam           Wine           0.00\n",
            "1  1986         Americas                Uruguay          Other           0.50\n",
            "2  1985           Africa           Cte d'Ivoire           Wine           1.62\n",
            "3  1986         Americas               Colombia           Beer           4.27\n",
            "4  1987         Americas  Saint Kitts and Nevis           Beer           1.98\n",
            "\n",
            "From the 'Year' column, access every other column:\n",
            "   Year                Country  Display Value\n",
            "0  1986               Viet Nam           0.00\n",
            "1  1986                Uruguay           0.50\n",
            "2  1985           Cte d'Ivoire           1.62\n",
            "3  1986               Colombia           4.27\n",
            "4  1987  Saint Kitts and Nevis           1.98\n",
            "5  1987              Guatemala           0.00\n",
            "6  1987              Mauritius           0.13\n",
            "7  1985                 Angola           0.39\n",
            "8  1986    Antigua and Barbuda           1.55\n",
            "9  1984                Nigeria           6.10\n",
            "\n",
            "Alternate solution:\n",
            "   Year                Country  Display Value\n",
            "0  1986               Viet Nam           0.00\n",
            "1  1986                Uruguay           0.50\n",
            "2  1985           Cte d'Ivoire           1.62\n",
            "3  1986               Colombia           4.27\n",
            "4  1987  Saint Kitts and Nevis           1.98\n",
            "5  1987              Guatemala           0.00\n",
            "6  1987              Mauritius           0.13\n",
            "7  1985                 Angola           0.39\n",
            "8  1986    Antigua and Barbuda           1.55\n",
            "9  1984                Nigeria           6.10\n"
          ]
        }
      ]
    },
    {
      "cell_type": "markdown",
      "source": [
        "35 Write a Pandas program to filter all records starting from the 2nd row, access every 5th row from world alcohol consumption dataset."
      ],
      "metadata": {
        "id": "gXn9pptWSGsi"
      }
    },
    {
      "cell_type": "code",
      "source": [
        "w_a_con = pd.read_csv('/content/world_alcohol.csv')\n",
        "print(\"World alcohol consumption sample data:\")\n",
        "print(w_a_con.head())\n",
        "print(\"\\nStarting from the 2nd row, access every 5th row:\")\n",
        "print(w_a_con.iloc[1::5].head(10))"
      ],
      "metadata": {
        "colab": {
          "base_uri": "https://localhost:8080/"
        },
        "id": "qeuQl2egRhF4",
        "outputId": "87d538b6-312c-4753-ce2d-3e4fea1adc82"
      },
      "execution_count": null,
      "outputs": [
        {
          "output_type": "stream",
          "name": "stdout",
          "text": [
            "World alcohol consumption sample data:\n",
            "   Year       WHO region                Country Beverage Types  Display Value\n",
            "0  1986  Western Pacific               Viet Nam           Wine           0.00\n",
            "1  1986         Americas                Uruguay          Other           0.50\n",
            "2  1985           Africa           Cte d'Ivoire           Wine           1.62\n",
            "3  1986         Americas               Colombia           Beer           4.27\n",
            "4  1987         Americas  Saint Kitts and Nevis           Beer           1.98\n",
            "\n",
            "Starting from the 2nd row, access every 5th row:\n",
            "    Year             WHO region  ... Beverage Types Display Value\n",
            "1   1986               Americas  ...          Other          0.50\n",
            "6   1987                 Africa  ...           Wine          0.13\n",
            "11  1989               Americas  ...           Beer          0.62\n",
            "16  1984               Americas  ...           Wine          0.06\n",
            "21  1989               Americas  ...        Spirits          4.51\n",
            "26  1985                 Europe  ...           Wine          1.36\n",
            "31  1986        Western Pacific  ...           Wine          0.00\n",
            "36  1987  Eastern Mediterranean  ...           Beer          0.07\n",
            "41  1986                 Europe  ...           Beer          6.82\n",
            "46  1987               Americas  ...        Spirits          2.26\n",
            "\n",
            "[10 rows x 5 columns]\n"
          ]
        }
      ]
    },
    {
      "cell_type": "markdown",
      "source": [
        "36 Create a dataframe of ten rows, four columns with random values. Write a Pandas program to highlight the entire row in Yellow where a specific column value is greater than 0.5"
      ],
      "metadata": {
        "id": "WkHsWnAlYMiL"
      }
    },
    {
      "cell_type": "code",
      "source": [
        "np.random.seed(24)\n",
        "df = pd.DataFrame({'A': np.linspace(1, 10, 10)})\n",
        "df = pd.concat([df, pd.DataFrame(np.random.randn(10, 4), columns=list('BCDE'))],\n",
        "               axis=1)\n",
        "print(\"Original array:\")\n",
        "print(df)\n",
        "print(\"\\nDataframe - table style:\")\n",
        "\n",
        "def highlight_greaterthan(x):\n",
        "    if x.C > .5:\n",
        "        return ['background-color: yellow']*5\n",
        "    else:\n",
        "        return ['background-color: white']*5 \n",
        "df.style.apply(highlight_greaterthan, axis=1)"
      ],
      "metadata": {
        "colab": {
          "base_uri": "https://localhost:8080/",
          "height": 606
        },
        "id": "z-zduHlRXXET",
        "outputId": "93147e2f-452c-4a93-9cec-37120eb2244d"
      },
      "execution_count": null,
      "outputs": [
        {
          "output_type": "stream",
          "name": "stdout",
          "text": [
            "Original array:\n",
            "      A         B         C         D         E\n",
            "0   1.0  1.329212 -0.770033 -0.316280 -0.990810\n",
            "1   2.0 -1.070816 -1.438713  0.564417  0.295722\n",
            "2   3.0 -1.626404  0.219565  0.678805  1.889273\n",
            "3   4.0  0.961538  0.104011 -0.481165  0.850229\n",
            "4   5.0  1.453425  1.057737  0.165562  0.515018\n",
            "5   6.0 -1.336936  0.562861  1.392855 -0.063328\n",
            "6   7.0  0.121668  1.207603 -0.002040  1.627796\n",
            "7   8.0  0.354493  1.037528 -0.385684  0.519818\n",
            "8   9.0  1.686583 -1.325963  1.428984 -2.089354\n",
            "9  10.0 -0.129820  0.631523 -0.586538  0.290720\n",
            "\n",
            "Dataframe - table style:\n"
          ]
        },
        {
          "output_type": "execute_result",
          "data": {
            "text/html": [
              "<style  type=\"text/css\" >\n",
              "#T_e6a5df64_7b98_11ec_af70_0242ac1c0002row0_col0,#T_e6a5df64_7b98_11ec_af70_0242ac1c0002row0_col1,#T_e6a5df64_7b98_11ec_af70_0242ac1c0002row0_col2,#T_e6a5df64_7b98_11ec_af70_0242ac1c0002row0_col3,#T_e6a5df64_7b98_11ec_af70_0242ac1c0002row0_col4,#T_e6a5df64_7b98_11ec_af70_0242ac1c0002row1_col0,#T_e6a5df64_7b98_11ec_af70_0242ac1c0002row1_col1,#T_e6a5df64_7b98_11ec_af70_0242ac1c0002row1_col2,#T_e6a5df64_7b98_11ec_af70_0242ac1c0002row1_col3,#T_e6a5df64_7b98_11ec_af70_0242ac1c0002row1_col4,#T_e6a5df64_7b98_11ec_af70_0242ac1c0002row2_col0,#T_e6a5df64_7b98_11ec_af70_0242ac1c0002row2_col1,#T_e6a5df64_7b98_11ec_af70_0242ac1c0002row2_col2,#T_e6a5df64_7b98_11ec_af70_0242ac1c0002row2_col3,#T_e6a5df64_7b98_11ec_af70_0242ac1c0002row2_col4,#T_e6a5df64_7b98_11ec_af70_0242ac1c0002row3_col0,#T_e6a5df64_7b98_11ec_af70_0242ac1c0002row3_col1,#T_e6a5df64_7b98_11ec_af70_0242ac1c0002row3_col2,#T_e6a5df64_7b98_11ec_af70_0242ac1c0002row3_col3,#T_e6a5df64_7b98_11ec_af70_0242ac1c0002row3_col4,#T_e6a5df64_7b98_11ec_af70_0242ac1c0002row8_col0,#T_e6a5df64_7b98_11ec_af70_0242ac1c0002row8_col1,#T_e6a5df64_7b98_11ec_af70_0242ac1c0002row8_col2,#T_e6a5df64_7b98_11ec_af70_0242ac1c0002row8_col3,#T_e6a5df64_7b98_11ec_af70_0242ac1c0002row8_col4{\n",
              "            background-color:  white;\n",
              "        }#T_e6a5df64_7b98_11ec_af70_0242ac1c0002row4_col0,#T_e6a5df64_7b98_11ec_af70_0242ac1c0002row4_col1,#T_e6a5df64_7b98_11ec_af70_0242ac1c0002row4_col2,#T_e6a5df64_7b98_11ec_af70_0242ac1c0002row4_col3,#T_e6a5df64_7b98_11ec_af70_0242ac1c0002row4_col4,#T_e6a5df64_7b98_11ec_af70_0242ac1c0002row5_col0,#T_e6a5df64_7b98_11ec_af70_0242ac1c0002row5_col1,#T_e6a5df64_7b98_11ec_af70_0242ac1c0002row5_col2,#T_e6a5df64_7b98_11ec_af70_0242ac1c0002row5_col3,#T_e6a5df64_7b98_11ec_af70_0242ac1c0002row5_col4,#T_e6a5df64_7b98_11ec_af70_0242ac1c0002row6_col0,#T_e6a5df64_7b98_11ec_af70_0242ac1c0002row6_col1,#T_e6a5df64_7b98_11ec_af70_0242ac1c0002row6_col2,#T_e6a5df64_7b98_11ec_af70_0242ac1c0002row6_col3,#T_e6a5df64_7b98_11ec_af70_0242ac1c0002row6_col4,#T_e6a5df64_7b98_11ec_af70_0242ac1c0002row7_col0,#T_e6a5df64_7b98_11ec_af70_0242ac1c0002row7_col1,#T_e6a5df64_7b98_11ec_af70_0242ac1c0002row7_col2,#T_e6a5df64_7b98_11ec_af70_0242ac1c0002row7_col3,#T_e6a5df64_7b98_11ec_af70_0242ac1c0002row7_col4,#T_e6a5df64_7b98_11ec_af70_0242ac1c0002row9_col0,#T_e6a5df64_7b98_11ec_af70_0242ac1c0002row9_col1,#T_e6a5df64_7b98_11ec_af70_0242ac1c0002row9_col2,#T_e6a5df64_7b98_11ec_af70_0242ac1c0002row9_col3,#T_e6a5df64_7b98_11ec_af70_0242ac1c0002row9_col4{\n",
              "            background-color:  yellow;\n",
              "        }</style><table id=\"T_e6a5df64_7b98_11ec_af70_0242ac1c0002\" class=\"dataframe\"><thead>    <tr>        <th class=\"blank level0\" ></th>        <th class=\"col_heading level0 col0\" >A</th>        <th class=\"col_heading level0 col1\" >B</th>        <th class=\"col_heading level0 col2\" >C</th>        <th class=\"col_heading level0 col3\" >D</th>        <th class=\"col_heading level0 col4\" >E</th>    </tr></thead><tbody>\n",
              "                <tr>\n",
              "                        <th id=\"T_e6a5df64_7b98_11ec_af70_0242ac1c0002level0_row0\" class=\"row_heading level0 row0\" >0</th>\n",
              "                        <td id=\"T_e6a5df64_7b98_11ec_af70_0242ac1c0002row0_col0\" class=\"data row0 col0\" >1.000000</td>\n",
              "                        <td id=\"T_e6a5df64_7b98_11ec_af70_0242ac1c0002row0_col1\" class=\"data row0 col1\" >1.329212</td>\n",
              "                        <td id=\"T_e6a5df64_7b98_11ec_af70_0242ac1c0002row0_col2\" class=\"data row0 col2\" >-0.770033</td>\n",
              "                        <td id=\"T_e6a5df64_7b98_11ec_af70_0242ac1c0002row0_col3\" class=\"data row0 col3\" >-0.316280</td>\n",
              "                        <td id=\"T_e6a5df64_7b98_11ec_af70_0242ac1c0002row0_col4\" class=\"data row0 col4\" >-0.990810</td>\n",
              "            </tr>\n",
              "            <tr>\n",
              "                        <th id=\"T_e6a5df64_7b98_11ec_af70_0242ac1c0002level0_row1\" class=\"row_heading level0 row1\" >1</th>\n",
              "                        <td id=\"T_e6a5df64_7b98_11ec_af70_0242ac1c0002row1_col0\" class=\"data row1 col0\" >2.000000</td>\n",
              "                        <td id=\"T_e6a5df64_7b98_11ec_af70_0242ac1c0002row1_col1\" class=\"data row1 col1\" >-1.070816</td>\n",
              "                        <td id=\"T_e6a5df64_7b98_11ec_af70_0242ac1c0002row1_col2\" class=\"data row1 col2\" >-1.438713</td>\n",
              "                        <td id=\"T_e6a5df64_7b98_11ec_af70_0242ac1c0002row1_col3\" class=\"data row1 col3\" >0.564417</td>\n",
              "                        <td id=\"T_e6a5df64_7b98_11ec_af70_0242ac1c0002row1_col4\" class=\"data row1 col4\" >0.295722</td>\n",
              "            </tr>\n",
              "            <tr>\n",
              "                        <th id=\"T_e6a5df64_7b98_11ec_af70_0242ac1c0002level0_row2\" class=\"row_heading level0 row2\" >2</th>\n",
              "                        <td id=\"T_e6a5df64_7b98_11ec_af70_0242ac1c0002row2_col0\" class=\"data row2 col0\" >3.000000</td>\n",
              "                        <td id=\"T_e6a5df64_7b98_11ec_af70_0242ac1c0002row2_col1\" class=\"data row2 col1\" >-1.626404</td>\n",
              "                        <td id=\"T_e6a5df64_7b98_11ec_af70_0242ac1c0002row2_col2\" class=\"data row2 col2\" >0.219565</td>\n",
              "                        <td id=\"T_e6a5df64_7b98_11ec_af70_0242ac1c0002row2_col3\" class=\"data row2 col3\" >0.678805</td>\n",
              "                        <td id=\"T_e6a5df64_7b98_11ec_af70_0242ac1c0002row2_col4\" class=\"data row2 col4\" >1.889273</td>\n",
              "            </tr>\n",
              "            <tr>\n",
              "                        <th id=\"T_e6a5df64_7b98_11ec_af70_0242ac1c0002level0_row3\" class=\"row_heading level0 row3\" >3</th>\n",
              "                        <td id=\"T_e6a5df64_7b98_11ec_af70_0242ac1c0002row3_col0\" class=\"data row3 col0\" >4.000000</td>\n",
              "                        <td id=\"T_e6a5df64_7b98_11ec_af70_0242ac1c0002row3_col1\" class=\"data row3 col1\" >0.961538</td>\n",
              "                        <td id=\"T_e6a5df64_7b98_11ec_af70_0242ac1c0002row3_col2\" class=\"data row3 col2\" >0.104011</td>\n",
              "                        <td id=\"T_e6a5df64_7b98_11ec_af70_0242ac1c0002row3_col3\" class=\"data row3 col3\" >-0.481165</td>\n",
              "                        <td id=\"T_e6a5df64_7b98_11ec_af70_0242ac1c0002row3_col4\" class=\"data row3 col4\" >0.850229</td>\n",
              "            </tr>\n",
              "            <tr>\n",
              "                        <th id=\"T_e6a5df64_7b98_11ec_af70_0242ac1c0002level0_row4\" class=\"row_heading level0 row4\" >4</th>\n",
              "                        <td id=\"T_e6a5df64_7b98_11ec_af70_0242ac1c0002row4_col0\" class=\"data row4 col0\" >5.000000</td>\n",
              "                        <td id=\"T_e6a5df64_7b98_11ec_af70_0242ac1c0002row4_col1\" class=\"data row4 col1\" >1.453425</td>\n",
              "                        <td id=\"T_e6a5df64_7b98_11ec_af70_0242ac1c0002row4_col2\" class=\"data row4 col2\" >1.057737</td>\n",
              "                        <td id=\"T_e6a5df64_7b98_11ec_af70_0242ac1c0002row4_col3\" class=\"data row4 col3\" >0.165562</td>\n",
              "                        <td id=\"T_e6a5df64_7b98_11ec_af70_0242ac1c0002row4_col4\" class=\"data row4 col4\" >0.515018</td>\n",
              "            </tr>\n",
              "            <tr>\n",
              "                        <th id=\"T_e6a5df64_7b98_11ec_af70_0242ac1c0002level0_row5\" class=\"row_heading level0 row5\" >5</th>\n",
              "                        <td id=\"T_e6a5df64_7b98_11ec_af70_0242ac1c0002row5_col0\" class=\"data row5 col0\" >6.000000</td>\n",
              "                        <td id=\"T_e6a5df64_7b98_11ec_af70_0242ac1c0002row5_col1\" class=\"data row5 col1\" >-1.336936</td>\n",
              "                        <td id=\"T_e6a5df64_7b98_11ec_af70_0242ac1c0002row5_col2\" class=\"data row5 col2\" >0.562861</td>\n",
              "                        <td id=\"T_e6a5df64_7b98_11ec_af70_0242ac1c0002row5_col3\" class=\"data row5 col3\" >1.392855</td>\n",
              "                        <td id=\"T_e6a5df64_7b98_11ec_af70_0242ac1c0002row5_col4\" class=\"data row5 col4\" >-0.063328</td>\n",
              "            </tr>\n",
              "            <tr>\n",
              "                        <th id=\"T_e6a5df64_7b98_11ec_af70_0242ac1c0002level0_row6\" class=\"row_heading level0 row6\" >6</th>\n",
              "                        <td id=\"T_e6a5df64_7b98_11ec_af70_0242ac1c0002row6_col0\" class=\"data row6 col0\" >7.000000</td>\n",
              "                        <td id=\"T_e6a5df64_7b98_11ec_af70_0242ac1c0002row6_col1\" class=\"data row6 col1\" >0.121668</td>\n",
              "                        <td id=\"T_e6a5df64_7b98_11ec_af70_0242ac1c0002row6_col2\" class=\"data row6 col2\" >1.207603</td>\n",
              "                        <td id=\"T_e6a5df64_7b98_11ec_af70_0242ac1c0002row6_col3\" class=\"data row6 col3\" >-0.002040</td>\n",
              "                        <td id=\"T_e6a5df64_7b98_11ec_af70_0242ac1c0002row6_col4\" class=\"data row6 col4\" >1.627796</td>\n",
              "            </tr>\n",
              "            <tr>\n",
              "                        <th id=\"T_e6a5df64_7b98_11ec_af70_0242ac1c0002level0_row7\" class=\"row_heading level0 row7\" >7</th>\n",
              "                        <td id=\"T_e6a5df64_7b98_11ec_af70_0242ac1c0002row7_col0\" class=\"data row7 col0\" >8.000000</td>\n",
              "                        <td id=\"T_e6a5df64_7b98_11ec_af70_0242ac1c0002row7_col1\" class=\"data row7 col1\" >0.354493</td>\n",
              "                        <td id=\"T_e6a5df64_7b98_11ec_af70_0242ac1c0002row7_col2\" class=\"data row7 col2\" >1.037528</td>\n",
              "                        <td id=\"T_e6a5df64_7b98_11ec_af70_0242ac1c0002row7_col3\" class=\"data row7 col3\" >-0.385684</td>\n",
              "                        <td id=\"T_e6a5df64_7b98_11ec_af70_0242ac1c0002row7_col4\" class=\"data row7 col4\" >0.519818</td>\n",
              "            </tr>\n",
              "            <tr>\n",
              "                        <th id=\"T_e6a5df64_7b98_11ec_af70_0242ac1c0002level0_row8\" class=\"row_heading level0 row8\" >8</th>\n",
              "                        <td id=\"T_e6a5df64_7b98_11ec_af70_0242ac1c0002row8_col0\" class=\"data row8 col0\" >9.000000</td>\n",
              "                        <td id=\"T_e6a5df64_7b98_11ec_af70_0242ac1c0002row8_col1\" class=\"data row8 col1\" >1.686583</td>\n",
              "                        <td id=\"T_e6a5df64_7b98_11ec_af70_0242ac1c0002row8_col2\" class=\"data row8 col2\" >-1.325963</td>\n",
              "                        <td id=\"T_e6a5df64_7b98_11ec_af70_0242ac1c0002row8_col3\" class=\"data row8 col3\" >1.428984</td>\n",
              "                        <td id=\"T_e6a5df64_7b98_11ec_af70_0242ac1c0002row8_col4\" class=\"data row8 col4\" >-2.089354</td>\n",
              "            </tr>\n",
              "            <tr>\n",
              "                        <th id=\"T_e6a5df64_7b98_11ec_af70_0242ac1c0002level0_row9\" class=\"row_heading level0 row9\" >9</th>\n",
              "                        <td id=\"T_e6a5df64_7b98_11ec_af70_0242ac1c0002row9_col0\" class=\"data row9 col0\" >10.000000</td>\n",
              "                        <td id=\"T_e6a5df64_7b98_11ec_af70_0242ac1c0002row9_col1\" class=\"data row9 col1\" >-0.129820</td>\n",
              "                        <td id=\"T_e6a5df64_7b98_11ec_af70_0242ac1c0002row9_col2\" class=\"data row9 col2\" >0.631523</td>\n",
              "                        <td id=\"T_e6a5df64_7b98_11ec_af70_0242ac1c0002row9_col3\" class=\"data row9 col3\" >-0.586538</td>\n",
              "                        <td id=\"T_e6a5df64_7b98_11ec_af70_0242ac1c0002row9_col4\" class=\"data row9 col4\" >0.290720</td>\n",
              "            </tr>\n",
              "    </tbody></table>"
            ],
            "text/plain": [
              "<pandas.io.formats.style.Styler at 0x7fd7ff6ea690>"
            ]
          },
          "metadata": {},
          "execution_count": 44
        }
      ]
    },
    {
      "cell_type": "markdown",
      "source": [
        "37 Create a dataframe of ten rows, four columns with random values. Write a Pandas program to display the dataframe in Heatmap style."
      ],
      "metadata": {
        "id": "EfdIElHubfHQ"
      }
    },
    {
      "cell_type": "code",
      "source": [
        "np.random.seed(24)\n",
        "df = pd.DataFrame({'A': np.linspace(1, 10, 10)})\n",
        "df = pd.concat([df, pd.DataFrame(np.random.randn(10, 4), columns=list('BCDE'))],\n",
        "               axis=1)\n",
        "print(\"Original array:\")\n",
        "print(df)\n",
        "print(\"\\nDataframe - Heatmap style:\")\n",
        "\n",
        "cm = sns.light_palette(\"red\", as_cmap=True)\n",
        " \n",
        "df.style.background_gradient(cmap='viridis')"
      ],
      "metadata": {
        "colab": {
          "base_uri": "https://localhost:8080/",
          "height": 606
        },
        "id": "7SoY952lbdBl",
        "outputId": "a4792ff3-38d1-4f61-ade3-f005fd18e18f"
      },
      "execution_count": null,
      "outputs": [
        {
          "output_type": "stream",
          "name": "stdout",
          "text": [
            "Original array:\n",
            "      A         B         C         D         E\n",
            "0   1.0  1.329212 -0.770033 -0.316280 -0.990810\n",
            "1   2.0 -1.070816 -1.438713  0.564417  0.295722\n",
            "2   3.0 -1.626404  0.219565  0.678805  1.889273\n",
            "3   4.0  0.961538  0.104011 -0.481165  0.850229\n",
            "4   5.0  1.453425  1.057737  0.165562  0.515018\n",
            "5   6.0 -1.336936  0.562861  1.392855 -0.063328\n",
            "6   7.0  0.121668  1.207603 -0.002040  1.627796\n",
            "7   8.0  0.354493  1.037528 -0.385684  0.519818\n",
            "8   9.0  1.686583 -1.325963  1.428984 -2.089354\n",
            "9  10.0 -0.129820  0.631523 -0.586538  0.290720\n",
            "\n",
            "Dataframe - Heatmap style:\n"
          ]
        },
        {
          "output_type": "execute_result",
          "data": {
            "text/html": [
              "<style  type=\"text/css\" >\n",
              "#T_2364fc64_7b99_11ec_af70_0242ac1c0002row0_col0,#T_2364fc64_7b99_11ec_af70_0242ac1c0002row1_col2,#T_2364fc64_7b99_11ec_af70_0242ac1c0002row2_col1,#T_2364fc64_7b99_11ec_af70_0242ac1c0002row8_col4,#T_2364fc64_7b99_11ec_af70_0242ac1c0002row9_col3{\n",
              "            background-color:  #440154;\n",
              "            color:  #f1f1f1;\n",
              "        }#T_2364fc64_7b99_11ec_af70_0242ac1c0002row0_col1{\n",
              "            background-color:  #b8de29;\n",
              "            color:  #000000;\n",
              "        }#T_2364fc64_7b99_11ec_af70_0242ac1c0002row0_col2{\n",
              "            background-color:  #3b528b;\n",
              "            color:  #f1f1f1;\n",
              "        }#T_2364fc64_7b99_11ec_af70_0242ac1c0002row0_col3{\n",
              "            background-color:  #472f7d;\n",
              "            color:  #f1f1f1;\n",
              "        }#T_2364fc64_7b99_11ec_af70_0242ac1c0002row0_col4{\n",
              "            background-color:  #38598c;\n",
              "            color:  #f1f1f1;\n",
              "        }#T_2364fc64_7b99_11ec_af70_0242ac1c0002row1_col0{\n",
              "            background-color:  #482878;\n",
              "            color:  #f1f1f1;\n",
              "        }#T_2364fc64_7b99_11ec_af70_0242ac1c0002row1_col1{\n",
              "            background-color:  #443983;\n",
              "            color:  #f1f1f1;\n",
              "        }#T_2364fc64_7b99_11ec_af70_0242ac1c0002row1_col3{\n",
              "            background-color:  #1fa187;\n",
              "            color:  #000000;\n",
              "        }#T_2364fc64_7b99_11ec_af70_0242ac1c0002row1_col4,#T_2364fc64_7b99_11ec_af70_0242ac1c0002row7_col1,#T_2364fc64_7b99_11ec_af70_0242ac1c0002row9_col4{\n",
              "            background-color:  #22a884;\n",
              "            color:  #000000;\n",
              "        }#T_2364fc64_7b99_11ec_af70_0242ac1c0002row2_col0{\n",
              "            background-color:  #3e4989;\n",
              "            color:  #f1f1f1;\n",
              "        }#T_2364fc64_7b99_11ec_af70_0242ac1c0002row2_col2,#T_2364fc64_7b99_11ec_af70_0242ac1c0002row2_col3{\n",
              "            background-color:  #28ae80;\n",
              "            color:  #000000;\n",
              "        }#T_2364fc64_7b99_11ec_af70_0242ac1c0002row2_col4,#T_2364fc64_7b99_11ec_af70_0242ac1c0002row6_col2,#T_2364fc64_7b99_11ec_af70_0242ac1c0002row8_col1,#T_2364fc64_7b99_11ec_af70_0242ac1c0002row8_col3,#T_2364fc64_7b99_11ec_af70_0242ac1c0002row9_col0{\n",
              "            background-color:  #fde725;\n",
              "            color:  #000000;\n",
              "        }#T_2364fc64_7b99_11ec_af70_0242ac1c0002row3_col0{\n",
              "            background-color:  #31688e;\n",
              "            color:  #f1f1f1;\n",
              "        }#T_2364fc64_7b99_11ec_af70_0242ac1c0002row3_col1,#T_2364fc64_7b99_11ec_af70_0242ac1c0002row7_col0{\n",
              "            background-color:  #6ece58;\n",
              "            color:  #000000;\n",
              "        }#T_2364fc64_7b99_11ec_af70_0242ac1c0002row3_col2{\n",
              "            background-color:  #20a486;\n",
              "            color:  #000000;\n",
              "        }#T_2364fc64_7b99_11ec_af70_0242ac1c0002row3_col3{\n",
              "            background-color:  #481467;\n",
              "            color:  #f1f1f1;\n",
              "        }#T_2364fc64_7b99_11ec_af70_0242ac1c0002row3_col4{\n",
              "            background-color:  #58c765;\n",
              "            color:  #000000;\n",
              "        }#T_2364fc64_7b99_11ec_af70_0242ac1c0002row4_col0{\n",
              "            background-color:  #26828e;\n",
              "            color:  #000000;\n",
              "        }#T_2364fc64_7b99_11ec_af70_0242ac1c0002row4_col1{\n",
              "            background-color:  #d0e11c;\n",
              "            color:  #000000;\n",
              "        }#T_2364fc64_7b99_11ec_af70_0242ac1c0002row4_col2{\n",
              "            background-color:  #dae319;\n",
              "            color:  #000000;\n",
              "        }#T_2364fc64_7b99_11ec_af70_0242ac1c0002row4_col3{\n",
              "            background-color:  #2c718e;\n",
              "            color:  #f1f1f1;\n",
              "        }#T_2364fc64_7b99_11ec_af70_0242ac1c0002row4_col4,#T_2364fc64_7b99_11ec_af70_0242ac1c0002row7_col4{\n",
              "            background-color:  #31b57b;\n",
              "            color:  #000000;\n",
              "        }#T_2364fc64_7b99_11ec_af70_0242ac1c0002row5_col0{\n",
              "            background-color:  #1f9e89;\n",
              "            color:  #000000;\n",
              "        }#T_2364fc64_7b99_11ec_af70_0242ac1c0002row5_col1{\n",
              "            background-color:  #482071;\n",
              "            color:  #f1f1f1;\n",
              "        }#T_2364fc64_7b99_11ec_af70_0242ac1c0002row5_col2{\n",
              "            background-color:  #60ca60;\n",
              "            color:  #000000;\n",
              "        }#T_2364fc64_7b99_11ec_af70_0242ac1c0002row5_col3{\n",
              "            background-color:  #f4e61e;\n",
              "            color:  #000000;\n",
              "        }#T_2364fc64_7b99_11ec_af70_0242ac1c0002row5_col4{\n",
              "            background-color:  #20928c;\n",
              "            color:  #000000;\n",
              "        }#T_2364fc64_7b99_11ec_af70_0242ac1c0002row6_col0{\n",
              "            background-color:  #35b779;\n",
              "            color:  #000000;\n",
              "        }#T_2364fc64_7b99_11ec_af70_0242ac1c0002row6_col1{\n",
              "            background-color:  #1f978b;\n",
              "            color:  #000000;\n",
              "        }#T_2364fc64_7b99_11ec_af70_0242ac1c0002row6_col3{\n",
              "            background-color:  #365d8d;\n",
              "            color:  #f1f1f1;\n",
              "        }#T_2364fc64_7b99_11ec_af70_0242ac1c0002row6_col4,#T_2364fc64_7b99_11ec_af70_0242ac1c0002row7_col2{\n",
              "            background-color:  #d5e21a;\n",
              "            color:  #000000;\n",
              "        }#T_2364fc64_7b99_11ec_af70_0242ac1c0002row7_col3{\n",
              "            background-color:  #482475;\n",
              "            color:  #f1f1f1;\n",
              "        }#T_2364fc64_7b99_11ec_af70_0242ac1c0002row8_col0{\n",
              "            background-color:  #b5de2b;\n",
              "            color:  #000000;\n",
              "        }#T_2364fc64_7b99_11ec_af70_0242ac1c0002row8_col2{\n",
              "            background-color:  #471063;\n",
              "            color:  #f1f1f1;\n",
              "        }#T_2364fc64_7b99_11ec_af70_0242ac1c0002row9_col1{\n",
              "            background-color:  #25848e;\n",
              "            color:  #000000;\n",
              "        }#T_2364fc64_7b99_11ec_af70_0242ac1c0002row9_col2{\n",
              "            background-color:  #70cf57;\n",
              "            color:  #000000;\n",
              "        }</style><table id=\"T_2364fc64_7b99_11ec_af70_0242ac1c0002\" class=\"dataframe\"><thead>    <tr>        <th class=\"blank level0\" ></th>        <th class=\"col_heading level0 col0\" >A</th>        <th class=\"col_heading level0 col1\" >B</th>        <th class=\"col_heading level0 col2\" >C</th>        <th class=\"col_heading level0 col3\" >D</th>        <th class=\"col_heading level0 col4\" >E</th>    </tr></thead><tbody>\n",
              "                <tr>\n",
              "                        <th id=\"T_2364fc64_7b99_11ec_af70_0242ac1c0002level0_row0\" class=\"row_heading level0 row0\" >0</th>\n",
              "                        <td id=\"T_2364fc64_7b99_11ec_af70_0242ac1c0002row0_col0\" class=\"data row0 col0\" >1.000000</td>\n",
              "                        <td id=\"T_2364fc64_7b99_11ec_af70_0242ac1c0002row0_col1\" class=\"data row0 col1\" >1.329212</td>\n",
              "                        <td id=\"T_2364fc64_7b99_11ec_af70_0242ac1c0002row0_col2\" class=\"data row0 col2\" >-0.770033</td>\n",
              "                        <td id=\"T_2364fc64_7b99_11ec_af70_0242ac1c0002row0_col3\" class=\"data row0 col3\" >-0.316280</td>\n",
              "                        <td id=\"T_2364fc64_7b99_11ec_af70_0242ac1c0002row0_col4\" class=\"data row0 col4\" >-0.990810</td>\n",
              "            </tr>\n",
              "            <tr>\n",
              "                        <th id=\"T_2364fc64_7b99_11ec_af70_0242ac1c0002level0_row1\" class=\"row_heading level0 row1\" >1</th>\n",
              "                        <td id=\"T_2364fc64_7b99_11ec_af70_0242ac1c0002row1_col0\" class=\"data row1 col0\" >2.000000</td>\n",
              "                        <td id=\"T_2364fc64_7b99_11ec_af70_0242ac1c0002row1_col1\" class=\"data row1 col1\" >-1.070816</td>\n",
              "                        <td id=\"T_2364fc64_7b99_11ec_af70_0242ac1c0002row1_col2\" class=\"data row1 col2\" >-1.438713</td>\n",
              "                        <td id=\"T_2364fc64_7b99_11ec_af70_0242ac1c0002row1_col3\" class=\"data row1 col3\" >0.564417</td>\n",
              "                        <td id=\"T_2364fc64_7b99_11ec_af70_0242ac1c0002row1_col4\" class=\"data row1 col4\" >0.295722</td>\n",
              "            </tr>\n",
              "            <tr>\n",
              "                        <th id=\"T_2364fc64_7b99_11ec_af70_0242ac1c0002level0_row2\" class=\"row_heading level0 row2\" >2</th>\n",
              "                        <td id=\"T_2364fc64_7b99_11ec_af70_0242ac1c0002row2_col0\" class=\"data row2 col0\" >3.000000</td>\n",
              "                        <td id=\"T_2364fc64_7b99_11ec_af70_0242ac1c0002row2_col1\" class=\"data row2 col1\" >-1.626404</td>\n",
              "                        <td id=\"T_2364fc64_7b99_11ec_af70_0242ac1c0002row2_col2\" class=\"data row2 col2\" >0.219565</td>\n",
              "                        <td id=\"T_2364fc64_7b99_11ec_af70_0242ac1c0002row2_col3\" class=\"data row2 col3\" >0.678805</td>\n",
              "                        <td id=\"T_2364fc64_7b99_11ec_af70_0242ac1c0002row2_col4\" class=\"data row2 col4\" >1.889273</td>\n",
              "            </tr>\n",
              "            <tr>\n",
              "                        <th id=\"T_2364fc64_7b99_11ec_af70_0242ac1c0002level0_row3\" class=\"row_heading level0 row3\" >3</th>\n",
              "                        <td id=\"T_2364fc64_7b99_11ec_af70_0242ac1c0002row3_col0\" class=\"data row3 col0\" >4.000000</td>\n",
              "                        <td id=\"T_2364fc64_7b99_11ec_af70_0242ac1c0002row3_col1\" class=\"data row3 col1\" >0.961538</td>\n",
              "                        <td id=\"T_2364fc64_7b99_11ec_af70_0242ac1c0002row3_col2\" class=\"data row3 col2\" >0.104011</td>\n",
              "                        <td id=\"T_2364fc64_7b99_11ec_af70_0242ac1c0002row3_col3\" class=\"data row3 col3\" >-0.481165</td>\n",
              "                        <td id=\"T_2364fc64_7b99_11ec_af70_0242ac1c0002row3_col4\" class=\"data row3 col4\" >0.850229</td>\n",
              "            </tr>\n",
              "            <tr>\n",
              "                        <th id=\"T_2364fc64_7b99_11ec_af70_0242ac1c0002level0_row4\" class=\"row_heading level0 row4\" >4</th>\n",
              "                        <td id=\"T_2364fc64_7b99_11ec_af70_0242ac1c0002row4_col0\" class=\"data row4 col0\" >5.000000</td>\n",
              "                        <td id=\"T_2364fc64_7b99_11ec_af70_0242ac1c0002row4_col1\" class=\"data row4 col1\" >1.453425</td>\n",
              "                        <td id=\"T_2364fc64_7b99_11ec_af70_0242ac1c0002row4_col2\" class=\"data row4 col2\" >1.057737</td>\n",
              "                        <td id=\"T_2364fc64_7b99_11ec_af70_0242ac1c0002row4_col3\" class=\"data row4 col3\" >0.165562</td>\n",
              "                        <td id=\"T_2364fc64_7b99_11ec_af70_0242ac1c0002row4_col4\" class=\"data row4 col4\" >0.515018</td>\n",
              "            </tr>\n",
              "            <tr>\n",
              "                        <th id=\"T_2364fc64_7b99_11ec_af70_0242ac1c0002level0_row5\" class=\"row_heading level0 row5\" >5</th>\n",
              "                        <td id=\"T_2364fc64_7b99_11ec_af70_0242ac1c0002row5_col0\" class=\"data row5 col0\" >6.000000</td>\n",
              "                        <td id=\"T_2364fc64_7b99_11ec_af70_0242ac1c0002row5_col1\" class=\"data row5 col1\" >-1.336936</td>\n",
              "                        <td id=\"T_2364fc64_7b99_11ec_af70_0242ac1c0002row5_col2\" class=\"data row5 col2\" >0.562861</td>\n",
              "                        <td id=\"T_2364fc64_7b99_11ec_af70_0242ac1c0002row5_col3\" class=\"data row5 col3\" >1.392855</td>\n",
              "                        <td id=\"T_2364fc64_7b99_11ec_af70_0242ac1c0002row5_col4\" class=\"data row5 col4\" >-0.063328</td>\n",
              "            </tr>\n",
              "            <tr>\n",
              "                        <th id=\"T_2364fc64_7b99_11ec_af70_0242ac1c0002level0_row6\" class=\"row_heading level0 row6\" >6</th>\n",
              "                        <td id=\"T_2364fc64_7b99_11ec_af70_0242ac1c0002row6_col0\" class=\"data row6 col0\" >7.000000</td>\n",
              "                        <td id=\"T_2364fc64_7b99_11ec_af70_0242ac1c0002row6_col1\" class=\"data row6 col1\" >0.121668</td>\n",
              "                        <td id=\"T_2364fc64_7b99_11ec_af70_0242ac1c0002row6_col2\" class=\"data row6 col2\" >1.207603</td>\n",
              "                        <td id=\"T_2364fc64_7b99_11ec_af70_0242ac1c0002row6_col3\" class=\"data row6 col3\" >-0.002040</td>\n",
              "                        <td id=\"T_2364fc64_7b99_11ec_af70_0242ac1c0002row6_col4\" class=\"data row6 col4\" >1.627796</td>\n",
              "            </tr>\n",
              "            <tr>\n",
              "                        <th id=\"T_2364fc64_7b99_11ec_af70_0242ac1c0002level0_row7\" class=\"row_heading level0 row7\" >7</th>\n",
              "                        <td id=\"T_2364fc64_7b99_11ec_af70_0242ac1c0002row7_col0\" class=\"data row7 col0\" >8.000000</td>\n",
              "                        <td id=\"T_2364fc64_7b99_11ec_af70_0242ac1c0002row7_col1\" class=\"data row7 col1\" >0.354493</td>\n",
              "                        <td id=\"T_2364fc64_7b99_11ec_af70_0242ac1c0002row7_col2\" class=\"data row7 col2\" >1.037528</td>\n",
              "                        <td id=\"T_2364fc64_7b99_11ec_af70_0242ac1c0002row7_col3\" class=\"data row7 col3\" >-0.385684</td>\n",
              "                        <td id=\"T_2364fc64_7b99_11ec_af70_0242ac1c0002row7_col4\" class=\"data row7 col4\" >0.519818</td>\n",
              "            </tr>\n",
              "            <tr>\n",
              "                        <th id=\"T_2364fc64_7b99_11ec_af70_0242ac1c0002level0_row8\" class=\"row_heading level0 row8\" >8</th>\n",
              "                        <td id=\"T_2364fc64_7b99_11ec_af70_0242ac1c0002row8_col0\" class=\"data row8 col0\" >9.000000</td>\n",
              "                        <td id=\"T_2364fc64_7b99_11ec_af70_0242ac1c0002row8_col1\" class=\"data row8 col1\" >1.686583</td>\n",
              "                        <td id=\"T_2364fc64_7b99_11ec_af70_0242ac1c0002row8_col2\" class=\"data row8 col2\" >-1.325963</td>\n",
              "                        <td id=\"T_2364fc64_7b99_11ec_af70_0242ac1c0002row8_col3\" class=\"data row8 col3\" >1.428984</td>\n",
              "                        <td id=\"T_2364fc64_7b99_11ec_af70_0242ac1c0002row8_col4\" class=\"data row8 col4\" >-2.089354</td>\n",
              "            </tr>\n",
              "            <tr>\n",
              "                        <th id=\"T_2364fc64_7b99_11ec_af70_0242ac1c0002level0_row9\" class=\"row_heading level0 row9\" >9</th>\n",
              "                        <td id=\"T_2364fc64_7b99_11ec_af70_0242ac1c0002row9_col0\" class=\"data row9 col0\" >10.000000</td>\n",
              "                        <td id=\"T_2364fc64_7b99_11ec_af70_0242ac1c0002row9_col1\" class=\"data row9 col1\" >-0.129820</td>\n",
              "                        <td id=\"T_2364fc64_7b99_11ec_af70_0242ac1c0002row9_col2\" class=\"data row9 col2\" >0.631523</td>\n",
              "                        <td id=\"T_2364fc64_7b99_11ec_af70_0242ac1c0002row9_col3\" class=\"data row9 col3\" >-0.586538</td>\n",
              "                        <td id=\"T_2364fc64_7b99_11ec_af70_0242ac1c0002row9_col4\" class=\"data row9 col4\" >0.290720</td>\n",
              "            </tr>\n",
              "    </tbody></table>"
            ],
            "text/plain": [
              "<pandas.io.formats.style.Styler at 0x7fd7ef4cbf10>"
            ]
          },
          "metadata": {},
          "execution_count": 46
        }
      ]
    },
    {
      "cell_type": "markdown",
      "source": [
        "38 Create a dataframe of ten rows, four columns with random values. Write a Pandas program to make a gradient color mapping on a specified column."
      ],
      "metadata": {
        "id": "gUj4P0OSb7oS"
      }
    },
    {
      "cell_type": "code",
      "source": [
        "np.random.seed(24)\n",
        "df = pd.DataFrame({'A': np.linspace(1, 10, 10)})\n",
        "df = pd.concat([df, pd.DataFrame(np.random.randn(10, 4), columns=list('BCDE'))],\n",
        "               axis=1)\n",
        "print(\"Original array:\")\n",
        "print(df)\n",
        "print(\"\\nDataframe - Gradient color:\")\n",
        "df.style.background_gradient(subset=['C'])"
      ],
      "metadata": {
        "colab": {
          "base_uri": "https://localhost:8080/",
          "height": 606
        },
        "id": "1qNXd2K9b17u",
        "outputId": "2c8fb9c6-163c-4ffc-be66-e08a42e9405a"
      },
      "execution_count": null,
      "outputs": [
        {
          "output_type": "stream",
          "name": "stdout",
          "text": [
            "Original array:\n",
            "      A         B         C         D         E\n",
            "0   1.0  1.329212 -0.770033 -0.316280 -0.990810\n",
            "1   2.0 -1.070816 -1.438713  0.564417  0.295722\n",
            "2   3.0 -1.626404  0.219565  0.678805  1.889273\n",
            "3   4.0  0.961538  0.104011 -0.481165  0.850229\n",
            "4   5.0  1.453425  1.057737  0.165562  0.515018\n",
            "5   6.0 -1.336936  0.562861  1.392855 -0.063328\n",
            "6   7.0  0.121668  1.207603 -0.002040  1.627796\n",
            "7   8.0  0.354493  1.037528 -0.385684  0.519818\n",
            "8   9.0  1.686583 -1.325963  1.428984 -2.089354\n",
            "9  10.0 -0.129820  0.631523 -0.586538  0.290720\n",
            "\n",
            "Dataframe - Gradient color:\n"
          ]
        },
        {
          "output_type": "execute_result",
          "data": {
            "text/html": [
              "<style  type=\"text/css\" >\n",
              "#T_40543e66_7b99_11ec_af70_0242ac1c0002row0_col2{\n",
              "            background-color:  #d0d1e6;\n",
              "            color:  #000000;\n",
              "        }#T_40543e66_7b99_11ec_af70_0242ac1c0002row1_col2{\n",
              "            background-color:  #fff7fb;\n",
              "            color:  #000000;\n",
              "        }#T_40543e66_7b99_11ec_af70_0242ac1c0002row2_col2{\n",
              "            background-color:  #358fc0;\n",
              "            color:  #000000;\n",
              "        }#T_40543e66_7b99_11ec_af70_0242ac1c0002row3_col2{\n",
              "            background-color:  #4a98c5;\n",
              "            color:  #000000;\n",
              "        }#T_40543e66_7b99_11ec_af70_0242ac1c0002row4_col2{\n",
              "            background-color:  #03476f;\n",
              "            color:  #f1f1f1;\n",
              "        }#T_40543e66_7b99_11ec_af70_0242ac1c0002row5_col2{\n",
              "            background-color:  #056fae;\n",
              "            color:  #f1f1f1;\n",
              "        }#T_40543e66_7b99_11ec_af70_0242ac1c0002row6_col2{\n",
              "            background-color:  #023858;\n",
              "            color:  #f1f1f1;\n",
              "        }#T_40543e66_7b99_11ec_af70_0242ac1c0002row7_col2{\n",
              "            background-color:  #034973;\n",
              "            color:  #f1f1f1;\n",
              "        }#T_40543e66_7b99_11ec_af70_0242ac1c0002row8_col2{\n",
              "            background-color:  #f9f2f8;\n",
              "            color:  #000000;\n",
              "        }#T_40543e66_7b99_11ec_af70_0242ac1c0002row9_col2{\n",
              "            background-color:  #056aa6;\n",
              "            color:  #f1f1f1;\n",
              "        }</style><table id=\"T_40543e66_7b99_11ec_af70_0242ac1c0002\" class=\"dataframe\"><thead>    <tr>        <th class=\"blank level0\" ></th>        <th class=\"col_heading level0 col0\" >A</th>        <th class=\"col_heading level0 col1\" >B</th>        <th class=\"col_heading level0 col2\" >C</th>        <th class=\"col_heading level0 col3\" >D</th>        <th class=\"col_heading level0 col4\" >E</th>    </tr></thead><tbody>\n",
              "                <tr>\n",
              "                        <th id=\"T_40543e66_7b99_11ec_af70_0242ac1c0002level0_row0\" class=\"row_heading level0 row0\" >0</th>\n",
              "                        <td id=\"T_40543e66_7b99_11ec_af70_0242ac1c0002row0_col0\" class=\"data row0 col0\" >1.000000</td>\n",
              "                        <td id=\"T_40543e66_7b99_11ec_af70_0242ac1c0002row0_col1\" class=\"data row0 col1\" >1.329212</td>\n",
              "                        <td id=\"T_40543e66_7b99_11ec_af70_0242ac1c0002row0_col2\" class=\"data row0 col2\" >-0.770033</td>\n",
              "                        <td id=\"T_40543e66_7b99_11ec_af70_0242ac1c0002row0_col3\" class=\"data row0 col3\" >-0.316280</td>\n",
              "                        <td id=\"T_40543e66_7b99_11ec_af70_0242ac1c0002row0_col4\" class=\"data row0 col4\" >-0.990810</td>\n",
              "            </tr>\n",
              "            <tr>\n",
              "                        <th id=\"T_40543e66_7b99_11ec_af70_0242ac1c0002level0_row1\" class=\"row_heading level0 row1\" >1</th>\n",
              "                        <td id=\"T_40543e66_7b99_11ec_af70_0242ac1c0002row1_col0\" class=\"data row1 col0\" >2.000000</td>\n",
              "                        <td id=\"T_40543e66_7b99_11ec_af70_0242ac1c0002row1_col1\" class=\"data row1 col1\" >-1.070816</td>\n",
              "                        <td id=\"T_40543e66_7b99_11ec_af70_0242ac1c0002row1_col2\" class=\"data row1 col2\" >-1.438713</td>\n",
              "                        <td id=\"T_40543e66_7b99_11ec_af70_0242ac1c0002row1_col3\" class=\"data row1 col3\" >0.564417</td>\n",
              "                        <td id=\"T_40543e66_7b99_11ec_af70_0242ac1c0002row1_col4\" class=\"data row1 col4\" >0.295722</td>\n",
              "            </tr>\n",
              "            <tr>\n",
              "                        <th id=\"T_40543e66_7b99_11ec_af70_0242ac1c0002level0_row2\" class=\"row_heading level0 row2\" >2</th>\n",
              "                        <td id=\"T_40543e66_7b99_11ec_af70_0242ac1c0002row2_col0\" class=\"data row2 col0\" >3.000000</td>\n",
              "                        <td id=\"T_40543e66_7b99_11ec_af70_0242ac1c0002row2_col1\" class=\"data row2 col1\" >-1.626404</td>\n",
              "                        <td id=\"T_40543e66_7b99_11ec_af70_0242ac1c0002row2_col2\" class=\"data row2 col2\" >0.219565</td>\n",
              "                        <td id=\"T_40543e66_7b99_11ec_af70_0242ac1c0002row2_col3\" class=\"data row2 col3\" >0.678805</td>\n",
              "                        <td id=\"T_40543e66_7b99_11ec_af70_0242ac1c0002row2_col4\" class=\"data row2 col4\" >1.889273</td>\n",
              "            </tr>\n",
              "            <tr>\n",
              "                        <th id=\"T_40543e66_7b99_11ec_af70_0242ac1c0002level0_row3\" class=\"row_heading level0 row3\" >3</th>\n",
              "                        <td id=\"T_40543e66_7b99_11ec_af70_0242ac1c0002row3_col0\" class=\"data row3 col0\" >4.000000</td>\n",
              "                        <td id=\"T_40543e66_7b99_11ec_af70_0242ac1c0002row3_col1\" class=\"data row3 col1\" >0.961538</td>\n",
              "                        <td id=\"T_40543e66_7b99_11ec_af70_0242ac1c0002row3_col2\" class=\"data row3 col2\" >0.104011</td>\n",
              "                        <td id=\"T_40543e66_7b99_11ec_af70_0242ac1c0002row3_col3\" class=\"data row3 col3\" >-0.481165</td>\n",
              "                        <td id=\"T_40543e66_7b99_11ec_af70_0242ac1c0002row3_col4\" class=\"data row3 col4\" >0.850229</td>\n",
              "            </tr>\n",
              "            <tr>\n",
              "                        <th id=\"T_40543e66_7b99_11ec_af70_0242ac1c0002level0_row4\" class=\"row_heading level0 row4\" >4</th>\n",
              "                        <td id=\"T_40543e66_7b99_11ec_af70_0242ac1c0002row4_col0\" class=\"data row4 col0\" >5.000000</td>\n",
              "                        <td id=\"T_40543e66_7b99_11ec_af70_0242ac1c0002row4_col1\" class=\"data row4 col1\" >1.453425</td>\n",
              "                        <td id=\"T_40543e66_7b99_11ec_af70_0242ac1c0002row4_col2\" class=\"data row4 col2\" >1.057737</td>\n",
              "                        <td id=\"T_40543e66_7b99_11ec_af70_0242ac1c0002row4_col3\" class=\"data row4 col3\" >0.165562</td>\n",
              "                        <td id=\"T_40543e66_7b99_11ec_af70_0242ac1c0002row4_col4\" class=\"data row4 col4\" >0.515018</td>\n",
              "            </tr>\n",
              "            <tr>\n",
              "                        <th id=\"T_40543e66_7b99_11ec_af70_0242ac1c0002level0_row5\" class=\"row_heading level0 row5\" >5</th>\n",
              "                        <td id=\"T_40543e66_7b99_11ec_af70_0242ac1c0002row5_col0\" class=\"data row5 col0\" >6.000000</td>\n",
              "                        <td id=\"T_40543e66_7b99_11ec_af70_0242ac1c0002row5_col1\" class=\"data row5 col1\" >-1.336936</td>\n",
              "                        <td id=\"T_40543e66_7b99_11ec_af70_0242ac1c0002row5_col2\" class=\"data row5 col2\" >0.562861</td>\n",
              "                        <td id=\"T_40543e66_7b99_11ec_af70_0242ac1c0002row5_col3\" class=\"data row5 col3\" >1.392855</td>\n",
              "                        <td id=\"T_40543e66_7b99_11ec_af70_0242ac1c0002row5_col4\" class=\"data row5 col4\" >-0.063328</td>\n",
              "            </tr>\n",
              "            <tr>\n",
              "                        <th id=\"T_40543e66_7b99_11ec_af70_0242ac1c0002level0_row6\" class=\"row_heading level0 row6\" >6</th>\n",
              "                        <td id=\"T_40543e66_7b99_11ec_af70_0242ac1c0002row6_col0\" class=\"data row6 col0\" >7.000000</td>\n",
              "                        <td id=\"T_40543e66_7b99_11ec_af70_0242ac1c0002row6_col1\" class=\"data row6 col1\" >0.121668</td>\n",
              "                        <td id=\"T_40543e66_7b99_11ec_af70_0242ac1c0002row6_col2\" class=\"data row6 col2\" >1.207603</td>\n",
              "                        <td id=\"T_40543e66_7b99_11ec_af70_0242ac1c0002row6_col3\" class=\"data row6 col3\" >-0.002040</td>\n",
              "                        <td id=\"T_40543e66_7b99_11ec_af70_0242ac1c0002row6_col4\" class=\"data row6 col4\" >1.627796</td>\n",
              "            </tr>\n",
              "            <tr>\n",
              "                        <th id=\"T_40543e66_7b99_11ec_af70_0242ac1c0002level0_row7\" class=\"row_heading level0 row7\" >7</th>\n",
              "                        <td id=\"T_40543e66_7b99_11ec_af70_0242ac1c0002row7_col0\" class=\"data row7 col0\" >8.000000</td>\n",
              "                        <td id=\"T_40543e66_7b99_11ec_af70_0242ac1c0002row7_col1\" class=\"data row7 col1\" >0.354493</td>\n",
              "                        <td id=\"T_40543e66_7b99_11ec_af70_0242ac1c0002row7_col2\" class=\"data row7 col2\" >1.037528</td>\n",
              "                        <td id=\"T_40543e66_7b99_11ec_af70_0242ac1c0002row7_col3\" class=\"data row7 col3\" >-0.385684</td>\n",
              "                        <td id=\"T_40543e66_7b99_11ec_af70_0242ac1c0002row7_col4\" class=\"data row7 col4\" >0.519818</td>\n",
              "            </tr>\n",
              "            <tr>\n",
              "                        <th id=\"T_40543e66_7b99_11ec_af70_0242ac1c0002level0_row8\" class=\"row_heading level0 row8\" >8</th>\n",
              "                        <td id=\"T_40543e66_7b99_11ec_af70_0242ac1c0002row8_col0\" class=\"data row8 col0\" >9.000000</td>\n",
              "                        <td id=\"T_40543e66_7b99_11ec_af70_0242ac1c0002row8_col1\" class=\"data row8 col1\" >1.686583</td>\n",
              "                        <td id=\"T_40543e66_7b99_11ec_af70_0242ac1c0002row8_col2\" class=\"data row8 col2\" >-1.325963</td>\n",
              "                        <td id=\"T_40543e66_7b99_11ec_af70_0242ac1c0002row8_col3\" class=\"data row8 col3\" >1.428984</td>\n",
              "                        <td id=\"T_40543e66_7b99_11ec_af70_0242ac1c0002row8_col4\" class=\"data row8 col4\" >-2.089354</td>\n",
              "            </tr>\n",
              "            <tr>\n",
              "                        <th id=\"T_40543e66_7b99_11ec_af70_0242ac1c0002level0_row9\" class=\"row_heading level0 row9\" >9</th>\n",
              "                        <td id=\"T_40543e66_7b99_11ec_af70_0242ac1c0002row9_col0\" class=\"data row9 col0\" >10.000000</td>\n",
              "                        <td id=\"T_40543e66_7b99_11ec_af70_0242ac1c0002row9_col1\" class=\"data row9 col1\" >-0.129820</td>\n",
              "                        <td id=\"T_40543e66_7b99_11ec_af70_0242ac1c0002row9_col2\" class=\"data row9 col2\" >0.631523</td>\n",
              "                        <td id=\"T_40543e66_7b99_11ec_af70_0242ac1c0002row9_col3\" class=\"data row9 col3\" >-0.586538</td>\n",
              "                        <td id=\"T_40543e66_7b99_11ec_af70_0242ac1c0002row9_col4\" class=\"data row9 col4\" >0.290720</td>\n",
              "            </tr>\n",
              "    </tbody></table>"
            ],
            "text/plain": [
              "<pandas.io.formats.style.Styler at 0x7fd7ef485f90>"
            ]
          },
          "metadata": {},
          "execution_count": 47
        }
      ]
    },
    {
      "cell_type": "markdown",
      "source": [
        "39 Create a dataframe of ten rows, four columns with random values. Write a Pandas program to make a gradient color on all the values of the said dataframe."
      ],
      "metadata": {
        "id": "1nKxDr-gcDW1"
      }
    },
    {
      "cell_type": "code",
      "source": [
        "np.random.seed(24)\n",
        "df = pd.DataFrame({'A': np.linspace(1, 10, 10)})\n",
        "df = pd.concat([df, pd.DataFrame(np.random.randn(10, 4), columns=list('BCDE'))],\n",
        "               axis=1)\n",
        "print(\"Original array:\")\n",
        "print(df)\n",
        "print(\"\\nDataframe - Gradient color:\")\n",
        "df.style.background_gradient()"
      ],
      "metadata": {
        "colab": {
          "base_uri": "https://localhost:8080/",
          "height": 606
        },
        "id": "3b85xRJ1cBx5",
        "outputId": "a3bb7cdf-7e88-4ff5-e61f-02e6444e72e2"
      },
      "execution_count": null,
      "outputs": [
        {
          "output_type": "stream",
          "name": "stdout",
          "text": [
            "Original array:\n",
            "      A         B         C         D         E\n",
            "0   1.0  1.329212 -0.770033 -0.316280 -0.990810\n",
            "1   2.0 -1.070816 -1.438713  0.564417  0.295722\n",
            "2   3.0 -1.626404  0.219565  0.678805  1.889273\n",
            "3   4.0  0.961538  0.104011 -0.481165  0.850229\n",
            "4   5.0  1.453425  1.057737  0.165562  0.515018\n",
            "5   6.0 -1.336936  0.562861  1.392855 -0.063328\n",
            "6   7.0  0.121668  1.207603 -0.002040  1.627796\n",
            "7   8.0  0.354493  1.037528 -0.385684  0.519818\n",
            "8   9.0  1.686583 -1.325963  1.428984 -2.089354\n",
            "9  10.0 -0.129820  0.631523 -0.586538  0.290720\n",
            "\n",
            "Dataframe - Gradient color:\n"
          ]
        },
        {
          "output_type": "execute_result",
          "data": {
            "text/html": [
              "<style  type=\"text/css\" >\n",
              "#T_6547e812_7b99_11ec_af70_0242ac1c0002row0_col0,#T_6547e812_7b99_11ec_af70_0242ac1c0002row1_col2,#T_6547e812_7b99_11ec_af70_0242ac1c0002row2_col1,#T_6547e812_7b99_11ec_af70_0242ac1c0002row8_col4,#T_6547e812_7b99_11ec_af70_0242ac1c0002row9_col3{\n",
              "            background-color:  #fff7fb;\n",
              "            color:  #000000;\n",
              "        }#T_6547e812_7b99_11ec_af70_0242ac1c0002row0_col1{\n",
              "            background-color:  #045585;\n",
              "            color:  #f1f1f1;\n",
              "        }#T_6547e812_7b99_11ec_af70_0242ac1c0002row0_col2{\n",
              "            background-color:  #d0d1e6;\n",
              "            color:  #000000;\n",
              "        }#T_6547e812_7b99_11ec_af70_0242ac1c0002row0_col3{\n",
              "            background-color:  #eae6f1;\n",
              "            color:  #000000;\n",
              "        }#T_6547e812_7b99_11ec_af70_0242ac1c0002row0_col4{\n",
              "            background-color:  #c8cde4;\n",
              "            color:  #000000;\n",
              "        }#T_6547e812_7b99_11ec_af70_0242ac1c0002row1_col0{\n",
              "            background-color:  #eee9f3;\n",
              "            color:  #000000;\n",
              "        }#T_6547e812_7b99_11ec_af70_0242ac1c0002row1_col1{\n",
              "            background-color:  #e3e0ee;\n",
              "            color:  #000000;\n",
              "        }#T_6547e812_7b99_11ec_af70_0242ac1c0002row1_col3{\n",
              "            background-color:  #509ac6;\n",
              "            color:  #000000;\n",
              "        }#T_6547e812_7b99_11ec_af70_0242ac1c0002row1_col4,#T_6547e812_7b99_11ec_af70_0242ac1c0002row7_col1,#T_6547e812_7b99_11ec_af70_0242ac1c0002row9_col4{\n",
              "            background-color:  #4295c3;\n",
              "            color:  #000000;\n",
              "        }#T_6547e812_7b99_11ec_af70_0242ac1c0002row2_col0{\n",
              "            background-color:  #d7d6e9;\n",
              "            color:  #000000;\n",
              "        }#T_6547e812_7b99_11ec_af70_0242ac1c0002row2_col2,#T_6547e812_7b99_11ec_af70_0242ac1c0002row2_col3{\n",
              "            background-color:  #358fc0;\n",
              "            color:  #000000;\n",
              "        }#T_6547e812_7b99_11ec_af70_0242ac1c0002row2_col4,#T_6547e812_7b99_11ec_af70_0242ac1c0002row6_col2,#T_6547e812_7b99_11ec_af70_0242ac1c0002row8_col1,#T_6547e812_7b99_11ec_af70_0242ac1c0002row8_col3,#T_6547e812_7b99_11ec_af70_0242ac1c0002row9_col0{\n",
              "            background-color:  #023858;\n",
              "            color:  #f1f1f1;\n",
              "        }#T_6547e812_7b99_11ec_af70_0242ac1c0002row3_col0{\n",
              "            background-color:  #b4c4df;\n",
              "            color:  #000000;\n",
              "        }#T_6547e812_7b99_11ec_af70_0242ac1c0002row3_col1,#T_6547e812_7b99_11ec_af70_0242ac1c0002row7_col0{\n",
              "            background-color:  #056ba7;\n",
              "            color:  #f1f1f1;\n",
              "        }#T_6547e812_7b99_11ec_af70_0242ac1c0002row3_col2{\n",
              "            background-color:  #4a98c5;\n",
              "            color:  #000000;\n",
              "        }#T_6547e812_7b99_11ec_af70_0242ac1c0002row3_col3{\n",
              "            background-color:  #f7f0f7;\n",
              "            color:  #000000;\n",
              "        }#T_6547e812_7b99_11ec_af70_0242ac1c0002row3_col4{\n",
              "            background-color:  #0872b1;\n",
              "            color:  #f1f1f1;\n",
              "        }#T_6547e812_7b99_11ec_af70_0242ac1c0002row4_col0{\n",
              "            background-color:  #8bb2d4;\n",
              "            color:  #000000;\n",
              "        }#T_6547e812_7b99_11ec_af70_0242ac1c0002row4_col1{\n",
              "            background-color:  #034b76;\n",
              "            color:  #f1f1f1;\n",
              "        }#T_6547e812_7b99_11ec_af70_0242ac1c0002row4_col2{\n",
              "            background-color:  #03476f;\n",
              "            color:  #f1f1f1;\n",
              "        }#T_6547e812_7b99_11ec_af70_0242ac1c0002row4_col3{\n",
              "            background-color:  #a7bddb;\n",
              "            color:  #000000;\n",
              "        }#T_6547e812_7b99_11ec_af70_0242ac1c0002row4_col4,#T_6547e812_7b99_11ec_af70_0242ac1c0002row7_col4{\n",
              "            background-color:  #2a88bc;\n",
              "            color:  #000000;\n",
              "        }#T_6547e812_7b99_11ec_af70_0242ac1c0002row5_col0{\n",
              "            background-color:  #589ec8;\n",
              "            color:  #000000;\n",
              "        }#T_6547e812_7b99_11ec_af70_0242ac1c0002row5_col1{\n",
              "            background-color:  #f2ecf5;\n",
              "            color:  #000000;\n",
              "        }#T_6547e812_7b99_11ec_af70_0242ac1c0002row5_col2{\n",
              "            background-color:  #056fae;\n",
              "            color:  #f1f1f1;\n",
              "        }#T_6547e812_7b99_11ec_af70_0242ac1c0002row5_col3{\n",
              "            background-color:  #023c5f;\n",
              "            color:  #f1f1f1;\n",
              "        }#T_6547e812_7b99_11ec_af70_0242ac1c0002row5_col4{\n",
              "            background-color:  #6fa7ce;\n",
              "            color:  #000000;\n",
              "        }#T_6547e812_7b99_11ec_af70_0242ac1c0002row6_col0{\n",
              "            background-color:  #2685bb;\n",
              "            color:  #000000;\n",
              "        }#T_6547e812_7b99_11ec_af70_0242ac1c0002row6_col1{\n",
              "            background-color:  #65a3cb;\n",
              "            color:  #000000;\n",
              "        }#T_6547e812_7b99_11ec_af70_0242ac1c0002row6_col3{\n",
              "            background-color:  #c2cbe2;\n",
              "            color:  #000000;\n",
              "        }#T_6547e812_7b99_11ec_af70_0242ac1c0002row6_col4,#T_6547e812_7b99_11ec_af70_0242ac1c0002row7_col2{\n",
              "            background-color:  #034973;\n",
              "            color:  #f1f1f1;\n",
              "        }#T_6547e812_7b99_11ec_af70_0242ac1c0002row7_col3{\n",
              "            background-color:  #f0eaf4;\n",
              "            color:  #000000;\n",
              "        }#T_6547e812_7b99_11ec_af70_0242ac1c0002row8_col0{\n",
              "            background-color:  #045687;\n",
              "            color:  #f1f1f1;\n",
              "        }#T_6547e812_7b99_11ec_af70_0242ac1c0002row8_col2{\n",
              "            background-color:  #f9f2f8;\n",
              "            color:  #000000;\n",
              "        }#T_6547e812_7b99_11ec_af70_0242ac1c0002row9_col1{\n",
              "            background-color:  #88b1d4;\n",
              "            color:  #000000;\n",
              "        }#T_6547e812_7b99_11ec_af70_0242ac1c0002row9_col2{\n",
              "            background-color:  #056aa6;\n",
              "            color:  #f1f1f1;\n",
              "        }</style><table id=\"T_6547e812_7b99_11ec_af70_0242ac1c0002\" class=\"dataframe\"><thead>    <tr>        <th class=\"blank level0\" ></th>        <th class=\"col_heading level0 col0\" >A</th>        <th class=\"col_heading level0 col1\" >B</th>        <th class=\"col_heading level0 col2\" >C</th>        <th class=\"col_heading level0 col3\" >D</th>        <th class=\"col_heading level0 col4\" >E</th>    </tr></thead><tbody>\n",
              "                <tr>\n",
              "                        <th id=\"T_6547e812_7b99_11ec_af70_0242ac1c0002level0_row0\" class=\"row_heading level0 row0\" >0</th>\n",
              "                        <td id=\"T_6547e812_7b99_11ec_af70_0242ac1c0002row0_col0\" class=\"data row0 col0\" >1.000000</td>\n",
              "                        <td id=\"T_6547e812_7b99_11ec_af70_0242ac1c0002row0_col1\" class=\"data row0 col1\" >1.329212</td>\n",
              "                        <td id=\"T_6547e812_7b99_11ec_af70_0242ac1c0002row0_col2\" class=\"data row0 col2\" >-0.770033</td>\n",
              "                        <td id=\"T_6547e812_7b99_11ec_af70_0242ac1c0002row0_col3\" class=\"data row0 col3\" >-0.316280</td>\n",
              "                        <td id=\"T_6547e812_7b99_11ec_af70_0242ac1c0002row0_col4\" class=\"data row0 col4\" >-0.990810</td>\n",
              "            </tr>\n",
              "            <tr>\n",
              "                        <th id=\"T_6547e812_7b99_11ec_af70_0242ac1c0002level0_row1\" class=\"row_heading level0 row1\" >1</th>\n",
              "                        <td id=\"T_6547e812_7b99_11ec_af70_0242ac1c0002row1_col0\" class=\"data row1 col0\" >2.000000</td>\n",
              "                        <td id=\"T_6547e812_7b99_11ec_af70_0242ac1c0002row1_col1\" class=\"data row1 col1\" >-1.070816</td>\n",
              "                        <td id=\"T_6547e812_7b99_11ec_af70_0242ac1c0002row1_col2\" class=\"data row1 col2\" >-1.438713</td>\n",
              "                        <td id=\"T_6547e812_7b99_11ec_af70_0242ac1c0002row1_col3\" class=\"data row1 col3\" >0.564417</td>\n",
              "                        <td id=\"T_6547e812_7b99_11ec_af70_0242ac1c0002row1_col4\" class=\"data row1 col4\" >0.295722</td>\n",
              "            </tr>\n",
              "            <tr>\n",
              "                        <th id=\"T_6547e812_7b99_11ec_af70_0242ac1c0002level0_row2\" class=\"row_heading level0 row2\" >2</th>\n",
              "                        <td id=\"T_6547e812_7b99_11ec_af70_0242ac1c0002row2_col0\" class=\"data row2 col0\" >3.000000</td>\n",
              "                        <td id=\"T_6547e812_7b99_11ec_af70_0242ac1c0002row2_col1\" class=\"data row2 col1\" >-1.626404</td>\n",
              "                        <td id=\"T_6547e812_7b99_11ec_af70_0242ac1c0002row2_col2\" class=\"data row2 col2\" >0.219565</td>\n",
              "                        <td id=\"T_6547e812_7b99_11ec_af70_0242ac1c0002row2_col3\" class=\"data row2 col3\" >0.678805</td>\n",
              "                        <td id=\"T_6547e812_7b99_11ec_af70_0242ac1c0002row2_col4\" class=\"data row2 col4\" >1.889273</td>\n",
              "            </tr>\n",
              "            <tr>\n",
              "                        <th id=\"T_6547e812_7b99_11ec_af70_0242ac1c0002level0_row3\" class=\"row_heading level0 row3\" >3</th>\n",
              "                        <td id=\"T_6547e812_7b99_11ec_af70_0242ac1c0002row3_col0\" class=\"data row3 col0\" >4.000000</td>\n",
              "                        <td id=\"T_6547e812_7b99_11ec_af70_0242ac1c0002row3_col1\" class=\"data row3 col1\" >0.961538</td>\n",
              "                        <td id=\"T_6547e812_7b99_11ec_af70_0242ac1c0002row3_col2\" class=\"data row3 col2\" >0.104011</td>\n",
              "                        <td id=\"T_6547e812_7b99_11ec_af70_0242ac1c0002row3_col3\" class=\"data row3 col3\" >-0.481165</td>\n",
              "                        <td id=\"T_6547e812_7b99_11ec_af70_0242ac1c0002row3_col4\" class=\"data row3 col4\" >0.850229</td>\n",
              "            </tr>\n",
              "            <tr>\n",
              "                        <th id=\"T_6547e812_7b99_11ec_af70_0242ac1c0002level0_row4\" class=\"row_heading level0 row4\" >4</th>\n",
              "                        <td id=\"T_6547e812_7b99_11ec_af70_0242ac1c0002row4_col0\" class=\"data row4 col0\" >5.000000</td>\n",
              "                        <td id=\"T_6547e812_7b99_11ec_af70_0242ac1c0002row4_col1\" class=\"data row4 col1\" >1.453425</td>\n",
              "                        <td id=\"T_6547e812_7b99_11ec_af70_0242ac1c0002row4_col2\" class=\"data row4 col2\" >1.057737</td>\n",
              "                        <td id=\"T_6547e812_7b99_11ec_af70_0242ac1c0002row4_col3\" class=\"data row4 col3\" >0.165562</td>\n",
              "                        <td id=\"T_6547e812_7b99_11ec_af70_0242ac1c0002row4_col4\" class=\"data row4 col4\" >0.515018</td>\n",
              "            </tr>\n",
              "            <tr>\n",
              "                        <th id=\"T_6547e812_7b99_11ec_af70_0242ac1c0002level0_row5\" class=\"row_heading level0 row5\" >5</th>\n",
              "                        <td id=\"T_6547e812_7b99_11ec_af70_0242ac1c0002row5_col0\" class=\"data row5 col0\" >6.000000</td>\n",
              "                        <td id=\"T_6547e812_7b99_11ec_af70_0242ac1c0002row5_col1\" class=\"data row5 col1\" >-1.336936</td>\n",
              "                        <td id=\"T_6547e812_7b99_11ec_af70_0242ac1c0002row5_col2\" class=\"data row5 col2\" >0.562861</td>\n",
              "                        <td id=\"T_6547e812_7b99_11ec_af70_0242ac1c0002row5_col3\" class=\"data row5 col3\" >1.392855</td>\n",
              "                        <td id=\"T_6547e812_7b99_11ec_af70_0242ac1c0002row5_col4\" class=\"data row5 col4\" >-0.063328</td>\n",
              "            </tr>\n",
              "            <tr>\n",
              "                        <th id=\"T_6547e812_7b99_11ec_af70_0242ac1c0002level0_row6\" class=\"row_heading level0 row6\" >6</th>\n",
              "                        <td id=\"T_6547e812_7b99_11ec_af70_0242ac1c0002row6_col0\" class=\"data row6 col0\" >7.000000</td>\n",
              "                        <td id=\"T_6547e812_7b99_11ec_af70_0242ac1c0002row6_col1\" class=\"data row6 col1\" >0.121668</td>\n",
              "                        <td id=\"T_6547e812_7b99_11ec_af70_0242ac1c0002row6_col2\" class=\"data row6 col2\" >1.207603</td>\n",
              "                        <td id=\"T_6547e812_7b99_11ec_af70_0242ac1c0002row6_col3\" class=\"data row6 col3\" >-0.002040</td>\n",
              "                        <td id=\"T_6547e812_7b99_11ec_af70_0242ac1c0002row6_col4\" class=\"data row6 col4\" >1.627796</td>\n",
              "            </tr>\n",
              "            <tr>\n",
              "                        <th id=\"T_6547e812_7b99_11ec_af70_0242ac1c0002level0_row7\" class=\"row_heading level0 row7\" >7</th>\n",
              "                        <td id=\"T_6547e812_7b99_11ec_af70_0242ac1c0002row7_col0\" class=\"data row7 col0\" >8.000000</td>\n",
              "                        <td id=\"T_6547e812_7b99_11ec_af70_0242ac1c0002row7_col1\" class=\"data row7 col1\" >0.354493</td>\n",
              "                        <td id=\"T_6547e812_7b99_11ec_af70_0242ac1c0002row7_col2\" class=\"data row7 col2\" >1.037528</td>\n",
              "                        <td id=\"T_6547e812_7b99_11ec_af70_0242ac1c0002row7_col3\" class=\"data row7 col3\" >-0.385684</td>\n",
              "                        <td id=\"T_6547e812_7b99_11ec_af70_0242ac1c0002row7_col4\" class=\"data row7 col4\" >0.519818</td>\n",
              "            </tr>\n",
              "            <tr>\n",
              "                        <th id=\"T_6547e812_7b99_11ec_af70_0242ac1c0002level0_row8\" class=\"row_heading level0 row8\" >8</th>\n",
              "                        <td id=\"T_6547e812_7b99_11ec_af70_0242ac1c0002row8_col0\" class=\"data row8 col0\" >9.000000</td>\n",
              "                        <td id=\"T_6547e812_7b99_11ec_af70_0242ac1c0002row8_col1\" class=\"data row8 col1\" >1.686583</td>\n",
              "                        <td id=\"T_6547e812_7b99_11ec_af70_0242ac1c0002row8_col2\" class=\"data row8 col2\" >-1.325963</td>\n",
              "                        <td id=\"T_6547e812_7b99_11ec_af70_0242ac1c0002row8_col3\" class=\"data row8 col3\" >1.428984</td>\n",
              "                        <td id=\"T_6547e812_7b99_11ec_af70_0242ac1c0002row8_col4\" class=\"data row8 col4\" >-2.089354</td>\n",
              "            </tr>\n",
              "            <tr>\n",
              "                        <th id=\"T_6547e812_7b99_11ec_af70_0242ac1c0002level0_row9\" class=\"row_heading level0 row9\" >9</th>\n",
              "                        <td id=\"T_6547e812_7b99_11ec_af70_0242ac1c0002row9_col0\" class=\"data row9 col0\" >10.000000</td>\n",
              "                        <td id=\"T_6547e812_7b99_11ec_af70_0242ac1c0002row9_col1\" class=\"data row9 col1\" >-0.129820</td>\n",
              "                        <td id=\"T_6547e812_7b99_11ec_af70_0242ac1c0002row9_col2\" class=\"data row9 col2\" >0.631523</td>\n",
              "                        <td id=\"T_6547e812_7b99_11ec_af70_0242ac1c0002row9_col3\" class=\"data row9 col3\" >-0.586538</td>\n",
              "                        <td id=\"T_6547e812_7b99_11ec_af70_0242ac1c0002row9_col4\" class=\"data row9 col4\" >0.290720</td>\n",
              "            </tr>\n",
              "    </tbody></table>"
            ],
            "text/plain": [
              "<pandas.io.formats.style.Styler at 0x7fd7fe09e910>"
            ]
          },
          "metadata": {},
          "execution_count": 48
        }
      ]
    },
    {
      "cell_type": "markdown",
      "source": [
        "40 Create a dataframe of ten rows, four columns with random values. Write a Pandas program to display the dataframe in table style and border around the table and not around the rows."
      ],
      "metadata": {
        "id": "5a4shyE9cUvA"
      }
    },
    {
      "cell_type": "code",
      "source": [
        "np.random.seed(24)\n",
        "df = pd.DataFrame({'A': np.linspace(1, 10, 10)})\n",
        "df = pd.concat([df, pd.DataFrame(np.random.randn(10, 4), columns=list('BCDE'))],\n",
        "               axis=1)\n",
        "df.iloc[0, 2] = np.nan\n",
        "df.iloc[3, 3] = np.nan\n",
        "df.iloc[4, 1] = np.nan\n",
        "df.iloc[9, 4] = np.nan\n",
        "print(\"Original array:\")\n",
        "print(df)\n",
        "print(\"\\nDataframe - table style and border around the table and not around the rows:\")\n",
        "df.style.set_table_styles([{'selector':'','props':[('border','4px solid #7a7')]}])"
      ],
      "metadata": {
        "colab": {
          "base_uri": "https://localhost:8080/",
          "height": 614
        },
        "id": "zIDXM8MEcQHt",
        "outputId": "d9923e75-5bd1-41dc-f613-a1fa6835e94d"
      },
      "execution_count": null,
      "outputs": [
        {
          "output_type": "stream",
          "name": "stdout",
          "text": [
            "Original array:\n",
            "      A         B         C         D         E\n",
            "0   1.0  1.329212       NaN -0.316280 -0.990810\n",
            "1   2.0 -1.070816 -1.438713  0.564417  0.295722\n",
            "2   3.0 -1.626404  0.219565  0.678805  1.889273\n",
            "3   4.0  0.961538  0.104011       NaN  0.850229\n",
            "4   5.0       NaN  1.057737  0.165562  0.515018\n",
            "5   6.0 -1.336936  0.562861  1.392855 -0.063328\n",
            "6   7.0  0.121668  1.207603 -0.002040  1.627796\n",
            "7   8.0  0.354493  1.037528 -0.385684  0.519818\n",
            "8   9.0  1.686583 -1.325963  1.428984 -2.089354\n",
            "9  10.0 -0.129820  0.631523 -0.586538       NaN\n",
            "\n",
            "Dataframe - table style and border around the table and not around the rows:\n"
          ]
        },
        {
          "output_type": "execute_result",
          "data": {
            "text/html": [
              "<style  type=\"text/css\" >\n",
              "    #T_7e9927b8_7b99_11ec_af70_0242ac1c0002  {\n",
              "          border: 4px solid #7a7;\n",
              "    }</style><table id=\"T_7e9927b8_7b99_11ec_af70_0242ac1c0002\" class=\"dataframe\"><thead>    <tr>        <th class=\"blank level0\" ></th>        <th class=\"col_heading level0 col0\" >A</th>        <th class=\"col_heading level0 col1\" >B</th>        <th class=\"col_heading level0 col2\" >C</th>        <th class=\"col_heading level0 col3\" >D</th>        <th class=\"col_heading level0 col4\" >E</th>    </tr></thead><tbody>\n",
              "                <tr>\n",
              "                        <th id=\"T_7e9927b8_7b99_11ec_af70_0242ac1c0002level0_row0\" class=\"row_heading level0 row0\" >0</th>\n",
              "                        <td id=\"T_7e9927b8_7b99_11ec_af70_0242ac1c0002row0_col0\" class=\"data row0 col0\" >1.000000</td>\n",
              "                        <td id=\"T_7e9927b8_7b99_11ec_af70_0242ac1c0002row0_col1\" class=\"data row0 col1\" >1.329212</td>\n",
              "                        <td id=\"T_7e9927b8_7b99_11ec_af70_0242ac1c0002row0_col2\" class=\"data row0 col2\" >nan</td>\n",
              "                        <td id=\"T_7e9927b8_7b99_11ec_af70_0242ac1c0002row0_col3\" class=\"data row0 col3\" >-0.316280</td>\n",
              "                        <td id=\"T_7e9927b8_7b99_11ec_af70_0242ac1c0002row0_col4\" class=\"data row0 col4\" >-0.990810</td>\n",
              "            </tr>\n",
              "            <tr>\n",
              "                        <th id=\"T_7e9927b8_7b99_11ec_af70_0242ac1c0002level0_row1\" class=\"row_heading level0 row1\" >1</th>\n",
              "                        <td id=\"T_7e9927b8_7b99_11ec_af70_0242ac1c0002row1_col0\" class=\"data row1 col0\" >2.000000</td>\n",
              "                        <td id=\"T_7e9927b8_7b99_11ec_af70_0242ac1c0002row1_col1\" class=\"data row1 col1\" >-1.070816</td>\n",
              "                        <td id=\"T_7e9927b8_7b99_11ec_af70_0242ac1c0002row1_col2\" class=\"data row1 col2\" >-1.438713</td>\n",
              "                        <td id=\"T_7e9927b8_7b99_11ec_af70_0242ac1c0002row1_col3\" class=\"data row1 col3\" >0.564417</td>\n",
              "                        <td id=\"T_7e9927b8_7b99_11ec_af70_0242ac1c0002row1_col4\" class=\"data row1 col4\" >0.295722</td>\n",
              "            </tr>\n",
              "            <tr>\n",
              "                        <th id=\"T_7e9927b8_7b99_11ec_af70_0242ac1c0002level0_row2\" class=\"row_heading level0 row2\" >2</th>\n",
              "                        <td id=\"T_7e9927b8_7b99_11ec_af70_0242ac1c0002row2_col0\" class=\"data row2 col0\" >3.000000</td>\n",
              "                        <td id=\"T_7e9927b8_7b99_11ec_af70_0242ac1c0002row2_col1\" class=\"data row2 col1\" >-1.626404</td>\n",
              "                        <td id=\"T_7e9927b8_7b99_11ec_af70_0242ac1c0002row2_col2\" class=\"data row2 col2\" >0.219565</td>\n",
              "                        <td id=\"T_7e9927b8_7b99_11ec_af70_0242ac1c0002row2_col3\" class=\"data row2 col3\" >0.678805</td>\n",
              "                        <td id=\"T_7e9927b8_7b99_11ec_af70_0242ac1c0002row2_col4\" class=\"data row2 col4\" >1.889273</td>\n",
              "            </tr>\n",
              "            <tr>\n",
              "                        <th id=\"T_7e9927b8_7b99_11ec_af70_0242ac1c0002level0_row3\" class=\"row_heading level0 row3\" >3</th>\n",
              "                        <td id=\"T_7e9927b8_7b99_11ec_af70_0242ac1c0002row3_col0\" class=\"data row3 col0\" >4.000000</td>\n",
              "                        <td id=\"T_7e9927b8_7b99_11ec_af70_0242ac1c0002row3_col1\" class=\"data row3 col1\" >0.961538</td>\n",
              "                        <td id=\"T_7e9927b8_7b99_11ec_af70_0242ac1c0002row3_col2\" class=\"data row3 col2\" >0.104011</td>\n",
              "                        <td id=\"T_7e9927b8_7b99_11ec_af70_0242ac1c0002row3_col3\" class=\"data row3 col3\" >nan</td>\n",
              "                        <td id=\"T_7e9927b8_7b99_11ec_af70_0242ac1c0002row3_col4\" class=\"data row3 col4\" >0.850229</td>\n",
              "            </tr>\n",
              "            <tr>\n",
              "                        <th id=\"T_7e9927b8_7b99_11ec_af70_0242ac1c0002level0_row4\" class=\"row_heading level0 row4\" >4</th>\n",
              "                        <td id=\"T_7e9927b8_7b99_11ec_af70_0242ac1c0002row4_col0\" class=\"data row4 col0\" >5.000000</td>\n",
              "                        <td id=\"T_7e9927b8_7b99_11ec_af70_0242ac1c0002row4_col1\" class=\"data row4 col1\" >nan</td>\n",
              "                        <td id=\"T_7e9927b8_7b99_11ec_af70_0242ac1c0002row4_col2\" class=\"data row4 col2\" >1.057737</td>\n",
              "                        <td id=\"T_7e9927b8_7b99_11ec_af70_0242ac1c0002row4_col3\" class=\"data row4 col3\" >0.165562</td>\n",
              "                        <td id=\"T_7e9927b8_7b99_11ec_af70_0242ac1c0002row4_col4\" class=\"data row4 col4\" >0.515018</td>\n",
              "            </tr>\n",
              "            <tr>\n",
              "                        <th id=\"T_7e9927b8_7b99_11ec_af70_0242ac1c0002level0_row5\" class=\"row_heading level0 row5\" >5</th>\n",
              "                        <td id=\"T_7e9927b8_7b99_11ec_af70_0242ac1c0002row5_col0\" class=\"data row5 col0\" >6.000000</td>\n",
              "                        <td id=\"T_7e9927b8_7b99_11ec_af70_0242ac1c0002row5_col1\" class=\"data row5 col1\" >-1.336936</td>\n",
              "                        <td id=\"T_7e9927b8_7b99_11ec_af70_0242ac1c0002row5_col2\" class=\"data row5 col2\" >0.562861</td>\n",
              "                        <td id=\"T_7e9927b8_7b99_11ec_af70_0242ac1c0002row5_col3\" class=\"data row5 col3\" >1.392855</td>\n",
              "                        <td id=\"T_7e9927b8_7b99_11ec_af70_0242ac1c0002row5_col4\" class=\"data row5 col4\" >-0.063328</td>\n",
              "            </tr>\n",
              "            <tr>\n",
              "                        <th id=\"T_7e9927b8_7b99_11ec_af70_0242ac1c0002level0_row6\" class=\"row_heading level0 row6\" >6</th>\n",
              "                        <td id=\"T_7e9927b8_7b99_11ec_af70_0242ac1c0002row6_col0\" class=\"data row6 col0\" >7.000000</td>\n",
              "                        <td id=\"T_7e9927b8_7b99_11ec_af70_0242ac1c0002row6_col1\" class=\"data row6 col1\" >0.121668</td>\n",
              "                        <td id=\"T_7e9927b8_7b99_11ec_af70_0242ac1c0002row6_col2\" class=\"data row6 col2\" >1.207603</td>\n",
              "                        <td id=\"T_7e9927b8_7b99_11ec_af70_0242ac1c0002row6_col3\" class=\"data row6 col3\" >-0.002040</td>\n",
              "                        <td id=\"T_7e9927b8_7b99_11ec_af70_0242ac1c0002row6_col4\" class=\"data row6 col4\" >1.627796</td>\n",
              "            </tr>\n",
              "            <tr>\n",
              "                        <th id=\"T_7e9927b8_7b99_11ec_af70_0242ac1c0002level0_row7\" class=\"row_heading level0 row7\" >7</th>\n",
              "                        <td id=\"T_7e9927b8_7b99_11ec_af70_0242ac1c0002row7_col0\" class=\"data row7 col0\" >8.000000</td>\n",
              "                        <td id=\"T_7e9927b8_7b99_11ec_af70_0242ac1c0002row7_col1\" class=\"data row7 col1\" >0.354493</td>\n",
              "                        <td id=\"T_7e9927b8_7b99_11ec_af70_0242ac1c0002row7_col2\" class=\"data row7 col2\" >1.037528</td>\n",
              "                        <td id=\"T_7e9927b8_7b99_11ec_af70_0242ac1c0002row7_col3\" class=\"data row7 col3\" >-0.385684</td>\n",
              "                        <td id=\"T_7e9927b8_7b99_11ec_af70_0242ac1c0002row7_col4\" class=\"data row7 col4\" >0.519818</td>\n",
              "            </tr>\n",
              "            <tr>\n",
              "                        <th id=\"T_7e9927b8_7b99_11ec_af70_0242ac1c0002level0_row8\" class=\"row_heading level0 row8\" >8</th>\n",
              "                        <td id=\"T_7e9927b8_7b99_11ec_af70_0242ac1c0002row8_col0\" class=\"data row8 col0\" >9.000000</td>\n",
              "                        <td id=\"T_7e9927b8_7b99_11ec_af70_0242ac1c0002row8_col1\" class=\"data row8 col1\" >1.686583</td>\n",
              "                        <td id=\"T_7e9927b8_7b99_11ec_af70_0242ac1c0002row8_col2\" class=\"data row8 col2\" >-1.325963</td>\n",
              "                        <td id=\"T_7e9927b8_7b99_11ec_af70_0242ac1c0002row8_col3\" class=\"data row8 col3\" >1.428984</td>\n",
              "                        <td id=\"T_7e9927b8_7b99_11ec_af70_0242ac1c0002row8_col4\" class=\"data row8 col4\" >-2.089354</td>\n",
              "            </tr>\n",
              "            <tr>\n",
              "                        <th id=\"T_7e9927b8_7b99_11ec_af70_0242ac1c0002level0_row9\" class=\"row_heading level0 row9\" >9</th>\n",
              "                        <td id=\"T_7e9927b8_7b99_11ec_af70_0242ac1c0002row9_col0\" class=\"data row9 col0\" >10.000000</td>\n",
              "                        <td id=\"T_7e9927b8_7b99_11ec_af70_0242ac1c0002row9_col1\" class=\"data row9 col1\" >-0.129820</td>\n",
              "                        <td id=\"T_7e9927b8_7b99_11ec_af70_0242ac1c0002row9_col2\" class=\"data row9 col2\" >0.631523</td>\n",
              "                        <td id=\"T_7e9927b8_7b99_11ec_af70_0242ac1c0002row9_col3\" class=\"data row9 col3\" >-0.586538</td>\n",
              "                        <td id=\"T_7e9927b8_7b99_11ec_af70_0242ac1c0002row9_col4\" class=\"data row9 col4\" >nan</td>\n",
              "            </tr>\n",
              "    </tbody></table>"
            ],
            "text/plain": [
              "<pandas.io.formats.style.Styler at 0x7fd7ef4cad90>"
            ]
          },
          "metadata": {},
          "execution_count": 49
        }
      ]
    },
    {
      "cell_type": "markdown",
      "source": [
        "41 Write a Pandas program to import sheet2 data from a given excel data (employee.xlsx ) into a Pandas dataframe."
      ],
      "metadata": {
        "id": "FPxDD3Wxd29L"
      }
    },
    {
      "cell_type": "code",
      "source": [
        "df = pd.read_excel('/content/employee.xlsx',sheet_name=1)\n",
        "print(df)"
      ],
      "metadata": {
        "colab": {
          "base_uri": "https://localhost:8080/"
        },
        "id": "7nJuyJXscbCa",
        "outputId": "d8f66f08-2cb7-4c58-f770-2419e5fe6b6f"
      },
      "execution_count": null,
      "outputs": [
        {
          "output_type": "stream",
          "name": "stdout",
          "text": [
            "    emp_id first_name    last_name  hire_date\n",
            "0      120    Matthew        Weiss 2004-07-18\n",
            "1      121       Adam        Fripp 2005-04-10\n",
            "2      122      Payam     Kaufling 2003-05-01\n",
            "3      123     Shanta      Vollman 2005-10-10\n",
            "4      124      Kevin      Mourgos 2007-11-16\n",
            "5      125      Julia        Nayer 2005-07-16\n",
            "6      126      Irene  Mikkilineni 2006-09-28\n",
            "7      127      James       Landry 2007-01-14\n",
            "8      128     Steven       Markle 2008-03-08\n",
            "9      129      Laura       Bissot 2005-08-20\n",
            "10     130      Mozhe     Atkinson 2005-10-30\n",
            "11     131      James       Marlow 2005-02-16\n",
            "12     132         TJ        Olson 2007-04-10\n",
            "13     133      Jason       Mallin 2004-06-14\n",
            "14     134    Michael       Rogers 2006-08-26\n",
            "15     135         Ki          Gee 2007-12-12\n",
            "16     136      Hazel   Philtanker 2008-02-06\n",
            "17     137     Renske       Ladwig 2003-07-14\n",
            "18     138    Stephen       Stiles 2005-10-26\n"
          ]
        }
      ]
    },
    {
      "cell_type": "markdown",
      "source": [
        "42 Write a Pandas program to import three datasheets from a given excel data (employee.xlsx ) and combine in to a single dataframe."
      ],
      "metadata": {
        "id": "YPRi_OTYeBRL"
      }
    },
    {
      "cell_type": "code",
      "source": [
        "df1 = pd.read_excel('/content/employee.xlsx',sheet_name=0)\n",
        "df2 = pd.read_excel('/content/employee.xlsx',sheet_name=1)\n",
        "df3 = pd.read_excel('/content/employee.xlsx',sheet_name=2)\n",
        "df = pd.concat([df1, df2, df3])\n",
        "print(df)"
      ],
      "metadata": {
        "colab": {
          "base_uri": "https://localhost:8080/"
        },
        "id": "I0xDop5heAJL",
        "outputId": "3af61c5b-d3e0-4e86-e150-4ea192fe8d4a"
      },
      "execution_count": null,
      "outputs": [
        {
          "output_type": "stream",
          "name": "stdout",
          "text": [
            "    emp_id   first_name    last_name  hire_date\n",
            "0      100       Steven         King 2003-06-17\n",
            "1      101        Neena      Kochhar 2005-09-21\n",
            "2      102          Lex      De Haan 2001-01-13\n",
            "3      103    Alexander       Hunold 2006-01-03\n",
            "4      104        Bruce        Ernst 2007-05-21\n",
            "5      105        David       Austin 2005-06-25\n",
            "6      106        Valli    Pataballa 2006-02-05\n",
            "7      107        Diana      Lorentz 2007-02-07\n",
            "8      108        Nancy    Greenberg 2002-08-17\n",
            "9      109       Daniel       Faviet 2002-08-16\n",
            "10     110         John         Chen 2005-09-28\n",
            "11     111       Ismael      Sciarra 2005-09-30\n",
            "12     112  Jose Manuel        Urman 2006-03-07\n",
            "13     113         Luis         Popp 2007-12-07\n",
            "14     114          Den     Raphaely 2002-12-07\n",
            "15     115    Alexander         Khoo 2003-05-18\n",
            "16     116       Shelli        Baida 2005-12-24\n",
            "17     117        Sigal       Tobias 2005-07-24\n",
            "18     118          Guy       Himuro 2006-11-15\n",
            "19     119        Karen   Colmenares 2007-08-10\n",
            "0      120      Matthew        Weiss 2004-07-18\n",
            "1      121         Adam        Fripp 2005-04-10\n",
            "2      122        Payam     Kaufling 2003-05-01\n",
            "3      123       Shanta      Vollman 2005-10-10\n",
            "4      124        Kevin      Mourgos 2007-11-16\n",
            "5      125        Julia        Nayer 2005-07-16\n",
            "6      126        Irene  Mikkilineni 2006-09-28\n",
            "7      127        James       Landry 2007-01-14\n",
            "8      128       Steven       Markle 2008-03-08\n",
            "9      129        Laura       Bissot 2005-08-20\n",
            "10     130        Mozhe     Atkinson 2005-10-30\n",
            "11     131        James       Marlow 2005-02-16\n",
            "12     132           TJ        Olson 2007-04-10\n",
            "13     133        Jason       Mallin 2004-06-14\n",
            "14     134      Michael       Rogers 2006-08-26\n",
            "15     135           Ki          Gee 2007-12-12\n",
            "16     136        Hazel   Philtanker 2008-02-06\n",
            "17     137       Renske       Ladwig 2003-07-14\n",
            "18     138      Stephen       Stiles 2005-10-26\n",
            "0      141       Trenna         Rajs 2003-10-17\n",
            "1      142       Curtis       Davies 2005-01-29\n",
            "2      143      Randall        Matos 2006-03-15\n",
            "3      144        Peter       Vargas 2006-07-09\n",
            "4      145         John      Russell 2004-10-01\n",
            "5      146        Karen     Partners 2005-01-05\n",
            "6      147      Alberto    Errazuriz 2005-03-10\n",
            "7      148       Gerald    Cambrault 2007-10-15\n",
            "8      149        Eleni      Zlotkey 2008-01-29\n"
          ]
        }
      ]
    },
    {
      "cell_type": "markdown",
      "source": [
        "43 Write a Pandas program to import excel data (coalpublic2013.xlsx ) into a dataframe and draw a bar plot where each bar will represent one of the top 10 production."
      ],
      "metadata": {
        "id": "vRq6wSsye4GO"
      }
    },
    {
      "cell_type": "code",
      "source": [
        "df = pd.read_excel('/content/coalpublic2013.xlsx')\n",
        "sorted_by_production = df.sort_values(['Production'], ascending=False).head(10)\n",
        "sorted_by_production['Production'].head(10).plot(kind=\"pie\")\n",
        "plt.show()"
      ],
      "metadata": {
        "colab": {
          "base_uri": "https://localhost:8080/",
          "height": 248
        },
        "id": "aaMppuDqeXy2",
        "outputId": "7e349b75-fd13-48f5-ecec-f480567959bc"
      },
      "execution_count": null,
      "outputs": [
        {
          "output_type": "display_data",
          "data": {
            "image/png": "[encoded data removed]",
            "text/plain": [
              "<Figure size 432x288 with 1 Axes>"
            ]
          },
          "metadata": {}
        }
      ]
    },
    {
      "cell_type": "markdown",
      "source": [
        "44 Write a Pandas program to import excel data (coalpublic2013.xlsx ) into a dataframe and draw a bar plot comparing year, MSHA ID, Production and Labor_hours of first ten records. "
      ],
      "metadata": {
        "id": "1EKgXOc8fWwU"
      }
    },
    {
      "cell_type": "code",
      "source": [
        "df = pd.read_excel('/content/coalpublic2013.xlsx')\n",
        "df.head(10).plot(kind='bar', figsize=(20,8))\n",
        "plt.show()"
      ],
      "metadata": {
        "colab": {
          "base_uri": "https://localhost:8080/",
          "height": 404
        },
        "id": "cCnlAKn9fII3",
        "outputId": "9e2be9d4-9317-4dbf-e4b3-7f5bbbbd189c"
      },
      "execution_count": null,
      "outputs": [
        {
          "output_type": "display_data",
          "data": {
            "image/png": "[encoded data removed]",
            "text/plain": [
              "<Figure size 1440x576 with 1 Axes>"
            ]
          },
          "metadata": {
            "needs_background": "light"
          }
        }
      ]
    },
    {
      "cell_type": "markdown",
      "source": [
        "45 Write a Pandas program to import three datasheets from a given excel data (employee.xlsx ) into a single dataframe and export the result into new Excel file. "
      ],
      "metadata": {
        "id": "tYdhg-B5fkk8"
      }
    },
    {
      "cell_type": "code",
      "source": [
        "df1 = pd.read_excel('/content/employee.xlsx',sheet_name=0)\n",
        "df2 = pd.read_excel('/content/employee.xlsx',sheet_name=1)\n",
        "df3 = pd.read_excel('/content/employee.xlsx',sheet_name=2)\n",
        "df = pd.concat([df1, df2, df3])\n",
        "df.to_excel('/content/output.xlsx', index=False)"
      ],
      "metadata": {
        "id": "BpCNgpZdfiqs"
      },
      "execution_count": null,
      "outputs": []
    },
    {
      "cell_type": "markdown",
      "source": [
        "46  Write a Pandas program to create a Pivot table and find number of survivors and average rate grouped by gender and class."
      ],
      "metadata": {
        "id": "4t4tqhyDlFoO"
      }
    },
    {
      "cell_type": "code",
      "source": [
        "df = pd.read_csv('/content/titanic (1).csv')\n",
        "result = df.pivot_table(index='sex', columns='class', aggfunc={'survived':sum, 'fare':'mean'})\n",
        "print(result)"
      ],
      "metadata": {
        "colab": {
          "base_uri": "https://localhost:8080/"
        },
        "id": "4BMsKnBPf1G9",
        "outputId": "24f3b288-b759-4124-f464-f713e7707d22"
      },
      "execution_count": null,
      "outputs": [
        {
          "output_type": "stream",
          "name": "stdout",
          "text": [
            "              fare                       survived             \n",
            "class        First     Second      Third    First Second Third\n",
            "sex                                                           \n",
            "female  106.125798  21.970121  16.118810       91     70    72\n",
            "male     67.226127  19.741782  12.661633       45     17    47\n"
          ]
        }
      ]
    },
    {
      "cell_type": "markdown",
      "source": [
        "47 Write a Pandas program to create a Pivot table and find number of adult male, adult female and children."
      ],
      "metadata": {
        "id": "QdEhlxBVl7-i"
      }
    },
    {
      "cell_type": "code",
      "source": [
        "df = pd.read_csv('/content/titanic (1).csv')\n",
        "result = df.pivot_table('sex',  'who', aggfunc = 'count')\n",
        "print(result)"
      ],
      "metadata": {
        "colab": {
          "base_uri": "https://localhost:8080/"
        },
        "id": "yQ7EzAskla6C",
        "outputId": "06962df2-86b3-4783-8a32-ab76bbdfcc09"
      },
      "execution_count": null,
      "outputs": [
        {
          "output_type": "stream",
          "name": "stdout",
          "text": [
            "       sex\n",
            "who       \n",
            "child   83\n",
            "man    537\n",
            "woman  271\n"
          ]
        }
      ]
    },
    {
      "cell_type": "markdown",
      "source": [
        "48 Write a Pandas program to create a Pivot table and check missing values of children."
      ],
      "metadata": {
        "id": "ea_G9LLlmHBc"
      }
    },
    {
      "cell_type": "code",
      "source": [
        "df = pd.read_csv('/content/titanic (1).csv')\n",
        "result = df.loc[df['who']=='child'].isnull().sum()\n",
        "print(result)"
      ],
      "metadata": {
        "colab": {
          "base_uri": "https://localhost:8080/"
        },
        "id": "XGNR5bRXmGJ9",
        "outputId": "182d8290-c036-4d47-cc51-90ddce75a0f3"
      },
      "execution_count": null,
      "outputs": [
        {
          "output_type": "stream",
          "name": "stdout",
          "text": [
            "survived        0\n",
            "pclass          0\n",
            "sex             0\n",
            "age             0\n",
            "sibsp           0\n",
            "parch           0\n",
            "fare            0\n",
            "embarked        0\n",
            "class           0\n",
            "who             0\n",
            "adult_male      0\n",
            "deck           70\n",
            "embark_town     0\n",
            "alive           0\n",
            "alone           0\n",
            "Unnamed: 15    83\n",
            "dtype: int64\n"
          ]
        }
      ]
    },
    {
      "cell_type": "markdown",
      "source": [
        "49  Write a Pandas program to create a Pivot table and separate the gender according to whether they traveled alone or not to get the probability of survival."
      ],
      "metadata": {
        "id": "VcZHxNpQmT7s"
      }
    },
    {
      "cell_type": "code",
      "source": [
        "df = pd.read_csv('/content/titanic (1).csv')\n",
        "result = df.pivot_table( 'survived' , [ 'sex' , 'alone' ] , 'class' )\n",
        "print(result)"
      ],
      "metadata": {
        "colab": {
          "base_uri": "https://localhost:8080/"
        },
        "id": "7u96ceUomQqF",
        "outputId": "b9e36ac7-8a78-400a-bae9-21f686f33167"
      },
      "execution_count": null,
      "outputs": [
        {
          "output_type": "stream",
          "name": "stdout",
          "text": [
            "class            First    Second     Third\n",
            "sex    alone                              \n",
            "female False  0.966667  0.931818  0.416667\n",
            "       True   0.970588  0.906250  0.616667\n",
            "male   False  0.425532  0.277778  0.180723\n",
            "       True   0.333333  0.097222  0.121212\n"
          ]
        }
      ]
    },
    {
      "cell_type": "markdown",
      "source": [
        "50 Write a Pandas program to create a Pivot table and find the probability of survival by class, gender, solo boarding and port of embarkation."
      ],
      "metadata": {
        "id": "t9GeyyqNmc8l"
      }
    },
    {
      "cell_type": "code",
      "source": [
        "df = pd.read_csv('/content/titanic (1).csv')\n",
        "result = df.pivot_table('survived', ['sex' , 'alone' ], [ 'embark_town', 'class' ])\n",
        "print(result)"
      ],
      "metadata": {
        "colab": {
          "base_uri": "https://localhost:8080/"
        },
        "id": "LviS2BmOmb38",
        "outputId": "3a27f000-426e-4948-ea17-359c53e59cd6"
      },
      "execution_count": null,
      "outputs": [
        {
          "output_type": "stream",
          "name": "stdout",
          "text": [
            "embark_town  Cherbourg                      ... Southampton                    \n",
            "class            First    Second     Third  ...       First    Second     Third\n",
            "sex    alone                                ...                                \n",
            "female False  1.000000  1.000000  0.611111  ...    0.941176  0.923077  0.327586\n",
            "       True   0.944444  1.000000  0.800000  ...    1.000000  0.892857  0.466667\n",
            "male   False  0.473684  0.166667  0.500000  ...    0.407407  0.300000  0.142857\n",
            "       True   0.347826  0.250000  0.151515  ...    0.326923  0.089552  0.123762\n",
            "\n",
            "[4 rows x 9 columns]\n"
          ]
        }
      ]
    },
    {
      "cell_type": "markdown",
      "source": [
        "51 Pandas Plotting"
      ],
      "metadata": {
        "id": "Uum6jJdnnjKn"
      }
    },
    {
      "cell_type": "code",
      "source": [
        ""
      ],
      "metadata": {
        "id": "sR6_VtaMoC0J"
      },
      "execution_count": null,
      "outputs": []
    }
  ]
}